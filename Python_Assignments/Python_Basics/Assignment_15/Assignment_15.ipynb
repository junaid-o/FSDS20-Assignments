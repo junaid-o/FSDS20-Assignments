{
 "cells": [
  {
   "cell_type": "markdown",
   "id": "02d48f2e-2494-435f-ab74-7e25851345b8",
   "metadata": {},
   "source": [
    "# <center>PythonBasics: Assignment_15</center>"
   ]
  },
  {
   "cell_type": "markdown",
   "id": "8ed3063c-d786-493b-be5f-2cfa11eef605",
   "metadata": {},
   "source": [
    "### Question 01:\n",
    "How many seconds are in an hour? Use the interactive interpreter as a calculator and multiply the\n",
    "number of seconds in a minute (60) by the number of minutes in an hour (also 60)."
   ]
  },
  {
   "cell_type": "code",
   "execution_count": 1,
   "id": "28d33088-3e9e-48c9-ae1b-6a7cb3e07d26",
   "metadata": {},
   "outputs": [
    {
     "name": "stdout",
     "output_type": "stream",
     "text": [
      "3600\n"
     ]
    }
   ],
   "source": [
    "seconds_in_minute = 60\n",
    "minutes_in_hour = 60\n",
    "\n",
    "seconds_in_hour = seconds_in_minute * minutes_in_hour\n",
    "print(seconds_in_hour)\n"
   ]
  },
  {
   "cell_type": "markdown",
   "id": "563ae704-6eb1-4085-92f0-f0b57dcbc88b",
   "metadata": {},
   "source": [
    "### Question 02:\n",
    "Assign the result from the previous task (seconds in an hour) to a variable called\n",
    "seconds_per_hour."
   ]
  },
  {
   "cell_type": "code",
   "execution_count": 3,
   "id": "640b26fc-6e6b-420c-a255-909374bc1bf0",
   "metadata": {},
   "outputs": [
    {
     "name": "stdout",
     "output_type": "stream",
     "text": [
      "3600\n"
     ]
    }
   ],
   "source": [
    "seconds_in_minute = 60\n",
    "minutes_in_hour = 60\n",
    "\n",
    "seconds_per_hour = seconds_in_minute * minutes_in_hour\n",
    "print(seconds_per_hour)\n"
   ]
  },
  {
   "cell_type": "markdown",
   "id": "3fdda2c5-02e2-42bb-a5b3-72b5e2266a9f",
   "metadata": {},
   "source": [
    "### Question 03:\n",
    "How many seconds do you think there are in a day? Make use of the variables seconds per hour\n",
    "and minutes per hour."
   ]
  },
  {
   "cell_type": "code",
   "execution_count": 9,
   "id": "45a1d2e6-3d5c-4000-8d66-1a6b09b8e712",
   "metadata": {},
   "outputs": [
    {
     "data": {
      "text/plain": [
       "86400.0"
      ]
     },
     "execution_count": 9,
     "metadata": {},
     "output_type": "execute_result"
    }
   ],
   "source": [
    "minutes_per_hour = 60\n",
    "seconds_per_day = (seconds_per_hour/60) * minutes_per_hour * 24\n",
    "seconds_per_day"
   ]
  },
  {
   "cell_type": "markdown",
   "id": "1faad5c8-d054-4c51-90c2-4c569904e97c",
   "metadata": {},
   "source": [
    "### Question 04:\n",
    "Calculate seconds per day again, but this time save the result in a variable called seconds_per_day"
   ]
  },
  {
   "cell_type": "code",
   "execution_count": 10,
   "id": "e9718e57-46ea-4b07-a06c-b72bd5e7f374",
   "metadata": {},
   "outputs": [
    {
     "data": {
      "text/plain": [
       "86400.0"
      ]
     },
     "execution_count": 10,
     "metadata": {},
     "output_type": "execute_result"
    }
   ],
   "source": [
    "seconds_per_day = (seconds_per_hour/60) * minutes_per_hour * 24\n",
    "seconds_per_day"
   ]
  },
  {
   "cell_type": "markdown",
   "id": "67f0d1ec-60cc-490b-ac6c-c1c114698a8a",
   "metadata": {},
   "source": [
    "### Question 05:\n",
    "Divide seconds_per_day by seconds_per_hour. Use floating-point (/) division."
   ]
  },
  {
   "cell_type": "code",
   "execution_count": 12,
   "id": "96aa48f8-3f5d-47ef-b52e-b6a8bb3a8bee",
   "metadata": {},
   "outputs": [
    {
     "data": {
      "text/plain": [
       "24.0"
      ]
     },
     "execution_count": 12,
     "metadata": {},
     "output_type": "execute_result"
    }
   ],
   "source": [
    "seconds_per_day / seconds_per_hour"
   ]
  },
  {
   "cell_type": "markdown",
   "id": "1f19a700-fea2-47f9-9f40-52ec6b836a80",
   "metadata": {},
   "source": [
    "### Question 06:\n",
    "Divide seconds_per_day by seconds_per_hour, using integer (//) division. Did this number agree\n",
    "with the floating-point value from the previous question, aside from the final .0?"
   ]
  },
  {
   "cell_type": "code",
   "execution_count": 13,
   "id": "2b08633a-5e71-4d54-bc23-e7b91d5ce99e",
   "metadata": {},
   "outputs": [
    {
     "data": {
      "text/plain": [
       "24.0"
      ]
     },
     "execution_count": 13,
     "metadata": {},
     "output_type": "execute_result"
    }
   ],
   "source": [
    "seconds_per_day // seconds_per_hour"
   ]
  },
  {
   "cell_type": "markdown",
   "id": "ba195bed-9509-40d9-a482-12ecadb450fd",
   "metadata": {},
   "source": [
    "### Question 07:\n",
    "Write a generator, genPrimes, that returns the sequence of prime numbers on successive calls to\n",
    "its next() method: 2, 3, 5, 7, 11, ..."
   ]
  },
  {
   "cell_type": "code",
   "execution_count": 16,
   "id": "0806caf9-59e0-4fd0-a9b4-6a7a5d321724",
   "metadata": {},
   "outputs": [
    {
     "name": "stdout",
     "output_type": "stream",
     "text": [
      "2\n",
      "3\n",
      "5\n"
     ]
    }
   ],
   "source": [
    "def genPrimes():\n",
    "    primes = []  \n",
    "    num = 2 \n",
    "\n",
    "    while True:\n",
    "        if all(num % prime != 0 for prime in primes):  # Check if num is divisible by any prime in the list\n",
    "            primes.append(num)  # If not divisible, num is prime\n",
    "            yield num\n",
    "        num += 1\n",
    "\n",
    "\n",
    "############### TESt ###############\n",
    "prime_generator = genPrimes()\n",
    "\n",
    "print(next(prime_generator)) \n",
    "print(next(prime_generator))  \n",
    "print(next(prime_generator))\n"
   ]
  },
  {
   "cell_type": "code",
   "execution_count": null,
   "id": "8daa1c94-3eed-46f8-887e-8f502fff5801",
   "metadata": {},
   "outputs": [],
   "source": []
  }
 ],
 "metadata": {
  "kernelspec": {
   "display_name": "Python 3 (ipykernel)",
   "language": "python",
   "name": "python3"
  },
  "language_info": {
   "codemirror_mode": {
    "name": "ipython",
    "version": 3
   },
   "file_extension": ".py",
   "mimetype": "text/x-python",
   "name": "python",
   "nbconvert_exporter": "python",
   "pygments_lexer": "ipython3",
   "version": "3.10.8"
  }
 },
 "nbformat": 4,
 "nbformat_minor": 5
}
