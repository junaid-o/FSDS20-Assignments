{
 "cells": [
  {
   "cell_type": "markdown",
   "id": "a9de2ff5-b36e-48dd-812b-545cb36d2ff8",
   "metadata": {},
   "source": [
    "# <center>PythonBasics: ProgrammingAssignement_17</center>"
   ]
  },
  {
   "cell_type": "markdown",
   "id": "39d33feb-2ed8-4ac4-9756-d40e7d558222",
   "metadata": {},
   "source": [
    "### Question 1:\n",
    "\n",
    "Create a function that takes three arguments a, b, c and returns the sum of the numbers that are evenly divided by c from the range a, b inclusive."
   ]
  },
  {
   "cell_type": "code",
   "execution_count": 2,
   "id": "209aca84-0c70-4477-a090-8e5c776ced4f",
   "metadata": {},
   "outputs": [
    {
     "name": "stdout",
     "output_type": "stream",
     "text": [
      "Sum of numbers divisible by 20 between 1 and 10 is: 0\n"
     ]
    }
   ],
   "source": [
    "def sum_numbers_divisible_by_c(a, b, c):\n",
    "    total = 0\n",
    "    for num in range(a, b+1):\n",
    "        if num % c == 0:\n",
    "            total += num\n",
    "    return total\n",
    "\n",
    "############## TEST ##################\n",
    "############## TEST ##################\n",
    "\n",
    "a = 1\n",
    "b = 10\n",
    "c = 20\n",
    "result = sum_numbers_divisible_by_c(a, b, c)\n",
    "print(\"Sum of numbers divisible by\", c, \"between\", a, \"and\", b, \"is:\", result)\n"
   ]
  },
  {
   "cell_type": "markdown",
   "id": "274a16d4-98da-442d-9732-a2c666c64704",
   "metadata": {},
   "source": [
    "### Question 2:\n",
    "\n",
    "Create a function that returns True if a given inequality expression is correct and\n",
    "False otherwise.\n",
    "\n",
    "```\n",
    "\n",
    "To create a function that checks the validity of an inequality expression, you can use Python's eval() function to evaluate the expression and return the resul\n",
    "```\n",
    "`"
   ]
  },
  {
   "cell_type": "code",
   "execution_count": 3,
   "id": "932d4756-45b8-4f0a-bd94-4710361ca062",
   "metadata": {},
   "outputs": [
    {
     "name": "stdout",
     "output_type": "stream",
     "text": [
      "3 < 7 <11 : True\n",
      "10 <= 7 : False\n",
      "x + 5 > 10 : False\n"
     ]
    }
   ],
   "source": [
    "def check_inequality(expression):\n",
    "    try:\n",
    "        result = eval(expression)\n",
    "        return bool(result)\n",
    "    except:\n",
    "        return False\n",
    "\n",
    "###################### TEST #################\n",
    "###################### TEST #################\n",
    "\n",
    "\n",
    "expression1 = \"3 < 7 <11\"\n",
    "print(expression1, \":\", check_inequality(expression1))\n",
    "\n",
    "expression2 = \"10 <= 7\"\n",
    "print(expression2, \":\", check_inequality(expression2))\n",
    "\n",
    "expression3 = \"x + 5 > 10\"\n",
    "print(expression3, \":\", check_inequality(expression3))\n"
   ]
  },
  {
   "cell_type": "markdown",
   "id": "9efb745f-f033-449a-b138-e5f1aa0d1627",
   "metadata": {},
   "source": [
    "### Question 03: \n",
    "\n",
    "Create a function that replaces all the vowels in a string with a specified character."
   ]
  },
  {
   "cell_type": "code",
   "execution_count": 7,
   "id": "ebf715af-b424-4ca4-bdf6-3936d1b4a116",
   "metadata": {},
   "outputs": [
    {
     "name": "stdout",
     "output_type": "stream",
     "text": [
      "H*ll* W*rld\n"
     ]
    }
   ],
   "source": [
    "def replace_vowels(string, replacement):\n",
    "    vowels = \"aeiouAEIOU\"\n",
    "    new_string = \"\"\n",
    "    for char in string:\n",
    "        if char in vowels:\n",
    "            new_string += replacement\n",
    "        else:\n",
    "            new_string += char\n",
    "    return new_string\n",
    "\n",
    "########################## TEST ####################\n",
    "########################## TEST ####################\n",
    "\n",
    "string = \"Hello World\"\n",
    "replacement = \"*\"\n",
    "new_string = replace_vowels(string, replacement)\n",
    "print(new_string)  # Output: H*ll* W*rld\n"
   ]
  },
  {
   "cell_type": "markdown",
   "id": "d65f484e-15ce-49d0-a0f8-96478ca5538d",
   "metadata": {},
   "source": [
    "### Question 04:\n",
    "\n",
    "\n",
    "Write a function that calculates the factorial of a number recursively.\n",
    "\n",
    "```\n",
    " The factorial of a number n is the product of all positive integers less than or equal to n\n",
    "```"
   ]
  },
  {
   "cell_type": "code",
   "execution_count": 9,
   "id": "1cd8ae1e-4165-4b70-af1f-9507702d8cfa",
   "metadata": {},
   "outputs": [
    {
     "name": "stdout",
     "output_type": "stream",
     "text": [
      "The factorial of 5 is: 120\n"
     ]
    }
   ],
   "source": [
    "def factorial(n):\n",
    "    # Base case: factorial of 0 is 1\n",
    "    if n == 0:\n",
    "        return 1\n",
    "    \n",
    "    # Recursive case: call the factorial function with a smaller number\n",
    "    return n * factorial(n - 1)\n",
    "\n",
    "###################### TEST #####################\n",
    "###################### TEST #############################\n",
    "\n",
    "num = 5\n",
    "result = factorial(num)\n",
    "print(f\"The factorial of {num} is: {result}\")  # Output: The factorial of 5 is: 120\n"
   ]
  },
  {
   "cell_type": "markdown",
   "id": "4b1fbed4-10db-4a1e-861c-10db020115c4",
   "metadata": {},
   "source": [
    "### Question 05:\n",
    "\n",
    "Create a function that computes the hamming distance between two strings.\n",
    "\n",
    "```\n",
    "The Hamming distance between two strings of equal length is the number of positions at which the corresponding elements are different. To compute the Hamming distance between two strings, we can compare the characters at each position and count the differences\n",
    "```"
   ]
  },
  {
   "cell_type": "code",
   "execution_count": 11,
   "id": "8b2e7ea9-d569-4bf7-bc86-d4a29f39b724",
   "metadata": {},
   "outputs": [
    {
     "name": "stdout",
     "output_type": "stream",
     "text": [
      "The Hamming distance between 'mother' and 'father' is: 2\n"
     ]
    }
   ],
   "source": [
    "def hamming_distance(str1, str2):\n",
    "    # Check if the strings have equal length\n",
    "    if len(str1) != len(str2):\n",
    "        raise ValueError(\"Strings must have equal length\")\n",
    "    \n",
    "    distance = 0\n",
    "    # Compare characters at each position and count differences\n",
    "    for i in range(len(str1)):\n",
    "        if str1[i] != str2[i]:\n",
    "            distance += 1\n",
    "    \n",
    "    return distance\n",
    "\n",
    "################ TESt #####################\n",
    "################ TESt #####################\n",
    "\n",
    "string1 = \"mother\"\n",
    "string2 = \"father\"\n",
    "distance = hamming_distance(string1, string2)\n",
    "print(f\"The Hamming distance between '{string1}' and '{string2}' is: {distance}\")\n"
   ]
  }
 ],
 "metadata": {
  "kernelspec": {
   "display_name": "Python 3 (ipykernel)",
   "language": "python",
   "name": "python3"
  },
  "language_info": {
   "codemirror_mode": {
    "name": "ipython",
    "version": 3
   },
   "file_extension": ".py",
   "mimetype": "text/x-python",
   "name": "python",
   "nbconvert_exporter": "python",
   "pygments_lexer": "ipython3",
   "version": "3.10.8"
  }
 },
 "nbformat": 4,
 "nbformat_minor": 5
}
