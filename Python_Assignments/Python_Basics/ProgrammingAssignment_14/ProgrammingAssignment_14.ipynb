{
 "cells": [
  {
   "cell_type": "markdown",
   "id": "cfb59012-4039-4df7-9403-a533e2e433d6",
   "metadata": {},
   "source": [
    "# <center>PythonBasics: rogrammingAssignment_14</center>"
   ]
  },
  {
   "cell_type": "markdown",
   "id": "b7e16c86-ba02-465c-a1f4-6f8ce4eeb33f",
   "metadata": {},
   "source": [
    "### Question 01:\n",
    "\n",
    "\n",
    "Define a class with a generator which can iterate the numbers, which are divisible by\n",
    "7, between a given range 0 and n."
   ]
  },
  {
   "cell_type": "code",
   "execution_count": 3,
   "id": "f0461089-f667-4bda-a932-8f44f82f6f19",
   "metadata": {},
   "outputs": [
    {
     "name": "stdin",
     "output_type": "stream",
     "text": [
      "Enter a number:  99\n"
     ]
    },
    {
     "name": "stdout",
     "output_type": "stream",
     "text": [
      "Numbers divisible by 7:\n",
      "0\n",
      "7\n",
      "14\n",
      "21\n",
      "28\n",
      "35\n",
      "42\n",
      "49\n",
      "56\n",
      "63\n",
      "70\n",
      "77\n",
      "84\n",
      "91\n",
      "98\n"
     ]
    }
   ],
   "source": [
    "class DivisibleBySeven:\n",
    "    def __init__(self, n):\n",
    "        self.n = n\n",
    "\n",
    "    def divisible_by_seven(self):\n",
    "        for num in range(self.n + 1):\n",
    "            if num % 7 == 0:\n",
    "                yield num\n",
    "\n",
    "####################### TEST ###########################\n",
    "####################### TEST ###########################\n",
    "\n",
    "n = int(input(\"Enter a number: \"))\n",
    "divisible_nums = DivisibleBySeven(n)\n",
    "\n",
    "print(\"Numbers divisible by 7:\")\n",
    "for num in divisible_nums.divisible_by_seven():\n",
    "    print(num)\n"
   ]
  },
  {
   "cell_type": "markdown",
   "id": "f70f3cbf-34cd-4c8d-9bc9-6033ec7ef2ef",
   "metadata": {},
   "source": [
    "### Question 02:\n",
    "\r\n",
    "Write a program to compute the frequency of the words from the input. The output\r\n",
    "should output after sorting the key alphanumericallyRead:1\r\n",
    "and:1"
   ]
  },
  {
   "cell_type": "code",
   "execution_count": 6,
   "id": "a85892bd-b85c-45ce-ae56-53e618693ee9",
   "metadata": {},
   "outputs": [
    {
     "name": "stdin",
     "output_type": "stream",
     "text": [
      "Enter a sentence:  Python 2 Python 3 Python 3.5 Python 3.9 Python 3.11\n"
     ]
    },
    {
     "name": "stdout",
     "output_type": "stream",
     "text": [
      "2:1\n",
      "3:1\n",
      "3.11:1\n",
      "3.5:1\n",
      "3.9:1\n",
      "Python:5\n"
     ]
    }
   ],
   "source": [
    "def word_frequency(input_string):\n",
    "    word_list = input_string.split()\n",
    "    word_dict = {}\n",
    "    for word in word_list:\n",
    "        word_dict[word] = word_dict.get(word, 0) + 1\n",
    "\n",
    "    sorted_keys = sorted(word_dict.keys())\n",
    "    for key in sorted_keys:\n",
    "        print(f\"{key}:{word_dict[key]}\")\n",
    "\n",
    "################## TEST #################\n",
    "################## TEST #################\n",
    "\n",
    "input_str = input(\"Enter a sentence: \")\n",
    "word_frequency(input_str)\n"
   ]
  },
  {
   "cell_type": "markdown",
   "id": "59fb10ab-212a-4de1-9034-4b3f7cb051ef",
   "metadata": {},
   "source": [
    "### Question 03:\n",
    "\n",
    "Define a class Person and its two child classes: Male and Female. All classes have a\r\n",
    "method &quot;getGender&quot; which can print &quot;Male&quot; for Male class and &quot;Female&quot; for Female\r\n",
    "class."
   ]
  },
  {
   "cell_type": "code",
   "execution_count": 8,
   "id": "57296e29-dcae-47ea-8606-f15b8cefa3a4",
   "metadata": {},
   "outputs": [
    {
     "name": "stdout",
     "output_type": "stream",
     "text": [
      "Male\n",
      "Female\n"
     ]
    }
   ],
   "source": [
    "class Person:\n",
    "    def getGender(self):\n",
    "        pass\n",
    "\n",
    "### Child Class: Male\n",
    "class Male(Person):\n",
    "    def getGender(self):\n",
    "        print(\"Male\")\n",
    "\n",
    "### Child Class: Female\n",
    "class Female(Person):\n",
    "    def getGender(self):\n",
    "        print(\"Female\")\n",
    "\n",
    "###################### TEST #####################\n",
    "###################### TEST #####################\n",
    "\n",
    "\n",
    "person1 = Male()\n",
    "person2 = Female()\n",
    "\n",
    "person1.getGender()  # Output: Male\n",
    "person2.getGender()  # Output: Female\n"
   ]
  },
  {
   "cell_type": "markdown",
   "id": "223015eb-efa8-47e5-ad21-c6d33344f402",
   "metadata": {},
   "source": [
    "### Question 04:\n",
    "\n",
    "\n",
    "\n",
    "Please write a program to generate all sentences where subject is in [&quot;I&quot;, &quot;You&quot;] and\r\n",
    "verb is in [&quot;Play&quot;, &quot;Love&quot;] and the object is in [&quot;Hockey&quot;,&quot;Football&quot;]."
   ]
  },
  {
   "cell_type": "code",
   "execution_count": 9,
   "id": "4f7f27f3-96d8-40a5-bd86-da0373d511fb",
   "metadata": {},
   "outputs": [
    {
     "name": "stdout",
     "output_type": "stream",
     "text": [
      "I Play Hockey.\n",
      "I Play Football.\n",
      "I Love Hockey.\n",
      "I Love Football.\n",
      "You Play Hockey.\n",
      "You Play Football.\n",
      "You Love Hockey.\n",
      "You Love Football.\n"
     ]
    }
   ],
   "source": [
    "subjects = [\"I\", \"You\"]\n",
    "verbs = [\"Play\", \"Love\"]\n",
    "objects = [\"Hockey\", \"Football\"]\n",
    "\n",
    "#################################################\n",
    "sentences = []\n",
    "\n",
    "for subject in subjects:\n",
    "    for verb in verbs:\n",
    "        for obj in objects:\n",
    "            sentence = f\"{subject} {verb} {obj}.\"\n",
    "            sentences.append(sentence)\n",
    "\n",
    "###################################################\n",
    "            \n",
    "# Print all generated sentences\n",
    "for sentence in sentences:\n",
    "    print(sentence)\n"
   ]
  },
  {
   "cell_type": "markdown",
   "id": "5a831f12-3875-4c7d-b2ad-e6905685353e",
   "metadata": {},
   "source": [
    "### Question 05:\n",
    "\n",
    "Please write a program to compress and decompress the string &quot;hello world!hello\n",
    "world!hello world!hello world!&quot;.\n",
    "\n",
    "\n",
    "`zlib` module, which provides functions for compression and decompression."
   ]
  },
  {
   "cell_type": "code",
   "execution_count": 10,
   "id": "c561577e-a75b-4456-8b4a-55dedb342d71",
   "metadata": {},
   "outputs": [
    {
     "name": "stdout",
     "output_type": "stream",
     "text": [
      "Original String: hello world!hello world!hello world!hello world!\n",
      "Compressed String: b'x\\x9c\\xcbH\\xcd\\xc9\\xc9W(\\xcf/\\xcaIQ\\xcc \\x82\\r\\x00\\xbd[\\x11\\xf5'\n",
      "Decompressed String: hello world!hello world!hello world!hello world!\n"
     ]
    }
   ],
   "source": [
    "import zlib\n",
    "\n",
    "############ Original string\n",
    "original_string = \"hello world!hello world!hello world!hello world!\"\n",
    "print(\"Original String:\", original_string)\n",
    "\n",
    "############# Compress the string\n",
    "compressed_string = zlib.compress(original_string.encode())\n",
    "print(\"Compressed String:\", compressed_string)\n",
    "\n",
    "########### Decompress the string\n",
    "decompressed_string = zlib.decompress(compressed_string).decode()\n",
    "print(\"Decompressed String:\", decompressed_string)\n"
   ]
  },
  {
   "cell_type": "markdown",
   "id": "2e1f5b7e-ef6a-417b-9341-e66205e06b5e",
   "metadata": {},
   "source": [
    "### Question 6:\n",
    "\n",
    "\n",
    "Please write a binary search function which searches an item in a sorted list. The\n",
    "function should return the index of element to be searched in the list.\n",
    "\n",
    "\n",
    "**In this code, the binary_search function takes a sorted list (arr) and a target element (target) as input. It performs the binary search algorithm by maintaining two pointers, low and high, which define the range in which the search is conducted.**"
   ]
  },
  {
   "cell_type": "code",
   "execution_count": 11,
   "id": "56791282-dd8a-41c0-bbac-4e4421343dc6",
   "metadata": {},
   "outputs": [
    {
     "name": "stdout",
     "output_type": "stream",
     "text": [
      "Element 23 found at index 5.\n"
     ]
    }
   ],
   "source": [
    "def binary_search(arr, target):\n",
    "    low = 0\n",
    "    high = len(arr) - 1\n",
    "\n",
    "    while low <= high:\n",
    "        mid = (low + high) // 2\n",
    "\n",
    "        if arr[mid] == target:\n",
    "            return mid\n",
    "        elif arr[mid] < target:\n",
    "            low = mid + 1\n",
    "        else:\n",
    "            high = mid - 1\n",
    "\n",
    "    return -1\n",
    "\n",
    "######## TEST ##############\n",
    "######## TEST ##############\n",
    "\n",
    "sorted_list = [2, 5, 8, 12, 16, 23, 38, 56, 72, 91]\n",
    "target = 23\n",
    "\n",
    "index = binary_search(sorted_list, target)\n",
    "if index != -1:\n",
    "    print(f\"Element {target} found at index {index}.\")\n",
    "else:\n",
    "    print(f\"Element {target} not found in the list.\")\n"
   ]
  },
  {
   "cell_type": "code",
   "execution_count": null,
   "id": "3d4ea27c-13fd-46a1-9bfa-350c923a1bde",
   "metadata": {},
   "outputs": [],
   "source": []
  }
 ],
 "metadata": {
  "kernelspec": {
   "display_name": "Python 3 (ipykernel)",
   "language": "python",
   "name": "python3"
  },
  "language_info": {
   "codemirror_mode": {
    "name": "ipython",
    "version": 3
   },
   "file_extension": ".py",
   "mimetype": "text/x-python",
   "name": "python",
   "nbconvert_exporter": "python",
   "pygments_lexer": "ipython3",
   "version": "3.10.8"
  }
 },
 "nbformat": 4,
 "nbformat_minor": 5
}
