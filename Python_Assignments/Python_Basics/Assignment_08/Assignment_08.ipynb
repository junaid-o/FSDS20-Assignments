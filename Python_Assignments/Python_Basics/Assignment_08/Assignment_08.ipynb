{
 "cells": [
  {
   "cell_type": "markdown",
   "id": "fd22c6b1-1672-44d9-af67-d23253e6ff7f",
   "metadata": {},
   "source": [
    "# <center>PythonBasics: Assignement_08</center>"
   ]
  },
  {
   "cell_type": "markdown",
   "id": "89568e14-64de-4b7d-bd96-afcb73c14b63",
   "metadata": {},
   "source": [
    "### Question 01:\n",
    "Is the Python Standard Library included with PyInputPlus?"
   ]
  },
  {
   "cell_type": "markdown",
   "id": "0049a6d6-c3db-44d8-9c89-edf6fa644879",
   "metadata": {},
   "source": [
    "**<span style='color:blue'>Answer</span>**\n",
    "\n",
    "No, the Python Standard Library is separate from PyInputPlus. PyInputPlus is a third-party library that provides additional functionality for taking user input in Python, such as input validation, type conversion, and default values. The Python Standard Library, on the other hand, is a collection of modules and packages that are included with Python itself, providing a wide range of built-in functionality. While PyInputPlus can be installed and used alongside the Python Standard Library, they are independent of each other."
   ]
  },
  {
   "cell_type": "markdown",
   "id": "ff51bd90-f72e-431b-8637-7b8d779fdbfa",
   "metadata": {},
   "source": [
    "### Question 02:\n",
    "Why is PyInputPlus commonly imported with import pyinputplus as pypi?"
   ]
  },
  {
   "cell_type": "markdown",
   "id": "36918db6-e0fa-4537-8852-7caad8dc49d4",
   "metadata": {},
   "source": [
    "**<span style='color:blue'>Answer</span>**\n",
    "\n",
    "PyInputPlus is commonly imported with the alias `pypi` (or any other chosen alias) to make the code more concise and easier to read. The name `pyinputplus` can be quite long to type repeatedly in the code, especially if there are multiple PyInputPlus functions or classes being used."
   ]
  },
  {
   "cell_type": "markdown",
   "id": "935765d1-9617-4c6e-9a6a-3189e1bbeaf5",
   "metadata": {},
   "source": [
    "### Question 03:\n",
    "How do you distinguish between inputInt() and inputFloat()?"
   ]
  },
  {
   "cell_type": "markdown",
   "id": "e06548ee-55ef-42a2-bfc7-73fa30250201",
   "metadata": {},
   "source": [
    "**<span style='color:blue'>Answer</span>**\n",
    "\n",
    "`inputInt()` and `inputFloat()` are both functions provided by PyInputPlus for accepting user input of integer and floating-point numbers, respectively. The key difference between them lies in the expected input type and the behavior when the user enters an invalid value.\n",
    "\n",
    "- `inputInt()` expects the user to enter an integer value. If the user enters a non-integer value, PyInputPlus will raise a `ValidationException` and prompt the user to enter a valid integer.\n",
    "- `inputFloat()` expects the user to enter a floating-point number. It allows both integer and decimal values as input. If the user enters a non-numeric value or a string that cannot be converted to a float, PyInputPlus will raise a `ValidationException` and ask the user to provide a valid floating-point number.\n",
    "\n",
    "In summary, `inputInt()` is specifically for integer input, while `inputFloat()` is more flexible and accepts both integer and floating-point values."
   ]
  },
  {
   "cell_type": "markdown",
   "id": "ef8d2384-003d-4d8f-a979-981a12be002e",
   "metadata": {},
   "source": [
    "### Question 04:\n",
    "Using PyInputPlus, how do you ensure that the user enters a whole number between 0 and 99?"
   ]
  },
  {
   "cell_type": "markdown",
   "id": "2eff247a-8dda-45bc-90be-b8282eaee248",
   "metadata": {},
   "source": [
    "**<span style='color:blue'>Answer</span>**\n",
    "\n",
    "```\n",
    "import pyinputplus as pypi\n",
    "\n",
    "number = pypi.inputInt(prompt=\"Enter a number between 0 and 99: \", min=0, max=99)\n",
    "print(\"You entered:\", number)\n",
    "```"
   ]
  },
  {
   "cell_type": "markdown",
   "id": "edaa135c-2889-4bda-a07c-90950b5f54f0",
   "metadata": {},
   "source": [
    "### Question 05:\n",
    "What is transferred to the keyword arguments allowRegexes and blockRegexes?"
   ]
  },
  {
   "cell_type": "markdown",
   "id": "45511e1b-4336-4cf0-8f4d-4b5f7e36449a",
   "metadata": {},
   "source": [
    "**<span style='color:blue'>Answer</span>**\n",
    "\n",
    "\n",
    "In PyInputPlus, the keyword arguments `allowRegexes` and `blockRegexes` are used to specify regular expressions that define patterns for allowing or blocking certain inputs. \n",
    "\n",
    "- The `allowRegexes` keyword argument accepts a list of regular expression patterns. If provided, PyInputPlus will only accept inputs that match any of the specified patterns.\n",
    "- The `blockRegexes` keyword argument also accepts a list of regular expression patterns. If provided, PyInputPlus will reject inputs that match any of the specified patterns.\n",
    "\n",
    "By using these keyword arguments, you can define custom rules for what types of input are allowed or blocked based on specific patterns."
   ]
  },
  {
   "cell_type": "markdown",
   "id": "b4a398e4-b1c1-4538-abbe-c0ab273d4fc7",
   "metadata": {},
   "source": [
    "### Question 06:\n",
    "If a blank input is entered three times, what does inputStr(limit=3) do?"
   ]
  },
  {
   "cell_type": "markdown",
   "id": "b97b639e-f41e-46ee-b33a-eff673886f6f",
   "metadata": {},
   "source": [
    "**<span style='color:blue'>Answer</span>**\n",
    "\n",
    "If the `inputStr(limit=3)` function is called and the user enters a blank input three times consecutively, it will raise a `TimeoutException`. The `limit` parameter specifies the maximum number of attempts the user has to provide a non-blank input. If the user fails to provide a non-blank input within the specified limit, the function will raise an exception indicating a timeout."
   ]
  },
  {
   "cell_type": "markdown",
   "id": "7284428f-5e65-4bd3-b568-91874eb16e5f",
   "metadata": {},
   "source": [
    "### Question 07:\n",
    "If blank input is entered three times, what does inputStr(limit=3, default=&#39;hello&#39;) do?"
   ]
  },
  {
   "cell_type": "markdown",
   "id": "9cb5dbea-81ae-4740-85c6-d93e81a99d1e",
   "metadata": {},
   "source": [
    "**<span style='color:blue'>Answer</span>**\n",
    "\n",
    "\n",
    "If the `inputStr(limit=3, default='hello')` function is called and the user enters a blank input three times consecutively, it will return the default value `'hello'`. The `limit` parameter specifies the maximum number of attempts the user has to provide a non-blank input. If the user fails to provide a non-blank input within the specified limit, the function will return the default value instead. In this case, since the default value is set to `'hello'`, it will be returned if the user enters blank input three times."
   ]
  },
  {
   "cell_type": "code",
   "execution_count": null,
   "id": "655a4083-1790-42ca-ab59-df07d775ef2f",
   "metadata": {},
   "outputs": [],
   "source": []
  }
 ],
 "metadata": {
  "kernelspec": {
   "display_name": "Python 3 (ipykernel)",
   "language": "python",
   "name": "python3"
  },
  "language_info": {
   "codemirror_mode": {
    "name": "ipython",
    "version": 3
   },
   "file_extension": ".py",
   "mimetype": "text/x-python",
   "name": "python",
   "nbconvert_exporter": "python",
   "pygments_lexer": "ipython3",
   "version": "3.10.8"
  }
 },
 "nbformat": 4,
 "nbformat_minor": 5
}
