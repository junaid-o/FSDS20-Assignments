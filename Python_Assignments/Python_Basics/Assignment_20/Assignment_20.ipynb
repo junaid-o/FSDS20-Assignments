{
 "cells": [
  {
   "cell_type": "markdown",
   "id": "f9ec24ca-82e6-433e-a60b-a45498febdc8",
   "metadata": {},
   "source": [
    "# <center>PythonBasics: Assignment_20</center>"
   ]
  },
  {
   "cell_type": "markdown",
   "id": "3b7114da-e61f-405b-86a5-23972edc3f9d",
   "metadata": {},
   "source": [
    "### Question 01:\n",
    "Set the variable test1 to the string &#39;This is a test of the emergency text system,&#39; and save test1 to a\n",
    "file named test.txt.\n",
    "\n",
    "**<span style='color:blue'>Answer</span>**"
   ]
  },
  {
   "cell_type": "code",
   "execution_count": 1,
   "id": "91418124-6010-4964-a330-6eee123ba491",
   "metadata": {},
   "outputs": [],
   "source": [
    "test1 = 'This is a test of the emergency text system'\n",
    "\n",
    "with open('test.txt', 'w') as file:\n",
    "    file.write(test1)\n"
   ]
  },
  {
   "cell_type": "markdown",
   "id": "19d7413c-f3d1-4b4e-8cdd-260a79152c96",
   "metadata": {},
   "source": [
    "### Question 02:\n",
    "Read the contents of the file test.txt into the variable test2. Is there a difference between test 1\n",
    "and test 2?\n",
    "\n",
    "**<span style='color:blue'>Answer</span>**"
   ]
  },
  {
   "cell_type": "code",
   "execution_count": 2,
   "id": "dfbb8545-b6ca-4da6-a208-781b183e743d",
   "metadata": {},
   "outputs": [
    {
     "name": "stdout",
     "output_type": "stream",
     "text": [
      "True\n"
     ]
    }
   ],
   "source": [
    "with open('test.txt', 'r') as file:\n",
    "    test2 = file.read()\n",
    "\n",
    "print(test1 == test2)\n"
   ]
  },
  {
   "cell_type": "markdown",
   "id": "dda67f36-8765-49fa-bd4f-d788972e9f2b",
   "metadata": {},
   "source": [
    "### Question 03:\n",
    "Create a CSV file called books.csv by using these lines:\n",
    "title,author,year\n",
    "The Weirdstone of Brisingamen,Alan Garner,1960\n",
    "Perdido Street Station,China Miéville,2000\n",
    "Thud!,Terry Pratchett,2005\n",
    "The Spellman Files,Lisa Lutz,2007\n",
    "Small Gods,Terry Pratchett,1992\n",
    "\n",
    "**<span style='color:blue'>Answer</span>**"
   ]
  },
  {
   "cell_type": "code",
   "execution_count": 3,
   "id": "983d1bfd-b089-46e9-b757-1f89238fbdec",
   "metadata": {},
   "outputs": [],
   "source": [
    "import csv\n",
    "\n",
    "lines = [\n",
    "    ['title', 'author', 'year'],\n",
    "    ['The Weirdstone of Brisingamen', 'Alan Garner', '1960'],\n",
    "    ['Perdido Street Station', 'China Miéville', '2000'],\n",
    "    ['Thud!', 'Terry Pratchett', '2005'],\n",
    "    ['The Spellman Files', 'Lisa Lutz', '2007'],\n",
    "    ['Small Gods', 'Terry Pratchett', '1992']\n",
    "]\n",
    "\n",
    "with open('books.csv', 'w', newline='') as file:\n",
    "    writer = csv.writer(file)\n",
    "    writer.writerows(lines)\n"
   ]
  },
  {
   "cell_type": "markdown",
   "id": "e25d932a-282b-4bdb-be0b-e52dbf8806a5",
   "metadata": {},
   "source": [
    "### Question 04:\n",
    "Use the sqlite3 module to create a SQLite database called books.db, and a table called books with\n",
    "these fields: title (text), author (text), and year (integer).\n",
    "\n",
    "**<span style='color:blue'>Answer</span>**"
   ]
  },
  {
   "cell_type": "code",
   "execution_count": 4,
   "id": "dc59f325-b172-4bdd-8663-f60a0e5a3f3f",
   "metadata": {},
   "outputs": [
    {
     "data": {
      "text/plain": [
       "<sqlite3.Cursor at 0x1b3a97bc0c0>"
      ]
     },
     "execution_count": 4,
     "metadata": {},
     "output_type": "execute_result"
    }
   ],
   "source": [
    "import sqlite3\n",
    "\n",
    "# Connect to the database (or create it if it doesn't exist)\n",
    "conn = sqlite3.connect('books.db')\n",
    "\n",
    "# Create a cursor object to execute SQL commands\n",
    "cursor = conn.cursor()\n",
    "\n",
    "# Create the 'books' table with the specified fields\n",
    "cursor.execute('''\n",
    "    CREATE TABLE IF NOT EXISTS books (\n",
    "        title TEXT,\n",
    "        author TEXT,\n",
    "        year INTEGER\n",
    "    )\n",
    "''')\n",
    "\n",
    "\n",
    "# Commit the changes and close the connection\n",
    "conn.commit()\n",
    "conn.close()\n"
   ]
  },
  {
   "cell_type": "markdown",
   "id": "6b9827d9-c568-4c2e-8507-d9a85786d745",
   "metadata": {},
   "source": [
    "### Question 05:\n",
    "Read books.csv and insert its data into the book table.\n",
    "\n",
    "**<span style='color:blue'>Answer</span>**"
   ]
  },
  {
   "cell_type": "code",
   "execution_count": 5,
   "id": "be7514a7-0991-45f0-ac50-61d866e03d85",
   "metadata": {},
   "outputs": [],
   "source": [
    "import csv\n",
    "import sqlite3\n",
    "\n",
    "# Connect to the database\n",
    "conn = sqlite3.connect('books.db')\n",
    "cursor = conn.cursor()\n",
    "\n",
    "# Open the CSV file\n",
    "with open('books.csv', 'r') as file:\n",
    "    # Create a CSV reader object\n",
    "    reader = csv.reader(file)\n",
    "    \n",
    "    # Skip the header row\n",
    "    next(reader)\n",
    "    \n",
    "    # Iterate over the rows and insert data into the table\n",
    "    for row in reader:\n",
    "        title, author, year = row\n",
    "        \n",
    "        # Insert the data into the table\n",
    "        cursor.execute('INSERT INTO books (title, author, year) VALUES (?, ?, ?)', (title, author, year))\n",
    "\n",
    "# Commit the changes and close the connection\n",
    "conn.commit()\n",
    "conn.close()\n"
   ]
  },
  {
   "cell_type": "markdown",
   "id": "ecf06909-ac74-4ff8-8fd6-c397099b08ca",
   "metadata": {},
   "source": [
    "### Question 06:\n",
    "Select and print the title column from the book table in alphabetical order.\n",
    "\n",
    "**<span style='color:blue'>Answer</span>**"
   ]
  },
  {
   "cell_type": "code",
   "execution_count": 6,
   "id": "f7a834a8-fab0-4b74-a0f4-f5ea26c7f8ff",
   "metadata": {},
   "outputs": [
    {
     "name": "stdout",
     "output_type": "stream",
     "text": [
      "Perdido Street Station\n",
      "Small Gods\n",
      "The Spellman Files\n",
      "The Weirdstone of Brisingamen\n",
      "Thud!\n"
     ]
    }
   ],
   "source": [
    "import sqlite3\n",
    "\n",
    "# Connect to the database\n",
    "conn = sqlite3.connect('books.db')\n",
    "cursor = conn.cursor()\n",
    "\n",
    "# Select the title column from the books table\n",
    "cursor.execute('SELECT title FROM books ORDER BY title ASC')\n",
    "\n",
    "# Fetch all the rows and print the titles\n",
    "rows = cursor.fetchall()\n",
    "for row in rows:\n",
    "    print(row[0])\n",
    "\n",
    "# Close the connection\n",
    "conn.close()\n"
   ]
  },
  {
   "cell_type": "markdown",
   "id": "00b41878-3078-41a0-90b7-7f94d09022e3",
   "metadata": {},
   "source": [
    "### Question 07:\n",
    "From the book table, select and print all columns in the order of publication.\n",
    "\n",
    "**<span style='color:blue'>Answer</span>**"
   ]
  },
  {
   "cell_type": "code",
   "execution_count": 7,
   "id": "3d81a98e-7062-4731-8085-6627582ae1f4",
   "metadata": {},
   "outputs": [
    {
     "name": "stdout",
     "output_type": "stream",
     "text": [
      "('The Weirdstone of Brisingamen', 'Alan Garner', 1960)\n",
      "('Small Gods', 'Terry Pratchett', 1992)\n",
      "('Perdido Street Station', 'China Miéville', 2000)\n",
      "('Thud!', 'Terry Pratchett', 2005)\n",
      "('The Spellman Files', 'Lisa Lutz', 2007)\n"
     ]
    }
   ],
   "source": [
    "import sqlite3\n",
    "\n",
    "# Connect to the database\n",
    "conn = sqlite3.connect('books.db')\n",
    "cursor = conn.cursor()\n",
    "\n",
    "# Select all columns from the books table ordered by year\n",
    "cursor.execute('SELECT * FROM books ORDER BY year')\n",
    "\n",
    "# Fetch all the rows and print the columns\n",
    "rows = cursor.fetchall()\n",
    "for row in rows:\n",
    "    print(row)\n",
    "\n",
    "# Close the connection\n",
    "conn.close()\n"
   ]
  },
  {
   "cell_type": "markdown",
   "id": "8023f999-b9e0-4a8e-a5c0-e7d526d79991",
   "metadata": {},
   "source": [
    "### Question 08:\n",
    "Use the sqlalchemy module to connect to the sqlite3 database books.db that you just made in\n",
    "exercise 6.\n",
    "\n",
    "**<span style='color:blue'>Answer</span>**"
   ]
  },
  {
   "cell_type": "code",
   "execution_count": 8,
   "id": "338544ee-4c47-4b16-a8bc-a920ddc023d2",
   "metadata": {},
   "outputs": [],
   "source": [
    "from sqlalchemy import create_engine\n",
    "\n",
    "# Create the engine to connect to the database\n",
    "engine = create_engine('sqlite:///books.db')\n",
    "\n",
    "# Connect to the database\n",
    "conn = engine.connect()\n",
    "\n",
    "# Perform database operations...\n",
    "\n",
    "# Close the connection\n",
    "conn.close()\n"
   ]
  },
  {
   "cell_type": "markdown",
   "id": "4d9d6788-cfb3-432e-8243-b43b5da822a4",
   "metadata": {},
   "source": [
    "### Question 09:\n",
    "Install the Redis server and the Python redis library (pip install redis) on your computer. Create a\n",
    "Redis hash called test with the fields count (1) and name (&#39;Fester Bestertester&#39;). Print all the fields for\n",
    "test.\n",
    "\n",
    "**<span style='color:blue'>Answer</span>**"
   ]
  },
  {
   "cell_type": "markdown",
   "id": "1116837f-e7f4-4d2c-a31d-cc9ef6d16054",
   "metadata": {},
   "source": [
    "### Question 10:\n",
    "Increment the count field of test and print it.\n",
    "\n",
    "**<span style='color:blue'>Answer</span>**"
   ]
  },
  {
   "cell_type": "code",
   "execution_count": null,
   "id": "c1baf8c8-458d-4f6b-a806-51c57596b04d",
   "metadata": {},
   "outputs": [],
   "source": []
  }
 ],
 "metadata": {
  "kernelspec": {
   "display_name": "Python 3 (ipykernel)",
   "language": "python",
   "name": "python3"
  },
  "language_info": {
   "codemirror_mode": {
    "name": "ipython",
    "version": 3
   },
   "file_extension": ".py",
   "mimetype": "text/x-python",
   "name": "python",
   "nbconvert_exporter": "python",
   "pygments_lexer": "ipython3",
   "version": "3.10.8"
  }
 },
 "nbformat": 4,
 "nbformat_minor": 5
}
