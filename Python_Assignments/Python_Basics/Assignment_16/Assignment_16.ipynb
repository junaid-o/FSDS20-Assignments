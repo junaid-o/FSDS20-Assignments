{
 "cells": [
  {
   "cell_type": "markdown",
   "id": "e2b6c503-f74b-4579-a3e0-415e04aead94",
   "metadata": {},
   "source": [
    "# <center>PythonBasics: Assignment_16</center>"
   ]
  },
  {
   "cell_type": "markdown",
   "id": "4854e379-2771-4e9a-b323-79617d7a9a8a",
   "metadata": {},
   "source": [
    "### Question 01:\n",
    "Create a list called years_list, starting with the year of your birth, and each year thereafter until\n",
    "the year of your fifth birthday. For example, if you were born in 1980. the list would be years_list =\n",
    "[1980, 1981, 1982, 1983, 1984, 1985].\n",
    "\n",
    "**<span style='color:blue'>Answer</span>**"
   ]
  },
  {
   "cell_type": "code",
   "execution_count": 1,
   "id": "d90a58c0-d3bb-42ad-a0bf-1459306dfeae",
   "metadata": {},
   "outputs": [
    {
     "name": "stdout",
     "output_type": "stream",
     "text": [
      "[1996, 1997, 1998, 1999, 2000, 2001]\n"
     ]
    }
   ],
   "source": [
    "birth_year = 1996  \n",
    "years_list = [year for year in range(birth_year, birth_year + 6)]\n",
    "print(years_list)\n"
   ]
  },
  {
   "cell_type": "markdown",
   "id": "13f0512c-68a1-4e46-8db3-663a79e670eb",
   "metadata": {},
   "source": [
    "### Question 02:\n",
    "In which year in years_list was your third birthday? Remember, you were 0 years of age for your\n",
    "first year.\n",
    "\n",
    "**<span style='color:blue'>Answer</span>**"
   ]
  },
  {
   "cell_type": "code",
   "execution_count": 2,
   "id": "12819406-b1da-47f8-ad65-74014c3d23e9",
   "metadata": {},
   "outputs": [
    {
     "name": "stdout",
     "output_type": "stream",
     "text": [
      "1999\n"
     ]
    }
   ],
   "source": [
    "third_birthday_year = years_list[3]\n",
    "print(third_birthday_year)"
   ]
  },
  {
   "cell_type": "markdown",
   "id": "8f2ce151-9de6-467a-931c-c4449a3e947a",
   "metadata": {},
   "source": [
    "### Question 03:\n",
    "In the years list, which year were you the oldest?\n",
    "\n",
    "**<span style='color:blue'>Answer</span>**"
   ]
  },
  {
   "cell_type": "code",
   "execution_count": 3,
   "id": "f46d52af-7873-46cd-81ad-b98c9d31d58e",
   "metadata": {},
   "outputs": [
    {
     "name": "stdout",
     "output_type": "stream",
     "text": [
      "2001\n"
     ]
    }
   ],
   "source": [
    "oldest_year = years_list[-1]\n",
    "print(oldest_year)"
   ]
  },
  {
   "cell_type": "markdown",
   "id": "60faadcf-6a20-4f73-bb85-6590ba225af4",
   "metadata": {},
   "source": [
    "### Question 04:\n",
    "Make a list called things with these three strings as elements: &quot;mozzarella&quot;, &quot;cinderella&quot;,\n",
    "&quot;salmonella&quot;.\n",
    "\n",
    "**<span style='color:blue'>Answer</span>**"
   ]
  },
  {
   "cell_type": "code",
   "execution_count": 4,
   "id": "3992f45e-6a2d-4018-8fa2-404b5b986938",
   "metadata": {},
   "outputs": [],
   "source": [
    "things = [\"mozzarella\", \"cinderella\", \"salmonella\"]\n"
   ]
  },
  {
   "cell_type": "markdown",
   "id": "8f293699-32d6-4e58-822e-cbcbb8fe11cd",
   "metadata": {},
   "source": [
    "### Question 05:\n",
    "Capitalize the element in things that refers to a person and then print the list. Did it change the\n",
    "element in the list?\n",
    "\n",
    "**<span style='color:blue'>Answer</span>**"
   ]
  },
  {
   "cell_type": "code",
   "execution_count": 5,
   "id": "24a520f0-107a-4a2c-bf20-e1e8067a1416",
   "metadata": {},
   "outputs": [
    {
     "name": "stdout",
     "output_type": "stream",
     "text": [
      "['mozzarella', 'Cinderella', 'salmonella']\n"
     ]
    }
   ],
   "source": [
    "things = [\"mozzarella\", \"cinderella\", \"salmonella\"]\n",
    "\n",
    "# Capitalize the element that refers to a person\n",
    "things[1] = things[1].capitalize()\n",
    "\n",
    "##############################################\n",
    "print(things)"
   ]
  },
  {
   "cell_type": "markdown",
   "id": "4d7d2e7d-a52b-4bed-9603-d44a8b76b3cf",
   "metadata": {},
   "source": [
    "### Question 06:\n",
    "Make a surprise list with the elements &quot;Groucho,&quot; &quot;Chico,&quot; and &quot;Harpo.&quot;\n",
    "\n",
    "**<span style='color:blue'>Answer</span>**"
   ]
  },
  {
   "cell_type": "code",
   "execution_count": 6,
   "id": "2f02ed39-97cd-4dbf-8358-b71fc88526bd",
   "metadata": {},
   "outputs": [],
   "source": [
    "surprise = [\"Groucho\", \"Chico\", \"Harpo\"]"
   ]
  },
  {
   "cell_type": "markdown",
   "id": "c40ac8f0-0576-4e80-9f4f-85617fc86723",
   "metadata": {},
   "source": [
    "### Question 07:\n",
    "Lowercase the last element of the surprise list, reverse it, and then capitalize it.\n",
    "\n",
    "**<span style='color:blue'>Answer</span>**"
   ]
  },
  {
   "cell_type": "code",
   "execution_count": 7,
   "id": "50c996dd-afb7-4f8c-8237-16a8a2740fb6",
   "metadata": {},
   "outputs": [],
   "source": [
    "surprise[-1] = surprise[-1].lower()  # Lowercase the last element\n",
    "surprise[-1] = surprise[-1][::-1]  # Reverse the last element\n",
    "surprise[-1] = surprise[-1].capitalize()  # Capitalize the reversed element\n"
   ]
  },
  {
   "cell_type": "code",
   "execution_count": 8,
   "id": "8444c0db-cd79-4728-b717-2c031befea1a",
   "metadata": {},
   "outputs": [
    {
     "data": {
      "text/plain": [
       "['Groucho', 'Chico', 'Oprah']"
      ]
     },
     "execution_count": 8,
     "metadata": {},
     "output_type": "execute_result"
    }
   ],
   "source": [
    "surprise"
   ]
  },
  {
   "cell_type": "markdown",
   "id": "e53490cc-4fc6-4e63-9229-a6812a16cbef",
   "metadata": {},
   "source": [
    "### Question 08:\n",
    "Make an English-to-French dictionary called e2f and print it. Here are your starter words: dog is\n",
    "chien, cat is chat, and walrus is morse.\n",
    "\n",
    "**<span style='color:blue'>Answer</span>**"
   ]
  },
  {
   "cell_type": "code",
   "execution_count": 9,
   "id": "f95471fe-aacb-4119-9278-093c22773ba9",
   "metadata": {},
   "outputs": [
    {
     "name": "stdout",
     "output_type": "stream",
     "text": [
      "{'dog': 'chien', 'cat': 'chat', 'walrus': 'morse'}\n"
     ]
    }
   ],
   "source": [
    "e2f = {\n",
    "    'dog': 'chien',\n",
    "    'cat': 'chat',\n",
    "    'walrus': 'morse'\n",
    "}\n",
    "\n",
    "print(e2f)\n"
   ]
  },
  {
   "cell_type": "markdown",
   "id": "90801a0e-1a38-47e6-baa9-c7aeee843984",
   "metadata": {},
   "source": [
    "### Question 09:\n",
    "Write the French word for walrus in your three-word dictionary e2f.\n",
    "\n",
    "**<span style='color:blue'>Answer</span>**"
   ]
  },
  {
   "cell_type": "markdown",
   "id": "9a09c10f-e3b4-4373-a6fd-6310fc7b646f",
   "metadata": {},
   "source": [
    "In the `e2f` dictionary, the French word for `\"walrus\"` is `\"morse\"`."
   ]
  },
  {
   "cell_type": "markdown",
   "id": "1d4fcd97-8ab7-4d30-9c1f-f800d917b4a0",
   "metadata": {},
   "source": [
    "### Question 10:\n",
    "Make a French-to-English dictionary called f2e from e2f. Use the items method.\n",
    "\n",
    "**<span style='color:blue'>Answer</span>**"
   ]
  },
  {
   "cell_type": "code",
   "execution_count": 10,
   "id": "56a4c8cf-624d-49a3-a18b-98627fd0f3d5",
   "metadata": {},
   "outputs": [
    {
     "name": "stdout",
     "output_type": "stream",
     "text": [
      "{'chien': 'dog', 'chat': 'cat', 'morse': 'walrus'}\n"
     ]
    }
   ],
   "source": [
    "e2f = {'dog': 'chien', 'cat': 'chat', 'walrus': 'morse'}\n",
    "\n",
    "f2e = {value: key for key, value in e2f.items()}\n",
    "\n",
    "print(f2e)\n"
   ]
  },
  {
   "cell_type": "markdown",
   "id": "2687a9cb-c66b-45d4-8cd2-f5476d9321ef",
   "metadata": {},
   "source": [
    "### Question 11:\n",
    "Print the English version of the French word chien using f2e.\n",
    "\n",
    "**<span style='color:blue'>Answer</span>**"
   ]
  },
  {
   "cell_type": "code",
   "execution_count": 11,
   "id": "f445db29-aabf-40e3-90cd-535e49332223",
   "metadata": {},
   "outputs": [
    {
     "name": "stdout",
     "output_type": "stream",
     "text": [
      "dog\n"
     ]
    }
   ],
   "source": [
    "f2e = {'chien': 'dog', 'chat': 'cat', 'morse': 'walrus'}\n",
    "\n",
    "english_word = f2e['chien']\n",
    "\n",
    "print(english_word)\n"
   ]
  },
  {
   "cell_type": "markdown",
   "id": "d462011f-7314-435b-8576-25ac7771853c",
   "metadata": {},
   "source": [
    "### Question 12:\n",
    "Make and print a set of English words from the keys in e2f.\n",
    "\n",
    "**<span style='color:blue'>Answer</span>**"
   ]
  },
  {
   "cell_type": "code",
   "execution_count": 12,
   "id": "e152af9c-b6ad-4512-ae2a-5c6528272642",
   "metadata": {},
   "outputs": [
    {
     "name": "stdout",
     "output_type": "stream",
     "text": [
      "{'dog', 'cat', 'walrus'}\n"
     ]
    }
   ],
   "source": [
    "e2f = {'dog': 'chien', 'cat': 'chat', 'walrus': 'morse'}\n",
    "\n",
    "english_words = set(e2f.keys())\n",
    "\n",
    "print(english_words)\n"
   ]
  },
  {
   "cell_type": "markdown",
   "id": "d7d544e4-c089-4a7b-b896-a6efce0f90de",
   "metadata": {},
   "source": [
    "### Question 13:\n",
    "Make a multilevel dictionary called life. Use these strings for the topmost keys: &#39;animals&#39;, &#39;plants&#39;,\n",
    "and &#39;other&#39;. Make the &#39;animals&#39; key refer to another dictionary with the keys &#39;cats&#39;, &#39;octopi&#39;, and\n",
    "&#39;emus&#39;. Make the &#39;cats&#39; key refer to a list of strings with the values &#39;Henri&#39;, &#39;Grumpy&#39;, and &#39;Lucy&#39;.\n",
    "Make all the other keys refer to empty dictionaries.\n",
    "\n",
    "**<span style='color:blue'>Answer</span>**"
   ]
  },
  {
   "cell_type": "code",
   "execution_count": 13,
   "id": "3789a1d6-a2db-4350-bb5b-bea1ffde1668",
   "metadata": {},
   "outputs": [
    {
     "name": "stdout",
     "output_type": "stream",
     "text": [
      "{'animals': {'cats': ['Henri', 'Grumpy', 'Lucy'], 'emus': {}, 'octopi': {}},\n",
      " 'other': {},\n",
      " 'plants': {}}\n"
     ]
    }
   ],
   "source": [
    "import pprint\n",
    "life = {\n",
    "    'animals': {\n",
    "        'cats': ['Henri', 'Grumpy', 'Lucy'],\n",
    "        'octopi': {},\n",
    "        'emus': {}\n",
    "    },\n",
    "    'plants': {},\n",
    "    'other': {}\n",
    "}\n",
    "\n",
    "#print(life)\n",
    "\n",
    "pprint.pprint(life)"
   ]
  },
  {
   "cell_type": "markdown",
   "id": "998c9c72-c815-4760-acde-47207dd84588",
   "metadata": {},
   "source": [
    "### Question 14:\n",
    "Print the top-level keys of life.\n",
    "\n",
    "**<span style='color:blue'>Answer</span>**"
   ]
  },
  {
   "cell_type": "code",
   "execution_count": 14,
   "id": "e67b75c1-5ffe-4db1-a149-4a240f943ed8",
   "metadata": {},
   "outputs": [
    {
     "name": "stdout",
     "output_type": "stream",
     "text": [
      "dict_keys(['animals', 'plants', 'other'])\n"
     ]
    }
   ],
   "source": [
    "top_level_keys = life.keys()\n",
    "print(top_level_keys)"
   ]
  },
  {
   "cell_type": "markdown",
   "id": "424980a5-0907-4fce-8051-3e0a29d79582",
   "metadata": {},
   "source": [
    "### Question 15:\n",
    "Print the keys for life[&#39;animals&#39;].\n",
    "\n",
    "**<span style='color:blue'>Answer</span>**"
   ]
  },
  {
   "cell_type": "code",
   "execution_count": 15,
   "id": "7389204d-176d-4f9d-85d4-b2d7aeed172b",
   "metadata": {},
   "outputs": [
    {
     "name": "stdout",
     "output_type": "stream",
     "text": [
      "dict_keys(['cats', 'octopi', 'emus'])\n"
     ]
    }
   ],
   "source": [
    "animal_keys = life['animals'].keys()\n",
    "print(animal_keys)"
   ]
  },
  {
   "cell_type": "markdown",
   "id": "36a85679-9bcc-4e62-b2e5-e3b695d0f0fa",
   "metadata": {},
   "source": [
    "### Question 16:\n",
    "Print the values for life[&#39;animals&#39;][&#39;cats&#39;]\n",
    "\n",
    "**<span style='color:blue'>Answer</span>**"
   ]
  },
  {
   "cell_type": "code",
   "execution_count": 16,
   "id": "08deb3bd-09a4-41c0-a42a-b41435f6e26a",
   "metadata": {},
   "outputs": [
    {
     "name": "stdout",
     "output_type": "stream",
     "text": [
      "['Henri', 'Grumpy', 'Lucy']\n"
     ]
    }
   ],
   "source": [
    "cat_values = life['animals']['cats']\n",
    "print(cat_values)"
   ]
  },
  {
   "cell_type": "code",
   "execution_count": null,
   "id": "e4d10268-f00a-419f-b8a5-9dd19e24b48f",
   "metadata": {},
   "outputs": [],
   "source": []
  }
 ],
 "metadata": {
  "kernelspec": {
   "display_name": "Python 3 (ipykernel)",
   "language": "python",
   "name": "python3"
  },
  "language_info": {
   "codemirror_mode": {
    "name": "ipython",
    "version": 3
   },
   "file_extension": ".py",
   "mimetype": "text/x-python",
   "name": "python",
   "nbconvert_exporter": "python",
   "pygments_lexer": "ipython3",
   "version": "3.10.8"
  }
 },
 "nbformat": 4,
 "nbformat_minor": 5
}
