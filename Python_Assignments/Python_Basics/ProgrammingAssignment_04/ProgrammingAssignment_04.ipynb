{
 "cells": [
  {
   "cell_type": "markdown",
   "id": "304910f1-75d6-43f4-85a1-c32de7c6619a",
   "metadata": {},
   "source": [
    "# <center>Python Bascs: ProgrammingAssignment_04<center>\n",
    "\n",
    "1. Write a Python Program to Find the Factorial of a Number?\n",
    "2. Write a Python Program to Display the multiplication Table?\n",
    "3. Write a Python Program to Print the Fibonacci sequence?\n",
    "4. Write a Python Program to Check Armstrong Number?\n",
    "5. Write a Python Program to Find Armstrong Number in an Interval?\n",
    "6. Write a Python Program to Find the Sum of Natural Numbers?"
   ]
  },
  {
   "cell_type": "markdown",
   "id": "0e93f9cc-9fba-4557-9d0c-3ea794234afa",
   "metadata": {},
   "source": [
    "### Question 1: Write a Python Program to Find the Factorial of a Number?"
   ]
  },
  {
   "cell_type": "code",
   "execution_count": 3,
   "id": "fa550ab5-7b31-4997-b90f-f914f3818a57",
   "metadata": {},
   "outputs": [
    {
     "name": "stdin",
     "output_type": "stream",
     "text": [
      "Enter a number:  23\n"
     ]
    },
    {
     "name": "stdout",
     "output_type": "stream",
     "text": [
      "The factorial of 23 is 25852016738884976640000\n"
     ]
    }
   ],
   "source": [
    "def factorial(n):\n",
    "    result = 1\n",
    "    while n > 1:\n",
    "        result = result * n\n",
    "        n = n-1\n",
    "    return result\n",
    "\n",
    "\n",
    "###### TEST\n",
    "\n",
    "number = int(input(\"Enter a number: \"))\n",
    "\n",
    "fact = factorial(number)\n",
    "print(\"The factorial of\", number, \"is\", fact)\n"
   ]
  },
  {
   "cell_type": "markdown",
   "id": "fd0a2a95-1a52-44a8-b46b-75ade986f4ab",
   "metadata": {},
   "source": [
    "### Quesion2: Write a Python Program to Display the multiplication Table?"
   ]
  },
  {
   "cell_type": "code",
   "execution_count": 4,
   "id": "09705580-8891-4a30-9a8f-f6b5aeaf998b",
   "metadata": {},
   "outputs": [
    {
     "name": "stdin",
     "output_type": "stream",
     "text": [
      "Enter a number:  2\n"
     ]
    },
    {
     "name": "stdout",
     "output_type": "stream",
     "text": [
      "Multiplication Table for 2\n",
      "2 x 1 = 2\n",
      "2 x 2 = 4\n",
      "2 x 3 = 6\n",
      "2 x 4 = 8\n",
      "2 x 5 = 10\n",
      "2 x 6 = 12\n",
      "2 x 7 = 14\n",
      "2 x 8 = 16\n",
      "2 x 9 = 18\n",
      "2 x 10 = 20\n"
     ]
    }
   ],
   "source": [
    "def display_multiplication_table(number):\n",
    "    print(\"Multiplication Table for\", number)\n",
    "    for i in range(1, 11):\n",
    "        result = number * i\n",
    "        print(number, \"x\", i, \"=\", result)\n",
    "\n",
    "##### TEST\n",
    "number = int(input(\"Enter a number: \"))\n",
    "\n",
    "display_multiplication_table(number)\n"
   ]
  },
  {
   "cell_type": "markdown",
   "id": "7065d65b-8fbf-48d7-a16f-cef6bc5f164e",
   "metadata": {},
   "source": [
    "### Quesition 3: Write a Python Program to Print the Fibonacci sequence?"
   ]
  },
  {
   "cell_type": "code",
   "execution_count": 8,
   "id": "6a0e4a8e-0cea-411b-a64e-481c88dfb2ab",
   "metadata": {
    "scrolled": true
   },
   "outputs": [
    {
     "data": {
      "text/plain": [
       "[0,\n",
       " 1,\n",
       " 1,\n",
       " 2,\n",
       " 3,\n",
       " 5,\n",
       " 8,\n",
       " 13,\n",
       " 21,\n",
       " 34,\n",
       " 55,\n",
       " 89,\n",
       " 144,\n",
       " 233,\n",
       " 377,\n",
       " 610,\n",
       " 987,\n",
       " 1597,\n",
       " 2584,\n",
       " 4181]"
      ]
     },
     "execution_count": 8,
     "metadata": {},
     "output_type": "execute_result"
    }
   ],
   "source": [
    "#n = 10\n",
    "\n",
    "def fibon(n):\n",
    "    l = [0,1]\n",
    "    for i in range(n-2):\n",
    "        e = l[i] + l[i+1]\n",
    "        #print(e)\n",
    "        l.append(e)\n",
    "    return   l\n",
    "\n",
    "############# TEST\n",
    "fibon(20)"
   ]
  },
  {
   "cell_type": "code",
   "execution_count": 9,
   "id": "913fc4f9-14e3-4721-9851-04fa344c012c",
   "metadata": {},
   "outputs": [
    {
     "name": "stdout",
     "output_type": "stream",
     "text": [
      "Fibonacci series of 20 :\n",
      "0, 1, 1, 2, 3, 5, 8, 13, 21, 34, 55, 89, 144, 233, 377, 610, 987, 1597, 2584, 4181, "
     ]
    }
   ],
   "source": [
    "def fibonacci(n):\n",
    "    if n<0:\n",
    "        print(\"Incorrect input\")\n",
    "    elif n==1:\n",
    "        return 0\n",
    "    elif n==2:\n",
    "        return 1\n",
    "    else:\n",
    "        return fibonacci(n-1)+fibonacci(n-2)\n",
    "\n",
    "############ Test\n",
    "n = 20\n",
    "print(\"Fibonacci series of\", n, \":\")\n",
    "for i in range(1,n+1):\n",
    "    print(fibonacci(i), end = \", \")\n"
   ]
  },
  {
   "cell_type": "code",
   "execution_count": null,
   "id": "da7e6e10-1db2-41e8-b424-c881f35ace4c",
   "metadata": {},
   "outputs": [],
   "source": []
  },
  {
   "cell_type": "markdown",
   "id": "3bcbe7c9-e489-4de6-8527-ac0c1971177d",
   "metadata": {},
   "source": [
    "### Qestion 4: Write a Python Program to Check Armstrong Number?"
   ]
  },
  {
   "cell_type": "code",
   "execution_count": 10,
   "id": "870a30b3-90cf-4d61-8675-aa6ebf325a71",
   "metadata": {},
   "outputs": [
    {
     "name": "stdin",
     "output_type": "stream",
     "text": [
      "Enter a number:  23\n"
     ]
    },
    {
     "name": "stdout",
     "output_type": "stream",
     "text": [
      "23 is not an Armstrong number.\n"
     ]
    }
   ],
   "source": [
    "def is_armstrong_number(number):\n",
    "    # Convert the number to a string to calculate the number of digits\n",
    "    num_str = str(number)\n",
    "    num_digits = len(num_str)\n",
    "    \n",
    "    # Calculate the sum of the digits raised to the power of the number of digits\n",
    "    sum_of_digits = sum(int(digit) ** num_digits for digit in num_str)\n",
    "    \n",
    "    # Check if the number is equal to the sum of the digits raised to the power of the number of digits\n",
    "    if number == sum_of_digits:\n",
    "        return True\n",
    "    else:\n",
    "        return False\n",
    "\n",
    "################### TEST\n",
    "number = int(input(\"Enter a number: \"))\n",
    "\n",
    "if is_armstrong_number(number):\n",
    "    print(number, \"is an Armstrong number.\")\n",
    "else:\n",
    "    print(number, \"is not an Armstrong number.\")\n"
   ]
  },
  {
   "cell_type": "code",
   "execution_count": null,
   "id": "16efbb96-d8db-4800-993a-93609048146c",
   "metadata": {},
   "outputs": [],
   "source": []
  },
  {
   "cell_type": "markdown",
   "id": "d5045a0c-7b51-4ebb-8cbc-6d7fd5584b16",
   "metadata": {},
   "source": [
    "### Question 5: Write a Python Program to Find Armstrong Number in an Interval?"
   ]
  },
  {
   "cell_type": "code",
   "execution_count": 20,
   "id": "eb27cc1f-f812-419d-a5df-de3c916d9b34",
   "metadata": {},
   "outputs": [
    {
     "data": {
      "text/plain": [
       "[1, 2, 3, 4, 5, 6, 7, 8, 9, 153, 370, 371, 407, 1634, 8208, 9474]"
      ]
     },
     "execution_count": 20,
     "metadata": {},
     "output_type": "execute_result"
    }
   ],
   "source": [
    "### Using function defined in previous quesion\n",
    "\n",
    "[number for number in range(1,10000) if is_armstrong_number(number)]"
   ]
  },
  {
   "cell_type": "code",
   "execution_count": null,
   "id": "0d91c8f4-0214-4d88-8ec0-3f72ec29ba9e",
   "metadata": {},
   "outputs": [],
   "source": []
  },
  {
   "cell_type": "markdown",
   "id": "db349002-97b5-4a90-a76a-f056f654a409",
   "metadata": {},
   "source": [
    "### Question 6 : Write a Python Program to Find the Sum of Natural Numbers?"
   ]
  },
  {
   "cell_type": "code",
   "execution_count": 21,
   "id": "59e86d49-0a9b-4d98-9676-f47407ccb9a2",
   "metadata": {},
   "outputs": [
    {
     "name": "stdin",
     "output_type": "stream",
     "text": [
      "Enter a positive integer:  234\n"
     ]
    },
    {
     "name": "stdout",
     "output_type": "stream",
     "text": [
      "The sum of natural numbers up to 234 is 27495\n"
     ]
    }
   ],
   "source": [
    "def sum_of_natural_numbers(n):\n",
    "    if n < 0:\n",
    "        print(\"Invalid input. Please enter a positive integer.\")\n",
    "        return\n",
    "    \n",
    "    sum_value = 0\n",
    "    for i in range(1, n+1):\n",
    "        sum_value += i\n",
    "    \n",
    "    return sum_value\n",
    "\n",
    "######## TESt\n",
    "number = int(input(\"Enter a positive integer: \"))\n",
    "\n",
    "sum_result = sum_of_natural_numbers(number)\n",
    "print(\"The sum of natural numbers up to\", number, \"is\", sum_result)\n"
   ]
  },
  {
   "cell_type": "code",
   "execution_count": null,
   "id": "534737b9-5146-452a-a028-901ff10af904",
   "metadata": {},
   "outputs": [],
   "source": []
  }
 ],
 "metadata": {
  "kernelspec": {
   "display_name": "Python 3 (ipykernel)",
   "language": "python",
   "name": "python3"
  },
  "language_info": {
   "codemirror_mode": {
    "name": "ipython",
    "version": 3
   },
   "file_extension": ".py",
   "mimetype": "text/x-python",
   "name": "python",
   "nbconvert_exporter": "python",
   "pygments_lexer": "ipython3",
   "version": "3.10.8"
  }
 },
 "nbformat": 4,
 "nbformat_minor": 5
}
