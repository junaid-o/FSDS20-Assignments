{
 "cells": [
  {
   "cell_type": "markdown",
   "id": "a25e482f-868c-4feb-abcf-5db92e3bffc6",
   "metadata": {},
   "source": [
    "# <center>PythonBasics: Assignment_18</center>"
   ]
  },
  {
   "cell_type": "markdown",
   "id": "28639d95-8fe0-4aef-8b22-870169969031",
   "metadata": {},
   "source": [
    "### Question 01:\n",
    "Create a zoo.py file first. Define the hours() function, which prints the string &#39;Open 9-5 daily&#39;.\n",
    "Then, use the interactive interpreter to import the zoo module and call its hours() function.\n",
    "\n",
    "**<span style='color:blue'>Answer</span>**"
   ]
  },
  {
   "cell_type": "code",
   "execution_count": 1,
   "id": "d17c92ba-ba37-4897-86d5-1d16ebf7c8b2",
   "metadata": {},
   "outputs": [
    {
     "name": "stdout",
     "output_type": "stream",
     "text": [
      "Open 9-5 daily\n"
     ]
    }
   ],
   "source": [
    "import zoo\n",
    "\n",
    "zoo.hours()"
   ]
  },
  {
   "cell_type": "markdown",
   "id": "80196885-c7f4-43d4-8a35-a77493c93e0c",
   "metadata": {},
   "source": [
    "### Question 02:\n",
    "In the interactive interpreter, import the zoo module as menagerie and call its hours() function.\n",
    "\n",
    "**<span style='color:blue'>Answer</span>**"
   ]
  },
  {
   "cell_type": "code",
   "execution_count": 2,
   "id": "21bef0a0-2182-4a2f-8bef-9e86bc9699ce",
   "metadata": {},
   "outputs": [
    {
     "name": "stdout",
     "output_type": "stream",
     "text": [
      "Open 9-5 daily\n"
     ]
    }
   ],
   "source": [
    "import zoo as menagerie\n",
    "\n",
    "menagerie.hours()"
   ]
  },
  {
   "cell_type": "markdown",
   "id": "4ce96c92-e279-4ad5-8f8a-20002ad76430",
   "metadata": {},
   "source": [
    "### Question 03:\n",
    "Using the interpreter, explicitly import and call the hours() function from zoo.\n",
    "\n",
    "**<span style='color:blue'>Answer</span>**"
   ]
  },
  {
   "cell_type": "code",
   "execution_count": 3,
   "id": "b3b2acb7-e023-4686-a22d-d3b6e09dc2f0",
   "metadata": {},
   "outputs": [
    {
     "name": "stdout",
     "output_type": "stream",
     "text": [
      "Open 9-5 daily\n"
     ]
    }
   ],
   "source": [
    "from zoo import hours\n",
    "\n",
    "hours()"
   ]
  },
  {
   "cell_type": "markdown",
   "id": "d447d083-cb10-4428-9b32-e165b9be820b",
   "metadata": {},
   "source": [
    "### Question 04:\n",
    "Import the hours() function as info and call it.\n",
    "\n",
    "**<span style='color:blue'>Answer</span>**"
   ]
  },
  {
   "cell_type": "code",
   "execution_count": 4,
   "id": "e12e4427-265c-4cc5-95e9-8a94db0d9398",
   "metadata": {},
   "outputs": [
    {
     "name": "stdout",
     "output_type": "stream",
     "text": [
      "Open 9-5 daily\n"
     ]
    }
   ],
   "source": [
    "import zoo as info\n",
    "\n",
    "\n",
    "info.hours()\n"
   ]
  },
  {
   "cell_type": "markdown",
   "id": "4774e89f-4874-4565-89d1-f7693515e3db",
   "metadata": {},
   "source": [
    "### "
   ]
  },
  {
   "cell_type": "markdown",
   "id": "bd8216d3-4617-42e0-b1cb-3cf422f57cf4",
   "metadata": {},
   "source": [
    "### Question 05:\n",
    "Create a plain dictionary with the key-value pairs &#39;a&#39;: 1, &#39;b&#39;: 2, and &#39;c&#39;: 3, and print it out.\n",
    "\n",
    "**<span style='color:blue'>Answer</span>**"
   ]
  },
  {
   "cell_type": "code",
   "execution_count": 5,
   "id": "c151877b-de64-4386-aa4b-f2385b69e982",
   "metadata": {},
   "outputs": [
    {
     "name": "stdout",
     "output_type": "stream",
     "text": [
      "{'a': 1, 'b': 2, 'c': 3}\n"
     ]
    }
   ],
   "source": [
    "my_dict = {'a': 1, 'b': 2, 'c': 3}\n",
    "print(my_dict)\n"
   ]
  },
  {
   "cell_type": "markdown",
   "id": "80445ab7-fa40-44b9-819b-c4b752bb1185",
   "metadata": {},
   "source": [
    "### Question 06:\n",
    "Make an OrderedDict called fancy from the same pairs listed in 5 and print it. Did it print in the\n",
    "same order as plain?\n",
    "\n",
    "**<span style='color:blue'>Answer</span>**"
   ]
  },
  {
   "cell_type": "markdown",
   "id": "e1e1852f-e818-4b69-9280-4b5b8d2bb2f1",
   "metadata": {},
   "source": [
    "The OrderedDict preserves the order of insertion, so when we create an OrderedDict from the plain dictionary, the order of the key-value pairs is maintained. However, when we print the OrderedDict, it is displayed in a slightly different format than the plain dictionary. The key-value pairs are enclosed in parentheses and displayed as a list of tuples."
   ]
  },
  {
   "cell_type": "code",
   "execution_count": 6,
   "id": "0c4e710f-d5d2-4ae9-981e-6df87e519732",
   "metadata": {},
   "outputs": [
    {
     "name": "stdout",
     "output_type": "stream",
     "text": [
      "OrderedDict([('a', 1), ('b', 2), ('c', 3)])\n"
     ]
    }
   ],
   "source": [
    "from collections import OrderedDict\n",
    "\n",
    "plain = {'a': 1, 'b': 2, 'c': 3}\n",
    "fancy = OrderedDict(plain)\n",
    "print(fancy)\n"
   ]
  },
  {
   "cell_type": "markdown",
   "id": "acb0eca8-a9b3-4c06-bffb-7b928470d0a2",
   "metadata": {},
   "source": [
    "### Question 07:\n",
    "Make a default dictionary called dict_of_lists and pass it the argument list. Make the list\n",
    "dict_of_lists[&#39;a&#39;] and append the value &#39;something for a&#39; to it in one assignment. Print\n",
    "dict_of_lists[&#39;a&#39;].\n",
    "\n",
    "**<span style='color:blue'>Answer</span>**"
   ]
  },
  {
   "cell_type": "markdown",
   "id": "e78f23f7-8312-40dd-8d88-72d33166bfbf",
   "metadata": {},
   "source": [
    "`defaultdict` with the default value set to an empty list. When accessing a key that doesn't exist in the dictionary, it will automatically create an empty list as the value. We then append the value 'something for a' to the list associated with the key 'a'. Finally, we print the value of dict_of_lists['a'], which gives us ['something for a']"
   ]
  },
  {
   "cell_type": "code",
   "execution_count": 7,
   "id": "3825cff4-6ec5-483b-81cf-a6ba80049570",
   "metadata": {},
   "outputs": [
    {
     "name": "stdout",
     "output_type": "stream",
     "text": [
      "['something for a']\n"
     ]
    }
   ],
   "source": [
    "from collections import defaultdict\n",
    "\n",
    "dict_of_lists = defaultdict(list)\n",
    "dict_of_lists['a'].append('something for a')\n",
    "print(dict_of_lists['a'])\n"
   ]
  },
  {
   "cell_type": "code",
   "execution_count": null,
   "id": "994f13cd-4ed6-4707-9dc7-51331f458849",
   "metadata": {},
   "outputs": [],
   "source": []
  }
 ],
 "metadata": {
  "kernelspec": {
   "display_name": "Python 3 (ipykernel)",
   "language": "python",
   "name": "python3"
  },
  "language_info": {
   "codemirror_mode": {
    "name": "ipython",
    "version": 3
   },
   "file_extension": ".py",
   "mimetype": "text/x-python",
   "name": "python",
   "nbconvert_exporter": "python",
   "pygments_lexer": "ipython3",
   "version": "3.10.8"
  }
 },
 "nbformat": 4,
 "nbformat_minor": 5
}
