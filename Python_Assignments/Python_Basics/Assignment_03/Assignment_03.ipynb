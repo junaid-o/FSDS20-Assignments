{
 "cells": [
  {
   "cell_type": "markdown",
   "id": "0ca791f7-2ba0-4d9f-8ed7-182c75646078",
   "metadata": {},
   "source": [
    "# <center>PythonBasics: Assignment_03</center>"
   ]
  },
  {
   "cell_type": "markdown",
   "id": "7216b343-b748-4e5a-8e82-d762d6ca855f",
   "metadata": {},
   "source": [
    "### Question 01:\n",
    "\n",
    "Why are functions advantageous to have in your programs?"
   ]
  },
  {
   "cell_type": "markdown",
   "id": "4f9aa62e-2482-431f-944a-6860db7d7a8d",
   "metadata": {},
   "source": [
    "Functions are advantageous because they promote code organization, reusability, readability, maintainability, and collaboration among developers."
   ]
  },
  {
   "cell_type": "markdown",
   "id": "7443a908-f1c6-4dc2-956e-dda63af4ab61",
   "metadata": {},
   "source": [
    "### Question 02:\n",
    "\n",
    "When does the code in a function run: when it&#39;s specified or when it&#39;s called?"
   ]
  },
  {
   "cell_type": "markdown",
   "id": "1c9aee61-d6de-4cc5-b8c7-9ad8abe8701f",
   "metadata": {},
   "source": [
    "The code in a function runs when the function is called, not when it is specified."
   ]
  },
  {
   "cell_type": "markdown",
   "id": "f2a3da49-90b7-4baa-a9ee-1ec56fd99fe9",
   "metadata": {},
   "source": [
    "### Question 03:\n",
    "\n",
    "What statement creates a function?"
   ]
  },
  {
   "cell_type": "markdown",
   "id": "c598ca0c-4fd0-4ce1-966d-4f910c50e9ea",
   "metadata": {},
   "source": [
    "The `def` statement is used to create a function in Python."
   ]
  },
  {
   "cell_type": "markdown",
   "id": "9950c4f4-58ce-48b8-84b0-5268c882fa5b",
   "metadata": {},
   "source": [
    "### Question 04:\n",
    "\n",
    "What is the difference between a function and a function call?"
   ]
  },
  {
   "cell_type": "markdown",
   "id": "532eaff8-f1db-49f6-a747-d79a6eac7969",
   "metadata": {},
   "source": [
    "A function is a block of reusable code that performs a specific task when called. It consists of a function definition that defines the code to be executed. On the other hand, a function call is the act of invoking or executing a function. It is when we use the function's name followed by parentheses to execute the code within the function. In simpler terms, a function is the definition or blueprint, while a function call is the actual usage or execution of that function."
   ]
  },
  {
   "cell_type": "markdown",
   "id": "374c2c37-9697-45de-98ab-efbe8007ea6e",
   "metadata": {},
   "source": [
    "### Question 05:\n",
    "\n",
    "How many global scopes are there in a Python program? How many local scopes?"
   ]
  },
  {
   "cell_type": "markdown",
   "id": "544935c8-cb12-4e6a-bbb2-89bba5c4fef6",
   "metadata": {},
   "source": [
    "In a Python program, there is only one global scope. The global scope refers to the outermost level of the program where variables and functions defined outside of any functions or classes are accessible.\r\n",
    "\r\n",
    "On the other hand, the number of local scopes can vary depending on the number of functions or code blocks present in the program. Each function or code block creates its own local scope. Local scopes are temporary and exist only during the execution of the specific function or code block. Once the function or code block finishes executing, the local scope is destroyed."
   ]
  },
  {
   "cell_type": "markdown",
   "id": "e4607382-417b-4454-a81e-0a308cda0702",
   "metadata": {},
   "source": [
    "### Question 06\n",
    "\n",
    "What happens to variables in a local scope when the function call returns?"
   ]
  },
  {
   "cell_type": "markdown",
   "id": "f058ae4d-bcc3-41ff-8668-299852733172",
   "metadata": {},
   "source": [
    "When a function call returns, the local scope of that function is destroyed, and the variables defined within that local scope are no longer accessible. The memory occupied by the variables in the local scope is freed, and the values stored in those variables are no longer available.\n",
    "\n",
    "It's important to note that variables defined in the global scope are not affected by the return of a function call. They remain accessible and retain their values even after the function call completes."
   ]
  },
  {
   "cell_type": "markdown",
   "id": "b29759d9-709f-4468-8d85-ca8f12c29d96",
   "metadata": {},
   "source": [
    "### Question 07:\n",
    "\n",
    "What is the concept of a return value? Is it possible to have a return value in an expression?"
   ]
  },
  {
   "cell_type": "markdown",
   "id": "5f5620f8-c58d-4903-9487-cf14893133bf",
   "metadata": {},
   "source": [
    "The concept of a return value refers to the value that a function evaluates to and \"returns\" to the caller when the function is called. It is the result of the computation performed by the function.\n",
    "\n",
    "When a function reaches a return statement, it immediately exits, and the value specified in the return statement is passed back to the caller. The return value can be of any data type, such as integers, strings, lists, or even other objects."
   ]
  },
  {
   "cell_type": "markdown",
   "id": "d459a770-a541-4b45-b7dd-bde21a702c93",
   "metadata": {},
   "source": [
    "### Question 08:\n",
    "If a function does not have a return statement, what is the return value of a call to that function?"
   ]
  },
  {
   "cell_type": "markdown",
   "id": "1f569db0-8595-42b8-9b12-34674b28f2e0",
   "metadata": {},
   "source": [
    "If a function does not have a return statement, or if the return statement is not reached during the execution of the function, the function will automatically return `None`.\n",
    "\n",
    "None is a special Python object that represents the absence of a value. It is commonly used to indicate that a function does not explicitly return a value."
   ]
  },
  {
   "cell_type": "markdown",
   "id": "c39cd8e7-0f77-456b-af52-028f2891531a",
   "metadata": {},
   "source": [
    "### Question 09\n",
    "\n",
    "How do you make a function variable refer to the global variable?"
   ]
  },
  {
   "cell_type": "markdown",
   "id": "fa215dcb-e5d4-4753-9794-cc97d316d6c8",
   "metadata": {},
   "source": [
    "To make a function variable refer to a global variable, you can use the global keyword within the function. This tells Python that the variable being used is a global variable rather than a local variable."
   ]
  },
  {
   "cell_type": "code",
   "execution_count": 2,
   "id": "58af4e2b-d5c5-4868-b701-dd48a6a002fb",
   "metadata": {},
   "outputs": [
    {
     "name": "stdout",
     "output_type": "stream",
     "text": [
      "10\n"
     ]
    }
   ],
   "source": [
    "global_variable = 10\n",
    "\n",
    "def use_global_variable():\n",
    "    global global_variable\n",
    "    print(global_variable)  # Output: 10\n",
    "\n",
    "use_global_variable()\n"
   ]
  },
  {
   "cell_type": "markdown",
   "id": "7bddd43e-54c1-4321-884a-4e97e45dc74e",
   "metadata": {},
   "source": [
    "### Question 10\n",
    "What is the data type of None?"
   ]
  },
  {
   "cell_type": "markdown",
   "id": "eff6d300-bb51-4314-8976-f1834c056f98",
   "metadata": {},
   "source": [
    "The data type of None in Python is called NoneType. It represents the absence of a value or the lack of a specific data type. It is often used as a placeholder or to indicate that a variable or function does not return any value."
   ]
  },
  {
   "cell_type": "markdown",
   "id": "c72c32a2-1c7d-460b-af36-fc2c03c12331",
   "metadata": {},
   "source": [
    "### Question 11\n",
    "\n",
    "What does the sentence import areallyourpetsnamederic do?"
   ]
  },
  {
   "cell_type": "markdown",
   "id": "88290534-5ae3-4f66-9d80-660116a44795",
   "metadata": {},
   "source": [
    "### Question 12\n",
    "If you had a bacon() feature in a spam module, what would you call it after importing spam?"
   ]
  },
  {
   "cell_type": "markdown",
   "id": "c6e680f1-fd70-4d4f-8ba1-c33cb5f06310",
   "metadata": {},
   "source": [
    "After importing the spam module, you can call the bacon() feature using the dot notation\n",
    "\n",
    "```\n",
    "spam.bacon()\r\n",
    "\n",
    "```"
   ]
  },
  {
   "cell_type": "code",
   "execution_count": null,
   "id": "b67b0a58-73f1-4453-80b7-90d75c064534",
   "metadata": {},
   "outputs": [],
   "source": []
  },
  {
   "cell_type": "markdown",
   "id": "c790d7fa-3b80-443b-b908-ef650e318755",
   "metadata": {},
   "source": [
    "### Question 13\n",
    "What can you do to save a programme from crashing if it encounters an error?"
   ]
  },
  {
   "cell_type": "markdown",
   "id": "f209bd5e-7f3b-490d-acd8-1c5d8738503b",
   "metadata": {},
   "source": [
    "To prevent a program from crashing when it encounters an error, you can use error handling techniques such as exception handling. The `try-except` statement allows you to catch and handle exceptions gracefully, preventing the program from abruptly terminating. "
   ]
  },
  {
   "cell_type": "markdown",
   "id": "a548bc07-ff23-4fac-8aa4-5f4efa117467",
   "metadata": {},
   "source": [
    "### Question 14\n",
    "What is the purpose of the try clause? What is the purpose of the except clause?"
   ]
  },
  {
   "cell_type": "markdown",
   "id": "cd11a0c8-1906-41bb-8295-a295ce4a822e",
   "metadata": {},
   "source": [
    "* The purpose of the try clause in Python is to enclose a block of code that may potentially raise an exception. It allows you to handle potential errors or exceptions that might occur during the execution of the code within the try block.\n",
    "\n",
    "* The purpose of the except clause is to specify the type of exception you want to catch and handle. If an exception occurs within the try block, Python will search for a matching except block that can handle that particular exception type. The code inside the matching except block will be executed, allowing you to handle the exception in a controlled manner."
   ]
  },
  {
   "cell_type": "markdown",
   "id": "46f47183-6933-4569-b895-4a128cf0927c",
   "metadata": {},
   "source": []
  },
  {
   "cell_type": "code",
   "execution_count": null,
   "id": "7f0b238f-f816-4f2f-aa0c-a6fd1457c174",
   "metadata": {},
   "outputs": [],
   "source": []
  }
 ],
 "metadata": {
  "kernelspec": {
   "display_name": "Python 3 (ipykernel)",
   "language": "python",
   "name": "python3"
  },
  "language_info": {
   "codemirror_mode": {
    "name": "ipython",
    "version": 3
   },
   "file_extension": ".py",
   "mimetype": "text/x-python",
   "name": "python",
   "nbconvert_exporter": "python",
   "pygments_lexer": "ipython3",
   "version": "3.10.8"
  }
 },
 "nbformat": 4,
 "nbformat_minor": 5
}
