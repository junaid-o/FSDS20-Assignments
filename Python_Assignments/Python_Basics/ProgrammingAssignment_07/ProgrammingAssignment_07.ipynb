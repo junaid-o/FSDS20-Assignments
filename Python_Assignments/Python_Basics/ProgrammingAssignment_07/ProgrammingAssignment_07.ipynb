{
 "cells": [
  {
   "cell_type": "markdown",
   "id": "564cb8c6-3be5-4c79-8505-4abdec58ece6",
   "metadata": {},
   "source": [
    "# <center>PythonBasics: ProgrammingAsinment_07</center>\n",
    "\n",
    "1. Write a Python Program to find sum of array?\n",
    "2. Write a Python Program to find largest element in an array?\n",
    "3. Write a Python Program for array rotation?\n",
    "4. Write a Python Program to Split the array and add the first part to the end?\n",
    "5. Write a Python Program to check if given array is Monotonic?"
   ]
  },
  {
   "cell_type": "markdown",
   "id": "ee063e7a-4ca5-4251-9961-d3d22da7632c",
   "metadata": {},
   "source": [
    "### Question 1: Write a Python Program to find sum of array?"
   ]
  },
  {
   "cell_type": "code",
   "execution_count": 3,
   "id": "e3fb7512-d55e-4b63-b638-aee808dcd19a",
   "metadata": {},
   "outputs": [
    {
     "name": "stdout",
     "output_type": "stream",
     "text": [
      "The sum of the 2D array is: 45\n"
     ]
    }
   ],
   "source": [
    "def array_sum_2d(arr):\n",
    "    sum = 0\n",
    "    for row in arr:\n",
    "        for num in row:\n",
    "            sum += num\n",
    "    return sum\n",
    "\n",
    "###### TEST\n",
    "###### TEST\n",
    "###### TEST\n",
    "\n",
    "array_2d = [[1, 2, 3], [4, 5, 6], [7, 8, 9]]\n",
    "\n",
    "array_sum = array_sum_2d(array_2d)\n",
    "print(\"The sum of the 2D array is:\", array_sum)\n"
   ]
  },
  {
   "cell_type": "markdown",
   "id": "680d65d4-0046-444f-829c-a2bf9cbb12d9",
   "metadata": {},
   "source": [
    "### Question 2: Write a Python Program to find largest element in an array?"
   ]
  },
  {
   "cell_type": "code",
   "execution_count": 4,
   "id": "708e67cd-e062-4674-ac82-96a50d296301",
   "metadata": {},
   "outputs": [
    {
     "name": "stdout",
     "output_type": "stream",
     "text": [
      "The largest element in the array is: 13\n"
     ]
    }
   ],
   "source": [
    "def find_largest(arr):\n",
    "    if not arr:\n",
    "        print(\"Array is empty.\")\n",
    "        return None\n",
    "\n",
    "    largest = arr[0]\n",
    "    for num in arr:\n",
    "        if num > largest:\n",
    "            largest = num\n",
    "\n",
    "    return largest\n",
    "\n",
    "######### TEST\n",
    "######### TEST\n",
    "\n",
    "array = [5, 9, 2, 13, 7, 1]\n",
    "\n",
    "largest_num = find_largest(array)\n",
    "if largest_num is not None:\n",
    "    print(\"The largest element in the array is:\", largest_num)\n"
   ]
  },
  {
   "cell_type": "markdown",
   "id": "f84bd7d4-65cc-4bf8-bd91-9fb8dddd4ca3",
   "metadata": {},
   "source": [
    "## Question 3: Write a Python Program for array rotation?"
   ]
  },
  {
   "cell_type": "markdown",
   "id": "59f4aca9-1ae1-4cbf-9739-a9612981b094",
   "metadata": {},
   "source": [
    "In this program, the rotate_array function takes an array (arr) and the number of positions to rotate (positions) as input. It first checks if the array is empty and returns the array as is if it is empty.\n",
    "\n",
    "To handle cases where the number of positions is greater than the length of the array, we calculate the remainder of positions divided by the length of the array using the modulus operator %. This ensures that positions is within the valid range.\n",
    "\n",
    "The program then creates a new array, rotated, by concatenating the slice of the original array from positions to the end (arr[positions:]) with the slice from the beginning to positions (arr[:positions]). This effectively rotates the array by the given number of positions.\n",
    "\n",
    "Finally, the rotated array is returned."
   ]
  },
  {
   "cell_type": "code",
   "execution_count": 20,
   "id": "423f0320-1094-4109-bab4-fc1a23aedbc5",
   "metadata": {},
   "outputs": [
    {
     "name": "stdout",
     "output_type": "stream",
     "text": [
      "Array after rotation: [3, 4, 5, 1, 2]\n"
     ]
    }
   ],
   "source": [
    "def rotate_array(arr, positions):\n",
    "    if not arr:\n",
    "        return arr\n",
    "\n",
    "    positions = positions % len(arr)  # Adjust positions if greater than array length\n",
    "    rotated = arr[positions:] + arr[:positions]\n",
    "    return rotated\n",
    "\n",
    "######## TEST\n",
    "######## TEST\n",
    "\n",
    "array = [1, 2, 3, 4, 5]\n",
    "rotate_positions = 2\n",
    "\n",
    "rotated_array = rotate_array(array, rotate_positions)\n",
    "print(\"Array after rotation:\", rotated_array)\n"
   ]
  },
  {
   "cell_type": "markdown",
   "id": "bdfe38e8-c08b-4596-85c8-6f1230ff98c5",
   "metadata": {},
   "source": [
    "### Question 4: Write a Python Program to Split the array and add the first part to the end?"
   ]
  },
  {
   "cell_type": "code",
   "execution_count": 21,
   "id": "22cf8fca-e687-499c-b5a0-dbe73e3bc763",
   "metadata": {},
   "outputs": [
    {
     "name": "stdout",
     "output_type": "stream",
     "text": [
      "Array after splitting and adding: [3, 4, 5, 1, 2]\n"
     ]
    }
   ],
   "source": [
    "def split_and_add(arr, split_index):\n",
    "    if not arr:\n",
    "        return arr\n",
    "\n",
    "    split_index = split_index % len(arr)  # Adjust split index if greater than array length\n",
    "    split_array = arr[split_index:]\n",
    "    split_array.extend(arr[:split_index])\n",
    "    return split_array\n",
    "\n",
    "######## TEST\n",
    "######## TEST\n",
    "\n",
    "array = [1, 2, 3, 4, 5]\n",
    "split_index = 2\n",
    "\n",
    "split_added_array = split_and_add(array, split_index)\n",
    "print(\"Array after splitting and adding:\", split_added_array)\n"
   ]
  },
  {
   "cell_type": "markdown",
   "id": "12ade2dc-daeb-4792-805a-0c9d0fcccffa",
   "metadata": {},
   "source": [
    "### Question 5: Write a Python Program to check if given array is Monotonic?\n",
    "\n",
    "A monotonic array is an array that is either entirely non-increasing or non-decreasing. In other words, an array is considered monotonic if all its elements are in a sorted order, either in non-increasing (decreasing) order or non-decreasing (increasing) order.\n",
    "\n",
    "`[5, 4, 3, 2, 1]` is a monotonic array (non-increasing)\n",
    "\n",
    "\r",
    "`\n",
    "[1, 2, 3, 4, 5`] is a monotonic array (non-decreasing\n",
    ".\n",
    "`\r\n",
    "[1, 2, 2, 3, `4] is a monotonic array (non-decreasin)\n",
    "\n",
    "`.\r\n",
    "[7, 3, 8,` 1] is not a monotonic aray."
   ]
  },
  {
   "cell_type": "code",
   "execution_count": 22,
   "id": "ac8c5c00-70b8-4231-aa68-1c77492029dc",
   "metadata": {},
   "outputs": [
    {
     "name": "stdout",
     "output_type": "stream",
     "text": [
      "The array is monotonic.\n"
     ]
    }
   ],
   "source": [
    "def is_monotonic(arr):\n",
    "    if not arr:\n",
    "        return True\n",
    "\n",
    "    increasing = decreasing = True\n",
    "\n",
    "    for i in range(1, len(arr)):\n",
    "        if arr[i] < arr[i-1]:\n",
    "            increasing = False\n",
    "        if arr[i] > arr[i-1]:\n",
    "            decreasing = False\n",
    "\n",
    "    return increasing or decreasing\n",
    "\n",
    "######## TEST\n",
    "######## TEST\n",
    "######## TEST\n",
    "array = [1, 2, 3, 4, 5]\n",
    "\n",
    "if is_monotonic(array):\n",
    "    print(\"The array is monotonic.\")\n",
    "else:\n",
    "    print(\"The array is not monotonic.\")\n"
   ]
  },
  {
   "cell_type": "code",
   "execution_count": null,
   "id": "debf9875-cf77-4111-9c17-802ae625d7f3",
   "metadata": {},
   "outputs": [],
   "source": []
  },
  {
   "cell_type": "code",
   "execution_count": null,
   "id": "02e08656-fa6e-4d56-bfaa-ea702de1ed5f",
   "metadata": {},
   "outputs": [],
   "source": []
  }
 ],
 "metadata": {
  "kernelspec": {
   "display_name": "Python 3 (ipykernel)",
   "language": "python",
   "name": "python3"
  },
  "language_info": {
   "codemirror_mode": {
    "name": "ipython",
    "version": 3
   },
   "file_extension": ".py",
   "mimetype": "text/x-python",
   "name": "python",
   "nbconvert_exporter": "python",
   "pygments_lexer": "ipython3",
   "version": "3.10.8"
  }
 },
 "nbformat": 4,
 "nbformat_minor": 5
}
