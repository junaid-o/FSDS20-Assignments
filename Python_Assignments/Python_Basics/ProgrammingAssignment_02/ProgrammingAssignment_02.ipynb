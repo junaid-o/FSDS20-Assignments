{
 "cells": [
  {
   "cell_type": "markdown",
   "id": "d97a6e1a-64b0-440c-88b2-af344eb01f67",
   "metadata": {},
   "source": [
    "# <center>Python Basics: Programming Assignment_02</center>\n",
    "\n",
    "\n",
    "2. Write a Python program to convert Celsius to Fahrenheit?\r\n",
    "3. Write a Python program to display calendar?\r\n",
    "4. Write a Python program to solve quadratic equation?\r\n",
    "5. Write a Python program to swap two variables without temp variable?"
   ]
  },
  {
   "cell_type": "markdown",
   "id": "5c15fd33-e406-4e4b-b34f-75f8b5e9e970",
   "metadata": {},
   "source": [
    "# Quesion 1: Write a Python program to convert kilometers to miles?"
   ]
  },
  {
   "cell_type": "code",
   "execution_count": 10,
   "id": "a73d383d-62b5-4b4e-b7bf-19d3c1412e8c",
   "metadata": {},
   "outputs": [
    {
     "name": "stdin",
     "output_type": "stream",
     "text": [
      "Enter the distance in kilometers:  1\n"
     ]
    },
    {
     "name": "stdout",
     "output_type": "stream",
     "text": [
      "Distance in miles: 0.621371\n"
     ]
    }
   ],
   "source": [
    "def convert_kilometers_to_miles(kilometers):\n",
    "    miles = kilometers * 0.621371\n",
    "    return miles\n",
    "\n",
    "############## TEST ########################\n",
    "\n",
    "kilometers = float(input(\"Enter the distance in kilometers: \"))\n",
    "\n",
    "miles = convert_kilometers_to_miles(kilometers)\n",
    "print(\"Distance in miles:\", miles)\n"
   ]
  },
  {
   "cell_type": "markdown",
   "id": "88e64bd9-0db9-4534-854f-3fb6f82a5fe9",
   "metadata": {},
   "source": [
    "# Question 2: Write a Python program to convert Celsius to Fahrenheit?"
   ]
  },
  {
   "cell_type": "code",
   "execution_count": 11,
   "id": "de9b8e6c-986b-4797-8b42-3d1efa439e1e",
   "metadata": {},
   "outputs": [
    {
     "name": "stdin",
     "output_type": "stream",
     "text": [
      "Enter the temperature in Celsius:  37\n"
     ]
    },
    {
     "name": "stdout",
     "output_type": "stream",
     "text": [
      "Temperature in Fahrenheit: 98.6\n"
     ]
    }
   ],
   "source": [
    "def convert_celsius_to_fahrenheit(celsius):\n",
    "    fahrenheit = (celsius * 9/5) + 32\n",
    "    return fahrenheit\n",
    "\n",
    "########## TEST ########################\n",
    "celsius = float(input(\"Enter the temperature in Celsius: \"))\n",
    "\n",
    "fahrenheit = convert_celsius_to_fahrenheit(celsius)\n",
    "print(\"Temperature in Fahrenheit:\", fahrenheit)\n"
   ]
  },
  {
   "cell_type": "markdown",
   "id": "c4c8f56c-7b7a-4a00-8c88-958b4e68eda6",
   "metadata": {},
   "source": [
    "# Quesion 3: Write a Python program to display calendar?"
   ]
  },
  {
   "cell_type": "code",
   "execution_count": 12,
   "id": "b1d91b8e-dbc2-45f4-bb22-a6bde21102ee",
   "metadata": {},
   "outputs": [
    {
     "name": "stdin",
     "output_type": "stream",
     "text": [
      "Enter the year:  2023\n",
      "Enter the month (1-12):  6\n"
     ]
    },
    {
     "name": "stdout",
     "output_type": "stream",
     "text": [
      "June 2023\n",
      "Mon Tue Wed Thu Fri Sat Sun\n",
      "          1  2  3  4\n",
      " 5  6  7  8  9 10 11\n",
      "12 13 14 15 16 17 18\n",
      "19 20 21 22 23 24 25\n",
      "26 27 28 29 30      \n"
     ]
    }
   ],
   "source": [
    "import calendar\n",
    "\n",
    "def display_calendar(year, month):\n",
    "    cal = calendar.monthcalendar(year, month)\n",
    "    print(calendar.month_name[month], year)\n",
    "    print(calendar.weekheader(3))\n",
    "    \n",
    "    for week in cal:\n",
    "        print(' '.join(str(day).rjust(2) if day != 0 else '  ' for day in week))\n",
    "        \n",
    "# Example usage\n",
    "year = int(input(\"Enter the year: \"))\n",
    "month = int(input(\"Enter the month (1-12): \"))\n",
    "\n",
    "display_calendar(year, month)\n"
   ]
  },
  {
   "cell_type": "markdown",
   "id": "a87dfacf-64a7-4825-b3b8-b128352c8a48",
   "metadata": {},
   "source": [
    "# Question 4: Write a Python program to solve quadratic equation?\n",
    "\n",
    "\n",
    "We define a function called solve_quadratic that takes the coefficients a, b, and c of the quadratic equation as input parameters. Inside the function, we calculate the discriminant using the formula `(b**2) - (4*a*c)`. Then, we calculate the two solutions using the quadratic formula: `(-b ± sqrt(discriminant)) / (2*a)`. We use the cmath.sqrt function to handle complex square roots."
   ]
  },
  {
   "cell_type": "code",
   "execution_count": 13,
   "id": "72a23213-d5cf-46d2-9067-fcb42566e018",
   "metadata": {},
   "outputs": [
    {
     "name": "stdin",
     "output_type": "stream",
     "text": [
      "Enter the coefficient of x^2:  4\n",
      "Enter the coefficient of x:  2\n",
      "Enter the constant term:  8\n"
     ]
    },
    {
     "name": "stdout",
     "output_type": "stream",
     "text": [
      "The solutions are:\n",
      "Solution 1: (-0.25-1.3919410907075054j)\n",
      "Solution 2: (-0.25+1.3919410907075054j)\n"
     ]
    }
   ],
   "source": [
    "import cmath\n",
    "\n",
    "def solve_quadratic(a, b, c):\n",
    "    # Calculate the discriminant\n",
    "    discriminant = (b**2) - (4*a*c)\n",
    "\n",
    "    # Calculate the solutions\n",
    "    solution1 = (-b - cmath.sqrt(discriminant)) / (2*a)\n",
    "    solution2 = (-b + cmath.sqrt(discriminant)) / (2*a)\n",
    "\n",
    "    return solution1, solution2\n",
    "\n",
    "# Example usage\n",
    "a = float(input(\"Enter the coefficient of x^2: \"))\n",
    "b = float(input(\"Enter the coefficient of x: \"))\n",
    "c = float(input(\"Enter the constant term: \"))\n",
    "\n",
    "solution1, solution2 = solve_quadratic(a, b, c)\n",
    "print(\"The solutions are:\")\n",
    "print(\"Solution 1:\", solution1)\n",
    "print(\"Solution 2:\", solution2)\n"
   ]
  },
  {
   "cell_type": "markdown",
   "id": "97eab79f-64d7-4d01-b88a-60775f6bc994",
   "metadata": {},
   "source": [
    "# Question 5 Write a Python program to swap two variables without temp variable?"
   ]
  },
  {
   "cell_type": "code",
   "execution_count": 14,
   "id": "4c56110b-a423-4886-ba11-12148ce55949",
   "metadata": {},
   "outputs": [
    {
     "name": "stdin",
     "output_type": "stream",
     "text": [
      "Enter the first variable:  50\n",
      "Enter the second variable:  99\n"
     ]
    },
    {
     "name": "stdout",
     "output_type": "stream",
     "text": [
      "Before swapping:\n",
      "Variable 1 = 50.0\n",
      "Variable 2 = 99.0\n",
      "After swapping:\n",
      "Variable 1 = 99.0\n",
      "Variable 2 = 50.0\n"
     ]
    }
   ],
   "source": [
    "def swap_variables(a, b):\n",
    "    a = a + b\n",
    "    b = a - b\n",
    "    a = a - b\n",
    "    return a, b\n",
    "\n",
    "########### TEST\n",
    "\n",
    "variable1 = float(input(\"Enter the first variable: \"))\n",
    "variable2 = float(input(\"Enter the second variable: \"))\n",
    "\n",
    "print(\"Before swapping:\")\n",
    "print(\"Variable 1 =\", variable1)\n",
    "print(\"Variable 2 =\", variable2)\n",
    "\n",
    "variable1, variable2 = swap_variables(variable1, variable2)\n",
    "\n",
    "print(\"After swapping:\")\n",
    "print(\"Variable 1 =\", variable1)\n",
    "print(\"Variable 2 =\", variable2)\n"
   ]
  },
  {
   "cell_type": "code",
   "execution_count": null,
   "id": "6436ba13-1809-4e07-9cf1-039269488988",
   "metadata": {},
   "outputs": [],
   "source": []
  }
 ],
 "metadata": {
  "kernelspec": {
   "display_name": "Python 3 (ipykernel)",
   "language": "python",
   "name": "python3"
  },
  "language_info": {
   "codemirror_mode": {
    "name": "ipython",
    "version": 3
   },
   "file_extension": ".py",
   "mimetype": "text/x-python",
   "name": "python",
   "nbconvert_exporter": "python",
   "pygments_lexer": "ipython3",
   "version": "3.10.8"
  }
 },
 "nbformat": 4,
 "nbformat_minor": 5
}
