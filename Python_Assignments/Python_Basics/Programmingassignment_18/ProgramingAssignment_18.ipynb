{
 "cells": [
  {
   "cell_type": "markdown",
   "id": "6fc03d57-c14d-423e-8643-be4d5423d57a",
   "metadata": {},
   "source": [
    "# <center>PythonBasics: ProgrammingAssignment_18</center>"
   ]
  },
  {
   "cell_type": "markdown",
   "id": "d50f477a-00f2-4abb-9e91-8d64a2f9406b",
   "metadata": {},
   "source": [
    "### Question 01:\n",
    "\n",
    "Create a function that takes a list of non-negative integers and strings and return a new list\n",
    "without the strings.\n"
   ]
  },
  {
   "cell_type": "code",
   "execution_count": 6,
   "id": "3cbaa270-3cfb-4dc9-bed8-910a055d6c48",
   "metadata": {},
   "outputs": [
    {
     "name": "stdout",
     "output_type": "stream",
     "text": [
      "[1, 2.0]\n"
     ]
    }
   ],
   "source": [
    "def filter_list(lst):\n",
    "    return [x for x in lst if isinstance(x, (int,float))]\n",
    "\n",
    "################# TEST #####################################\n",
    "################# TEST #####################################\n",
    "\n",
    "input_list = [1, 2.0, \"a\", \"b\"]\n",
    "filtered_list = filter_list(input_list)\n",
    "print(filtered_list)  # Output: [1, 2\n",
    "\n"
   ]
  },
  {
   "cell_type": "markdown",
   "id": "c4cc74ed-d9d7-4579-ad28-3089a702c2e6",
   "metadata": {},
   "source": [
    "### Question 02:\n",
    "\n",
    "The &quot;Reverser&quot; takes a string as input and returns that string in reverse order, with the\r\n",
    "opposite case.\r\n",
    "Examples\r\n",
    "reverse(&quot;Hello World&quot;) ➞ &quot;DLROw OLLEh&quot;\r\n",
    "reverse(&quot;ReVeRsE&quot;) ➞ &quot;eSrEvEr&quot;\r\n",
    "reverse(&quot;Radar&quot;) ➞ &quot;RADAr&quot;"
   ]
  },
  {
   "cell_type": "code",
   "execution_count": 9,
   "id": "7b734d08-76df-4f23-b432-4cf9e94c70c0",
   "metadata": {},
   "outputs": [
    {
     "name": "stdout",
     "output_type": "stream",
     "text": [
      "DLROw OLLEh\n"
     ]
    }
   ],
   "source": [
    "def reverse(string):\n",
    "    reversed_string = string[::-1]  # Reverse the string\n",
    "    reversed_string = reversed_string.swapcase()  # Change the case of each character\n",
    "    return reversed_string\n",
    "\n",
    "############## TEST ########################\n",
    "############## TEST ########################\n",
    "\n",
    "\n",
    "input_string = \"Hello World\"\n",
    "reversed_string = reverse(input_string)\n",
    "print(reversed_string)"
   ]
  },
  {
   "cell_type": "markdown",
   "id": "71724d2d-2c4a-45cc-a6bf-e9e923b9b9db",
   "metadata": {},
   "source": [
    "### Question 03:\n",
    "\n",
    "\n",
    "Question 3\n",
    "You can assign variables from lists like this:\n",
    "lst = [1, 2, 3, 4, 5, 6]\n",
    "first = lst[0]\n",
    "middle = lst[1:-1]\n",
    "last = lst[-1]\n",
    "print(first) ➞ outputs 1\n",
    "print(middle) ➞ outputs [2, 3, 4, 5]\n",
    "print(last) ➞ outputs 6\n",
    "With Python 3, you can assign variables from lists in a much more succinct way. Create\n",
    "variables first, middle and last from the given list using destructuring assignment\n",
    "(check the Resources tab for some examples), where:\n",
    "first ➞ 1\n",
    "middle ➞ [2, 3, 4, 5]\n",
    "\n",
    "last ➞ 6\n",
    "\n",
    "Your task is to unpack the list writeyourcodehere into three variables, being first,\n",
    "middle, and last, with middle being everything in between the first and last element. Then\n",
    "print all three variables."
   ]
  },
  {
   "cell_type": "code",
   "execution_count": 10,
   "id": "5aecaef2-29d1-4c2b-bf89-ce43e4866673",
   "metadata": {},
   "outputs": [
    {
     "name": "stdout",
     "output_type": "stream",
     "text": [
      "1\n",
      "[2, 3, 4, 5]\n",
      "6\n"
     ]
    }
   ],
   "source": [
    "writeyourcodehere = [1, 2, 3, 4, 5, 6]\n",
    "\n",
    "# Unpack the list into variables using destructuring assignment\n",
    "first, *middle, last = writeyourcodehere\n",
    "\n",
    "# Print the values of the variables\n",
    "print(first)  # Output: 1\n",
    "print(middle)  # Output: [2, 3, 4, 5]\n",
    "print(last)  # Output: 6\n"
   ]
  },
  {
   "cell_type": "markdown",
   "id": "834f53bd-f500-4a92-b068-c076faa2606c",
   "metadata": {},
   "source": [
    "### Question 04:\n",
    "\n",
    "Write a function that calculates the factorial of a number recursively."
   ]
  },
  {
   "cell_type": "code",
   "execution_count": 14,
   "id": "ee3803e8-50ed-4981-9369-941e0300c583",
   "metadata": {},
   "outputs": [
    {
     "name": "stdout",
     "output_type": "stream",
     "text": [
      "2432902008176640000\n"
     ]
    }
   ],
   "source": [
    "def factorial(n):\n",
    "    # Base case: factorial of 0 or 1 is 1\n",
    "    if n == 0 or n == 1:\n",
    "        return 1\n",
    "    # Recursive case: factorial of n is n multiplied by factorial of (n-1)\n",
    "    else:\n",
    "        return n * factorial(n - 1)\n",
    "\n",
    "\n",
    "#################### TEST ###########################\n",
    "print(factorial(20))\n"
   ]
  },
  {
   "cell_type": "markdown",
   "id": "13d5b231-f229-4bae-a14e-15cd2ebfbe64",
   "metadata": {},
   "source": [
    "### Question 05:\n",
    "\n",
    "Write a function that moves all elements of one type to the end of the list.\r",
    "ot;] lst\r\n"
   ]
  },
  {
   "cell_type": "code",
   "execution_count": 16,
   "id": "e8a42479-1b8f-4206-b29c-8e3ea709a7bb",
   "metadata": {},
   "outputs": [
    {
     "name": "stdout",
     "output_type": "stream",
     "text": [
      "[3, 2, 4, 4, 1, 1]\n"
     ]
    }
   ],
   "source": [
    "def move_to_end(lst, element):\n",
    "    count = lst.count(element)  # Count the occurrences of the element in the list\n",
    "    lst = [x for x in lst if x != element]  # Create a new list without the element\n",
    "    lst.extend([element] * count)  # Append the element at the end of the list the same number of times as its count\n",
    "    return lst\n",
    "    \n",
    "############################# TESt ######################\n",
    "############################# TESt ######################\n",
    "\n",
    "print(move_to_end([1, 3, 2, 4, 4, 1], 1))  # Output: [3, 2, 4, 4, 1, 1]\n",
    "\n"
   ]
  },
  {
   "cell_type": "code",
   "execution_count": null,
   "id": "e8613763-9f8b-4190-8129-00eabe361845",
   "metadata": {},
   "outputs": [],
   "source": []
  }
 ],
 "metadata": {
  "kernelspec": {
   "display_name": "Python 3 (ipykernel)",
   "language": "python",
   "name": "python3"
  },
  "language_info": {
   "codemirror_mode": {
    "name": "ipython",
    "version": 3
   },
   "file_extension": ".py",
   "mimetype": "text/x-python",
   "name": "python",
   "nbconvert_exporter": "python",
   "pygments_lexer": "ipython3",
   "version": "3.10.8"
  }
 },
 "nbformat": 4,
 "nbformat_minor": 5
}
