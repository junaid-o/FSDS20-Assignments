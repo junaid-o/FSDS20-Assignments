{
 "cells": [
  {
   "cell_type": "markdown",
   "id": "b4784c30-3c22-414a-9ed0-88a44851bbd2",
   "metadata": {},
   "source": [
    "# <center>PythonBasics: ProgrammingAssignment_10</center>\n",
    "\n",
    "\n",
    "\n",
    "1. Write a Python program to find sum of elements in list?\n",
    "2. Write a Python program to Multiply all numbers in the list?\n",
    "3. Write a Python program to find smallest number in a list?\n",
    "4. Write a Python program to find largest number in a list?\n",
    "5. Write a Python program to find second largest number in a list?\n",
    "6. Write a Python program to find N largest elements from a list?\n",
    "7. Write a Python program to print even numbers in a list?\n",
    "8. Write a Python program to print odd numbers in a List?\n",
    "9. Write a Python program to Remove empty List from List?\n",
    "10. Write a Python program to Cloning or Copying a list?\n",
    "11. Write a Python program to Count occurrences of an element in a list?"
   ]
  },
  {
   "cell_type": "markdown",
   "id": "8d3b1d9c-299e-4548-82c4-3c5dd53ebcd2",
   "metadata": {},
   "source": [
    "### Question 1: Write a Python program to find sum of elements in list?"
   ]
  },
  {
   "cell_type": "code",
   "execution_count": 1,
   "id": "d31f91b6-3e9d-4fe8-809c-0079cfaac87b",
   "metadata": {},
   "outputs": [
    {
     "name": "stdout",
     "output_type": "stream",
     "text": [
      "Sum of elements: 55\n"
     ]
    }
   ],
   "source": [
    "def list_sum(list):\n",
    "    sum=0\n",
    "    for i in list:\n",
    "        #sum= sum + i\n",
    "        sum +=i\n",
    "    return sum\n",
    "\n",
    "######## TEST #################\n",
    "######## TEST #################\n",
    "\n",
    "list =  [1,2,3,4,5,6,7,8,9,10]\n",
    "\n",
    "result = list_sum(list =  list)\n",
    "\n",
    "print(\"Sum of elements:\", result)"
   ]
  },
  {
   "cell_type": "markdown",
   "id": "c0fa169a-e806-45a3-856d-696301546ff8",
   "metadata": {},
   "source": [
    "### Question 02: Write a Python program to Multiply all numbers in the list?"
   ]
  },
  {
   "cell_type": "code",
   "execution_count": 2,
   "id": "28d7dc49-f8f7-4443-8118-7c27dbcee942",
   "metadata": {},
   "outputs": [
    {
     "name": "stdout",
     "output_type": "stream",
     "text": [
      "Multiplication of elements: 3628800\n"
     ]
    }
   ],
   "source": [
    "def list_multiply(list):\n",
    "    result = 1\n",
    "    for i in list:\n",
    "        result = result * i\n",
    "        \n",
    "    return result\n",
    "\n",
    "\n",
    "######## TEST #################\n",
    "######## TEST #################\n",
    "\n",
    "list =  [1,2,3,4,5,6,7,8,9,10]\n",
    "\n",
    "result = list_multiply(list =  list)\n",
    "\n",
    "print(\"Multiplication of elements:\", result)\n"
   ]
  },
  {
   "cell_type": "markdown",
   "id": "78f2ff6d-47d4-4d6f-8154-5c3ce5161607",
   "metadata": {},
   "source": [
    "### Question 3: Write a Python program to find smallest number in a list?"
   ]
  },
  {
   "cell_type": "code",
   "execution_count": 3,
   "id": "b280a371-18b4-476e-a7e0-3d455417c207",
   "metadata": {},
   "outputs": [
    {
     "name": "stdout",
     "output_type": "stream",
     "text": [
      "Lowest Element of The Given List:  -90\n"
     ]
    }
   ],
   "source": [
    "def list_lowest_element(list):\n",
    "    smallest_element = list[0]\n",
    "    \n",
    "    for element in list:\n",
    "        if element < smallest_element:\n",
    "            smallest_element = element\n",
    "    return smallest_element\n",
    "\n",
    "########### TEST #############\n",
    "########### TEST #############\n",
    "\n",
    "list = [1,20, 40, 10, 5, 0, 100, -10, -90]\n",
    "\n",
    "result = list_lowest_element(list=list)\n",
    "\n",
    "print(\"Lowest Element of The Given List: \", result)"
   ]
  },
  {
   "cell_type": "markdown",
   "id": "1125f8ed-c7d7-4287-81ab-a4e3fb239040",
   "metadata": {},
   "source": [
    "### Question 4: Write a Python program to find largest number in a list?"
   ]
  },
  {
   "cell_type": "code",
   "execution_count": 4,
   "id": "35ac43ae-8102-408e-9bff-406610885e78",
   "metadata": {},
   "outputs": [
    {
     "name": "stdout",
     "output_type": "stream",
     "text": [
      "Largest Element of The Given List:  100\n"
     ]
    }
   ],
   "source": [
    "def list_largest_element(list):\n",
    "    largest_element = float('-inf')\n",
    "    \n",
    "    for element in list:\n",
    "        if element > largest_element:\n",
    "            largest_element = element\n",
    "    return largest_element\n",
    "\n",
    "########### TEST #############\n",
    "########### TEST #############\n",
    "\n",
    "list = [1,20, 40, 10, 5, 0, 100, -10, -90]\n",
    "\n",
    "result = list_largest_element(list=list)\n",
    "\n",
    "print(\"Largest Element of The Given List: \", result)"
   ]
  },
  {
   "cell_type": "markdown",
   "id": "2cd2cb8e-9b93-40af-a63c-3fd5e01da31e",
   "metadata": {},
   "source": [
    "### Question 5: Write a Python program to find second largest number in a list?"
   ]
  },
  {
   "cell_type": "code",
   "execution_count": 5,
   "id": "a3fcfef3-fd1b-4b67-a759-e2745ccbe6a6",
   "metadata": {},
   "outputs": [
    {
     "name": "stdout",
     "output_type": "stream",
     "text": [
      "Largest Element of The Given List:  40\n"
     ]
    }
   ],
   "source": [
    "def second_largest_element(list):\n",
    "    largest_element = float('-inf')\n",
    "    second_largest = float('-inf')\n",
    "    \n",
    "    for element in list:\n",
    "        if element > largest_element:\n",
    "            second_largest = largest_element\n",
    "            largest_element = element\n",
    "    \n",
    "        elif (element > second_largest) and (element < largest_element):\n",
    "            second_largest = element\n",
    "            return second_largest\n",
    "    \n",
    "    return second_largest\n",
    "\n",
    "########### TEST #############\n",
    "########### TEST #############\n",
    "\n",
    "list = [1,20, 40, 10, 5, 0, 100, -10, -90]\n",
    "\n",
    "result = second_largest_element(list=list)\n",
    "\n",
    "print(\"Largest Element of The Given List: \", result)"
   ]
  },
  {
   "cell_type": "markdown",
   "id": "0c631afb-702e-409f-a830-9727043ad70c",
   "metadata": {},
   "source": [
    "### Question 6: Write a Python program to find N largest elements from a list?"
   ]
  },
  {
   "cell_type": "code",
   "execution_count": 6,
   "id": "f26a38f0-b513-4c76-90dd-aa69cef9a74d",
   "metadata": {},
   "outputs": [
    {
     "name": "stdout",
     "output_type": "stream",
     "text": [
      "N largest elements: [2323, 121, 32]\n"
     ]
    }
   ],
   "source": [
    "def find_n_largest_elements(lst, n):\n",
    "    # Sort the list in descending order\n",
    "    sorted_lst = sorted(lst, reverse=True)\n",
    "    \n",
    "    # Extract the N largest elements\n",
    "    n_largest = sorted_lst[:n]\n",
    "    \n",
    "    # Return the list of N largest elements\n",
    "    return n_largest\n",
    "\n",
    "########## TEST ###############\n",
    "########## TEST ###############\n",
    "\n",
    "\n",
    "my_list = [10, 5, 20, 8, 15,-90, 20,32,2323,121,4,2,3,6,0,2,0]\n",
    "n = 3\n",
    "n_largest_elements = find_n_largest_elements(my_list, n)\n",
    "print(\"N largest elements:\", n_largest_elements)\n"
   ]
  },
  {
   "cell_type": "markdown",
   "id": "52d9f42f-c92d-4869-845b-8b3169b2849c",
   "metadata": {},
   "source": [
    "### Question 7: Write a Python program to print even numbers in a list?"
   ]
  },
  {
   "cell_type": "code",
   "execution_count": 7,
   "id": "7fc19896-ecd7-472e-b3ab-6eadcc936018",
   "metadata": {},
   "outputs": [
    {
     "name": "stdout",
     "output_type": "stream",
     "text": [
      "Even numbers: [2, 4, 6, 8, 10, 22, 12, 32, -456, 222, -98]\n"
     ]
    }
   ],
   "source": [
    "def print_even_numbers(lst):\n",
    "    even_numbers = []\n",
    "    \n",
    "    for num in lst:\n",
    "        if num % 2 == 0:\n",
    "            even_numbers.append(num)\n",
    "    \n",
    "    print(\"Even numbers:\", even_numbers)\n",
    "\n",
    "############ TEST ##############\n",
    "############ TEST ##############\n",
    "\n",
    "\n",
    "my_list = [1, 2, 3, 4, 5, 6, 7, 8, 9, 10,22,121,12,765,23,32,-456,222,-98, 9785,11,13,1597]\n",
    "print_even_numbers(my_list)\n"
   ]
  },
  {
   "cell_type": "markdown",
   "id": "b982d4d5-364c-4cfa-88c3-e53eba1b73c3",
   "metadata": {},
   "source": [
    "### Question 8: Write a Python program to print odd numbers in a List?"
   ]
  },
  {
   "cell_type": "code",
   "execution_count": 8,
   "id": "9141df4b-cbb1-40a4-9280-676509899db0",
   "metadata": {},
   "outputs": [
    {
     "name": "stdout",
     "output_type": "stream",
     "text": [
      "Odd numbers: [1, 3, 5, 7, 9]\n"
     ]
    }
   ],
   "source": [
    "def print_odd_numbers(lst):\n",
    "    odd_numbers = []\n",
    "\n",
    "    for num in lst:\n",
    "        if num % 2 != 0:\n",
    "            odd_numbers.append(num)\n",
    "\n",
    "    print(\"Odd numbers:\", odd_numbers)\n",
    "\n",
    "##################### TEST ######################\n",
    "##################### TEST ######################\n",
    "\n",
    "list = [1, 2, 3, 4, 5, 6, 7, 8, 9, 10]\n",
    "print_odd_numbers(list)\n"
   ]
  },
  {
   "cell_type": "markdown",
   "id": "de2fcd6e-b8f9-46ba-88c9-852d521bba1f",
   "metadata": {},
   "source": [
    "### Question 9: Write a Python program to Remove empty List from List?"
   ]
  },
  {
   "cell_type": "code",
   "execution_count": 9,
   "id": "0b7c6a95-aebd-4eba-9c9a-5ff2fd6f5388",
   "metadata": {},
   "outputs": [
    {
     "name": "stdout",
     "output_type": "stream",
     "text": [
      "Updated list: [1, [3, 4], 5, [6, 7, 8]]\n"
     ]
    }
   ],
   "source": [
    "def remove_empty_lists(lst):\n",
    "    # Use list comprehension to create a new list without empty lists\n",
    "    result = [sublist for sublist in lst if sublist]\n",
    "\n",
    "    return result\n",
    "\n",
    "############ TEST ############\n",
    "############ TEST ############\n",
    "\n",
    "\n",
    "list = [1, [], [3, 4], [], 5, [], [6, 7, 8], []]\n",
    "updated_list = remove_empty_lists(list)\n",
    "print(\"Updated list:\", updated_list)\n"
   ]
  },
  {
   "cell_type": "markdown",
   "id": "f1719c62-80e6-4881-a817-45e28d85f6ab",
   "metadata": {},
   "source": [
    "### Question 10: Write a Python program to Cloning or Copying a list?"
   ]
  },
  {
   "cell_type": "code",
   "execution_count": 10,
   "id": "501a9869-c190-48d9-94d8-4d9dc9de2d20",
   "metadata": {},
   "outputs": [
    {
     "name": "stdout",
     "output_type": "stream",
     "text": [
      "Cloned list: [1, 2, 3, 4, 5]\n"
     ]
    }
   ],
   "source": [
    "def clone_list(lst):\n",
    "    # Use the slice operator [:] to create a new copy of the list\n",
    "    cloned_list = lst[:]\n",
    "\n",
    "    return cloned_list\n",
    "\n",
    "########## TEST #############\n",
    "########## TEST #############\n",
    "\n",
    "\n",
    "list = [1, 2, 3, 4, 5]\n",
    "cloned_list = clone_list(list)\n",
    "print(\"Cloned list:\", cloned_list)\n"
   ]
  },
  {
   "cell_type": "markdown",
   "id": "ce723d04-2bfb-4d1c-af3a-4241d96d8788",
   "metadata": {},
   "source": [
    "### Question 11: Write a Python program to Count occurrences of an element in a list?"
   ]
  },
  {
   "cell_type": "code",
   "execution_count": 11,
   "id": "01199a17-4ee9-45ef-ac53-3485e169303d",
   "metadata": {},
   "outputs": [
    {
     "name": "stdout",
     "output_type": "stream",
     "text": [
      "Occurrences of 4 in the list: 3\n"
     ]
    }
   ],
   "source": [
    "def count_occurrences(lst, element):\n",
    "    count = 0\n",
    "\n",
    "    for item in lst:\n",
    "        if item == element:\n",
    "            count += 1\n",
    "\n",
    "    return count\n",
    "\n",
    "########### TEST ###############\n",
    "########### TEST ###############\n",
    "\n",
    "list = [1, 2, 3, 4, 4, 4, 5, 5]\n",
    "element = 4\n",
    "occurrences = count_occurrences(list, element)\n",
    "print(\"Occurrences of\", element, \"in the list:\", occurrences)\n"
   ]
  },
  {
   "cell_type": "code",
   "execution_count": null,
   "id": "7a7db27b-878a-46f9-a4d2-7122070ef28b",
   "metadata": {},
   "outputs": [],
   "source": []
  }
 ],
 "metadata": {
  "kernelspec": {
   "display_name": "Python 3 (ipykernel)",
   "language": "python",
   "name": "python3"
  },
  "language_info": {
   "codemirror_mode": {
    "name": "ipython",
    "version": 3
   },
   "file_extension": ".py",
   "mimetype": "text/x-python",
   "name": "python",
   "nbconvert_exporter": "python",
   "pygments_lexer": "ipython3",
   "version": "3.10.8"
  }
 },
 "nbformat": 4,
 "nbformat_minor": 5
}
