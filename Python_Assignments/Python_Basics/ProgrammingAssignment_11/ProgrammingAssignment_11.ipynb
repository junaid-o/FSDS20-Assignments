{
 "cells": [
  {
   "cell_type": "markdown",
   "id": "b34467a9-f32d-401e-8138-1b580db2da9d",
   "metadata": {},
   "source": [
    "# <center>PythonBasics: ProgramingAssignment_11</center>\n",
    "\n",
    "\n",
    "1. Write a Python program to find words which are greater than given length k?\r\n",
    "2. Write a Python program for removing i-th character from a string?\r\n",
    "3. Write a Python program to split and join a string?\r\n",
    "4. Write a Python to check if a given string is binary string or not?\r\n",
    "5. Write a Python program to find uncommon words from two Strings?\r\n",
    "6. Write a Python to find all duplicate characters in string?\r\n",
    "7. Write a Python Program to check if a string contains any special character?"
   ]
  },
  {
   "cell_type": "markdown",
   "id": "cae9e05d-fb2f-46c3-a159-8647481f5f2f",
   "metadata": {},
   "source": [
    "### Question 1: Write a Python program to find words which are greater than given length k?"
   ]
  },
  {
   "cell_type": "code",
   "execution_count": 1,
   "id": "f8035393-bbb7-49dd-969a-8d67a3919ec7",
   "metadata": {},
   "outputs": [
    {
     "name": "stdout",
     "output_type": "stream",
     "text": [
      "Words greater than length 5 : ['banana', 'orange', 'pineapple']\n"
     ]
    }
   ],
   "source": [
    "def find_words_greater_than_k(lst, k):\n",
    "    result = []\n",
    "\n",
    "    for word in lst:\n",
    "        if len(word) > k:\n",
    "            result.append(word)\n",
    "\n",
    "    return result\n",
    "\n",
    "############# TEST ################\n",
    "############# TEST ################\n",
    "\n",
    "word_list = [\"apple\", \"banana\", \"orange\", \"kiwi\", \"grape\", \"pineapple\"]\n",
    "k = 5\n",
    "words_greater_than_k = find_words_greater_than_k(word_list, k)\n",
    "print(\"Words greater than length\", k, \":\", words_greater_than_k)\n"
   ]
  },
  {
   "cell_type": "markdown",
   "id": "cea3793b-74d7-4a5f-8b9d-db3c3edb0c93",
   "metadata": {},
   "source": [
    "### Question 2: Write a Python program for removing i-th character from a string?"
   ]
  },
  {
   "cell_type": "code",
   "execution_count": 2,
   "id": "e973d0eb-117a-4b0a-9274-01a647d1a74f",
   "metadata": {},
   "outputs": [
    {
     "name": "stdout",
     "output_type": "stream",
     "text": [
      "Updated string: Hello, orld!\n"
     ]
    }
   ],
   "source": [
    "def remove_character(string, i):\n",
    "    if i < 0 or i >= len(string):\n",
    "        return string\n",
    "\n",
    "    return string[:i] + string[i+1:]\n",
    "\n",
    "######### TEST ############\n",
    "######### TEST ############\n",
    "\n",
    "my_string = \"Hello, World!\"\n",
    "index_to_remove = 7\n",
    "updated_string = remove_character(my_string, index_to_remove)\n",
    "print(\"Updated string:\", updated_string)\n"
   ]
  },
  {
   "cell_type": "markdown",
   "id": "be2f0ed7-7571-4c71-acac-fc31ae8afca1",
   "metadata": {},
   "source": [
    "### Question 3: Write a Python program to split and join a string?"
   ]
  },
  {
   "cell_type": "code",
   "execution_count": 3,
   "id": "6832f76d-a2e0-4f95-bde8-98104fdd12b0",
   "metadata": {},
   "outputs": [
    {
     "name": "stdout",
     "output_type": "stream",
     "text": [
      "Split and joined string: Hello  World!\n"
     ]
    }
   ],
   "source": [
    "def split_and_join(string, delimiter):\n",
    "    # Split the string into a list of substrings using the delimiter\n",
    "    splitted = string.split(delimiter)\n",
    "\n",
    "    # Join the substrings using a space as the separator\n",
    "    joined = \" \".join(splitted)\n",
    "\n",
    "    return joined\n",
    "\n",
    "################### TEST ####################\n",
    "################### TEST ####################\n",
    "\n",
    "string = \"Hello, World!\"\n",
    "delimiter = \",\"\n",
    "split_and_joined_string = split_and_join(string, delimiter)\n",
    "print(\"Split and joined string:\", split_and_joined_string)\n"
   ]
  },
  {
   "cell_type": "markdown",
   "id": "764b56e7-9a5d-4d8d-8ade-cdbcce781213",
   "metadata": {},
   "source": [
    "### Question 4: Write a Python to check if a given string is binary string or not?"
   ]
  },
  {
   "cell_type": "code",
   "execution_count": 4,
   "id": "0df5f413-8a5e-4355-8b3e-76630effd5ca",
   "metadata": {},
   "outputs": [
    {
     "name": "stdout",
     "output_type": "stream",
     "text": [
      "The string is a binary string.\n"
     ]
    }
   ],
   "source": [
    "def is_binary_string(string):\n",
    "    # Set of valid binary digits\n",
    "    valid_digits = {'0', '1'}\n",
    "\n",
    "    # Check if every character in the string is a valid binary digit\n",
    "    for char in string:\n",
    "        if char not in valid_digits:\n",
    "            return False\n",
    "\n",
    "    return True\n",
    "\n",
    "############ TEST ##################\n",
    "############ TEST ##################\n",
    "\n",
    "\n",
    "string = \"10101010\"\n",
    "is_binary = is_binary_string(string)\n",
    "if is_binary:\n",
    "    print(\"The string is a binary string.\")\n",
    "else:\n",
    "    print(\"The string is not a binary string.\")\n"
   ]
  },
  {
   "cell_type": "markdown",
   "id": "546579dc-29a2-4664-ae66-28957ad1d767",
   "metadata": {},
   "source": [
    "### Question 5: Write a Python program to find uncommon words from two Strings"
   ]
  },
  {
   "cell_type": "code",
   "execution_count": 5,
   "id": "82189d31-4eaa-402a-8493-03e8a9849b6e",
   "metadata": {},
   "outputs": [
    {
     "name": "stdout",
     "output_type": "stream",
     "text": [
      "Uncommon words: {'eat', 'juice', 'apples', 'drink'}\n"
     ]
    }
   ],
   "source": [
    "def find_uncommon_words(str1, str2):\n",
    "    # Split the strings into lists of words\n",
    "    words1 = str1.split()\n",
    "    words2 = str2.split()\n",
    "\n",
    "    # Create sets of unique words\n",
    "    unique_words1 = set(words1)\n",
    "    unique_words2 = set(words2)\n",
    "\n",
    "    # Find the uncommon words by taking the symmetric difference of the sets\n",
    "    uncommon_words = unique_words1 ^ unique_words2\n",
    "\n",
    "    return uncommon_words\n",
    "\n",
    "########### TEST ############\n",
    "########### TEST ############\n",
    "\n",
    "\n",
    "string1 = \"I like to eat apples\"\n",
    "string2 = \"I like to drink juice\"\n",
    "uncommon = find_uncommon_words(string1, string2)\n",
    "print(\"Uncommon words:\", uncommon)\n"
   ]
  },
  {
   "cell_type": "markdown",
   "id": "552f6be9-8a2a-44fd-a049-802219c28b63",
   "metadata": {},
   "source": [
    "### Question 6: Write a Python to find all duplicate characters in string?"
   ]
  },
  {
   "cell_type": "code",
   "execution_count": 6,
   "id": "c07b51a7-f783-449e-b2e4-b6d996c0490f",
   "metadata": {},
   "outputs": [
    {
     "name": "stdout",
     "output_type": "stream",
     "text": [
      "Duplicate characters: {'b', 'd', 't', 's', ' ', 'o', 'u', 'a', 'c', 'r', 'n', 'y', 'e', 'i'}\n"
     ]
    }
   ],
   "source": [
    "def find_duplicate_characters(string):\n",
    "    # Create an empty set to store duplicate characters\n",
    "    duplicates = set()\n",
    "\n",
    "    # Create an empty set to store seen characters\n",
    "    seen = set()\n",
    "\n",
    "    # Iterate over each character in the string\n",
    "    for char in string:\n",
    "        # Check if the character has been seen before\n",
    "        if char in seen:\n",
    "            duplicates.add(char)\n",
    "        else:\n",
    "            seen.add(char)\n",
    "\n",
    "    return duplicates\n",
    "\n",
    "######## TEST ##############\n",
    "######## TEST ##############\n",
    "\n",
    "string = \"Junaid is bitech engineer by education and data scientist by profession.\"\n",
    "duplicate_chars = find_duplicate_characters(string)\n",
    "print(\"Duplicate characters:\", duplicate_chars)\n"
   ]
  },
  {
   "cell_type": "markdown",
   "id": "54f6a242-66f7-4d1b-9f76-c03d2e576843",
   "metadata": {},
   "source": [
    "### Question 7: Write a Python Program to check if a string contains any special character?"
   ]
  },
  {
   "cell_type": "code",
   "execution_count": 7,
   "id": "7345b53d-6e18-409b-bc7c-0440b2cce1a0",
   "metadata": {},
   "outputs": [
    {
     "name": "stdout",
     "output_type": "stream",
     "text": [
      "The string contains special characters.\n"
     ]
    }
   ],
   "source": [
    "import string as st\n",
    "\n",
    "def has_special_character(string):\n",
    "    # Set of special characters\n",
    "    special_chars = set(st.punctuation)\n",
    "\n",
    "    # Check if any special character is present in the string\n",
    "    for char in string:\n",
    "        if char in special_chars:\n",
    "            return True\n",
    "\n",
    "    return False\n",
    "\n",
    "######### TEST ############\n",
    "######### TEST ############\n",
    "\n",
    "string = \"Hello, World!\"\n",
    "contains_special_char = has_special_character(string)\n",
    "if contains_special_char:\n",
    "    print(\"The string contains special characters.\")\n",
    "else:\n",
    "    print(\"The string does not contain special characters.\")\n"
   ]
  }
 ],
 "metadata": {
  "kernelspec": {
   "display_name": "Python 3 (ipykernel)",
   "language": "python",
   "name": "python3"
  },
  "language_info": {
   "codemirror_mode": {
    "name": "ipython",
    "version": 3
   },
   "file_extension": ".py",
   "mimetype": "text/x-python",
   "name": "python",
   "nbconvert_exporter": "python",
   "pygments_lexer": "ipython3",
   "version": "3.10.8"
  }
 },
 "nbformat": 4,
 "nbformat_minor": 5
}
