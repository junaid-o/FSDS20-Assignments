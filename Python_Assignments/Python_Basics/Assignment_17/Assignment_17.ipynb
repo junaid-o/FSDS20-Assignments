{
 "cells": [
  {
   "cell_type": "markdown",
   "id": "90af1c7a-909d-4a9d-a89f-74220a9cf862",
   "metadata": {},
   "source": [
    "# <center>PythonBasics: Assignment_17</center>"
   ]
  },
  {
   "cell_type": "markdown",
   "id": "8a3840dc-ce6c-4d79-bc03-4a9a588ff897",
   "metadata": {},
   "source": [
    "### Question 01:\n",
    "Assign the value 7 to the variable guess_me. Then, write the conditional tests (if, else, and elif) to\n",
    "print the string &#39;too low&#39; if guess_me is less than 7, &#39;too high&#39; if greater than 7, and &#39;just right&#39; if equal to 7.\n",
    "\n",
    "**<span style='color:blue'>Answer<span>**"
   ]
  },
  {
   "cell_type": "code",
   "execution_count": 1,
   "id": "c05907d1-545a-455b-a434-43958c1b65df",
   "metadata": {},
   "outputs": [
    {
     "name": "stdout",
     "output_type": "stream",
     "text": [
      "just right\n"
     ]
    }
   ],
   "source": [
    "guess_me = 7\n",
    "\n",
    "if guess_me < 7:\n",
    "    print('too low')\n",
    "elif guess_me > 7:\n",
    "    print('too high')\n",
    "else:\n",
    "    print('just right')\n"
   ]
  },
  {
   "cell_type": "markdown",
   "id": "b302a9e5-d7c2-4754-b6df-3b48d60bf92f",
   "metadata": {},
   "source": [
    "### Question 02:\n",
    "Assign the value 7 to the variable guess_me and the value 1 to the variable start. Write a while\n",
    "loop that compares start with guess_me. Print too low if start is less than guess me. If start equals\n",
    "guess_me, print &#39;found it!&#39; and exit the loop. If start is greater than guess_me, print &#39;oops&#39; and exit\n",
    "the loop. Increment start at the end of the loop.\n",
    "\n",
    "**<span style='color:blue'>Answer<span>**"
   ]
  },
  {
   "cell_type": "code",
   "execution_count": 2,
   "id": "b2cced03-8ef0-4499-910c-e5aaa88a6431",
   "metadata": {},
   "outputs": [
    {
     "name": "stdout",
     "output_type": "stream",
     "text": [
      "too low\n",
      "too low\n",
      "too low\n",
      "too low\n",
      "too low\n",
      "too low\n",
      "found it!\n"
     ]
    }
   ],
   "source": [
    "guess_me = 7\n",
    "start = 1\n",
    "\n",
    "while start <= guess_me:\n",
    "    if start < guess_me:\n",
    "        print('too low')\n",
    "    elif start == guess_me:\n",
    "        print('found it!')\n",
    "        break\n",
    "    else:\n",
    "        print('oops')\n",
    "        break\n",
    "    start += 1\n"
   ]
  },
  {
   "cell_type": "markdown",
   "id": "cdf4e822-cc1e-4ca3-819c-022ecf6f41a6",
   "metadata": {},
   "source": [
    "### Question 03:\n",
    "Print the following values of the list [3, 2, 1, 0] using a for loop.\n",
    "\n",
    "**<span style='color:blue'>Answer<span>**"
   ]
  },
  {
   "cell_type": "code",
   "execution_count": 3,
   "id": "12e893e4-ec41-47e7-98d1-9e1497a2bd1d",
   "metadata": {},
   "outputs": [
    {
     "name": "stdout",
     "output_type": "stream",
     "text": [
      "3\n",
      "2\n",
      "1\n",
      "0\n"
     ]
    }
   ],
   "source": [
    "my_list = [3, 2, 1, 0]\n",
    "\n",
    "for value in my_list:\n",
    "    print(value)\n"
   ]
  },
  {
   "cell_type": "markdown",
   "id": "01e50064-d4db-41d1-97d4-6acee54342ff",
   "metadata": {},
   "source": [
    "### Question 04:\n",
    "Use a list comprehension to make a list of the even numbers in range(10)\n",
    "\n",
    "**<span style='color:blue'>Answer<span>**"
   ]
  },
  {
   "cell_type": "code",
   "execution_count": 4,
   "id": "59ab92fc-de81-40cc-ab12-cb34d9b20b46",
   "metadata": {},
   "outputs": [
    {
     "name": "stdout",
     "output_type": "stream",
     "text": [
      "3\n",
      "2\n",
      "1\n",
      "0\n"
     ]
    }
   ],
   "source": [
    "my_list = [3, 2, 1, 0]\n",
    "\n",
    "for value in my_list:\n",
    "    print(value)\n"
   ]
  },
  {
   "cell_type": "markdown",
   "id": "9a77ca3e-4c53-456a-93dc-9c28655b41ee",
   "metadata": {},
   "source": [
    "### Question 05:\n",
    "Use a dictionary comprehension to create the dictionary squares. Use range(10) to return the\n",
    "keys, and use the square of each key as its value.\n",
    "\n",
    "**<span style='color:blue'>Answer<span>**"
   ]
  },
  {
   "cell_type": "code",
   "execution_count": 5,
   "id": "d4296a1d-cde3-4279-8163-a417e93cb09c",
   "metadata": {},
   "outputs": [
    {
     "name": "stdout",
     "output_type": "stream",
     "text": [
      "{0: 0, 1: 1, 2: 4, 3: 9, 4: 16, 5: 25, 6: 36, 7: 49, 8: 64, 9: 81}\n"
     ]
    }
   ],
   "source": [
    "squares = {num: num ** 2 for num in range(10)}\n",
    "print(squares)\n"
   ]
  },
  {
   "cell_type": "markdown",
   "id": "d158f22e-1d24-44c8-8e58-a9b520be9fb7",
   "metadata": {},
   "source": [
    "### Question 06:\n",
    "Construct the set odd from the odd numbers in the range using a set comprehension (10).\n",
    "\n",
    "**<span style='color:blue'>Answer<span>**"
   ]
  },
  {
   "cell_type": "code",
   "execution_count": 6,
   "id": "bacf9cdc-b236-44e8-b309-80c741d4a6cb",
   "metadata": {},
   "outputs": [
    {
     "name": "stdout",
     "output_type": "stream",
     "text": [
      "{1, 3, 5, 7, 9}\n"
     ]
    }
   ],
   "source": [
    "odd = {num for num in range(1, 10, 2)}\n",
    "print(odd)"
   ]
  },
  {
   "cell_type": "markdown",
   "id": "a755698a-f1b3-4355-9f28-7bee7dcc0ae6",
   "metadata": {},
   "source": [
    "### Question 07:\n",
    "Use a generator comprehension to return the string &#39;Got &#39; and a number for the numbers in\n",
    "range(10). Iterate through this by using a for loop.\n",
    "\n",
    "**<span style='color:blue'>Answer<span>**"
   ]
  },
  {
   "cell_type": "code",
   "execution_count": 7,
   "id": "061f286b-3bb0-47e0-a004-e94437dbf459",
   "metadata": {},
   "outputs": [
    {
     "name": "stdout",
     "output_type": "stream",
     "text": [
      "Got 0\n",
      "Got 1\n",
      "Got 2\n",
      "Got 3\n",
      "Got 4\n",
      "Got 5\n",
      "Got 6\n",
      "Got 7\n",
      "Got 8\n",
      "Got 9\n"
     ]
    }
   ],
   "source": [
    "generator = ('Got ' + str(num) for num in range(10))\n",
    "\n",
    "for item in generator:\n",
    "    print(item)\n"
   ]
  },
  {
   "cell_type": "markdown",
   "id": "b76921f6-a4d2-471a-ba94-3d60e17d9d75",
   "metadata": {},
   "source": [
    "### Question 08:\n",
    "Define a function called good that returns the list [&#39;Harry&#39;, &#39;Ron&#39;, &#39;Hermione&#39;].\n",
    "\n",
    "**<span style='color:blue'>Answer<span>**"
   ]
  },
  {
   "cell_type": "code",
   "execution_count": 8,
   "id": "07ab8fa8-fc61-41a3-b7ee-6b472e413381",
   "metadata": {},
   "outputs": [
    {
     "name": "stdout",
     "output_type": "stream",
     "text": [
      "['Harry', 'Ron', 'Hermione']\n"
     ]
    }
   ],
   "source": [
    "def good():\n",
    "    return ['Harry', 'Ron', 'Hermione']\n",
    "\n",
    "##############################\n",
    "\n",
    "my_list = good()\n",
    "print(my_list)\n"
   ]
  },
  {
   "cell_type": "markdown",
   "id": "2f0a43b7-dc09-4cde-be72-21edfc040389",
   "metadata": {},
   "source": [
    "### Question 09:\n",
    "Define a generator function called get_odds that returns the odd numbers from range(10). Use a\n",
    "for loop to find and print the third value returned.\n",
    "\n",
    "**<span style='color:blue'>Answer<span>**"
   ]
  },
  {
   "cell_type": "code",
   "execution_count": 9,
   "id": "a7fa0123-e9ae-40c5-acdf-5b5962689a1c",
   "metadata": {},
   "outputs": [
    {
     "name": "stdout",
     "output_type": "stream",
     "text": [
      "Third odd number: 5\n"
     ]
    }
   ],
   "source": [
    "def get_odds():\n",
    "    for number in range(1, 10, 2):\n",
    "        yield number\n",
    "\n",
    "count = 0\n",
    "for odd in get_odds():\n",
    "    count += 1\n",
    "    if count == 3:\n",
    "        print(\"Third odd number:\", odd)\n",
    "        break\n"
   ]
  },
  {
   "cell_type": "markdown",
   "id": "6d856a29-efc5-4e3c-872c-b5dd601d7fa9",
   "metadata": {},
   "source": [
    "### Question 10:\n",
    "Define an exception called OopsException. Raise this exception to see what happens. Then write\n",
    "the code to catch this exception and print &#39;Caught an oops&#39;.\n",
    "\n",
    "**<span style='color:blue'>Answer<span>**"
   ]
  },
  {
   "cell_type": "code",
   "execution_count": 10,
   "id": "e5f0838f-ecde-420a-94e6-360197840a11",
   "metadata": {},
   "outputs": [
    {
     "name": "stdout",
     "output_type": "stream",
     "text": [
      "Caught an oops: Something went wrong!\n"
     ]
    }
   ],
   "source": [
    "class OopsException(Exception):\n",
    "    pass\n",
    "\n",
    "try:\n",
    "    raise OopsException(\"Something went wrong!\")\n",
    "except OopsException as error:\n",
    "    print(\"Caught an oops:\", str(error))\n"
   ]
  },
  {
   "cell_type": "markdown",
   "id": "6116675e-13a3-48fb-bd23-88918e96e49e",
   "metadata": {},
   "source": [
    "### Question 11:\n",
    "Use zip() to make a dictionary called movies that pairs these lists: titles = [&#39;Creature of Habit&#39;,\n",
    "&#39;Crewel Fate&#39;] and plots = [&#39;A nun turns into a monster&#39;, &#39;A haunted yarn shop&#39;].\n",
    "\n",
    "**<span style='color:blue'>Answer<span>**"
   ]
  },
  {
   "cell_type": "code",
   "execution_count": 11,
   "id": "d3f0505e-7736-415f-a6e4-fa0df7ffcd35",
   "metadata": {},
   "outputs": [
    {
     "name": "stdout",
     "output_type": "stream",
     "text": [
      "{'Creature of Habit': 'A nun turns into a monster', 'Crewel Fate': 'A haunted yarn shop'}\n"
     ]
    }
   ],
   "source": [
    "titles = ['Creature of Habit', 'Crewel Fate']\n",
    "plots = ['A nun turns into a monster', 'A haunted yarn shop']\n",
    "\n",
    "movies = {title: plot for title, plot in zip(titles, plots)}\n",
    "print(movies)\n"
   ]
  }
 ],
 "metadata": {
  "kernelspec": {
   "display_name": "Python 3 (ipykernel)",
   "language": "python",
   "name": "python3"
  },
  "language_info": {
   "codemirror_mode": {
    "name": "ipython",
    "version": 3
   },
   "file_extension": ".py",
   "mimetype": "text/x-python",
   "name": "python",
   "nbconvert_exporter": "python",
   "pygments_lexer": "ipython3",
   "version": "3.10.8"
  }
 },
 "nbformat": 4,
 "nbformat_minor": 5
}
