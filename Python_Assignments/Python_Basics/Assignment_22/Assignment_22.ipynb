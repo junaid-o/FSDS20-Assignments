{
 "cells": [
  {
   "cell_type": "markdown",
   "id": "06801012-a60e-4e85-afbd-7c4a5dfe7301",
   "metadata": {},
   "source": [
    "# <center>PythonBasics: Assgnment_22</center>"
   ]
  },
  {
   "cell_type": "markdown",
   "id": "3e42ee22-485f-4315-8d71-62de73fab578",
   "metadata": {},
   "source": [
    "### Question 01"
   ]
  },
  {
   "cell_type": "markdown",
   "id": "755ca049-d11d-4388-a83e-310a45063678",
   "metadata": {},
   "source": [
    "**<span style='color:blue'>Answer</span>**\n",
    "\n",
    "The result of the code will be:\n",
    "\n",
    "```\n",
    "iNeuron\n",
    "```\n",
    "\n",
    "Explanation:\n",
    "- First, the variable `X` is assigned the string value `'iNeuron'`.\n",
    "- Then, a function named `func` is defined.\n",
    "- Inside the function, when `print(X)` is called, it accesses the value of the variable `X` defined outside the function scope.\n",
    "- Finally, the function `func()` is called, which prints the value of `X`, resulting in the output `'iNeuron'`."
   ]
  },
  {
   "cell_type": "markdown",
   "id": "29092f1f-0d19-45b8-8d84-f0f77453cbf2",
   "metadata": {},
   "source": [
    "### Question 02:"
   ]
  },
  {
   "cell_type": "markdown",
   "id": "4ae82b3e-b62d-4188-923a-03c99fba3c42",
   "metadata": {},
   "source": [
    "**<span style='color:blue'>Answer</span>**\n",
    "\n",
    "The result of the code will be:\r\n",
    "\r\n",
    "```\r\n",
    "iNeuron\r\n",
    "```\r\n",
    "\r\n",
    "In this code, a variable `X` is defined with the value `'iNeuron'`. Then, a function named `func` is defined. Inside the `func` function, the value of `X` is printed using the `print()` function. Finally, the `func()` function is called, which executes the code inside the function and prints the value of `X`, resulting in the output `'iNeurunction."
   ]
  },
  {
   "cell_type": "markdown",
   "id": "1fb6de8e-d1fa-48b5-a70d-4e2efe054901",
   "metadata": {},
   "source": [
    "### Question 03"
   ]
  },
  {
   "cell_type": "markdown",
   "id": "59992f2f-a2cb-41a7-a8b0-e6b07b83b7e1",
   "metadata": {},
   "source": [
    "**<span style='color:blue'>Answer</span>**\n",
    "\n",
    "The code will print:\r\n",
    "\r\n",
    "```\r\n",
    "NI\r\n",
    "iNeuron\r\n",
    "```\r\n",
    "\r\n",
    "Explanation:\r\n",
    "\r\n",
    "In this code, a variable `X` is defined with the initial value `'iNeuron'`. Then, a function named `func` is defined. Inside the `func` function, a new local variable `X` is defined with the value `'NI'`, which shadows the global variable `X`. So, when `print(X)` is executed inside the function, it refers to the local variable `X`, resulting in the output `'NI'`.\r\n",
    "\r\n",
    "After that, the `func()` function is called, which executes the code inside the function and prints the value `'NI'`. \r\n",
    "\r\n",
    "Finally, outside the function, when `print(X)` is executed, it refers to the global variable `X` with the value `'iNeuron'`, resulting in the output `'iNeuron'`."
   ]
  },
  {
   "cell_type": "markdown",
   "id": "60459157-8c23-454d-b429-871fb5365d0e",
   "metadata": {},
   "source": [
    "### Question 04"
   ]
  },
  {
   "cell_type": "markdown",
   "id": "f7ccf629-fd1b-452e-97d9-36f7bb61fc7a",
   "metadata": {},
   "source": [
    "**<span style='color:blue'>Answer</span>**\n",
    "\n",
    "The code will output:\n",
    "\n",
    "```\n",
    "NI\n",
    "```\n",
    "\n",
    "Explanation:\n",
    "\n",
    "In this code, a variable `X` is defined with the initial value `'iNeuron'`. Then, a function named `func` is defined. Inside the `func` function, the `global` keyword is used to indicate that the variable `X` refers to the global variable instead of creating a new local variable. \n",
    "\n",
    "So, when `X = 'NI'` is executed inside the function, it modifies the global variable `X` and changes its value to `'NI'`.\n",
    "\n",
    "After that, the `func()` function is called, which modifies the value of the global variable `X` to `'NI'`.\n",
    "\n",
    "Finally, when `print(X)` is executed, it refers to the modified global variable `X` with the value `'NI'`, resulting in the output `'NI'`."
   ]
  },
  {
   "cell_type": "markdown",
   "id": "f5777cbb-7f16-4f65-bfc4-95db5f7609a9",
   "metadata": {},
   "source": [
    "### Question 05"
   ]
  },
  {
   "cell_type": "markdown",
   "id": "efe749d2-079d-4672-b521-db334b81bd35",
   "metadata": {},
   "source": [
    "**<span style='color:blue'>Answer</span>**\n",
    "\n",
    "The code will output:\n",
    "\n",
    "```\n",
    "NI\n",
    "'iNeuron'\n",
    "```\n",
    "\n",
    "Explanation:\n",
    "\n",
    "In this code, a variable `X` is defined with the initial value `'iNeuron'`. Then, a function named `func` is defined. Inside the `func` function, a local variable `X` is defined with the value `'NI'`. \n",
    "\n",
    "Inside the `func` function, another nested function named `nested` is defined. When `nested()` is called inside `func`, it prints the value of the local variable `X` defined in the enclosing `func` function, which is `'NI'`.\n",
    "\n",
    "After that, `func()` is called, which executes the `nested()` function and prints `'NI'`.\n",
    "\n",
    "Finally, when `X` is printed outside of any functions, it refers to the global variable `X` with the value `'iNeuron'`, resulting in the output `'iNeuron'`."
   ]
  },
  {
   "cell_type": "markdown",
   "id": "fccc152a-a42f-4b90-a495-e3704e953f52",
   "metadata": {},
   "source": [
    "### Question 06"
   ]
  },
  {
   "cell_type": "markdown",
   "id": "686e43fc-680b-46d8-be5e-5affa936ca11",
   "metadata": {},
   "source": [
    "**<span style='color:blue'>Answer</span>**\n",
    "\n",
    "The code will output:\n",
    "\n",
    "```\n",
    "Spam\n",
    "```\n",
    "\n",
    "Explanation:\n",
    "\n",
    "In this code, a function named `func` is defined. Inside the `func` function, a local variable `X` is defined with the value `'NI'`. \n",
    "\n",
    "Inside the `func` function, another nested function named `nested` is defined. The `nested` function uses the `nonlocal` keyword to indicate that it wants to modify the variable `X` defined in the nearest enclosing scope above itself, which is the `func` function.\n",
    "\n",
    "When `nested()` is called inside `func`, it assigns the value `'Spam'` to the `X` variable using the `nonlocal` declaration. This modifies the value of `X` in the `func` function's scope.\n",
    "\n",
    "Finally, `print(X)` is called inside `func` after calling `nested()`, which prints the updated value of `X`, which is `'Spam'`."
   ]
  },
  {
   "cell_type": "code",
   "execution_count": null,
   "id": "225f6b8d-fcaa-4a13-a9c6-b3c1bdd69186",
   "metadata": {},
   "outputs": [],
   "source": []
  }
 ],
 "metadata": {
  "kernelspec": {
   "display_name": "Python 3 (ipykernel)",
   "language": "python",
   "name": "python3"
  },
  "language_info": {
   "codemirror_mode": {
    "name": "ipython",
    "version": 3
   },
   "file_extension": ".py",
   "mimetype": "text/x-python",
   "name": "python",
   "nbconvert_exporter": "python",
   "pygments_lexer": "ipython3",
   "version": "3.10.8"
  }
 },
 "nbformat": 4,
 "nbformat_minor": 5
}
