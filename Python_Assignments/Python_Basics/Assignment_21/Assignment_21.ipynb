{
 "cells": [
  {
   "cell_type": "markdown",
   "id": "149a6225-c454-4096-9408-65ba6fe2446b",
   "metadata": {},
   "source": [
    "# <center>PythonBasics: Assignment_21</center>"
   ]
  },
  {
   "cell_type": "markdown",
   "id": "bcdb5f56-4a1d-483f-8c33-716d3b425a72",
   "metadata": {},
   "source": [
    "### Question 01:\n",
    "Add the current date to the text file today.txt as a string.\n",
    "\n",
    "<span style='color:blue'>Answer</span>"
   ]
  },
  {
   "cell_type": "code",
   "execution_count": 1,
   "id": "384fd019-f2f9-409d-990d-aa2caa6a0469",
   "metadata": {},
   "outputs": [],
   "source": [
    "from datetime import date\n",
    "\n",
    "# Get the current date\n",
    "current_date = date.today()\n",
    "\n",
    "# Convert the date to a string\n",
    "date_string = current_date.strftime(\"%Y-%m-%d\")\n",
    "\n",
    "# Write the date string to the file\n",
    "with open(\"today.txt\", \"w\") as file:\n",
    "    file.write(date_string)\n"
   ]
  },
  {
   "cell_type": "markdown",
   "id": "55b27cc7-2f49-4386-abb8-16bab687636a",
   "metadata": {},
   "source": [
    "### Question 02:\n",
    "Read the text file today.txt into the string today_string\n",
    "\n",
    "<span style='color:blue'>Answer</span>"
   ]
  },
  {
   "cell_type": "code",
   "execution_count": 2,
   "id": "0ef66f14-8614-42b7-8eeb-79c2d6449aaa",
   "metadata": {},
   "outputs": [
    {
     "name": "stdout",
     "output_type": "stream",
     "text": [
      "2023-06-14\n"
     ]
    }
   ],
   "source": [
    "with open(\"today.txt\", \"r\") as file:\n",
    "    today_string = file.read()\n",
    "\n",
    "print(today_string)\n"
   ]
  },
  {
   "cell_type": "markdown",
   "id": "27ac833b-6ce3-4916-9f8e-1161c80c77e0",
   "metadata": {},
   "source": [
    "### Question 03:\n",
    "Parse the date from today_string.\n",
    "\n",
    "<span style='color:blue'>Answer</span>"
   ]
  },
  {
   "cell_type": "code",
   "execution_count": 3,
   "id": "889b5a2d-2069-4411-85ca-88a5b2666fc3",
   "metadata": {},
   "outputs": [
    {
     "name": "stdout",
     "output_type": "stream",
     "text": [
      "2023-06-14\n"
     ]
    }
   ],
   "source": [
    "from datetime import datetime\n",
    "\n",
    "\n",
    "date_format = \"%Y-%m-%d\"  \n",
    "\n",
    "parsed_date = datetime.strptime(today_string.strip(), date_format).date()\n",
    "print(parsed_date)\n"
   ]
  },
  {
   "cell_type": "markdown",
   "id": "ecf4bf87-f396-4484-8837-653b8d5041e5",
   "metadata": {},
   "source": [
    "### Question 04:\n",
    "List the files in your current directory\n",
    "\n",
    "<span style='color:blue'>Answer</span>"
   ]
  },
  {
   "cell_type": "code",
   "execution_count": 4,
   "id": "de593166-389c-45c7-9587-9928e9c8873b",
   "metadata": {},
   "outputs": [
    {
     "name": "stdout",
     "output_type": "stream",
     "text": [
      ".ipynb_checkpoints\n",
      "Assignment_21.docx\n",
      "today.txt\n",
      "Untitled.ipynb\n"
     ]
    }
   ],
   "source": [
    "import os\n",
    "\n",
    "\n",
    "files = os.listdir()\n",
    "\n",
    "for file in files:\n",
    "    print(file)\n"
   ]
  },
  {
   "cell_type": "markdown",
   "id": "04ca3d82-62c9-46a5-9b6c-6f72c9f776d3",
   "metadata": {},
   "source": [
    "### Question 05:\n",
    "Create a list of all of the files in your parent directory (minimum five files should be available).\n",
    "\n",
    "<span style='color:blue'>Answer</span>"
   ]
  },
  {
   "cell_type": "code",
   "execution_count": 5,
   "id": "1bf16f62-a1cd-4465-a0b0-4ffe800cd9ba",
   "metadata": {},
   "outputs": [
    {
     "name": "stdout",
     "output_type": "stream",
     "text": [
      "Assignment_01\n",
      "Assignment_02\n",
      "Assignment_03\n",
      "Assignment_04\n",
      "Assignment_05\n",
      "Assignment_06\n",
      "Assignment_07\n",
      "Assignment_08\n",
      "Assignment_09\n",
      "Assignment_10\n"
     ]
    }
   ],
   "source": [
    "import os\n",
    "\n",
    "# Get the parent directory path\n",
    "parent_dir = os.path.dirname(os.getcwd())\n",
    "\n",
    "# Get the list of files in the parent directory\n",
    "files = os.listdir(parent_dir)\n",
    "\n",
    "\n",
    "for file in files[:10]:\n",
    "    print(file)\n"
   ]
  },
  {
   "cell_type": "markdown",
   "id": "31cb6f0c-fee2-4a72-b53c-5d06d4555479",
   "metadata": {},
   "source": [
    "### Question 06:\n",
    "Use multiprocessing to create three separate processes. Make each one wait a random number of\n",
    "seconds between one and five, print the current time, and then exit.\n",
    "\n",
    "<span style='color:blue'>Answer</span>"
   ]
  },
  {
   "cell_type": "code",
   "execution_count": 6,
   "id": "93568a75-5de1-4d47-a7d3-f1a8b4272ebb",
   "metadata": {},
   "outputs": [],
   "source": [
    "import multiprocessing\n",
    "import random\n",
    "import time\n",
    "from datetime import datetime\n",
    "\n",
    "# Function to be executed by each process\n",
    "def process_function():\n",
    "    # Generate a random number of seconds to wait\n",
    "    wait_time = random.randint(1, 5)\n",
    "    \n",
    "    # Wait for the specified time\n",
    "    time.sleep(wait_time)\n",
    "    \n",
    "    # Print the current time\n",
    "    current_time = datetime.now().strftime(\"%H:%M:%S\")\n",
    "    print(f\"Process ID: {multiprocessing.current_process().name}, Current Time: {current_time}\")\n",
    "    \n",
    "\n",
    "if __name__ == '__main__':\n",
    "    # Create three separate processes\n",
    "    processes = []\n",
    "    for i in range(3):\n",
    "        p = multiprocessing.Process(target=process_function)\n",
    "        processes.append(p)\n",
    "        p.start()\n",
    "    \n",
    "    # Wait for all processes to finish\n",
    "    for p in processes:\n",
    "        p.join()\n"
   ]
  },
  {
   "cell_type": "code",
   "execution_count": 7,
   "id": "ade7bb2c-afc0-4792-acff-44405a1260a9",
   "metadata": {},
   "outputs": [
    {
     "data": {
      "text/plain": [
       "[<Process name='Process-1' pid=6248 parent=14236 stopped exitcode=1>,\n",
       " <Process name='Process-2' pid=8564 parent=14236 stopped exitcode=1>,\n",
       " <Process name='Process-3' pid=14312 parent=14236 stopped exitcode=1>]"
      ]
     },
     "execution_count": 7,
     "metadata": {},
     "output_type": "execute_result"
    }
   ],
   "source": [
    "processes"
   ]
  },
  {
   "cell_type": "markdown",
   "id": "32b04bf4-0025-477f-a28f-31949c822b56",
   "metadata": {},
   "source": [
    "### Question 07:\n",
    "Create a date object of your day of birth.\n",
    "\n",
    "<span style='color:blue'>Answer</span>"
   ]
  },
  {
   "cell_type": "code",
   "execution_count": 8,
   "id": "700f7919-7334-487f-8af5-632af0820263",
   "metadata": {},
   "outputs": [
    {
     "name": "stdout",
     "output_type": "stream",
     "text": [
      "1996-06-28\n"
     ]
    }
   ],
   "source": [
    "from datetime import date\n",
    "\n",
    "birthdate = date(1996, 6, 28)\n",
    "print(birthdate)\n"
   ]
  },
  {
   "cell_type": "markdown",
   "id": "5c1d07d1-5e95-471c-8a7f-5946ee1411dc",
   "metadata": {},
   "source": [
    "### Question 08:\n",
    "What day of the week was your day of birth?\n",
    "\n",
    "<span style='color:blue'>Answer</span>"
   ]
  },
  {
   "cell_type": "code",
   "execution_count": 9,
   "id": "c6f73d9d-506e-4e68-bda9-2558ca920876",
   "metadata": {},
   "outputs": [
    {
     "data": {
      "text/plain": [
       "4"
      ]
     },
     "execution_count": 9,
     "metadata": {},
     "output_type": "execute_result"
    }
   ],
   "source": [
    "birthdate.weekday()"
   ]
  },
  {
   "cell_type": "markdown",
   "id": "4932edd7-74a9-469e-9184-2d9953667771",
   "metadata": {},
   "source": [
    "### Question 09:\n",
    "When will you be (or when were you) 10,000 days old?\n",
    "\n",
    "<span style='color:blue'>Answer</span>"
   ]
  },
  {
   "cell_type": "code",
   "execution_count": 10,
   "id": "7257c693-7aad-4612-b1de-34e9eda058c9",
   "metadata": {},
   "outputs": [
    {
     "name": "stdout",
     "output_type": "stream",
     "text": [
      "The date when you will be/were 10,000 days old: 2023-11-14\n"
     ]
    }
   ],
   "source": [
    "from datetime import datetime, timedelta\n",
    "\n",
    "# Calculate the date when you will be/were 10,000 days old\n",
    "\n",
    "ten_thousand_days = timedelta(days=10000)\n",
    "target_date = birthdate + ten_thousand_days\n",
    "\n",
    "print(\"The date when you will be/were 10,000 days old:\", target_date)"
   ]
  },
  {
   "cell_type": "code",
   "execution_count": null,
   "id": "98c49229-6858-4a08-9c10-7f0e41c56b5f",
   "metadata": {},
   "outputs": [],
   "source": []
  }
 ],
 "metadata": {
  "kernelspec": {
   "display_name": "Python 3 (ipykernel)",
   "language": "python",
   "name": "python3"
  },
  "language_info": {
   "codemirror_mode": {
    "name": "ipython",
    "version": 3
   },
   "file_extension": ".py",
   "mimetype": "text/x-python",
   "name": "python",
   "nbconvert_exporter": "python",
   "pygments_lexer": "ipython3",
   "version": "3.10.8"
  }
 },
 "nbformat": 4,
 "nbformat_minor": 5
}
