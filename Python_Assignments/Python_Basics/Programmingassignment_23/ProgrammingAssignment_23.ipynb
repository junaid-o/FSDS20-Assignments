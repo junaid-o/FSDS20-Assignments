{
 "cells": [
  {
   "cell_type": "markdown",
   "id": "26c0f0de-b049-48fe-b6f1-5a769c6b61cf",
   "metadata": {},
   "source": [
    "# <center>PythonBasics; ProgrammingAssignment_23</center>"
   ]
  },
  {
   "cell_type": "markdown",
   "id": "faf6f593-b342-43df-9a6a-100c17f5d40e",
   "metadata": {},
   "source": [
    "### Question :01:\n",
    "\n",
    "Create a function that takes a number as an argument and returns True or False depending\n",
    "on whether the number is symmetrical or not. A number is symmetrical when it is the same as\n",
    "its reverse.\n",
    "Examples\n",
    "is_symmetrical(7227) ➞ True"
   ]
  },
  {
   "cell_type": "code",
   "execution_count": 1,
   "id": "1a9f5e4a-6e62-4714-b22d-3875e6e00758",
   "metadata": {},
   "outputs": [
    {
     "name": "stdout",
     "output_type": "stream",
     "text": [
      "True\n"
     ]
    }
   ],
   "source": [
    "def is_symmetrical(number):\n",
    "    # Convert the number to a string\n",
    "    number_str = str(number)\n",
    "    \n",
    "    # Reverse the string and compare with the original string\n",
    "    return number_str == number_str[::-1]\n",
    "\n",
    "#################### TEST ####################################33\n",
    "print(is_symmetrical(7227))  # True\n"
   ]
  },
  {
   "cell_type": "markdown",
   "id": "f7a43ec5-d0e6-420f-bbac-248ea0fae0b4",
   "metadata": {},
   "source": [
    "### Question 02:\n",
    "\n",
    "Given a string of numbers separated by a comma and space, return the product of the\n",
    "numbers.\n",
    "Examples\n",
    "multiply_nums(&quot;2, 3&quot;) ➞ 6"
   ]
  },
  {
   "cell_type": "code",
   "execution_count": 2,
   "id": "0a985145-3fdf-4b99-bc92-1974e1a09cb8",
   "metadata": {},
   "outputs": [
    {
     "name": "stdout",
     "output_type": "stream",
     "text": [
      "6\n"
     ]
    }
   ],
   "source": [
    "def multiply_nums(numbers):\n",
    "    # Split the string into a list of numbers\n",
    "    number_list = numbers.split(\", \")\n",
    "    \n",
    "    # Convert the numbers from string to integers\n",
    "    number_list = [int(num) for num in number_list]\n",
    "    \n",
    "    # Initialize the product as 1\n",
    "    product = 1\n",
    "    \n",
    "    # Multiply all the numbers together\n",
    "    for num in number_list:\n",
    "        product *= num\n",
    "    \n",
    "    return product\n",
    "\n",
    "################ TEST ###################\n",
    "\n",
    "print(multiply_nums(\"2, 3\"))"
   ]
  },
  {
   "cell_type": "markdown",
   "id": "4d011f03-93c3-4f30-a633-ee9a6663c8b5",
   "metadata": {},
   "source": [
    "### Question 03:\n",
    "\n",
    "Create a function that squares every digit of a number.\n",
    "Examples\n",
    "square_digits(9119) ➞ 811181"
   ]
  },
  {
   "cell_type": "code",
   "execution_count": 3,
   "id": "f3ecba16-fefa-4e79-8fc9-0e3e0204aec7",
   "metadata": {},
   "outputs": [
    {
     "name": "stdout",
     "output_type": "stream",
     "text": [
      "811181\n"
     ]
    }
   ],
   "source": [
    "def square_digits(number):\n",
    "    \n",
    "    number_str = str(number)\n",
    "    \n",
    "    # Initialize an empty string for the result\n",
    "    result = \"\"\n",
    "    \n",
    "    # Iterate through each digit in the number\n",
    "    for digit in number_str:\n",
    "        # Square the digit and append it to the result string\n",
    "        result += str(int(digit) ** 2)\n",
    "    \n",
    "    # Convert the result back to an integer and return it\n",
    "    return int(result)\n",
    "\n",
    "############ TEST ###################\n",
    "print(square_digits(9119))"
   ]
  },
  {
   "cell_type": "markdown",
   "id": "7c6c7377-2df5-4e13-b3ec-cd00ba1ca09c",
   "metadata": {},
   "source": [
    "### Question 04:\n",
    "\n",
    "Create a function that sorts a list and removes all duplicate items from it.\n",
    "Examples\n",
    "setify([1, 3, 3, 5, 5]) ➞ [1, 3, 5]"
   ]
  },
  {
   "cell_type": "code",
   "execution_count": 5,
   "id": "06004e0f-b719-4b3f-816f-d49c5a4c7646",
   "metadata": {},
   "outputs": [
    {
     "name": "stdout",
     "output_type": "stream",
     "text": [
      "[1, 3, 5]\n"
     ]
    }
   ],
   "source": [
    "def setify(lst):\n",
    "    \n",
    "    sorted_list = sorted(lst)\n",
    "    result = []\n",
    "    \n",
    "    for item in sorted_list:\n",
    "        # Check if the item is already in the result list\n",
    "        if item not in result:\n",
    "            # If not, append it to the result list\n",
    "            result.append(item)\n",
    "    \n",
    "    return result\n",
    "\n",
    "\n",
    "####################### TEST #####################33\n",
    "\n",
    "print(setify([1, 3, 3, 5, 5]))"
   ]
  },
  {
   "cell_type": "markdown",
   "id": "07b07721-95db-4a1c-9692-84b62b766589",
   "metadata": {},
   "source": [
    "### Question 05:\n",
    "\n",
    "Create a function that returns the mean of all digits.\n",
    "Examples\n",
    "mean(42) ➞ 3"
   ]
  },
  {
   "cell_type": "code",
   "execution_count": 6,
   "id": "78b4e447-6f15-4b2f-9bf7-b1d6774044e2",
   "metadata": {},
   "outputs": [
    {
     "name": "stdout",
     "output_type": "stream",
     "text": [
      "3.0\n"
     ]
    }
   ],
   "source": [
    "def mean(num):\n",
    "    \n",
    "    num_str = str(num)\n",
    "    \n",
    "    digit_sum = sum(int(digit) for digit in num_str)\n",
    "    \n",
    "    digit_mean = digit_sum / len(num_str)\n",
    "    \n",
    "    return digit_mean\n",
    "\n",
    "##################3 TEST ################3\n",
    "print(mean(42))"
   ]
  },
  {
   "cell_type": "code",
   "execution_count": null,
   "id": "61b5d0a0-3080-492b-9321-9a8bbc7edc4c",
   "metadata": {},
   "outputs": [],
   "source": []
  }
 ],
 "metadata": {
  "kernelspec": {
   "display_name": "Python 3 (ipykernel)",
   "language": "python",
   "name": "python3"
  },
  "language_info": {
   "codemirror_mode": {
    "name": "ipython",
    "version": 3
   },
   "file_extension": ".py",
   "mimetype": "text/x-python",
   "name": "python",
   "nbconvert_exporter": "python",
   "pygments_lexer": "ipython3",
   "version": "3.10.8"
  }
 },
 "nbformat": 4,
 "nbformat_minor": 5
}
