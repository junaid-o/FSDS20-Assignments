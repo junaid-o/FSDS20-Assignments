{
 "cells": [
  {
   "cell_type": "markdown",
   "id": "26c0f0de-b049-48fe-b6f1-5a769c6b61cf",
   "metadata": {},
   "source": [
    "# <center>PythonBasics; ProgrammingAssignment_23</center>"
   ]
  },
  {
   "cell_type": "code",
   "execution_count": null,
   "id": "5a62c282-7b9b-4362-8f8f-dc204cbb31d5",
   "metadata": {},
   "outputs": [],
   "source": []
  }
 ],
 "metadata": {
  "kernelspec": {
   "display_name": "Python 3 (ipykernel)",
   "language": "python",
   "name": "python3"
  },
  "language_info": {
   "codemirror_mode": {
    "name": "ipython",
    "version": 3
   },
   "file_extension": ".py",
   "mimetype": "text/x-python",
   "name": "python",
   "nbconvert_exporter": "python",
   "pygments_lexer": "ipython3",
   "version": "3.10.8"
  }
 },
 "nbformat": 4,
 "nbformat_minor": 5
}
