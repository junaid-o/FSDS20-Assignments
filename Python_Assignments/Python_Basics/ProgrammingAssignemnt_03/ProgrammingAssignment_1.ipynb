{
 "cells": [
  {
   "cell_type": "markdown",
   "id": "df65eb49-8695-4d13-b093-6103ff04a4c4",
   "metadata": {},
   "source": [
    "# <center>Python Basics: Programming Assignment 1</center>\n",
    "\n",
    "1. Write a Python program to print &quot;Hello Python&quot;?\n",
    "2. Write a Python program to do arithmetical operations addition and division.?\n",
    "3. Write a Python program to find the area of a triangle?\n",
    "4. Write a Python program to swap two variables?\n",
    "5. Write a Python program to generate a random number?"
   ]
  },
  {
   "cell_type": "markdown",
   "id": "ffdae0eb-1a66-4365-b2b2-7bbb2f53f100",
   "metadata": {
    "jp-MarkdownHeadingCollapsed": true
   },
   "source": [
    "# Question 1"
   ]
  },
  {
   "cell_type": "code",
   "execution_count": 2,
   "id": "c17d47e3-7cfb-47b5-9c64-082b06a5685c",
   "metadata": {},
   "outputs": [
    {
     "data": {
      "text/plain": [
       "'Hello Python'"
      ]
     },
     "execution_count": 2,
     "metadata": {},
     "output_type": "execute_result"
    }
   ],
   "source": [
    "def question_1():\n",
    "    return \"Hello Python\"\n",
    "\n",
    "########## Test\n",
    "question_1()"
   ]
  },
  {
   "cell_type": "markdown",
   "id": "c93b7885-abb2-486b-82a8-0cfb8b157eed",
   "metadata": {
    "jp-MarkdownHeadingCollapsed": true
   },
   "source": [
    "# Question 2"
   ]
  },
  {
   "cell_type": "code",
   "execution_count": 4,
   "id": "93e76441-ab82-4409-a6a6-d6f40dd25a27",
   "metadata": {},
   "outputs": [],
   "source": [
    "class mathematical_operations:\n",
    "    def __init__(self, a,b):\n",
    "        self.a = a\n",
    "        self.b = b\n",
    "    def add(self):\n",
    "        return self.a + self.b\n",
    "    def division(self):\n",
    "        try:\n",
    "            d = self.a / self.b\n",
    "            return d\n",
    "        except Exception as e:\n",
    "            return e\n",
    "            "
   ]
  },
  {
   "cell_type": "code",
   "execution_count": 14,
   "id": "e4c60ad8-c8de-464a-9490-eabde8b0bc15",
   "metadata": {},
   "outputs": [
    {
     "data": {
      "text/plain": [
       "0.6666666666666666"
      ]
     },
     "execution_count": 14,
     "metadata": {},
     "output_type": "execute_result"
    }
   ],
   "source": [
    "### Test 1\n",
    "\n",
    "mathematical_operations(4,6).division()"
   ]
  },
  {
   "cell_type": "code",
   "execution_count": 15,
   "id": "dc465948-a164-4ac3-8570-7dd9a2e2fc14",
   "metadata": {},
   "outputs": [
    {
     "data": {
      "text/plain": [
       "ZeroDivisionError('division by zero')"
      ]
     },
     "execution_count": 15,
     "metadata": {},
     "output_type": "execute_result"
    }
   ],
   "source": [
    "### Test 2\n",
    "\n",
    "mathematical_operations(4,0).division()"
   ]
  },
  {
   "cell_type": "code",
   "execution_count": 16,
   "id": "a7a9a120-cb60-4b15-bf85-30cd8b77d252",
   "metadata": {},
   "outputs": [
    {
     "data": {
      "text/plain": [
       "10"
      ]
     },
     "execution_count": 16,
     "metadata": {},
     "output_type": "execute_result"
    }
   ],
   "source": [
    "### Test 3\n",
    "\n",
    "mathematical_operations(4,6).add()"
   ]
  },
  {
   "cell_type": "markdown",
   "id": "3891ad6f-fdf0-4600-ba29-464df807f6ae",
   "metadata": {
    "jp-MarkdownHeadingCollapsed": true
   },
   "source": [
    "# Question 3"
   ]
  },
  {
   "cell_type": "code",
   "execution_count": 19,
   "id": "2251dfa1-b42f-4a56-8f98-4933d423fe9d",
   "metadata": {},
   "outputs": [
    {
     "name": "stdin",
     "output_type": "stream",
     "text": [
      "Enter the length of the base:  23\n",
      "Enter the height:  50\n"
     ]
    },
    {
     "name": "stdout",
     "output_type": "stream",
     "text": [
      "The area of the triangle is: 575.0\n"
     ]
    }
   ],
   "source": [
    "def calculate_triangle_area(base, height):\n",
    "    area = 0.5 * base * height\n",
    "    return area\n",
    "\n",
    "# Example usage\n",
    "base_length = float(input(\"Enter the length of the base: \"))\n",
    "height_length = float(input(\"Enter the height: \"))\n",
    "\n",
    "triangle_area = calculate_triangle_area(base_length, height_length)\n",
    "print(\"The area of the triangle is:\", triangle_area)\n"
   ]
  },
  {
   "cell_type": "markdown",
   "id": "9f971505-91f6-49bd-b92f-328ff93ca642",
   "metadata": {},
   "source": [
    "# Question 4"
   ]
  },
  {
   "cell_type": "code",
   "execution_count": 20,
   "id": "0ae9fd42-b053-41f0-898a-f281b84d6c76",
   "metadata": {},
   "outputs": [
    {
     "name": "stdin",
     "output_type": "stream",
     "text": [
      "Enter the first variable:  2\n",
      "Enter the second variable:  12121212\n"
     ]
    },
    {
     "name": "stdout",
     "output_type": "stream",
     "text": [
      "Before swapping:\n",
      "Variable 1 = 2\n",
      "Variable 2 = 12121212\n",
      "After swapping:\n",
      "Variable 1 = 12121212\n",
      "Variable 2 = 2\n"
     ]
    }
   ],
   "source": [
    "def swap_variables(a, b):\n",
    "    temp = a\n",
    "    a = b\n",
    "    b = temp\n",
    "    return a, b\n",
    "\n",
    "############ TEST\n",
    "variable1 = input(\"Enter the first variable: \")\n",
    "variable2 = input(\"Enter the second variable: \")\n",
    "\n",
    "print(\"Before swapping:\")\n",
    "print(\"Variable 1 =\", variable1)\n",
    "print(\"Variable 2 =\", variable2)\n",
    "\n",
    "variable1, variable2 = swap_variables(variable1, variable2)\n",
    "\n",
    "print(\"After swapping:\")\n",
    "print(\"Variable 1 =\", variable1)\n",
    "print(\"Variable 2 =\", variable2)\n"
   ]
  },
  {
   "cell_type": "markdown",
   "id": "84070b56-4221-4555-95ea-19665202b210",
   "metadata": {},
   "source": [
    "# Question 5"
   ]
  },
  {
   "cell_type": "code",
   "execution_count": 23,
   "id": "d817f064-3fff-4afd-9315-b7f0e8df5eb9",
   "metadata": {},
   "outputs": [
    {
     "name": "stdin",
     "output_type": "stream",
     "text": [
      "Enter the start range:  -100\n",
      "Enter the end range:  20\n"
     ]
    },
    {
     "name": "stdout",
     "output_type": "stream",
     "text": [
      "Random number: -38\n"
     ]
    }
   ],
   "source": [
    "import random\n",
    "\n",
    "def generate_random_number(start, end):\n",
    "    random_number = random.randint(start, end)\n",
    "    return random_number\n",
    "\n",
    "################ TEST\n",
    "\n",
    "start_range = int(input(\"Enter the start range: \"))\n",
    "end_range = int(input(\"Enter the end range: \"))\n",
    "\n",
    "random_number = generate_random_number(start_range, end_range)\n",
    "print(\"Random number:\", random_number)\n"
   ]
  },
  {
   "cell_type": "code",
   "execution_count": null,
   "id": "9ae76f1a-6e59-4c31-a63b-efa7183a01bb",
   "metadata": {},
   "outputs": [],
   "source": []
  }
 ],
 "metadata": {
  "kernelspec": {
   "display_name": "Python 3 (ipykernel)",
   "language": "python",
   "name": "python3"
  },
  "language_info": {
   "codemirror_mode": {
    "name": "ipython",
    "version": 3
   },
   "file_extension": ".py",
   "mimetype": "text/x-python",
   "name": "python",
   "nbconvert_exporter": "python",
   "pygments_lexer": "ipython3",
   "version": "3.10.8"
  }
 },
 "nbformat": 4,
 "nbformat_minor": 5
}
