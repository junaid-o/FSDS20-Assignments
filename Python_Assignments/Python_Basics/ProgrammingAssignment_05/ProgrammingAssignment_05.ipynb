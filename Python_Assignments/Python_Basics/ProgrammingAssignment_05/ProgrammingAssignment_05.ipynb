{
 "cells": [
  {
   "cell_type": "markdown",
   "id": "c697ef43-7dc5-49c4-be2a-63a862d4d499",
   "metadata": {},
   "source": [
    "# <center>Python Basics: ProgrammingAssignment_05</center>\n",
    "\n",
    "\n",
    "1. Write a Python Program to Find LCM?\r\n",
    "2. Write a Python Program to Find HCF?\r\n",
    "3. Write a Python Program to Convert Decimal to Binary, Octal and Hexadecimal?\r\n",
    "4. Write a Python Program To Find ASCII value of a character?\r\n",
    "5. Write a Python Program to Make a Simple Calculator with 4 basic mathematical operations?"
   ]
  },
  {
   "cell_type": "markdown",
   "id": "0858191b-0656-4a97-a1fb-8baa2bd831f4",
   "metadata": {},
   "source": [
    "### Question 1: Write a Python Program to Find LCM?"
   ]
  },
  {
   "cell_type": "code",
   "execution_count": 1,
   "id": "73b31e80-5337-4e38-b193-242729bbc734",
   "metadata": {},
   "outputs": [
    {
     "name": "stdin",
     "output_type": "stream",
     "text": [
      "Enter the first number:  4\n",
      "Enter the second number:  2\n"
     ]
    },
    {
     "name": "stdout",
     "output_type": "stream",
     "text": [
      "The LCM of 4 and 2 is 4\n"
     ]
    }
   ],
   "source": [
    "def find_lcm(a, b):\n",
    "    # Find the maximum of the two numbers\n",
    "    max_num = max(a, b)\n",
    "\n",
    "    # Start with the maximum number and check if it is divisible by both a and b\n",
    "    while True:\n",
    "        if max_num % a == 0 and max_num % b == 0:\n",
    "            lcm = max_num\n",
    "            break\n",
    "        max_num += 1\n",
    "\n",
    "    return lcm\n",
    "\n",
    "####### TEST\n",
    "\n",
    "num1 = int(input(\"Enter the first number: \"))\n",
    "num2 = int(input(\"Enter the second number: \"))\n",
    "\n",
    "lcm_result = find_lcm(num1, num2)\n",
    "print(\"The LCM of\", num1, \"and\", num2, \"is\", lcm_result)\n"
   ]
  },
  {
   "cell_type": "markdown",
   "id": "8dfb43fc-ca57-4e66-831d-2015d5830fca",
   "metadata": {},
   "source": [
    "### Question 2: Write a Python Program to Find HCF?"
   ]
  },
  {
   "cell_type": "code",
   "execution_count": 2,
   "id": "4ddaa354-47b1-472f-b883-64a1885b4fda",
   "metadata": {},
   "outputs": [
    {
     "name": "stdin",
     "output_type": "stream",
     "text": [
      "Enter the first number:  4\n",
      "Enter the second number:  6\n"
     ]
    },
    {
     "name": "stdout",
     "output_type": "stream",
     "text": [
      "The HCF of 4 and 6 is 2\n"
     ]
    }
   ],
   "source": [
    "def find_hcf(a, b):\n",
    "    # Find the smaller number between a and b\n",
    "    min_num = min(a, b)\n",
    "\n",
    "    # Start with the smaller number and check if it is a factor of both a and b\n",
    "    hcf = 1\n",
    "    for i in range(1, min_num + 1):\n",
    "        if a % i == 0 and b % i == 0:\n",
    "            hcf = i\n",
    "\n",
    "    return hcf\n",
    "\n",
    "################ TEST\n",
    "num1 = int(input(\"Enter the first number: \"))\n",
    "num2 = int(input(\"Enter the second number: \"))\n",
    "\n",
    "hcf_result = find_hcf(num1, num2)\n",
    "print(\"The HCF of\", num1, \"and\", num2, \"is\", hcf_result)\n"
   ]
  },
  {
   "cell_type": "code",
   "execution_count": null,
   "id": "0bee124f-2d88-4ea9-99c2-a04120be81ae",
   "metadata": {},
   "outputs": [],
   "source": []
  },
  {
   "cell_type": "markdown",
   "id": "35f742c8-f1bb-4790-966c-176fdd4dfec9",
   "metadata": {},
   "source": [
    "### Question 3: Write a Python Program to Convert Decimal to Binary, Octal and Hexadecimal?"
   ]
  },
  {
   "cell_type": "code",
   "execution_count": 4,
   "id": "31f528c3-7d47-45c9-8422-ef3f88f8b0ce",
   "metadata": {},
   "outputs": [
    {
     "name": "stdin",
     "output_type": "stream",
     "text": [
      "Enter a decimal number:  1000\n"
     ]
    },
    {
     "name": "stdout",
     "output_type": "stream",
     "text": [
      "Binary: 1111101000\n",
      "Octal: 1750\n",
      "Hexadecimal: 3e8\n"
     ]
    }
   ],
   "source": [
    "def decimal_to_binary(number):\n",
    "    return bin(number).replace(\"0b\", \"\")\n",
    "\n",
    "def decimal_to_octal(number):\n",
    "    return oct(number).replace(\"0o\", \"\")\n",
    "\n",
    "def decimal_to_hexadecimal(number):\n",
    "    return hex(number).replace(\"0x\", \"\")\n",
    "\n",
    "# Example usage\n",
    "decimal_number = int(input(\"Enter a decimal number: \"))\n",
    "\n",
    "binary_result = decimal_to_binary(decimal_number)\n",
    "octal_result = decimal_to_octal(decimal_number)\n",
    "hexadecimal_result = decimal_to_hexadecimal(decimal_number)\n",
    "\n",
    "print(\"Binary:\", binary_result)\n",
    "print(\"Octal:\", octal_result)\n",
    "print(\"Hexadecimal:\", hexadecimal_result)\n"
   ]
  },
  {
   "cell_type": "code",
   "execution_count": null,
   "id": "ded05436-5668-4296-87f1-909419527313",
   "metadata": {},
   "outputs": [],
   "source": []
  },
  {
   "cell_type": "markdown",
   "id": "1d26b1ec-442b-4409-8263-87643922b7f1",
   "metadata": {},
   "source": [
    "### Question 4: Write a Python Program To Find ASCII value of a character?"
   ]
  },
  {
   "cell_type": "code",
   "execution_count": 15,
   "id": "6caf61d3-796d-4299-81e2-40c114bb48d5",
   "metadata": {},
   "outputs": [
    {
     "name": "stdin",
     "output_type": "stream",
     "text": [
      "Enter a character:  A\n"
     ]
    },
    {
     "name": "stdout",
     "output_type": "stream",
     "text": [
      "The ASCII value of A is 65\n"
     ]
    }
   ],
   "source": [
    "def find_ascii_value(character):\n",
    "    return ord(character)\n",
    "\n",
    "############## TEST\n",
    "char = input(\"Enter a character: \")\n",
    "\n",
    "ascii_value = find_ascii_value(char)\n",
    "print(\"The ASCII value of\", char, \"is\", ascii_value)\n"
   ]
  },
  {
   "cell_type": "code",
   "execution_count": null,
   "id": "9f3d086b-0d86-486d-8251-91a2ae7050c0",
   "metadata": {},
   "outputs": [],
   "source": []
  },
  {
   "cell_type": "markdown",
   "id": "bcfe8dc9-1a8e-4e94-a687-dbe3aaf84fa5",
   "metadata": {},
   "source": [
    "### Question 5: Write a Python Program to Make a Simple Calculator with 4 basic mathematical operations?"
   ]
  },
  {
   "cell_type": "code",
   "execution_count": 18,
   "id": "aaa9344d-763c-4720-8d12-3d7a7efcbf23",
   "metadata": {},
   "outputs": [],
   "source": [
    "class Calculator:\n",
    "\n",
    "    def __init__(self):\n",
    "        self.result = 0\n",
    "        \n",
    "    def add(self, x, y):\n",
    "        return x + y\n",
    "\n",
    "    def subtract(self, x, y):\n",
    "        return x - y\n",
    "\n",
    "    def multiply(self, x, y):\n",
    "        return x * y\n",
    "\n",
    "    def divide(self, x, y):\n",
    "        if y == 0:\n",
    "            print(\"Error: Cannot divide by zero!\")\n",
    "            return None\n",
    "        return x / y\n",
    "\n",
    "    def run_calculator(self):\n",
    "        num1 = float(input(\"Enter the first number: \"))\n",
    "        num2 = float(input(\"Enter the second number: \"))\n",
    "\n",
    "        print(\"Select operation:\")\n",
    "        print(\"1. Addition\")\n",
    "        print(\"2. Subtraction\")\n",
    "        print(\"3. Multiplication\")\n",
    "        print(\"4. Division\")\n",
    "\n",
    "        choice = input(\"Enter your choice (1-4): \")\n",
    "\n",
    "        if choice == '1':\n",
    "            result = self.add(num1, num2)\n",
    "            operation = '+'\n",
    "        elif choice == '2':\n",
    "            result = self.subtract(num1, num2)\n",
    "            operation = '-'\n",
    "        elif choice == '3':\n",
    "            result = self.multiply(num1, num2)\n",
    "            operation = '*'\n",
    "        elif choice == '4':\n",
    "            result = self.divide(num1, num2)\n",
    "            operation = '/'\n",
    "        else:\n",
    "            print(\"Invalid choice!\")\n",
    "            return\n",
    "\n",
    "        if result is not None:\n",
    "            print(num1, operation, num2, \"=\", result)\n"
   ]
  },
  {
   "cell_type": "code",
   "execution_count": 19,
   "id": "49224727-3faf-4ca5-8e26-b2aea7ef0559",
   "metadata": {},
   "outputs": [
    {
     "name": "stdin",
     "output_type": "stream",
     "text": [
      "Enter the first number:  1200\n",
      "Enter the second number:  22\n"
     ]
    },
    {
     "name": "stdout",
     "output_type": "stream",
     "text": [
      "Select operation:\n",
      "1. Addition\n",
      "2. Subtraction\n",
      "3. Multiplication\n",
      "4. Division\n"
     ]
    },
    {
     "name": "stdin",
     "output_type": "stream",
     "text": [
      "Enter your choice (1-4):  3\n"
     ]
    },
    {
     "name": "stdout",
     "output_type": "stream",
     "text": [
      "1200.0 * 22.0 = 26400.0\n"
     ]
    }
   ],
   "source": [
    "####### TEST\n",
    "\n",
    "calculator = Calculator()\n",
    "calculator.run_calculator()\n"
   ]
  },
  {
   "cell_type": "code",
   "execution_count": null,
   "id": "32803393-f046-4b96-846a-3387d06cad4d",
   "metadata": {},
   "outputs": [],
   "source": []
  }
 ],
 "metadata": {
  "kernelspec": {
   "display_name": "Python 3 (ipykernel)",
   "language": "python",
   "name": "python3"
  },
  "language_info": {
   "codemirror_mode": {
    "name": "ipython",
    "version": 3
   },
   "file_extension": ".py",
   "mimetype": "text/x-python",
   "name": "python",
   "nbconvert_exporter": "python",
   "pygments_lexer": "ipython3",
   "version": "3.10.8"
  }
 },
 "nbformat": 4,
 "nbformat_minor": 5
}
