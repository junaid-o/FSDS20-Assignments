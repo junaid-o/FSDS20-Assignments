{
 "cells": [
  {
   "cell_type": "markdown",
   "id": "30edc5b6-5853-440c-a232-f5e468e20542",
   "metadata": {},
   "source": [
    "# <center>PythonBasics: PogrammingAssignmet_15</center>"
   ]
  },
  {
   "cell_type": "markdown",
   "id": "6b87c61a-a572-432a-8ecc-a9f473579cce",
   "metadata": {},
   "source": [
    "### Question 01 \n",
    "\n",
    "Please write a program using generator to print the numbers which can be divisible by 5 and\n",
    "7 between 0 and n in comma separated form while n is input by console.\n",
    "\n",
    "\n",
    "Example:\n",
    "\n",
    "If the following n is given as input to the program:\n",
    "100\n",
    "Then, the output of the program should be:\n",
    "0,35,70"
   ]
  },
  {
   "cell_type": "code",
   "execution_count": 2,
   "id": "c2d1edbc-9eea-46dc-a234-0c7338f11758",
   "metadata": {},
   "outputs": [
    {
     "name": "stdin",
     "output_type": "stream",
     "text": [
      "Enter a number:  90\n"
     ]
    },
    {
     "name": "stdout",
     "output_type": "stream",
     "text": [
      "0,35,70\n"
     ]
    }
   ],
   "source": [
    "def divisible_by_5_and_7(n):\n",
    "    for num in range(n+1):\n",
    "        if num % 5 == 0 and num % 7 == 0:\n",
    "            yield num\n",
    "\n",
    "            \n",
    "##############################################\n",
    "# Get input from the user\n",
    "n = int(input(\"Enter a number: \"))\n",
    "\n",
    "# Generate the divisible numbers\n",
    "divisible_nums = divisible_by_5_and_7(n)\n",
    "\n",
    "# Print the numbers in comma-separated form\n",
    "print(\",\".join(map(str, divisible_nums)))\n"
   ]
  },
  {
   "cell_type": "markdown",
   "id": "46605194-ba3d-45ec-9b09-53ccf27e3f08",
   "metadata": {},
   "source": [
    "### Question 02:\n",
    "\n",
    "\n",
    "Please write a program using generator to print the even numbers between 0 and n in comma\n",
    "separated form while n is input by console.\n",
    "Example:\n",
    "If the following n is given as input to the program:\n",
    "10\n",
    "Then, the output of the program should be:\n",
    "0,2,4,6,8,10"
   ]
  },
  {
   "cell_type": "code",
   "execution_count": 4,
   "id": "300661b8-0eaf-4397-8017-7408230bd4cf",
   "metadata": {},
   "outputs": [
    {
     "name": "stdin",
     "output_type": "stream",
     "text": [
      "Enter a number:  20\n"
     ]
    },
    {
     "name": "stdout",
     "output_type": "stream",
     "text": [
      "0,2,4,6,8,10,12,14,16,18,20\n"
     ]
    }
   ],
   "source": [
    "def even_numbers(n):\n",
    "    for num in range(n+1):\n",
    "        if num % 2 == 0:\n",
    "            yield num\n",
    "\n",
    "#######################################################\n",
    "# Get input from the user\n",
    "n = int(input(\"Enter a number: \"))\n",
    "\n",
    "# Generate the even numbers\n",
    "even_nums = even_numbers(n)\n",
    "\n",
    "# Print the numbers in comma-separated form\n",
    "print(\",\".join(map(str, even_nums)))\n"
   ]
  },
  {
   "cell_type": "markdown",
   "id": "4114d44d-9e0e-4c74-9a3b-751288f6c1d7",
   "metadata": {},
   "source": [
    "### Question 03:\n",
    "\n",
    "The Fibonacci Sequence is computed based on the following formula:\n",
    "f(n)=0 if n=0\n",
    "f(n)=1 if n=1\n",
    "f(n)=f(n-1)+f(n-2) if n&gt;1\n",
    "Please write a program using list comprehension to print the Fibonacci Sequence in comma\n",
    "separated form with a given n input by console.\n",
    "Example:\n",
    "If the following n is given as input to the program:\n",
    "7\n",
    "\n",
    "Then, the output of the program should be:\n",
    "0,1,1,2,3,5,8,13"
   ]
  },
  {
   "cell_type": "code",
   "execution_count": 10,
   "id": "b683f758-5d00-4af4-8562-0bf0ce5e5947",
   "metadata": {},
   "outputs": [
    {
     "name": "stdin",
     "output_type": "stream",
     "text": [
      "Enter a number:  20\n"
     ]
    },
    {
     "name": "stdout",
     "output_type": "stream",
     "text": [
      "0,1,1,2,3,5,8,13,21,34,55,89,144,233,377,610,987,1597,2584,4181,6765\n"
     ]
    }
   ],
   "source": [
    "def fibonacci_sequence(n):    \n",
    "    if n == 0:\n",
    "        return [0]    \n",
    "    elif n == 1:\n",
    "        return [0, 1]\n",
    "\n",
    "    # Generate the Fibonacci sequence\n",
    "    sequence = [0, 1]\n",
    "    for i in range(2, n+1):\n",
    "        sequence.append(sequence[i-1] + sequence[i-2])\n",
    "\n",
    "    return sequence\n",
    "\n",
    "# Get input from the user\n",
    "n = int(input(\"Enter a number: \"))\n",
    "\n",
    "# Generate the Fibonacci sequence using list comprehension\n",
    "fibonacci_seq = fibonacci_sequence(n)\n",
    "\n",
    "# Print the sequence in comma-separated form\n",
    "print(','.join(map(str, fibonacci_seq)))\n"
   ]
  },
  {
   "cell_type": "markdown",
   "id": "3a28a132-85e4-41fa-8446-e10277844ffc",
   "metadata": {},
   "source": [
    "### Question 04:\n",
    "\n",
    "Assuming that we have some email addresses in the &quot;username@companyname.com&quot; format,\n",
    "please write program to print the user name of a given email address. Both user names and\n",
    "company names are composed of letters only.\n",
    "Example:\n",
    "If the following email address is given as input to the program:\n",
    "john@google.com\n",
    "Then, the output of the program should be:\n",
    "john\n"
   ]
  },
  {
   "cell_type": "code",
   "execution_count": 12,
   "id": "12bce4a4-bc42-4e25-ae58-d3ae733920de",
   "metadata": {},
   "outputs": [
    {
     "name": "stdin",
     "output_type": "stream",
     "text": [
      "Enter an email address:  username@companyname.com\n"
     ]
    },
    {
     "name": "stdout",
     "output_type": "stream",
     "text": [
      "username\n"
     ]
    }
   ],
   "source": [
    "def extract_username(email):\n",
    "    # Split the email address into username and domain parts\n",
    "    username, domain = email.split('@')\n",
    "        \n",
    "    return username\n",
    "\n",
    "######################################\n",
    "    \n",
    "# Get the email address from the user\n",
    "email = input(\"Enter an email address: \")\n",
    "\n",
    "# Extract the username from the email address\n",
    "username = extract_username(email)\n",
    "\n",
    "# Print the username\n",
    "print(username)\n"
   ]
  },
  {
   "cell_type": "markdown",
   "id": "3b7a0da6-d64f-4c82-85e8-464b95110153",
   "metadata": {},
   "source": [
    "### Question 05:\n",
    "\n",
    "Define a class named Shape and its subclass Square. The Square class has an init function\n",
    "which takes a length as argument. Both classes have a area function which can print the area\n",
    "of the shape where Shape&#39;s area is 0 by default."
   ]
  },
  {
   "cell_type": "code",
   "execution_count": 14,
   "id": "425bd51e-f908-47c0-9611-4d4d8821fe66",
   "metadata": {},
   "outputs": [
    {
     "name": "stdout",
     "output_type": "stream",
     "text": [
      "25\n",
      "0\n"
     ]
    }
   ],
   "source": [
    "\n",
    "\n",
    "class Shape:\n",
    "    def __init__(self):\n",
    "        pass\n",
    "    \n",
    "    def area(self):\n",
    "        return 0\n",
    "\n",
    "\n",
    "class Square(Shape):\n",
    "    def __init__(self, length):\n",
    "        self.length = length\n",
    "    \n",
    "    def area(self):\n",
    "        return self.length ** 2\n",
    "\n",
    "#################### TEST ####################################\n",
    "#################### TEST ####################################       \n",
    "# Create an instance of the Square class\n",
    "square = Square(5)\n",
    "\n",
    "# Call the area method of the Square instance\n",
    "print(square.area())  # Output: 25\n",
    "\n",
    "# Create an instance of the Shape class\n",
    "shape = Shape()\n",
    "\n",
    "# Call the area method of the Shape instance\n",
    "print(shape.area())  # Output: 0\n"
   ]
  },
  {
   "cell_type": "code",
   "execution_count": null,
   "id": "d18b2bd0-3f62-42fb-9de6-a6817414fc83",
   "metadata": {},
   "outputs": [],
   "source": []
  }
 ],
 "metadata": {
  "kernelspec": {
   "display_name": "Python 3 (ipykernel)",
   "language": "python",
   "name": "python3"
  },
  "language_info": {
   "codemirror_mode": {
    "name": "ipython",
    "version": 3
   },
   "file_extension": ".py",
   "mimetype": "text/x-python",
   "name": "python",
   "nbconvert_exporter": "python",
   "pygments_lexer": "ipython3",
   "version": "3.10.8"
  }
 },
 "nbformat": 4,
 "nbformat_minor": 5
}
