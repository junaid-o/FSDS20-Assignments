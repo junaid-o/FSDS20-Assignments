{
 "cells": [
  {
   "cell_type": "markdown",
   "id": "e523cdc6-c139-486f-8264-b8f3477e9236",
   "metadata": {},
   "source": [
    "#  <center>PythonBasics: Assignment_10</center>"
   ]
  },
  {
   "cell_type": "markdown",
   "id": "21a9984c-5ef6-4699-b3cf-df4d329d335b",
   "metadata": {},
   "source": [
    "### Question 01:\n",
    "How do you distinguish between shutil.copy() and shutil.copytree()?\r\n",
    "\n",
    "**<span style='color:blue'>Answer</span>**"
   ]
  },
  {
   "cell_type": "markdown",
   "id": "bb47d49a-babb-4ccd-95cc-16e51ed97b1e",
   "metadata": {},
   "source": [
    "The `shutil.copy()` and `shutil.copytree()` functions in Python's `shutil` module are used for file and directory operations, but they have distinct purposes:\n",
    "\n",
    "1. `shutil.copy(src, dst)`: This function is used to copy a single file from the source (`src`) to the destination (`dst`). It creates a new file at the destination location with the same content as the source file. If the destination file already exists, it will be overwritten.\n",
    "\n",
    "2. `shutil.copytree(src, dst)`: This function is used to recursively copy an entire directory tree from the source (`src`) to the destination (`dst`). It creates a new directory at the destination location and copies all the files and subdirectories from the source directory to the destination directory. If the destination directory already exists, the function will raise an error."
   ]
  },
  {
   "cell_type": "markdown",
   "id": "3f5a143e-67cf-4dee-bcaa-67dff71fa1a8",
   "metadata": {},
   "source": [
    "### Question 02:\n",
    " What function is used to rename files??\n",
    "\n",
    "**<span style='color:blue'>Answer</span>**"
   ]
  },
  {
   "cell_type": "markdown",
   "id": "c4d90f85-ddc8-4cc0-9fcb-8072db0bb79a",
   "metadata": {},
   "source": [
    "```\n",
    "os.rename(current_name, new_name)\n",
    "\n",
    "```"
   ]
  },
  {
   "cell_type": "markdown",
   "id": "78da9c23-fac6-4d3f-938b-be13ca0a92d3",
   "metadata": {},
   "source": [
    "### Question 03:\n",
    ". What is the difference between the delete functions in the send2trash and shutil module\n",
    "\n",
    "\n",
    "**<span style='color:blue'>Answer</span>**"
   ]
  },
  {
   "cell_type": "markdown",
   "id": "8ba56532-7f61-48d8-a8a0-a44b3092c12c",
   "metadata": {},
   "source": [
    "`send2trash()` function from the `send2trash` module moves files and directories to the trash or recycle bin, while the `shutil.rmtree()` function from the `shutil` module deletes files and directories permanently."
   ]
  },
  {
   "cell_type": "markdown",
   "id": "6d593d30-3674-467f-b5f2-5f794c6fc93d",
   "metadata": {},
   "source": [
    "### Question 04:s\n",
    "ZipFile objects have a close() method just like File objects’ close() method. What ZipFile method is\r\n",
    "equivalent to File objects’ open() meth\n",
    "\n",
    "**<span style='color:blue'>Answer</span>**"
   ]
  },
  {
   "cell_type": "markdown",
   "id": "5dadd9b6-dcb5-4035-b698-1120522234e3",
   "metadata": {},
   "source": [
    "The equivalent method in `ZipFile` objects to the `open()` method in `File` objects is the `extractall()` method. \n",
    "\n",
    "While the `open()` method in `File` objects is used to open and read the contents of a file, the `extractall()` method in `ZipFile` objects is used to extract all the contents of a ZIP archive to a specified directory. It extracts all the files and directories contained within the ZIP archive, preserving the directory structure."
   ]
  },
  {
   "cell_type": "markdown",
   "id": "91c0ec28-2165-4033-b28e-6d709cf6481d",
   "metadata": {},
   "source": [
    "### Question 05:\n",
    "\r",
    " Create a programme that searches a folder tree for files with a certain file extension (such as .pdf\r\n",
    "or .jpg). Copy these files from whatever location they are in to a ne fwoldrf\n",
    "\n",
    "\n",
    "**<span style='color:blue'>Answer</span>r."
   ]
  },
  {
   "cell_type": "code",
   "execution_count": null,
   "id": "b2d96043-1334-4d82-ac23-7b32320ba0bb",
   "metadata": {},
   "outputs": [],
   "source": [
    "import os\n",
    "import shutil\n",
    "\n",
    "def copy_files_by_extension(source_folder, destination_folder, extension):\n",
    "    # Create the destination folder if it doesn't exist\n",
    "    if not os.path.exists(destination_folder):\n",
    "        os.makedirs(destination_folder)\n",
    "    \n",
    "    # Iterate through the folder tree\n",
    "    for foldername, subfolders, filenames in os.walk(source_folder):\n",
    "        for filename in filenames:\n",
    "            # Check if the file has the desired extension\n",
    "            if filename.lower().endswith(extension.lower()):\n",
    "                source_path = os.path.join(foldername, filename)\n",
    "                destination_path = os.path.join(destination_folder, filename)\n",
    "                \n",
    "                # Copy the file to the destination folder\n",
    "                shutil.copy2(source_path, destination_path)\n",
    "                print(f\"Copied: {source_path} -> {destination_path}\")\n",
    "\n",
    "####################### TEST ##################################\n",
    "####################### TEST ##################################\n",
    "\n",
    "source_folder = '/path/to/source/folder'\n",
    "destination_folder = '/path/to/destination/folder'\n",
    "extension = '.pdf'\n",
    "\n",
    "copy_files_by_extension(source_folder, destination_folder, extension)\n"
   ]
  }
 ],
 "metadata": {
  "kernelspec": {
   "display_name": "Python 3 (ipykernel)",
   "language": "python",
   "name": "python3"
  },
  "language_info": {
   "codemirror_mode": {
    "name": "ipython",
    "version": 3
   },
   "file_extension": ".py",
   "mimetype": "text/x-python",
   "name": "python",
   "nbconvert_exporter": "python",
   "pygments_lexer": "ipython3",
   "version": "3.10.8"
  }
 },
 "nbformat": 4,
 "nbformat_minor": 5
}
