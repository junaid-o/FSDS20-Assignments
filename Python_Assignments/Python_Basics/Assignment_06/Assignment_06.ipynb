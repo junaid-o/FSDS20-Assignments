{
 "cells": [
  {
   "cell_type": "markdown",
   "id": "096fdecc-ae4f-4aed-9643-157060e68d5b",
   "metadata": {},
   "source": [
    "# <center>PythonBasics: Assignment_06</center>"
   ]
  },
  {
   "cell_type": "markdown",
   "id": "eaa97cf2-8f6b-47f4-a183-7b3aa6f95157",
   "metadata": {
    "jp-MarkdownHeadingCollapsed": true
   },
   "source": [
    "### "
   ]
  },
  {
   "cell_type": "markdown",
   "id": "37dd6dc8-9fdf-43a8-8444-07267e76f2af",
   "metadata": {},
   "source": [
    "## Question 01:\n",
    "\n",
    "What are escape characters, and how do you use them?"
   ]
  },
  {
   "cell_type": "markdown",
   "id": "bc85773d-60b0-4dcb-bbe0-39a3f10b0602",
   "metadata": {},
   "source": [
    "Escape characters are special characters in Python that are used to represent certain non-printable or special characters within strings. They are preceded by a backslash `\\` to indicate that the following character has a special meaning.\n",
    "\n",
    "Here are some commonly used escape characters in Python:\n",
    "\n",
    "- `\\n`: Newline character. It inserts a line break.\n",
    "- `\\t`: Tab character. It inserts a horizontal tab.\n",
    "- `\\\\`: Backslash character. It is used to represent a literal backslash.\n",
    "- `\\\"`: Double quote character. It is used to represent a literal double quote.\n",
    "- `\\'`: Single quote character. It is used to represent a literal single quote."
   ]
  },
  {
   "cell_type": "markdown",
   "id": "4b2bd61b-4b1b-4cd2-8dcd-7a6d44969cb8",
   "metadata": {},
   "source": [
    "### Question 02:\n",
    "\n",
    "What do the escape characters n and t stand for?"
   ]
  },
  {
   "cell_type": "markdown",
   "id": "791a136c-65f7-442d-a5c5-4e93fa5fd439",
   "metadata": {},
   "source": [
    "- `\\n`: Newline character. When encountered in a string, it inserts a line break, causing the text to continue on the next line.\n",
    "- `\\t`: Tab character. When encountered in a string, it inserts a horizontal tab, creating a space equivalent to the width of a tab stop."
   ]
  },
  {
   "cell_type": "markdown",
   "id": "878488bf-6c72-4583-bae0-405100e5509f",
   "metadata": {},
   "source": [
    "### Question 03:\n",
    "\n",
    "What is the way to include backslash characters in a string?"
   ]
  },
  {
   "cell_type": "markdown",
   "id": "1d7672c1-1c2c-4911-b901-ecf3d735fb7d",
   "metadata": {},
   "source": [
    "To include a backslash character `\\` in a string, you can use a double backslash `\\\\`. This is called escaping the backslash."
   ]
  },
  {
   "cell_type": "markdown",
   "id": "ac345b03-65dc-4358-82db-a5eebe8716ac",
   "metadata": {},
   "source": [
    "### Question 04:\n",
    "\n",
    "The string &quot;Howl&#39;s Moving Castle&quot; is a correct value. Why isn&#39;t the single quote character in the\n",
    "word Howl&#39;s not escaped a problem?"
   ]
  },
  {
   "cell_type": "markdown",
   "id": "39e3ea5c-4e8b-4912-9b05-6cae9e7a29f3",
   "metadata": {},
   "source": [
    "In Python, you can include single quote characters within a string that is enclosed in double quotes, or vice versa, without the need for escaping. This means that if a string is enclosed in double quotes, you can include single quotes inside the string without any issue.\n",
    "\n",
    "In the case of the string \"Howl's Moving Castle\", the single quote within the word \"Howl's\" is not causing a problem because the entire string is enclosed in double quotes"
   ]
  },
  {
   "cell_type": "markdown",
   "id": "09c06697-63bf-4545-a32c-3b847dcb3776",
   "metadata": {},
   "source": [
    "### Question 05:\n",
    "\n",
    "How do you write a string of newlines if you don&#39;t want to use the n character?"
   ]
  },
  {
   "cell_type": "markdown",
   "id": "2901d055-800e-4951-9e63-cff8c3cce0dc",
   "metadata": {},
   "source": [
    "If you don't want to use the newline character \\n, you can achieve the same effect by using triple quotes to create a multiline string"
   ]
  },
  {
   "cell_type": "markdown",
   "id": "81d3157c-1918-4765-9088-c8906213f837",
   "metadata": {},
   "source": [
    "### Question 06:\n",
    "\n",
    "What are the values of the given expressions?\n",
    "&#39;Hello, world!&#39;[1]\n",
    "&#39;Hello, world!&#39;[0:5]\n",
    "&#39;Hello, world!&#39;[:5]\n",
    "&#39;Hello, world!&#39;[3:]"
   ]
  },
  {
   "cell_type": "markdown",
   "id": "f97fe29a-f6f5-4fcd-8345-682d31046f10",
   "metadata": {},
   "source": [
    "The values of the given expressions are:\n",
    "\n",
    "- 'Hello, world!'[1]: \n",
    "  - Value: 'e'\n",
    "  - Explanation: Indexing a string with [1] retrieves the character at index 1, which is 'e'.\n",
    "\n",
    "- 'Hello, world!'[0:5]:\n",
    "  - Value: 'Hello'\n",
    "  - Explanation: Slicing the string from index 0 to 5 (exclusive) retrieves the substring 'Hello'.\n",
    "\n",
    "- 'Hello, world!'[:5]:\n",
    "  - Value: 'Hello'\n",
    "  - Explanation: Slicing the string from the beginning (index 0) to 5 (exclusive) retrieves the substring 'Hello'.\n",
    "\n",
    "- 'Hello, world!'[3:]:\n",
    "  - Value: 'lo, world!'\n",
    "  - Explanation: Slicing the string from index 3 to the end retrieves the substring 'lo, world!'."
   ]
  },
  {
   "cell_type": "markdown",
   "id": "8f31f5fc-fad3-4c34-95a6-eb81dc8e18ec",
   "metadata": {},
   "source": [
    "### Question 07:\n",
    "\n",
    "What are the values of the following expressions?\n",
    "&#39;Hello&#39;.upper()\n",
    "&#39;Hello&#39;.upper().isupper()\n",
    "&#39;Hello&#39;.upper().lower()"
   ]
  },
  {
   "cell_type": "code",
   "execution_count": 1,
   "id": "7fda59ba-db34-4e51-a8ed-9d009f24894e",
   "metadata": {},
   "outputs": [
    {
     "data": {
      "text/plain": [
       "'HELLO'"
      ]
     },
     "execution_count": 1,
     "metadata": {},
     "output_type": "execute_result"
    }
   ],
   "source": [
    "'Hello'.upper()"
   ]
  },
  {
   "cell_type": "code",
   "execution_count": 2,
   "id": "bf34b4fa-d55a-4688-9160-a1c5063a9c20",
   "metadata": {},
   "outputs": [
    {
     "data": {
      "text/plain": [
       "True"
      ]
     },
     "execution_count": 2,
     "metadata": {},
     "output_type": "execute_result"
    }
   ],
   "source": [
    " 'Hello'.upper().isupper()"
   ]
  },
  {
   "cell_type": "code",
   "execution_count": 3,
   "id": "ab0cde52-3f44-4153-ad43-06bb134270a3",
   "metadata": {},
   "outputs": [
    {
     "data": {
      "text/plain": [
       "'hello'"
      ]
     },
     "execution_count": 3,
     "metadata": {},
     "output_type": "execute_result"
    }
   ],
   "source": [
    " 'Hello'.upper().lower()"
   ]
  },
  {
   "cell_type": "markdown",
   "id": "8de891eb-2f2c-4bbc-93f1-d40b789b09fb",
   "metadata": {},
   "source": [
    "### Question 08:\n",
    "\n",
    "What are the values of the following expressions?\n",
    "&#39;Remember, remember, the fifth of July.&#39;.split()\n",
    "&#39;-&#39;.join(&#39;There can only one.&#39;.split())"
   ]
  },
  {
   "cell_type": "markdown",
   "id": "13d52ca1-9dea-4242-8f71-33e0930b8b9d",
   "metadata": {},
   "source": [
    "The values of the given expressions are:\n",
    "\n",
    "- 'Remember, remember, the fifth of July.'.split():\n",
    "  - Value: ['Remember,', 'remember,', 'the', 'fifth', 'of', 'July.']\n",
    "  - Explanation: The `split()` method is called on the string, which splits the string into a list of substrings based on whitespace characters. Each word in the string becomes a separate element in the resulting list.\n",
    "\n",
    "- '-'.join('There can only one.'.split()):\n",
    "  - Value: 'There-can-only-one.'\n",
    "  - Explanation: The `split()` method is called on the string, which splits the string into a list of substrings based on whitespace characters. The resulting list is then joined using the `join()` method, with '-' as the delimiter. This combines the elements of the list into a single string, separated by '-' characters."
   ]
  },
  {
   "cell_type": "markdown",
   "id": "588e4213-cba7-4f82-9b85-a81968452c89",
   "metadata": {},
   "source": [
    "### Question 09:\n",
    "What are the methods for right-justifying, left-justifying, and centering a string?"
   ]
  },
  {
   "cell_type": "markdown",
   "id": "50054794-8c87-4713-9726-e25ce9eb6a7b",
   "metadata": {},
   "source": [
    "The methods for right-justifying, left-justifying, and centering a string are:\n",
    "\n",
    "- Right-justifying a string: `str.rjust(width, fillchar)`\n",
    "  - This method returns a right-justified version of the string with a specified width. The `width` parameter specifies the total width of the resulting string, and the optional `fillchar` parameter specifies the character used for padding. If `fillchar` is not provided, it defaults to a space.\n",
    "\n",
    "- Left-justifying a string: `str.ljust(width, fillchar)`\n",
    "  - This method returns a left-justified version of the string with a specified width. The `width` parameter specifies the total width of the resulting string, and the optional `fillchar` parameter specifies the character used for padding. If `fillchar` is not provided, it defaults to a space.\n",
    "\n",
    "- Centering a string: `str.center(width, fillchar)`\n",
    "  - This method returns a centered version of the string with a specified width. The `width` parameter specifies the total width of the resulting string, and the optional `fillchar` parameter specifies the character used for padding. If `fillchar` is not provided, it defaults to a space.\n",
    "\n"
   ]
  },
  {
   "cell_type": "markdown",
   "id": "cf3a932a-5929-44c3-8185-2010c35a46ce",
   "metadata": {},
   "source": [
    "### Question 10:\n",
    "What is the best way to remove whitespace characters from the start or end?"
   ]
  },
  {
   "cell_type": "code",
   "execution_count": 4,
   "id": "1ca160ed-ed43-4184-a0c6-850c6191fda7",
   "metadata": {},
   "outputs": [
    {
     "name": "stdout",
     "output_type": "stream",
     "text": [
      "Hello, World!\n"
     ]
    }
   ],
   "source": [
    "text = \"  Hello, World!  \"\n",
    "stripped_text = text.strip()\n",
    "print(stripped_text)"
   ]
  },
  {
   "cell_type": "code",
   "execution_count": null,
   "id": "46b64e33-a6cf-4325-a881-85d5f68e1665",
   "metadata": {},
   "outputs": [],
   "source": []
  }
 ],
 "metadata": {
  "kernelspec": {
   "display_name": "Python 3 (ipykernel)",
   "language": "python",
   "name": "python3"
  },
  "language_info": {
   "codemirror_mode": {
    "name": "ipython",
    "version": 3
   },
   "file_extension": ".py",
   "mimetype": "text/x-python",
   "name": "python",
   "nbconvert_exporter": "python",
   "pygments_lexer": "ipython3",
   "version": "3.10.8"
  }
 },
 "nbformat": 4,
 "nbformat_minor": 5
}
