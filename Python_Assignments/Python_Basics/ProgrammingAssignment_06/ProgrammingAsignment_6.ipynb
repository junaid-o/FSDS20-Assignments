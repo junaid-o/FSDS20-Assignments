{
 "cells": [
  {
   "cell_type": "markdown",
   "id": "dd640186-c709-4fab-9d01-f76d0a1ee9b8",
   "metadata": {},
   "source": [
    "# <center>PythonBasics: ProgrammingAssignment_06</center>\n",
    "\n",
    "\n",
    "1. Write a Python Program to Display Fibonacci Sequence Using Recursion?\r\n",
    "2. Write a Python Program to Find Factorial of Number Using Recursion?\r\n",
    "3. Write a Python Program to calculate your Body Mass Index?\r\n",
    "4. Write a Python Program to calculate the natural logarithm of any number?\r\n",
    "5. Write a Python Program for cube sum of first n natural numbers?"
   ]
  },
  {
   "cell_type": "markdown",
   "id": "66b450a6-1680-4d85-8e1a-b1a23c725c6d",
   "metadata": {},
   "source": [
    "### Queation 1: Write a Python Program to Display Fibonacci Sequence Using Recursion?\n",
    "\n",
    "Recursion is a programming technique where a function calls itself to solve a problem by breaking it down into smaller, simpler subproblems. "
   ]
  },
  {
   "cell_type": "code",
   "execution_count": 3,
   "id": "2ad32530-6266-4a22-9ced-82e5e7da7927",
   "metadata": {},
   "outputs": [
    {
     "name": "stdin",
     "output_type": "stream",
     "text": [
      "Enter the number of terms:  10\n"
     ]
    },
    {
     "name": "stdout",
     "output_type": "stream",
     "text": [
      "Fibonacci sequence:\n",
      "0, 1, 1, 2, 3, 5, 8, 13, 21, 34, "
     ]
    }
   ],
   "source": [
    "def fibonacci(n):\n",
    "    if n <= 0:\n",
    "        print(\"Incorrect input!\")\n",
    "        return\n",
    "    elif n == 1:\n",
    "        return 0\n",
    "    elif n == 2:\n",
    "        return 1\n",
    "    else:\n",
    "        return fibonacci(n - 1) + fibonacci(n - 2)\n",
    "\n",
    "################## TEST\n",
    "\n",
    "terms = int(input(\"Enter the number of terms: \"))\n",
    "\n",
    "if terms <= 0:\n",
    "    print(\"Number of terms should be positive!\")\n",
    "else:\n",
    "    print(\"Fibonacci sequence:\")\n",
    "    for i in range(1, terms + 1):\n",
    "        print(fibonacci(i), end=\", \")\n"
   ]
  },
  {
   "cell_type": "markdown",
   "id": "1208d703-5209-4d6e-902f-c0382a68b9fb",
   "metadata": {},
   "source": [
    "### Question 2: Write a Python Program to Find Factorial of Number Using Recursion?"
   ]
  },
  {
   "cell_type": "code",
   "execution_count": 5,
   "id": "8e8e8dd4-5f7b-4fbc-95fb-a33665e8fdb2",
   "metadata": {},
   "outputs": [
    {
     "name": "stdin",
     "output_type": "stream",
     "text": [
      "Enter a number:  12\n"
     ]
    },
    {
     "name": "stdout",
     "output_type": "stream",
     "text": [
      "Factorial of 12 is 479001600\n"
     ]
    }
   ],
   "source": [
    "def factorial(n):\n",
    "    if n == 0:\n",
    "        return 1\n",
    "    else:\n",
    "        return n * factorial(n - 1)\n",
    "\n",
    "############ TEST\n",
    "num = int(input(\"Enter a number: \"))\n",
    "\n",
    "result = factorial(num)\n",
    "print(\"Factorial of\", num, \"is\", result)\n"
   ]
  },
  {
   "cell_type": "markdown",
   "id": "bcf06015-a747-49b9-a5e4-e264ac87a79c",
   "metadata": {},
   "source": [
    "### Question 3: Write a Python Program to calculate your Body Mass Index?"
   ]
  },
  {
   "cell_type": "code",
   "execution_count": 9,
   "id": "380d9cac-db4b-479a-9bae-3af3571836d7",
   "metadata": {},
   "outputs": [
    {
     "name": "stdin",
     "output_type": "stream",
     "text": [
      "Enter your weight in kilograms:  65\n",
      "Enter your height in meters:  2\n"
     ]
    },
    {
     "name": "stdout",
     "output_type": "stream",
     "text": [
      "Your BMI is: 16.25\n"
     ]
    }
   ],
   "source": [
    "def calculate_bmi(weight, height):\n",
    "    bmi = weight / (height ** 2)\n",
    "    return bmi\n",
    "\n",
    "################ TEST\n",
    "weight = float(input(\"Enter your weight in kilograms: \"))\n",
    "height = float(input(\"Enter your height in meters: \"))\n",
    "\n",
    "bmi = calculate_bmi(weight, height)\n",
    "print(\"Your BMI is:\", bmi)\n"
   ]
  },
  {
   "cell_type": "markdown",
   "id": "675a6afd-5802-464e-8d58-7d583ea30c26",
   "metadata": {},
   "source": [
    "### Question 4 Write a Python Program to calculate the natural logarithm of any number?"
   ]
  },
  {
   "cell_type": "code",
   "execution_count": 10,
   "id": "34cf17ec-3075-48e4-8ee5-9593bf699332",
   "metadata": {},
   "outputs": [
    {
     "name": "stdin",
     "output_type": "stream",
     "text": [
      "Enter a number:  2\n"
     ]
    },
    {
     "name": "stdout",
     "output_type": "stream",
     "text": [
      "The natural logarithm of 2.0 is 0.6931471805599453\n"
     ]
    }
   ],
   "source": [
    "import math\n",
    "\n",
    "number = float(input(\"Enter a number: \"))\n",
    "\n",
    "if number <= 0:\n",
    "    print(\"Invalid input. The number must be positive.\")\n",
    "else:\n",
    "    logarithm = math.log(number)\n",
    "    print(\"The natural logarithm of\", number, \"is\", logarithm)\n"
   ]
  },
  {
   "cell_type": "markdown",
   "id": "6290b665-058e-432f-aa29-364205602972",
   "metadata": {},
   "source": [
    "### Question 05: Write a Python Program for cube sum of first n natural numbers?"
   ]
  },
  {
   "cell_type": "code",
   "execution_count": 13,
   "id": "d8edea6f-28fc-4185-898d-98a7c6837b37",
   "metadata": {},
   "outputs": [
    {
     "name": "stdin",
     "output_type": "stream",
     "text": [
      "Enter a number:  100\n"
     ]
    },
    {
     "name": "stdout",
     "output_type": "stream",
     "text": [
      "The cube sum of the first 100 natural numbers is 25502500\n"
     ]
    }
   ],
   "source": [
    "def cube_sum(n):\n",
    "    if n <= 0:\n",
    "        print(\"Invalid input. The number must be positive.\")\n",
    "        return None\n",
    "    else:\n",
    "        result = sum([i**3 for i in range(1, n+1)])\n",
    "        return result\n",
    "\n",
    "# Example usage\n",
    "num = int(input(\"Enter a number: \"))\n",
    "\n",
    "cubesum = cube_sum(num)\n",
    "if cubesum is not None:\n",
    "    print(\"The cube sum of the first\", num, \"natural numbers is\", cubesum)\n"
   ]
  },
  {
   "cell_type": "code",
   "execution_count": null,
   "id": "381eadf7-aae9-4989-9eca-48e37830603d",
   "metadata": {},
   "outputs": [],
   "source": []
  }
 ],
 "metadata": {
  "kernelspec": {
   "display_name": "Python 3 (ipykernel)",
   "language": "python",
   "name": "python3"
  },
  "language_info": {
   "codemirror_mode": {
    "name": "ipython",
    "version": 3
   },
   "file_extension": ".py",
   "mimetype": "text/x-python",
   "name": "python",
   "nbconvert_exporter": "python",
   "pygments_lexer": "ipython3",
   "version": "3.10.8"
  }
 },
 "nbformat": 4,
 "nbformat_minor": 5
}
