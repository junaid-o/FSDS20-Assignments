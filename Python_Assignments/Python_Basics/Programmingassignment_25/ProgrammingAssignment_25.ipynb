{
 "cells": [
  {
   "cell_type": "markdown",
   "id": "0670618b-fa61-42c0-b1e2-8e69ef25f498",
   "metadata": {},
   "source": [
    "# <center>PythonBasic: ProgrammingAssignment_25</center>"
   ]
  },
  {
   "cell_type": "markdown",
   "id": "f3f1da4a-a3ca-4a36-933c-2aacbef41eb3",
   "metadata": {},
   "source": [
    "### Question 01:\n",
    "\n",
    "Create a function that takes three integer arguments (a, b, c) and returns the amount of\n",
    "integers which are of equal value.\n"
   ]
  },
  {
   "cell_type": "code",
   "execution_count": 7,
   "id": "9c33cd42-06a6-40dd-bf4c-427c62c320cf",
   "metadata": {},
   "outputs": [
    {
     "name": "stdout",
     "output_type": "stream",
     "text": [
      "2\n",
      "3\n",
      "0\n"
     ]
    }
   ],
   "source": [
    "def equal(a, b, c):\n",
    "    if a == b == c:\n",
    "        return 3\n",
    "    elif a == b or b == c or a == c:\n",
    "        return 2\n",
    "    else:\n",
    "        return 0\n",
    "\n",
    "\n",
    "\n",
    "################### TEST ######################\n",
    "\n",
    "print(equal(3, 4, 3))\n",
    "print(equal(1, 1, 1))\n",
    "print(equal(3, 4, 1))"
   ]
  },
  {
   "cell_type": "markdown",
   "id": "d296cb1c-7047-4a33-9bdb-d5f5dd5bc900",
   "metadata": {},
   "source": [
    "### Question 02:\n",
    "\n",
    "Write a function that converts a dictionary into a list of keys-values tuples."
   ]
  },
  {
   "cell_type": "code",
   "execution_count": 10,
   "id": "5a44580f-4f8b-4783-b78a-e95a0347666d",
   "metadata": {},
   "outputs": [
    {
     "name": "stdout",
     "output_type": "stream",
     "text": [
      "[('dislikes', 3), ('followers', 10), ('likes', 2)]\n"
     ]
    }
   ],
   "source": [
    "def dict_to_list(dictionary):\n",
    "    return sorted(dictionary.items())\n",
    "\n",
    "############### TEST ################\n",
    "\n",
    "dict = {\n",
    "    \"likes\": 2,\n",
    "    \"dislikes\": 3,\n",
    "    \"followers\": 10\n",
    "}\n",
    "result = dict_to_list(dict)\n",
    "print(result)\n"
   ]
  },
  {
   "cell_type": "markdown",
   "id": "d8ce273a-125c-4e00-a2d7-6b960d38c8b2",
   "metadata": {},
   "source": [
    "### Questtion 03:\n",
    "\n",
    "Write a function that creates a dictionary with each (key, value) pair being the (lower case,\n",
    "upper case) versions of a letter, respectively.\n",
    ".\r\n",
    "Examples\r\n",
    "mapping([&quot;p&quot;, &quot;s&quot;]) ➞ { &quot;p&quot;: &quot;P&quot;, &quot;s&quot;: &quot;S&quot; }\r\n",
    "\r\n",
    "mapping([&quot;a&quot;, &quot;b&quot;, &quot;c&quot;]) ➞ { &quot;a&quot;: &quot;A&quot;, &quot;b&quot;: &quot;B&quot;, &quot;c&quot;: &quot;C&quot; }\r\n",
    "mapping([&quot;a&quot;, &quot;v&quot;, &quot;y&quot;, &quot;z&quot;]) ➞ { &quot;a&quot;: &quot;A&quot;, &quot;v&quot;: &quot;V&quot;, &quot;y&quot;: &quot;Y&quot;, &quot;z&quot;: &quot;Z&quot; }\r\n",
    "Notes\r\n",
    "All of the letters in the input list will always be lowercase."
   ]
  },
  {
   "cell_type": "code",
   "execution_count": 11,
   "id": "663207b9-19c3-4e84-aad2-825a263b3d44",
   "metadata": {},
   "outputs": [
    {
     "name": "stdout",
     "output_type": "stream",
     "text": [
      "{'p': 'P', 's': 'S'}\n",
      "{'a': 'A', 'b': 'B', 'c': 'C'}\n",
      "{'a': 'A', 'v': 'V', 'y': 'Y', 'z': 'Z'}\n"
     ]
    }
   ],
   "source": [
    "def mapping(letters):\n",
    "    return {letter: letter.upper() for letter in letters}\n",
    "\n",
    "\n",
    "################### TEST ########################\n",
    "\n",
    "\n",
    "result1 = mapping([\"p\", \"s\"])\n",
    "print(result1)\n",
    "\n",
    "result2 = mapping([\"a\", \"b\", \"c\"])\n",
    "print(result2)\n",
    "\n",
    "result3 = mapping([\"a\", \"v\", \"y\", \"z\"])\n",
    "print(result3)\n"
   ]
  },
  {
   "cell_type": "markdown",
   "id": "b729f9b2-b83e-4878-99d3-8b60392dc24b",
   "metadata": {},
   "source": [
    "### Question 04:\n",
    "\n",
    "Write a function, that replaces all vowels in a string with a specified vowel.\n"
   ]
  },
  {
   "cell_type": "code",
   "execution_count": 12,
   "id": "d432d328-2c2c-426f-bf2e-46b88ab91cbd",
   "metadata": {},
   "outputs": [
    {
     "name": "stdout",
     "output_type": "stream",
     "text": [
      "upplus und bununus\n",
      "chooso cossorolo\n",
      "steffed jelepene peppers\n"
     ]
    }
   ],
   "source": [
    "def vow_replace(string, vowel):\n",
    "    vowels = ['a', 'e', 'i', 'o', 'u']\n",
    "    result = \"\"\n",
    "    for char in string:\n",
    "        if char.lower() in vowels:\n",
    "            result += vowel\n",
    "        else:\n",
    "            result += char\n",
    "    return result\n",
    "\n",
    "\n",
    "############### TESt ##################\n",
    "\n",
    "\n",
    "result1 = vow_replace(\"apples and bananas\", \"u\")\n",
    "print(result1)\n",
    "\n",
    "result2 = vow_replace(\"cheese casserole\", \"o\")\n",
    "print(result2)\n",
    "\n",
    "result3 = vow_replace(\"stuffed jalapeno poppers\", \"e\")\n",
    "print(result3)\n"
   ]
  },
  {
   "cell_type": "markdown",
   "id": "0a893aef-7caf-45ba-b1b7-6e9be0e2f280",
   "metadata": {},
   "source": [
    "### Question 05:\n",
    "\n",
    "Create a function that takes a string as input and capitalizes a letter if its ASCII code is even\n",
    "and returns its lower case version if its ASCII code is odd.\n"
   ]
  },
  {
   "cell_type": "code",
   "execution_count": 13,
   "id": "62b94665-a0f6-4794-a6c9-810aa3edba38",
   "metadata": {},
   "outputs": [
    {
     "name": "stdout",
     "output_type": "stream",
     "text": [
      "To Be oR NoT To Be!\n",
      "THe LiTTLe meRmaiD\n",
      "oH wHaT a BeauTiFuL moRNiNg.\n"
     ]
    }
   ],
   "source": [
    "def ascii_capitalize(string):\n",
    "    result = \"\"\n",
    "    for char in string:\n",
    "        ascii_code = ord(char)\n",
    "        if ascii_code % 2 == 0:\n",
    "            result += char.upper()\n",
    "        else:\n",
    "            result += char.lower()\n",
    "    return result\n",
    "\n",
    "###################### TESt #######################\n",
    "\n",
    "result1 = ascii_capitalize(\"to be or not to be!\")\n",
    "print(result1)\n",
    "\n",
    "result2 = ascii_capitalize(\"THE LITTLE MERMAID\")\n",
    "print(result2)\n",
    "\n",
    "result3 = ascii_capitalize(\"Oh what a beautiful morning.\")\n",
    "print(result3)\n"
   ]
  },
  {
   "cell_type": "code",
   "execution_count": null,
   "id": "d0c60f01-13f9-4c22-946b-13e9f18129f1",
   "metadata": {},
   "outputs": [],
   "source": []
  }
 ],
 "metadata": {
  "kernelspec": {
   "display_name": "Python 3 (ipykernel)",
   "language": "python",
   "name": "python3"
  },
  "language_info": {
   "codemirror_mode": {
    "name": "ipython",
    "version": 3
   },
   "file_extension": ".py",
   "mimetype": "text/x-python",
   "name": "python",
   "nbconvert_exporter": "python",
   "pygments_lexer": "ipython3",
   "version": "3.10.8"
  }
 },
 "nbformat": 4,
 "nbformat_minor": 5
}
