{
 "cells": [
  {
   "cell_type": "markdown",
   "id": "ad7f7af7-2a59-45ec-8721-6f1d39451786",
   "metadata": {},
   "source": [
    "# <center>PythonBasics: ProgrammingAssignment_09</center>\n",
    "\n",
    "1. Write a Python program to check if the given number is a Disarium Number?\n",
    "2. Write a Python program to print all disarium numbers between 1 to 100?\n",
    "3. Write a Python program to check if the given number is Happy Number?\n",
    "4. Write a Python program to print all happy numbers between 1 and 100?\n",
    "5. Write a Python program to determine whether the given number is a Harshad Number?\n",
    "6. Write a Python program to print all pronic numbers between 1 and 100?"
   ]
  },
  {
   "cell_type": "markdown",
   "id": "6dc41029-2c49-430b-b191-80c942b29c27",
   "metadata": {},
   "source": [
    "### Question 01: Write a Python program to check if the given number is a Disarium Number?\n",
    "\n",
    "\n",
    "A Disarium Number is a number that is equal to the sum of its digits raised to the power of their respective positions."
   ]
  },
  {
   "cell_type": "code",
   "execution_count": 1,
   "id": "fc2d3628-732e-49f1-9b5a-def8706d6503",
   "metadata": {},
   "outputs": [
    {
     "name": "stdout",
     "output_type": "stream",
     "text": [
      "135 is a Disarium Number\n"
     ]
    }
   ],
   "source": [
    "def is_disarium(number):\n",
    "    # Convert the number to a string for individual digit access\n",
    "    num_str = str(number)\n",
    "    \n",
    "    # Calculate the sum of digits raised to their respective positions\n",
    "    sum_digits = sum(int(digit) ** (index + 1) for index, digit in enumerate(num_str))\n",
    "    \n",
    "    # Check if the sum is equal to the original number\n",
    "    if sum_digits == number:\n",
    "        return True\n",
    "    else:\n",
    "        return False\n",
    "\n",
    "#################### TEST ######################\n",
    "#################### TEST ######################\n",
    "\n",
    "\n",
    "number = 135\n",
    "if is_disarium(number):\n",
    "    print(number, \"is a Disarium Number\")\n",
    "else:\n",
    "    print(number, \"is not a Disarium Number\")\n"
   ]
  },
  {
   "cell_type": "markdown",
   "id": "245042f2-fa9e-4c71-a52d-8829ca40403d",
   "metadata": {},
   "source": [
    "### Question 02: Write a Python program to print all disarium numbers between 1 to 100?\n"
   ]
  },
  {
   "cell_type": "code",
   "execution_count": 4,
   "id": "a762614e-5984-477b-bc09-59d7221b793d",
   "metadata": {},
   "outputs": [
    {
     "data": {
      "text/plain": [
       "[1, 2, 3, 4, 5, 6, 7, 8, 9, 89]"
      ]
     },
     "execution_count": 4,
     "metadata": {},
     "output_type": "execute_result"
    }
   ],
   "source": [
    "# Using function from previous question\n",
    "\n",
    "[i for i in range(1,100) if is_disarium(i)]"
   ]
  },
  {
   "cell_type": "markdown",
   "id": "7ae8f571-8545-452f-be6b-b146fc4e9098",
   "metadata": {},
   "source": [
    "### Question 03: Write a Python program to check if the given number is Happy Number?\n",
    "\n",
    "A Happy Number is a number that, when repeatedly replaced by the sum of the squares of its digits, eventually reaches 1. If a number loops endlessly in this process without reaching 1, it is not a Happy Number."
   ]
  },
  {
   "cell_type": "code",
   "execution_count": 12,
   "id": "aef05177-f7f1-472e-b909-37963be2e6f1",
   "metadata": {},
   "outputs": [
    {
     "name": "stdout",
     "output_type": "stream",
     "text": [
      "19 is a Happy Number\n"
     ]
    }
   ],
   "source": [
    "def is_happy_number(number):\n",
    "    seen_numbers = set()  # Set to store seen numbers during the process\n",
    "    \n",
    "    while number != 1 and number not in seen_numbers:\n",
    "        seen_numbers.add(number)\n",
    "        number = sum(int(digit) ** 2 for digit in str(number))\n",
    "    \n",
    "    if number == 1:\n",
    "        return True\n",
    "    else:\n",
    "        return False\n",
    "\n",
    "################## TEST ##################\n",
    "################## TEST ##################\n",
    "\n",
    "number = 19\n",
    "if is_happy_number(number):\n",
    "    print(number, \"is a Happy Number\")\n",
    "else:\n",
    "    print(number, \"is not a Happy Number\")\n"
   ]
  },
  {
   "cell_type": "markdown",
   "id": "f7595e33-1fa1-4dcd-a072-99daa7d4e0da",
   "metadata": {},
   "source": [
    "### Question 04: Write a Python program to print all happy numbers between 1 and 100?"
   ]
  },
  {
   "cell_type": "code",
   "execution_count": 13,
   "id": "95720a19-8671-452d-b3cd-0ed1aca3ee35",
   "metadata": {},
   "outputs": [
    {
     "data": {
      "text/plain": [
       "[1, 7, 10, 13, 19, 23, 28, 31, 32, 44, 49, 68, 70, 79, 82, 86, 91, 94, 97]"
      ]
     },
     "execution_count": 13,
     "metadata": {},
     "output_type": "execute_result"
    }
   ],
   "source": [
    "# Using function from previous question\n",
    "\n",
    "\n",
    "[i for i in range(1,100) if is_happy_number(i)]"
   ]
  },
  {
   "cell_type": "markdown",
   "id": "7d2c9ed5-4e2c-4a4e-9054-6af9878a0e8f",
   "metadata": {},
   "source": [
    "### Question 5: Write a Python program to determine whether the given number is a Harshad Number?\n",
    "\n",
    "\n",
    "A Harshad Number (also called Niven Number) is a number that is divisible by the sum of its digits. In other words, if a number is divisible by the sum of its digits without any remainder, it is a Harshad Number.\r\n",
    "\r\n"
   ]
  },
  {
   "cell_type": "code",
   "execution_count": 14,
   "id": "d59fa23c-e0fe-4fc1-95ce-cd7c64338b6d",
   "metadata": {},
   "outputs": [
    {
     "name": "stdout",
     "output_type": "stream",
     "text": [
      "18 is a Harshad Number\n"
     ]
    }
   ],
   "source": [
    "def is_harshad_number(number):\n",
    "    # Calculate the sum of the digits\n",
    "    digit_sum = sum(int(digit) for digit in str(number))\n",
    "    \n",
    "    # Check if the number is divisible by the sum of its digits\n",
    "    if number % digit_sum == 0:\n",
    "        return True\n",
    "    else:\n",
    "        return False\n",
    "\n",
    "################ TEST #################\n",
    "################ TEST #################\n",
    "\n",
    "number = 18\n",
    "if is_harshad_number(number):\n",
    "    print(number, \"is a Harshad Number\")\n",
    "else:\n",
    "    print(number, \"is not a Harshad Number\")\n"
   ]
  },
  {
   "cell_type": "markdown",
   "id": "8d0333a6-0fe8-4653-b3c6-c67622369ae7",
   "metadata": {},
   "source": [
    "### Question 6: Write a Python program to print all pronic numbers between 1 and 100?\n",
    "\n",
    "\n",
    "A pronic number, also known as an oblong number or rectangular number, is a number that can be represented as the product of two consecutive integers. In other words, a pronic number can be expressed as n * (n + 1), where n is a positive integer."
   ]
  },
  {
   "cell_type": "code",
   "execution_count": 17,
   "id": "433caad9-4cd5-467f-a8cd-e0bfce8fe827",
   "metadata": {},
   "outputs": [
    {
     "name": "stdout",
     "output_type": "stream",
     "text": [
      "Pronic numbers between 1 and 100:\n",
      "[2, 6, 12, 20, 30, 42, 56, 72, 90]\n"
     ]
    }
   ],
   "source": [
    "def print_pronic_numbers():\n",
    "    pronic_numbers = []\n",
    "    \n",
    "    for n in range(1, 10):\n",
    "        pronic = n * (n + 1)\n",
    "        if pronic <= 100:\n",
    "            pronic_numbers.append(pronic)\n",
    "    \n",
    "    print(\"Pronic numbers between 1 and 100:\")\n",
    "    print(pronic_numbers)\n",
    "\n",
    "################ TEST #######################\n",
    "################ TEST #######################\n",
    "\n",
    "print_pronic_numbers()\n"
   ]
  },
  {
   "cell_type": "code",
   "execution_count": null,
   "id": "a778e331-5e84-4ac6-b9fc-5ecac8906a54",
   "metadata": {},
   "outputs": [],
   "source": []
  }
 ],
 "metadata": {
  "kernelspec": {
   "display_name": "Python 3 (ipykernel)",
   "language": "python",
   "name": "python3"
  },
  "language_info": {
   "codemirror_mode": {
    "name": "ipython",
    "version": 3
   },
   "file_extension": ".py",
   "mimetype": "text/x-python",
   "name": "python",
   "nbconvert_exporter": "python",
   "pygments_lexer": "ipython3",
   "version": "3.10.8"
  }
 },
 "nbformat": 4,
 "nbformat_minor": 5
}
