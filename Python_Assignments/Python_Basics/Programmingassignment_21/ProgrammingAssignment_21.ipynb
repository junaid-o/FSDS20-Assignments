{
 "cells": [
  {
   "cell_type": "markdown",
   "id": "6dfbf9b6-c5a0-49d6-983b-1dc6faa4d63a",
   "metadata": {},
   "source": [
    "# <center>PythonBasics: ProgrammingAssignment_21</center>"
   ]
  },
  {
   "cell_type": "markdown",
   "id": "838bc929-3b32-449e-b3b7-7c86b6719d4a",
   "metadata": {},
   "source": [
    "### Question 01:\n",
    "\n",
    "Write a function that takes a list and a number as arguments. Add the number to the end of\n",
    "the list, then remove the first element of the list. The function should then return the updated\n",
    "list.\n",
    "Examples\n",
    "next_in_line([5, 6, 7, 8, 9], 1) ➞ [6, 7, 8, 9, 1]"
   ]
  },
  {
   "cell_type": "code",
   "execution_count": 1,
   "id": "c0d47bdc-72be-4c58-899c-e8c55d951e9f",
   "metadata": {},
   "outputs": [
    {
     "name": "stdout",
     "output_type": "stream",
     "text": [
      "[6, 7, 8, 9, 1]\n"
     ]
    }
   ],
   "source": [
    "def next_in_line(lst, number):\n",
    "    lst.append(number)\n",
    "    lst.pop(0)\n",
    "    return lst\n",
    "\n",
    "###################################\n",
    "\n",
    "my_list = [5, 6, 7, 8, 9]\n",
    "updated_list = next_in_line(my_list, 1)\n",
    "print(updated_list)\n"
   ]
  },
  {
   "cell_type": "markdown",
   "id": "3cfd1b51-4317-4c8f-a34c-1e6af34967a4",
   "metadata": {},
   "source": [
    "### Question 02:\n",
    "\n",
    "Create the function that takes a list of dictionaries and returns the sum of people&#39;s budgets.\n",
    "Examples\n",
    "get_budgets([\n",
    "{ &quot;name&quot;: &quot;John&quot;, &quot;age&quot;: 21, &quot;budget&quot;: 23000 },\n",
    "{ &quot;name&quot;: &quot;Steve&quot;, &quot;age&quot;: 32, &quot;budget&quot;: 40000 },\n",
    "{ &quot;name&quot;: &quot;Martin&quot;, &quot;age&quot;: 16, &quot;budget&quot;: 2700 }\n",
    "]) ➞ 65700"
   ]
  },
  {
   "cell_type": "code",
   "execution_count": 2,
   "id": "6615edba-59ad-47ca-9c62-be37fb8c70c8",
   "metadata": {},
   "outputs": [
    {
     "name": "stdout",
     "output_type": "stream",
     "text": [
      "65700\n"
     ]
    }
   ],
   "source": [
    "def get_budgets(lst):\n",
    "    total_budget = 0\n",
    "    for person in lst:\n",
    "        total_budget += person['budget']\n",
    "    return total_budget\n",
    "\n",
    "############################ TEST #######################    \n",
    "people = [\n",
    "    {\"name\": \"John\", \"age\": 21, \"budget\": 23000},\n",
    "    {\"name\": \"Steve\", \"age\": 32, \"budget\": 40000},\n",
    "    {\"name\": \"Martin\", \"age\": 16, \"budget\": 2700}\n",
    "]\n",
    "\n",
    "total_budget = get_budgets(people)\n",
    "print(total_budget)\n"
   ]
  },
  {
   "cell_type": "markdown",
   "id": "d9ee2955-77de-4e9b-8365-65d651ffdc1a",
   "metadata": {},
   "source": [
    "### Question 03\n",
    "\n",
    "\n",
    "Create a function that takes a string and returns a string with its letters in alphabetical order."
   ]
  },
  {
   "cell_type": "code",
   "execution_count": 10,
   "id": "005a4e80-8c01-4d7a-82fb-9fe2c93bcca3",
   "metadata": {},
   "outputs": [
    {
     "name": "stdout",
     "output_type": "stream",
     "text": [
      "abcdewxyz\n"
     ]
    }
   ],
   "source": [
    "def sort_letters(string):\n",
    "    sorted_string = ''.join(sorted(string))\n",
    "    return sorted_string\n",
    "\n",
    "\n",
    "################ TEST #################\n",
    "################ TEST #################\n",
    "\n",
    "\n",
    "input_string = \"ebdaczwxy\"\n",
    "sorted_string = sort_letters(input_string)\n",
    "print(sorted_string)\n"
   ]
  },
  {
   "cell_type": "markdown",
   "id": "6cd88fa7-4dbf-4180-b22f-a9399c9df35c",
   "metadata": {},
   "source": [
    "### Question 04:\n",
    "\n",
    "Suppose that you invest $10,000 for 10 years at an interest rate of 6% compounded monthly.\n",
    "What will be the value of your investment at the end of the 10 year period?\n",
    "Create a function that accepts the principal p, the term in years t, the interest rate r, and the\n",
    "number of compounding periods per year n. The function returns the value at the end of term\n",
    "rounded to the nearest cent.\n",
    "For the example above:\n",
    "compound_interest(10000, 10, 0.06, 12) ➞ 18193.97\n",
    "Note that the interest rate is given as a decimal and n=12 because with monthly compounding\n",
    "there are 12 periods per year. Compounding can also be done annually, quarterly, weekly, or\n",
    "daily."
   ]
  },
  {
   "cell_type": "code",
   "execution_count": 12,
   "id": "0d0927f2-f7a0-4994-b27f-90f49b486521",
   "metadata": {},
   "outputs": [
    {
     "name": "stdout",
     "output_type": "stream",
     "text": [
      "18193.97\n"
     ]
    }
   ],
   "source": [
    "def compound_interest(p, t, r, n):\n",
    "    A = p * (1 + r/n)**(n*t)\n",
    "    return round(A, 2)\n",
    "\n",
    "\n",
    "################### test tesT ######################\n",
    "\n",
    "investment_value = compound_interest(10000, 10, 0.06, 12)\n",
    "print(investment_value)\n"
   ]
  },
  {
   "cell_type": "markdown",
   "id": "f6f96a80-deef-4f8d-88fa-0bfd3c7de25d",
   "metadata": {},
   "source": [
    "### Question 05\n",
    "\n",
    "Write a function that takes a list of elements and returns only the integers.\n",
    "Examples\n",
    "return_only_integer([9, 2, &quot;space&quot;, &quot;car&quot;, &quot;lion&quot;, 16]) ➞ [9, 2, 16]"
   ]
  },
  {
   "cell_type": "code",
   "execution_count": 14,
   "id": "4084bc59-8c1f-47d5-bc2b-8882a29b794a",
   "metadata": {},
   "outputs": [
    {
     "name": "stdout",
     "output_type": "stream",
     "text": [
      "[9, 2, 16]\n"
     ]
    }
   ],
   "source": [
    "def return_only_integer(lst):\n",
    "    return [x for x in lst if isinstance(x, int)]\n",
    "\n",
    "\n",
    "####### TEST #################\n",
    "####### TEST #################\n",
    "\n",
    "input_list = [9, 2, \"space\", \"car\", \"lion\", 16]\n",
    "integer_list = return_only_integer(input_list)\n",
    "print(integer_list)\n"
   ]
  },
  {
   "cell_type": "code",
   "execution_count": null,
   "id": "4a1cd1c8-0790-4d42-885c-c6964edf7ee9",
   "metadata": {},
   "outputs": [],
   "source": []
  }
 ],
 "metadata": {
  "kernelspec": {
   "display_name": "Python 3 (ipykernel)",
   "language": "python",
   "name": "python3"
  },
  "language_info": {
   "codemirror_mode": {
    "name": "ipython",
    "version": 3
   },
   "file_extension": ".py",
   "mimetype": "text/x-python",
   "name": "python",
   "nbconvert_exporter": "python",
   "pygments_lexer": "ipython3",
   "version": "3.10.8"
  }
 },
 "nbformat": 4,
 "nbformat_minor": 5
}
