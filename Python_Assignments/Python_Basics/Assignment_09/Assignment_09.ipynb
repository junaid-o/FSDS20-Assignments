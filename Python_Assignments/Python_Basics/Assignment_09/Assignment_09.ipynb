{
 "cells": [
  {
   "cell_type": "markdown",
   "id": "9111d21b-4039-48a4-bbb2-24222f1f7841",
   "metadata": {},
   "source": [
    "# <center>PythonBasics: Assignment_09</center>"
   ]
  },
  {
   "cell_type": "markdown",
   "id": "6489770f-c628-4d74-993b-c0431dc7dfac",
   "metadata": {},
   "source": [
    "### Question 01:\n",
    "To what does a relative path refer?\n",
    "\n",
    "\n",
    "**<span style='color:blue'>Answer</span>**"
   ]
  },
  {
   "cell_type": "markdown",
   "id": "d4843616-9f12-4d8e-89d2-7b997873ffb0",
   "metadata": {},
   "source": [
    "A relative path refers to the path of a file or directory relative to the current working directory. It specifies the location of a file or directory in relation to the current location without providing the complete path from the root directory."
   ]
  },
  {
   "cell_type": "markdown",
   "id": "58a97787-ca54-46c7-a6a1-2da1e530563a",
   "metadata": {},
   "source": [
    "### Question 02:\n",
    "What does an absolute path start with your operating system?\n",
    "\n",
    "\n",
    "**<span style='color:blue'>Answer</span>**"
   ]
  },
  {
   "cell_type": "markdown",
   "id": "5b5a4096-1e5b-47e7-85d5-b3a5e6904e24",
   "metadata": {},
   "source": [
    "\n",
    "In most operating systems, an absolute path starts with the root directory. The root directory is the top-level directory that serves as the starting point for the entire file system hierarchy. It is represented by a forward slash (/) in Unix-like systems (e.g., Linux, macOS) and by a drive letter followed by a colon (C:) in Windows systems."
   ]
  },
  {
   "cell_type": "markdown",
   "id": "484065af-4060-4b83-aa4e-2274acf8c95e",
   "metadata": {},
   "source": [
    "### Question 03:\n",
    "What do the functions os.getcwd() and os.chdir() do?\n",
    "\n",
    "\n",
    "**<span style='color:blue'>Answer</span>**"
   ]
  },
  {
   "cell_type": "markdown",
   "id": "1cfd176c-ccfd-4701-8184-b2252ad941da",
   "metadata": {},
   "source": [
    "The functions `os.getcwd()` and `os.chdir()` are part of the `os` module in Python, which provides a way to interact with the operating system.\n",
    "\n",
    "- `os.getcwd()`: This function returns the current working directory (CWD) as a string. The current working directory is the directory in which the Python script is currently executing. It represents the starting point for relative paths.\n",
    "\n",
    "- `os.chdir(path)`: This function changes the current working directory to the specified `path`. The `path` argument is a string representing the directory to which you want to change. Once `os.chdir()` is called, the CWD is updated to the specified directory.\n"
   ]
  },
  {
   "cell_type": "markdown",
   "id": "16e9c88d-7cb3-4981-827b-f2abc4c161ca",
   "metadata": {},
   "source": [
    "### Question 04:\n",
    "What are the . and .. folders?\n",
    "\n",
    "\n",
    "**<span style='color:blue'>Answer</span>**"
   ]
  },
  {
   "cell_type": "markdown",
   "id": "0eae929c-6aca-4985-a162-43c73dc10dff",
   "metadata": {},
   "source": [
    "In the context of file systems, the `.` and `..` folders are special references to directories.\n",
    "\n",
    "- `.` (dot): This represents the current directory. It is used to refer to the directory where the current file or script is located. For example, if you are executing a Python script from the `/path/to/script/` directory, the `.` refers to `/path/to/script/`.\n",
    "\n",
    "- `..` (dot-dot): This represents the parent directory. It is used to refer to the directory one level up in the directory hierarchy. For example, if you are currently in the `/path/to/directory/`, then `..` refers to `/path/to/`."
   ]
  },
  {
   "cell_type": "markdown",
   "id": "e9baf53f-a06c-4b00-8e2b-57d7f0f609a1",
   "metadata": {},
   "source": [
    "### Question 05:\n",
    "In C:\\bacon\\eggs\\spam.txt, which part is the dir name, and which part is the base name?\n",
    "\n",
    "\n",
    "**<span style='color:blue'>Answer</span>**"
   ]
  },
  {
   "cell_type": "markdown",
   "id": "e81bef14-6bb1-42b3-8092-e422e7d10532",
   "metadata": {},
   "source": [
    "In the path \"C:\\bacon\\eggs\\spam.txt\":\n",
    "\n",
    "- `C:\\bacon\\eggs` is the directory name or dirname. It represents the path to the directory containing the file.\n",
    "\n",
    "- `spam.txt` is the base name. It refers to the name of the file itself, including the file extension."
   ]
  },
  {
   "cell_type": "markdown",
   "id": "0e0d603e-ceb9-4e52-8d36-20ae85e5a131",
   "metadata": {},
   "source": [
    "### Question 06:\n",
    "What are the three “mode” arguments that can be passed to the open() function?\n",
    "\n",
    "\n",
    "**<span style='color:blue'>Answer</span>**"
   ]
  },
  {
   "cell_type": "markdown",
   "id": "c0b5ff4f-d2d5-499c-8306-40e6b4dd6e75",
   "metadata": {},
   "source": [
    "The three \"mode\" arguments that can be passed to the `open()` function are:\n",
    "\n",
    "1. `r`: This mode is used for reading a file. The file must exist, and it is opened in read-only mode. This is the default mode if no mode is specified.\n",
    "\n",
    "2. `w`: This mode is used for writing to a file. If the file already exists, it is truncated (emptied) before writing. If the file does not exist, a new file is created.\n",
    "\n",
    "3. `a`: This mode is used for appending to a file. If the file already exists, the new data is appended to the end of the file. If the file does not exist, a new file is created.\n",
    "\n",
    "These modes can be combined with other characters to modify the behavior, such as adding a `+` character for read and write access (`r+`) or appending a `b` character for binary mode (`rb`, `wb`, `ab`)."
   ]
  },
  {
   "cell_type": "markdown",
   "id": "17feddda-27bb-46f4-840a-1178025d7129",
   "metadata": {},
   "source": [
    "### Question 07:\n",
    "What happens if an existing file is opened in write mode?\n",
    "\n",
    "**<span style='color:blue'>Answer</span>**"
   ]
  },
  {
   "cell_type": "markdown",
   "id": "60e6074d-badf-4d2e-98a0-fd99ce78fc7a",
   "metadata": {},
   "source": [
    "If an existing file is opened in write mode (`\"w\"`), the file is truncated (emptied) and the write operation starts from the beginning of the file. This means that any existing content in the file will be lost. If the file does not exist, a new file will be created.\n",
    "\n",
    "It is important to exercise caution when using write mode as it can overwrite the contents of an existing file without any warning or confirmation."
   ]
  },
  {
   "cell_type": "markdown",
   "id": "4fe7c649-6399-42af-b72d-6fe2a2a1b5a2",
   "metadata": {},
   "source": [
    "### Question 08:\n",
    "How do you tell the difference between read() and readlines()?\n",
    "\n",
    "\n",
    "**<span style='color:blue'>Answer</span>**"
   ]
  },
  {
   "cell_type": "markdown",
   "id": "09751aab-f29d-4596-a2fb-cf2e12f29bc7",
   "metadata": {},
   "source": [
    "The `read()` method is used to read the entire contents of a file as a single string. It reads the file from the current position of the file pointer until the end of the file. The resulting string includes newline characters (`\\n`) representing line breaks.\n",
    "\n",
    "On the other hand, the `readlines()` method is used to read the contents of a file line by line and store each line as a string element in a list. It reads the file from the current position of the file pointer until the end of the file, splitting it into separate lines. The resulting list contains each line as a separate string element, excluding the newline characters.\n",
    "\n",
    "In conclusion, `read()` returns a single string representing the entire file contents, while `readlines()` returns a list of strings, each representing a line in the file."
   ]
  },
  {
   "cell_type": "markdown",
   "id": "891d89ea-d502-4091-820e-9871dfdc1c96",
   "metadata": {},
   "source": [
    "### Question 09:\n",
    "What data structure does a shelf value resemble?\n",
    "\n",
    "\n",
    "**<span style='color:blue'>Answer</span>**"
   ]
  },
  {
   "cell_type": "markdown",
   "id": "d04525fa-6ac0-4623-98c4-0384c7942cc3",
   "metadata": {},
   "source": [
    "A shelf value in Python resembles a dictionary data structure. It is provided by the `shelve` module, which allows you to store and retrieve Python objects using a key-value pair format similar to dictionaries.\n",
    "\n",
    "With a shelf value, you can store objects using keys, just like adding items to a dictionary. The shelf value maintains the key-value associations and provides methods to access, modify, and remove the stored objects.\n",
    "\n",
    "The `shelve` module uses a disk-based file format internally to store the data, allowing you to persistently store and retrieve objects across multiple program executions. It provides a convenient way to save and load complex data structures in a way that is easy to work with.\n"
   ]
  },
  {
   "cell_type": "code",
   "execution_count": null,
   "id": "c2a27e63-aae5-47c6-b53f-41bc498a6a58",
   "metadata": {},
   "outputs": [],
   "source": []
  }
 ],
 "metadata": {
  "kernelspec": {
   "display_name": "Python 3 (ipykernel)",
   "language": "python",
   "name": "python3"
  },
  "language_info": {
   "codemirror_mode": {
    "name": "ipython",
    "version": 3
   },
   "file_extension": ".py",
   "mimetype": "text/x-python",
   "name": "python",
   "nbconvert_exporter": "python",
   "pygments_lexer": "ipython3",
   "version": "3.10.8"
  }
 },
 "nbformat": 4,
 "nbformat_minor": 5
}
