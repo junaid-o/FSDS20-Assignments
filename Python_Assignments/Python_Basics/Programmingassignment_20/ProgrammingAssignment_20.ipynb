{
 "cells": [
  {
   "cell_type": "markdown",
   "id": "3fcd1d55-4f5b-4c3c-abe0-15027f955218",
   "metadata": {},
   "source": [
    "# <center>PythonBasics: ProgramingAssignment_20</center>"
   ]
  },
  {
   "cell_type": "markdown",
   "id": "a977eca4-0b61-449c-bd32-48e32afbb64b",
   "metadata": {},
   "source": [
    "### Question 01:\n",
    "\n",
    "Create a function that takes a list of strings and integers, and filters out the list so that it\r\n",
    "returns a list of integers only."
   ]
  },
  {
   "cell_type": "code",
   "execution_count": 1,
   "id": "351ebc58-25b4-441e-aa15-a5f5fcc465b2",
   "metadata": {},
   "outputs": [
    {
     "name": "stdout",
     "output_type": "stream",
     "text": [
      "[123, 456, 789]\n"
     ]
    }
   ],
   "source": [
    "def filter_integers(lst):\n",
    "    return [x for x in lst if isinstance(x, int)]\n",
    "\n",
    "#################################################\n",
    "\n",
    "mixed_list = ['hello', 123, 'world', 456, '!', 789]\n",
    "filtered_list = filter_integers(mixed_list)\n",
    "print(filtered_list)\n"
   ]
  },
  {
   "cell_type": "markdown",
   "id": "c128dc8b-6ea5-45f7-8e3d-927ff082186b",
   "metadata": {},
   "source": [
    "### Question 02:\n",
    "\n",
    "Given a list of numbers, create a function which returns the list but with each element&#39;s\n",
    "index in the list added to itself. This means you add 0 to the number at index 0, add 1 to the\n",
    "number at index 1, etc..."
   ]
  },
  {
   "cell_type": "code",
   "execution_count": 2,
   "id": "aef6d64a-d4e8-428d-bd40-1c6b5018fa8e",
   "metadata": {},
   "outputs": [
    {
     "name": "stdout",
     "output_type": "stream",
     "text": [
      "[1, 3, 5, 7, 9]\n"
     ]
    }
   ],
   "source": [
    "def add_index(lst):\n",
    "    return [num + index for index, num in enumerate(lst)]\n",
    "\n",
    "\n",
    "###############################################\n",
    "numbers = [1, 2, 3, 4, 5]\n",
    "result = add_index(numbers)\n",
    "print(result)\n"
   ]
  },
  {
   "cell_type": "markdown",
   "id": "ecb46b2c-7c93-4615-bd64-d7ae14560020",
   "metadata": {},
   "source": [
    "### Question 03:\n",
    "\n",
    "\n",
    "Create a function that takes the height and radius of a cone as arguments and returns the\n",
    "volume of the cone rounded to the nearest hundredth."
   ]
  },
  {
   "cell_type": "code",
   "execution_count": 3,
   "id": "3fbfd052-9a7f-41bc-9ffd-40b6a11b18a5",
   "metadata": {},
   "outputs": [
    {
     "name": "stdout",
     "output_type": "stream",
     "text": [
      "32.72\n"
     ]
    }
   ],
   "source": [
    "import math\n",
    "\n",
    "def cone_volume(height, radius):\n",
    "    volume = (1/3) * math.pi * radius**2 * height\n",
    "    return round(volume, 2)\n",
    "\n",
    "\n",
    "\n",
    "########### TESt ##############################    \n",
    "\n",
    "h = 5\n",
    "r = 2.5\n",
    "result = cone_volume(h, r)\n",
    "print(result)"
   ]
  },
  {
   "cell_type": "code",
   "execution_count": null,
   "id": "a0d6585c-6225-46e9-994b-b3340b6b7b53",
   "metadata": {},
   "outputs": [],
   "source": []
  },
  {
   "cell_type": "markdown",
   "id": "c85f7e35-26fa-40d2-b455-d5dd50da7b94",
   "metadata": {},
   "source": [
    "### Question 04:\n",
    "\n",
    "This Triangular Number Sequence is generated from a pattern of dots that form a triangle.\n",
    "The first 5 numbers of the sequence, or dots, are:\n",
    "1, 3, 6, 10, 15\n",
    "This means that the first triangle has just one dot, the second one has three dots, the third one\n",
    "has 6 dots and so on.\n",
    "Write a function that gives the number of dots with its corresponding triangle number of the\n",
    "sequence."
   ]
  },
  {
   "cell_type": "code",
   "execution_count": 4,
   "id": "dfcb8642-85fe-40fe-bb9c-2395512bc469",
   "metadata": {},
   "outputs": [
    {
     "name": "stdout",
     "output_type": "stream",
     "text": [
      "10\n"
     ]
    }
   ],
   "source": [
    "def calculate_dots(triangle_number):\n",
    "    dots = (triangle_number * (triangle_number + 1)) // 2\n",
    "    return dots\n",
    "\n",
    "\n",
    "###################################\n",
    "\n",
    "triangle_number = 4\n",
    "dots = calculate_dots(triangle_number)\n",
    "print(dots)\n"
   ]
  },
  {
   "cell_type": "markdown",
   "id": "ef253e24-78f4-4554-a6e2-723c5f2d6708",
   "metadata": {},
   "source": [
    "### Question 05:\n",
    "\n",
    "Create a function that takes a list of numbers between 1 and 10 (excluding one number) and\n",
    "returns the missing number."
   ]
  },
  {
   "cell_type": "code",
   "execution_count": 5,
   "id": "9de7f665-b2e3-47a7-83d6-e09339d3a387",
   "metadata": {},
   "outputs": [
    {
     "name": "stdout",
     "output_type": "stream",
     "text": [
      "5\n"
     ]
    }
   ],
   "source": [
    "def find_missing_number(numbers):\n",
    "    all_numbers = set(range(1, 11))\n",
    "    given_numbers = set(numbers)\n",
    "    missing_number = all_numbers - given_numbers\n",
    "    return list(missing_number)[0]\n",
    "\n",
    "################### TEST #######################\n",
    "\n",
    "numbers = [1, 2, 3, 4, 6, 7, 8, 9, 10]\n",
    "missing_number = find_missing_number(numbers)\n",
    "print(missing_number)\n"
   ]
  },
  {
   "cell_type": "code",
   "execution_count": null,
   "id": "b241b2b8-f07c-418a-8d9f-44f1c3acef5e",
   "metadata": {},
   "outputs": [],
   "source": []
  }
 ],
 "metadata": {
  "kernelspec": {
   "display_name": "Python 3 (ipykernel)",
   "language": "python",
   "name": "python3"
  },
  "language_info": {
   "codemirror_mode": {
    "name": "ipython",
    "version": 3
   },
   "file_extension": ".py",
   "mimetype": "text/x-python",
   "name": "python",
   "nbconvert_exporter": "python",
   "pygments_lexer": "ipython3",
   "version": "3.10.8"
  }
 },
 "nbformat": 4,
 "nbformat_minor": 5
}
