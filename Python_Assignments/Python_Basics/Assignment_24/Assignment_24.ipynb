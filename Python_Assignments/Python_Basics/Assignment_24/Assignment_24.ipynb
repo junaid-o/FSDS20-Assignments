{
 "cells": [
  {
   "cell_type": "markdown",
   "id": "d2181675-a5d6-42c2-be06-819d06358738",
   "metadata": {},
   "source": [
    "# <center>PythonBasics: Assignment_24</center>"
   ]
  },
  {
   "cell_type": "markdown",
   "id": "f7d21bbd-f734-42ee-90c8-36801f92f4b5",
   "metadata": {},
   "source": [
    "### Question 01\n",
    "What is the relationship between def statements and lambda expressions ?\n",
    "\n",
    "**<span style='color:blue'>Answer</span>**"
   ]
  },
  {
   "cell_type": "markdown",
   "id": "094803f9-e744-4f97-a1f2-47c52e30ee9e",
   "metadata": {},
   "source": [
    "\n",
    "- `def` statements are used to define named functions, while lambda expressions create anonymous functions without a name.\n",
    "- `def` statements have a larger syntax and can contain multiple statements and a function body, while lambda expressions have a more compact syntax with a single expression.\n",
    "- `def` statements create function objects that can be referenced and reused, while lambda expressions are typically used inline without being assigned to a name.\n",
    "- `def` statements are suitable for defining functions with complex logic and multiple statements, while lambda expressions are useful for creating simple, one-time functions.\n",
    "- `def` statements use a `return` statement to specify the return value explicitly, while lambda expressions implicitly return the value of the expression.\n",
    "- Both `def` statements and lambda expressions can be used as function objects and passed as arguments to other functions.\n",
    "- `def` statements provide better readability and flexibility, while lambda expressions offer concise and convenient function creation."
   ]
  },
  {
   "cell_type": "markdown",
   "id": "7ac2a12b-b412-4e53-b92f-78f781395fae",
   "metadata": {},
   "source": [
    "### Question 02\n",
    "What is the benefit of lambda?\n",
    "\n",
    "**<span style='color:blue'>Answer</span>**"
   ]
  },
  {
   "cell_type": "markdown",
   "id": "7be9b369-0397-4969-9da0-6b84fc22976f",
   "metadata": {},
   "source": [
    "The lambda function (or lambda expression) in Python provides several benefits:\n",
    "\n",
    "1. Concise Syntax: Lambda functions have a compact and concise syntax, allowing you to define simple functions in a single line of code. This can make your code more readable and reduce the need for defining separate named functions.\n",
    "\n",
    "2. Anonymous Functions: Lambda functions are anonymous, which means they don't require a name. This is useful when you need to create small, one-time functions without the need for defining and referencing a named function.\n",
    "\n",
    "3. Function Objects: Lambda functions are function objects, which means you can assign them to variables, pass them as arguments to other functions, or return them as values from other functions. This makes lambda functions flexible and enables their use in functional programming concepts.\n",
    "\n",
    "4. Inline Usage: Lambda functions are commonly used inline within other functions or methods. For example, they can be used with built-in functions like `map()`, `filter()`, or `reduce()`, where you need to provide a function as an argument without the need for a separate named function.\n",
    "\n",
    "5. Simplifying Code: Lambda functions can help simplify code by eliminating the need for defining and maintaining multiple small functions with specific purposes. They allow you to express simple operations and transformations more directly, reducing the overall code complexity.\n",
    "\n",
    "6. Readability: In some cases, lambda functions can improve code readability by reducing the number of lines and making the code more concise, especially for simple operations or transformations."
   ]
  },
  {
   "cell_type": "markdown",
   "id": "72cdbe4f-01f7-4143-95a4-d3215088fe32",
   "metadata": {},
   "source": [
    "### Question 03\n",
    "Compare and contrast map, filter, and reduce.\n",
    "\n",
    "**<span style='color:blue'>Answer</span>**"
   ]
  },
  {
   "cell_type": "markdown",
   "id": "33ed3da2-8073-453f-a852-9e9202631ec7",
   "metadata": {},
   "source": [
    "`map`, `filter`, and `reduce` are three built-in functions in Python that operate on iterable objects (like lists, tuples, or strings)\n",
    "\n",
    "1. `map`:\n",
    "   - Purpose: `map` applies a given function to each element of an iterable and returns an iterator that contains the results.\n",
    "   - Syntax: `map(function, iterable)`\n",
    "   - Behavior: `map` applies the `function` to each element of the `iterable` and returns an iterator with the transformed values. The length of the resulting iterator is equal to the length of the input iterable.\n",
    "   - Example: `map(lambda x: x * 2, [1, 2, 3])` returns an iterator `[2, 4, 6]`, where each element is doubled.\n",
    "\n",
    "2. `filter`:\n",
    "   - Purpose: `filter` creates an iterator that contains elements from the iterable for which the given function returns `True`.\n",
    "   - Syntax: `filter(function, iterable)`\n",
    "   - Behavior: `filter` applies the `function` to each element of the `iterable` and returns an iterator with only the elements for which the function returns `True`.\n",
    "   - Example: `filter(lambda x: x % 2 == 0, [1, 2, 3, 4, 5])` returns an iterator `[2, 4]`, containing only the even numbers.\n",
    "\n",
    "3. `reduce`:\n",
    "   - Purpose: `reduce` applies a given function to the elements of an iterable in a cumulative way, reducing them to a single value.\n",
    "   - Syntax: `reduce(function, iterable)`\n",
    "   - Behavior: `reduce` applies the `function` to the first two elements of the `iterable`, then applies it to the result and the next element, and continues until all elements are processed, resulting in a single value.\n",
    "   - Example: `reduce(lambda x, y: x + y, [1, 2, 3, 4, 5])` returns `15`, which is the sum of all elements.\n",
    "\n",
    "Comparison:\n",
    "- All three functions operate on iterables and accept a function as an argument.\n",
    "- `map` and `filter` return iterators, while `reduce` returns a single value.\n",
    "- `map` applies a function to each element and returns a transformed iterable, `filter` returns elements that satisfy a given condition, and `reduce` accumulates values to a single result.\n"
   ]
  },
  {
   "cell_type": "markdown",
   "id": "999214d4-af06-4d7b-b350-af8f7a405e21",
   "metadata": {},
   "source": [
    "### Question 04\n",
    "What are function annotations, and how are they used?\n",
    "\n",
    "**<span style='color:blue'>Answer</span>**"
   ]
  },
  {
   "cell_type": "markdown",
   "id": "e57dc710-76b2-4554-acec-7a02827dcd6d",
   "metadata": {},
   "source": [
    "Function annotations in Python are a way to attach metadata or type hints to the parameters and return values of a function. They provide additional information about the expected types or purpose of the function's inputs and outputs. Function annotations do not affect the runtime behavior of the function; they are primarily used for documentation and static analysis.\n",
    "\n",
    "Function annotations are defined using the following syntax:\n",
    "\n",
    "```python\n",
    "def function_name(parameter: annotation_type) -> return_annotation:\n",
    "    # Function body\n",
    "    ...\n",
    "```\n",
    "\n",
    "Here's an explanation of the components involved:\n",
    "\n",
    "- `parameter`: The name of a parameter in the function's parameter list, followed by a colon `:` and the annotation type. The annotation type can be any valid Python expression or a string representing the type hint.\n",
    "- `annotation_type`: The type hint or annotation for the parameter. It can be a built-in Python type, a custom class, or a string representing the type.\n",
    "- `return_annotation`: An optional annotation type indicating the expected return type of the function.\n",
    "\n",
    "Example:\n",
    "\n",
    "```python\n",
    "def add_numbers(a: int, b: int) -> int:\n",
    "    return a + b\n",
    "```\n",
    "\n",
    "Function annotations can be accessed using the `__annotations__` attribute of the function object. It returns a dictionary where the keys are the parameter names and the values are the corresponding annotation types.\n",
    "\n",
    "```python\n",
    "print(add_numbers.__annotations__)\n",
    "# Output: {'a': <class 'int'>, 'b': <class 'int'>, 'return': <class 'int'>}\n",
    "```\n",
    "\n",
    "Function annotations can be useful for documentation purposes, providing hints to static type checkers (such as mypy), and helping other developers understand the expected types or purpose of the function's arguments and return values."
   ]
  },
  {
   "cell_type": "markdown",
   "id": "d59a6e1a-5197-4ad9-ac9e-d41904a0f4d8",
   "metadata": {},
   "source": [
    "### Question 05\n",
    "What are recursive functions, and how are they used?\n",
    "\n",
    "**<span style='color:blue'>Answer</span>**"
   ]
  },
  {
   "cell_type": "markdown",
   "id": "c1d1a933-3463-4c25-aa18-febf36a259b8",
   "metadata": {},
   "source": [
    "Recursive functions are functions that call themselves within their own function body. The recursive approach breaks down a complex problem into simpler and similar subproblems and solves them recursively until a `base case` is reached.\n",
    "\n",
    "\n",
    "1. The function defines `one or more base cases` that act as stopping conditions. These are the simplest instances of the problem that can be solved directly without recursion. When a base case is encountered, the function returns a specific value without making a recursive call.\n",
    "2. The function defines `one or more recursive cases` that break down the problem into smaller subproblems. These subproblems are solved by making recursive calls to the same function but with a modified set of arguments. The result of the recursive calls is then combined or processed to obtain the final result.\n",
    "\n",
    "Recursive functions typically follow this general structure:\n",
    "\n",
    "```python\n",
    "def recursive_function(parameters):\n",
    "    # Base case(s)\n",
    "    if base_condition:\n",
    "        return base_value\n",
    "\n",
    "    # Recursive case(s)\n",
    "    result = process_result(recursive_function(modified_parameters))\n",
    "    return result\n",
    "```\n",
    "\n",
    "Key points about recursive functions:\n",
    "\n",
    "- They allow the solution to be expressed in terms of smaller instances of the same problem.\n",
    "- They rely on the concept of \"divide and conquer\" to break down complex problems.\n",
    "- Recursive functions should be designed carefully to ensure termination by defining proper base cases.\n",
    "- They may require more memory compared to iterative solutions due to the function call stack.\n",
    "\n",
    "When using recursive functions, it's important to consider the termination condition, the base case(s), and the problem's nature to ensure correct and efficient execution. Recursive functions can lead to elegant and concise solutions for certain types of problems but may also introduce complexity if not used appropriately."
   ]
  },
  {
   "cell_type": "markdown",
   "id": "11d81520-f5ed-40ed-bc68-b9da4210617e",
   "metadata": {},
   "source": [
    "### Question 06\n",
    "What are some general design guidelines for coding functions?\n",
    "\n",
    "**<span style='color:blue'>Answer</span>**"
   ]
  },
  {
   "cell_type": "markdown",
   "id": "d4470813-0c65-4548-ac85-e76019f1029f",
   "metadata": {},
   "source": [
    "1. **Function Naming**: Choose descriptive and meaningful names for functions that accurately reflect their purpose and functionality. Use lowercase letters with underscores (snake_case) for function names in Python.\n",
    "\n",
    "2. **Function Length**: Keep functions concise and focused on performing a single task. Functions should ideally be short enough to fit on a single screen without scrolling. If a function becomes too long, consider refactoring it into smaller, more manageable functions.\n",
    "\n",
    "3. **Function Parameters**: Minimize the number of function parameters to make the interface simpler and easier to use. If a function has too many parameters, consider grouping related parameters into a single object or using default arguments or keyword arguments.\n",
    "\n",
    "4. **Function Return Values**: Clearly define the purpose and expected return value(s) of the function. If a function performs a computation or transformation, it's often helpful to explicitly return the result rather than relying on modifying global variables.\n",
    "\n",
    "5. **Function Modularity**: Encapsulate related functionality into functions to promote code modularity and reusability. Functions should have a clear and specific purpose, focusing on a single task.\n",
    "\n",
    "6. **Function Documentation**: Provide clear and concise documentation for functions, including a docstring that describes the function's purpose, parameters, and return value(s). This helps other developers understand and use the function correctly.\n",
    "\n",
    "7. **Function Testing**: Write test cases to validate the correctness of the function's implementation. Consider using a testing framework to automate the testing process and ensure the function behaves as expected.\n",
    "\n",
    "8. **Function Side Effects**: Minimize side effects within functions, such as modifying global variables or performing I/O operations. Functions that have side effects can be harder to reason about and test. Instead, aim for functions that are self-contained and operate solely on their inputs.\n",
    "\n",
    "9. **Function Cohesion**: Ensure that the code within a function is cohesive, meaning it logically belongs together and operates on the same set of data. Avoid mixing unrelated functionality within a single function.\n",
    "\n",
    "10. **Function Readability**: Write clean and readable code within functions by following consistent indentation, proper spacing, and clear variable naming conventions. Use comments when necessary to clarify complex or non-obvious sections of code."
   ]
  },
  {
   "cell_type": "markdown",
   "id": "83f1c307-e5f1-46d0-8b23-45663cb4e5e2",
   "metadata": {},
   "source": [
    "### Question 07\n",
    "Name three or more ways that functions can communicate results to a caller.\n",
    "\n",
    "**<span style='color:blue'>Answer</span>**"
   ]
  },
  {
   "cell_type": "markdown",
   "id": "fc264a84-0d01-42bf-970b-f06d369c762d",
   "metadata": {},
   "source": [
    "Functions can communicate results to a caller through:\n",
    "\n",
    "1. **Return Statement**: Use the `return` statement to send values back to the caller.\n",
    "2. **Global Variables**: Modify and use global variables to communicate results.\n",
    "3. **Mutable Objects**: Update mutable objects passed as arguments to share results.\n",
    "4. **Output Parameters**: Use additional parameters to update variables with results."
   ]
  },
  {
   "cell_type": "code",
   "execution_count": null,
   "id": "58bfd696-78d6-488b-b6f7-b63d282453c3",
   "metadata": {},
   "outputs": [],
   "source": []
  }
 ],
 "metadata": {
  "kernelspec": {
   "display_name": "Python 3 (ipykernel)",
   "language": "python",
   "name": "python3"
  },
  "language_info": {
   "codemirror_mode": {
    "name": "ipython",
    "version": 3
   },
   "file_extension": ".py",
   "mimetype": "text/x-python",
   "name": "python",
   "nbconvert_exporter": "python",
   "pygments_lexer": "ipython3",
   "version": "3.10.8"
  }
 },
 "nbformat": 4,
 "nbformat_minor": 5
}
