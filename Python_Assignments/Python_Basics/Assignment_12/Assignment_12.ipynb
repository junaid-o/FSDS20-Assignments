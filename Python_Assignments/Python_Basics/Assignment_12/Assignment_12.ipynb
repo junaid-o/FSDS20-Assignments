{
 "cells": [
  {
   "cell_type": "markdown",
   "id": "e31a41ff-0eb2-4035-86ab-386b90306cb5",
   "metadata": {},
   "source": [
    "# <center>PythonBasics: Assignment_12</cetner>"
   ]
  },
  {
   "cell_type": "markdown",
   "id": "dcc6c4da-579c-4cc5-b715-64cd9bd0f674",
   "metadata": {},
   "source": [
    "### Question 01:\n",
    "In what modes should the PdfFileReader() and PdfFileWriter() File objects will be opened?\n",
    "\n",
    "**<span style='color:blue'>Answer</span>**"
   ]
  },
  {
   "cell_type": "markdown",
   "id": "ad64b81b-7b06-4efc-b4f9-868fccfe2645",
   "metadata": {},
   "source": [
    "When working with `PyPDF2 library` in Python, the `PdfFileReader()` function is used to read an existing PDF file, and the `PdfFileWriter()` function is used to create a new PDF file or modify an existing one. \n",
    "\n",
    "* For `PdfFileReader()`, you need to open the PDF file in read-binary mode, which is denoted by the mode string `\"rb\"`. This allows the library to read the PDF file correctly.\n",
    "\n",
    "* For `PdfFileWriter()`, you need to open the PDF file in write-binary mode, which is denoted by the mode string `\"wb\"`. This ensures that the library can write the modified PDF content correctly.\n",
    "\n",
    "*Therefore, the appropriate modes for `PdfFileReader()` and `PdfFileWriter()` File objects are `\"rb\"` and `\"wb\"` respectively.*"
   ]
  },
  {
   "cell_type": "markdown",
   "id": "56c664ae-5986-4dcb-a067-af6355059683",
   "metadata": {},
   "source": [
    "### Question 02:\n",
    "From a PdfFileReader object, how do you get a Page object for page 5?\n",
    "\n",
    "**<span style='color:blue'>Answer</span>**"
   ]
  },
  {
   "cell_type": "markdown",
   "id": "7e0bd982-8387-4b9b-b3ba-039ed4598da0",
   "metadata": {},
   "source": [
    "```python\n",
    "\n",
    "from PyPDF2 import PdfFileReader\n",
    "\n",
    "# Open the PDF file\n",
    "pdf = PdfFileReader('your_pdf_file.pdf')\n",
    "\n",
    "# Get the Page object for page 5\n",
    "page_number = 4  # Page number 5 corresponds to index 4\n",
    "page = pdf.getPage(page_number)\n",
    "\n",
    "# You can now work with the Page object as needed\n",
    "\n",
    "\n",
    "\n",
    "```"
   ]
  },
  {
   "cell_type": "markdown",
   "id": "43a9d3a9-1e34-412d-8afc-712bbb84b59e",
   "metadata": {},
   "source": [
    "### Question 03:\n",
    "What PdfFileReader variable stores the number of pages in the PDF document?\n",
    "\n",
    "**<span style='color:blue'>Answer</span>**"
   ]
  },
  {
   "cell_type": "markdown",
   "id": "40075651-3f95-4916-9356-186cd7336cfe",
   "metadata": {},
   "source": [
    "The `PdfFileReader` class in PyPDF2 library has a variable called `numPages` that stores the number of pages in the PDF document. You can access this variable to get the total number of pages in the PDF.\n",
    "\n",
    "___\n",
    "\n",
    "\n",
    "```python\n",
    "from PyPDF2 import PdfFileReader\n",
    "\n",
    "# Open the PDF file\n",
    "pdf = PdfFileReader('your_pdf_file.pdf')\n",
    "\n",
    "# Get the number of pages in the PDF\n",
    "num_pages = pdf.numPages\n",
    "\n",
    "print(\"Total number of pages:\", num_pages)\n",
    "```"
   ]
  },
  {
   "cell_type": "markdown",
   "id": "0e31c2ae-95f4-48b7-8d25-d42ade86cb8d",
   "metadata": {},
   "source": [
    "### Question 04:\n",
    "If a PdfFileReader object’s PDF is encrypted with the password swordfish, what must you do\n",
    "before you can obtain Page objects from it?\n",
    "\n",
    "**<span style='color:blue'>Answer</span>**"
   ]
  },
  {
   "cell_type": "markdown",
   "id": "506e2663-ea40-41b3-8d91-9c81af141dcf",
   "metadata": {},
   "source": [
    "If a PDF file is encrypted with a password, you need to decrypt it before obtaining Page objects from it using a `PdfFileReader` object. In PyPDF2 library, you can use the `decrypt(password)` method to decrypt the PDF file.\n",
    "\n",
    "___\n",
    "\n",
    "\n",
    "```python\n",
    "from PyPDF2 import PdfFileReader\n",
    "\n",
    "# Open the encrypted PDF file\n",
    "pdf = PdfFileReader('encrypted_pdf_file.pdf')\n",
    "\n",
    "# Decrypt the PDF with the password\n",
    "pdf.decrypt('swordfish')\n",
    "\n",
    "# Access Page objects from the decrypted PDF\n",
    "num_pages = pdf.numPages\n",
    "first_page = pdf.getPage(0)\n",
    "\n",
    "# Close the PDF file\n",
    "pdf.stream.close()\n",
    "```\n"
   ]
  },
  {
   "cell_type": "markdown",
   "id": "1d73dade-9c31-46bb-bad6-8d5b9c3e5979",
   "metadata": {},
   "source": [
    "### Question 05:\n",
    "What methods do you use to rotate a page?\n",
    "\n",
    "**<span style='color:blue'>Answer</span>**"
   ]
  },
  {
   "cell_type": "markdown",
   "id": "facb12ff-1faf-40f4-baeb-a6c2e97dd771",
   "metadata": {},
   "source": [
    "To rotate a page in a PDF using the PyPDF2 library, you can use the `rotateClockwise()` and `rotateCounterClockwise()` methods of the `PageObject` class. These methods allow you to rotate the page by 90 degrees in the clockwise or counter-clockwise direction, respectively.\n",
    "\n",
    "___\n",
    "\n",
    "\n",
    "```python\n",
    "from PyPDF2 import PdfFileReader, PdfFileWriter\n",
    "\n",
    "\n",
    "pdf = PdfFileReader('input.pdf')\n",
    "\n",
    "page = pdf.getPage(0)\n",
    "\n",
    "# Rotate the page clockwise\n",
    "page.rotateClockwise(90)\n",
    "\n",
    "# Create a new PDF writer\n",
    "output_pdf = PdfFileWriter()\n",
    "\n",
    "# Add the rotated page to the output PDF\n",
    "output_pdf.addPage(page)\n",
    "\n",
    "# Save the output PDF to a file\n",
    "with open('output.pdf', 'wb') as file:\n",
    "    output_pdf.write(file)\n",
    "```"
   ]
  },
  {
   "cell_type": "markdown",
   "id": "283cc4c6-43a7-476b-b4df-df10978fa6d1",
   "metadata": {},
   "source": [
    "### Question 06:\n",
    "What is the difference between a Run object and a Paragraph object?\n",
    "\n",
    "**<span style='color:blue'>Answer</span>**"
   ]
  },
  {
   "cell_type": "markdown",
   "id": "a63d34c3-fe7c-4e3c-b495-b1da45b96e64",
   "metadata": {},
   "source": [
    "In the context of working with the `python-docx library`, a Run object and a Paragraph object represent different elements of a Word document:\n",
    "\n",
    "1. Paragraph Object: A Paragraph object represents a single paragraph of text in a Word document. It can contain multiple Run objects or other elements such as tables, images, or nested paragraphs. The Paragraph object is used to define the formatting and properties of the entire paragraph, such as alignment, indentation, spacing, and style.\n",
    "\n",
    "2. Run Object: A Run object represents a contiguous run of text within a paragraph that has the same formatting properties. It is a portion of text that shares the same character-level formatting, such as font style, size, color, or bold/italic attributes. A paragraph can contain one or more Run objects, and each Run object can have its own formatting properties.\n"
   ]
  },
  {
   "cell_type": "markdown",
   "id": "826ac9b0-809b-4bf8-8b42-a495f9621fc6",
   "metadata": {},
   "source": [
    "### Question 07:\n",
    "How do you obtain a list of Paragraph objects for a Document object that’s stored in a variable\n",
    "named doc?\n",
    "\n",
    "**<span style='color:blue'>Answer</span>**"
   ]
  },
  {
   "cell_type": "markdown",
   "id": "c763c03b-15f6-4eb6-8dc1-56a379abd3d8",
   "metadata": {},
   "source": [
    "To obtain a list of Paragraph objects from a Document object in `python-docx`, you can use the `paragraphs` property of the Document object.\n",
    "\n",
    "```python\n",
    "from docx import Document\n",
    "\n",
    "doc = Document(\"path/to/document.docx\")\n",
    "\n",
    "# Obtain a list of Paragraph objects from the Document\n",
    "paragraphs = doc.paragraphs\n",
    "\n",
    "for paragraph in paragraphs:\n",
    "    # Do something with each paragraph\n",
    "    print(paragraph.text)\n",
    "```"
   ]
  },
  {
   "cell_type": "markdown",
   "id": "d875d070-9176-45fc-ab65-8b841b7c6491",
   "metadata": {},
   "source": [
    "### Question 08:\n",
    "What type of object has bold, underline, italic, strike, and outline variables?\n",
    "\n",
    "**<span style='color:blue'>Answer</span>**"
   ]
  },
  {
   "cell_type": "markdown",
   "id": "03b35530-9d85-43ac-87a9-d8b8f7414acb",
   "metadata": {},
   "source": [
    "The `Run` object in python-docx has the variables `bold`, `underline`, `italic`, `strike`, and `outline` to represent formatting attributes. The `Run` object represents a run of text within a paragraph that has consistent character formatting.\n",
    "\n",
    "```python\n",
    "from docx import Document\r\n",
    "\r\n",
    "# Assuming you have a Document object stored in the 'doc' variable\r\n",
    "doc = Document(\"path/to/document.docx\" runs\r\n",
    "for paragraph in doc.paragraphs:\r\n",
    "    for run in paragraph.runs:\r\n",
    "        # Check formatting attributes\r\n",
    "        if run.bold:\r\n",
    "            print(\"Bold text:\", run.text)\r\n",
    "        if run.underline:\r\n",
    "            print(\"Underlined text:\", run.text)\r\n",
    "        if run.italic:\r\n",
    "            print(\"Italic text:\", run.text)\r\n",
    "        if run.strike:\r\n",
    "            print(\"Strikethrough text:\", run.text)\r\n",
    "        if run.outline:\r\n",
    "            print(\"Outline ```text:\", run.text)\r\n"
   ]
  },
  {
   "cell_type": "markdown",
   "id": "79769618-efad-4c84-b830-0834b9451fa1",
   "metadata": {},
   "source": [
    "### Question 09:\n",
    "What is the difference between False, True, and None for the bold variable?\n",
    "\n",
    "**<span style='color:blue'>Answer</span>**"
   ]
  },
  {
   "cell_type": "markdown",
   "id": "6ecd3d8f-94c3-42a4-a8cf-dd5c4b88880f",
   "metadata": {},
   "source": [
    "In the context of the `bold` variable in python-docx, the values False, True, and None represent different states of the formatting attribute.\n",
    "\n",
    "- `False`: When `bold` is set to False, it means that the run of text is not formatted as bold.\n",
    "- `True`: When `bold` is set to True, it means that the run of text is explicitly formatted as bold.\n",
    "- `None`: When `bold` is set to None, it means that the run of text inherits the bold formatting from its parent style or the default style.\n"
   ]
  },
  {
   "cell_type": "markdown",
   "id": "39666ab2-9135-42bf-a123-673b04300978",
   "metadata": {},
   "source": [
    "### Question 10:\n",
    "How do you create a Document object for a new Word document?\n",
    "\n",
    "**<span style='color:blue'>Answer</span>**"
   ]
  },
  {
   "cell_type": "code",
   "execution_count": null,
   "id": "7547292e-4587-41af-aa08-825c455e88f3",
   "metadata": {},
   "outputs": [],
   "source": [
    "from docx import Document\n",
    "\n",
    "doc = Document()  # Create a new Document object\n",
    "\n",
    "# Add content to the document\n",
    "doc.add_paragraph(\"Hello, World!\")\n",
    "doc.add_heading(\"Heading 1\", level=1)\n",
    "\n",
    "# Save the document\n",
    "doc.save(\"path/to/new_document.docx\")\n"
   ]
  },
  {
   "cell_type": "markdown",
   "id": "8e95202d-49e6-41de-a7b2-8a26eb66a880",
   "metadata": {},
   "source": [
    "### Question 11:\n",
    "How do you add a paragraph with the text &#39;Hello, there!&#39; to a Document object stored in a\n",
    "variable named doc?\n",
    "\n",
    "**<span style='color:blue'>Answer</span>**"
   ]
  },
  {
   "cell_type": "markdown",
   "id": "332f24a2-6342-4046-818f-bf7115256c07",
   "metadata": {},
   "source": [
    "To add a paragraph with the text 'Hello, there!' to a Document object stored in a variable named doc, you can use the add_paragraph() method. "
   ]
  },
  {
   "cell_type": "markdown",
   "id": "fb837d8e-24a8-4aa3-b35d-47c99e04ee4e",
   "metadata": {},
   "source": [
    "### Question 12:\n",
    "What integers represent the levels of headings available in Word documents?\n",
    "\n",
    "**<span style='color:blue'>Answer</span>**"
   ]
  },
  {
   "cell_type": "markdown",
   "id": "ec87fc48-052b-4de5-9281-248935190891",
   "metadata": {},
   "source": [
    "Heading 1: Level 1 (integer value: 1)\n",
    "\n",
    "Heading 2: Level 2 (integer value: 2)\n",
    "\n",
    "Heading 3: Level 3 (integer value: 3)\n",
    "\n",
    "Heading 4: Level 4 (integer value: 4)\n",
    "\n",
    "Heading 5: Level 5 (integer value: 5)\n",
    "\n",
    "Heading 6: Level 6 (integer value: 6)\n",
    "\n",
    "Heading 7: Level 7 (integer value: 7)\n",
    "\n",
    "Heading 8: Level 8 (integer value: 8)\n",
    "\n",
    "Heading 9: Level 9 (integer value: 9)"
   ]
  },
  {
   "cell_type": "code",
   "execution_count": null,
   "id": "59b3bf0f-d254-4a8a-ace8-4602e664fc85",
   "metadata": {},
   "outputs": [],
   "source": []
  }
 ],
 "metadata": {
  "kernelspec": {
   "display_name": "Python 3 (ipykernel)",
   "language": "python",
   "name": "python3"
  },
  "language_info": {
   "codemirror_mode": {
    "name": "ipython",
    "version": 3
   },
   "file_extension": ".py",
   "mimetype": "text/x-python",
   "name": "python",
   "nbconvert_exporter": "python",
   "pygments_lexer": "ipython3",
   "version": "3.10.8"
  }
 },
 "nbformat": 4,
 "nbformat_minor": 5
}
