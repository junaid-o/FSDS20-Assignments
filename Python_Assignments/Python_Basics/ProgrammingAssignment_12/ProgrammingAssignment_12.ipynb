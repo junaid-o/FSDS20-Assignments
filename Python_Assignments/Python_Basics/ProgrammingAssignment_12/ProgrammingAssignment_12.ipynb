{
 "cells": [
  {
   "cell_type": "markdown",
   "id": "eff01241-b0de-4c6f-881e-8addafd95345",
   "metadata": {},
   "source": [
    "# <center>PythonBasics: ProgrammingAssignment_12</center>\n",
    "\n",
    "\n",
    "1. Write a Python program to Extract Unique values dictionary values?\r\n",
    "2. Write a Python program to find the sum of all items in a dictionary?\r\n",
    "3. Write a Python program to Merging two Dictionaries?\r\n",
    "4. Write a Python program to convert key-values list to flat dictionary?\r\n",
    "5. Write a Python program to insertion at the beginning in OrderedDict?\r\n",
    "6. Write a Python program to check order of character in string using OrderedDict()?\r\n",
    "7. Write a Python program to sort Python Dictionaries by Key or Value?"
   ]
  },
  {
   "cell_type": "markdown",
   "id": "9ea2552c-647c-4308-9e7c-1564a3298eb0",
   "metadata": {},
   "source": [
    "### Question 1: Write a Python program to Extract Unique values dictionary values?"
   ]
  },
  {
   "cell_type": "code",
   "execution_count": 1,
   "id": "c577a874-20c2-458c-92c6-b808c9796b4f",
   "metadata": {},
   "outputs": [
    {
     "name": "stdout",
     "output_type": "stream",
     "text": [
      "Unique values: {1, 2, 3, 4, 5}\n"
     ]
    }
   ],
   "source": [
    "def extract_unique_values(dictionary):\n",
    "    # Create an empty set to store unique values\n",
    "    unique_values = set()\n",
    "\n",
    "    # Iterate over each value in the dictionary\n",
    "    for values in dictionary.values():\n",
    "        # Check if the value is iterable (a list, tuple, etc.)\n",
    "        if isinstance(values, (list, tuple, set)):\n",
    "            # Add each item in the iterable to the set of unique values\n",
    "            unique_values.update(values)\n",
    "        else:\n",
    "            # Add the value itself to the set of unique values\n",
    "            unique_values.add(values)\n",
    "\n",
    "    return unique_values\n",
    "\n",
    "################ TEST #################\n",
    "################ TEST #################\n",
    "\n",
    "\n",
    "dict_test = {'key1': [1, 2, 3], 'key2': [2, 3, 4], 'key3': [3, 4, 5]}\n",
    "unique_values = extract_unique_values(dict_test)\n",
    "print(\"Unique values:\", unique_values)\n"
   ]
  },
  {
   "cell_type": "markdown",
   "id": "cc678865-09fd-4b95-931e-1d8488287625",
   "metadata": {},
   "source": [
    "### Question 2: Write a Python program to find the sum of all items in a dictionary?_"
   ]
  },
  {
   "cell_type": "code",
   "execution_count": 2,
   "id": "40709abf-d383-4f98-a876-8d51c35166e5",
   "metadata": {},
   "outputs": [
    {
     "name": "stdout",
     "output_type": "stream",
     "text": [
      "Sum of items: 22.5\n"
     ]
    }
   ],
   "source": [
    "def sum_of_items(dictionary):\n",
    "    total_sum = 0\n",
    "\n",
    "    # Iterate over each value in the dictionary\n",
    "    for value in dictionary.values():\n",
    "        # Check if the value is numeric\n",
    "        if isinstance(value, (int, float)):\n",
    "            total_sum += value\n",
    "\n",
    "    return total_sum\n",
    "\n",
    "############### TEST #############\n",
    "############### TEST #############\n",
    "\n",
    "dict_test = {'item1': 10, 'item2': 5.5, 'item3': 7}\n",
    "total = sum_of_items(dict_test)\n",
    "print(\"Sum of items:\", total)\n"
   ]
  },
  {
   "cell_type": "markdown",
   "id": "8ad98cd5-a8e2-4a30-adfd-6e8f4236e82a",
   "metadata": {},
   "source": [
    "### Question 03: Write a Python program to Merging two Dictionaries?"
   ]
  },
  {
   "cell_type": "code",
   "execution_count": 3,
   "id": "287e799c-7899-4e3c-ab0a-40cfdc2da0bc",
   "metadata": {},
   "outputs": [
    {
     "name": "stdout",
     "output_type": "stream",
     "text": [
      "Merged dictionary: {'a': 1, 'b': 2, 'c': 3, 'd': 4}\n"
     ]
    }
   ],
   "source": [
    "def merge_dictionaries(dict1, dict2):\n",
    "    merged_dict = dict1.copy()  # Create a copy of dict1\n",
    "\n",
    "    merged_dict.update(dict2)  # Update the copy with dict2\n",
    "\n",
    "    return merged_dict\n",
    "\n",
    "#################### TEST #############\n",
    "#################### TEST #############\n",
    "\n",
    "dict1 = {'a': 1, 'b': 2}\n",
    "dict2 = {'c': 3, 'd': 4}\n",
    "merged = merge_dictionaries(dict1, dict2)\n",
    "print(\"Merged dictionary:\", merged)\n"
   ]
  },
  {
   "cell_type": "markdown",
   "id": "89ac60ff-d302-469c-93df-091c51599d34",
   "metadata": {},
   "source": [
    "### Question 04: Write a Python program to convert key-values list to flat dictionary?"
   ]
  },
  {
   "cell_type": "code",
   "execution_count": 4,
   "id": "14531055-c84e-43d7-8ace-773d4984af40",
   "metadata": {},
   "outputs": [
    {
     "name": "stdout",
     "output_type": "stream",
     "text": [
      "Flat dictionary: {'a': 1, 'b': 2, 'c': 3}\n"
     ]
    }
   ],
   "source": [
    "def list_to_dictionary(key_value_list):\n",
    "    flat_dict = {}\n",
    "\n",
    "    for pair in key_value_list:\n",
    "        key = pair[0]\n",
    "        value = pair[1]\n",
    "        flat_dict[key] = value\n",
    "\n",
    "    return flat_dict\n",
    "\n",
    "############## TESt ################\n",
    "############## TESt ################\n",
    "\n",
    "key_value_list = [(\"a\", 1), (\"b\", 2), (\"c\", 3)]\n",
    "flat_dict = list_to_dictionary(key_value_list)\n",
    "print(\"Flat dictionary:\", flat_dict)\n"
   ]
  },
  {
   "cell_type": "markdown",
   "id": "4d3dbd68-1c47-45ae-a183-1a2a940fd376",
   "metadata": {},
   "source": [
    "### Question 05: Write a Python program to insertion at the beginning in OrderedDict?"
   ]
  },
  {
   "cell_type": "code",
   "execution_count": 5,
   "id": "6ea820dc-8fb2-474c-8d61-a6bea92bf851",
   "metadata": {},
   "outputs": [
    {
     "name": "stdout",
     "output_type": "stream",
     "text": [
      "Original OrderedDict: OrderedDict([('a', 1), ('b', 2), ('c', 3)])\n",
      "OrderedDict after insertion: OrderedDict([('d', 4), ('a', 1), ('b', 2), ('c', 3)])\n"
     ]
    }
   ],
   "source": [
    "from collections import OrderedDict\n",
    "\n",
    "def insert_at_beginning(od, key, value):\n",
    "    od[key] = value  # Add the key-value pair to the OrderedDict\n",
    "    od.move_to_end(key, last=False)  # Move the key to the beginning of the OrderedDict\n",
    "\n",
    "################# TEST######################\n",
    "od = OrderedDict([('a', 1), ('b', 2), ('c', 3)])\n",
    "print(\"Original OrderedDict:\", od)\n",
    "\n",
    "insert_at_beginning(od, 'd', 4)\n",
    "print(\"OrderedDict after insertion:\", od)\n"
   ]
  },
  {
   "cell_type": "markdown",
   "id": "602ec2b3-94ce-4469-a0ff-24a2abfba9bc",
   "metadata": {},
   "source": [
    "### Question 06: Write a Python program to check order of character in string using OrderedDict()?"
   ]
  },
  {
   "cell_type": "code",
   "execution_count": 6,
   "id": "fcd7bec3-1c56-4a44-920e-d72754d8c129",
   "metadata": {},
   "outputs": [
    {
     "name": "stdout",
     "output_type": "stream",
     "text": [
      "The characters in the string are not in order.\n"
     ]
    }
   ],
   "source": [
    "from collections import OrderedDict\n",
    "\n",
    "def check_character_order(string):\n",
    "    od = OrderedDict()\n",
    "\n",
    "    for char in string:\n",
    "        od[char] = None\n",
    "\n",
    "    ordered_chars = ''.join(od.keys())\n",
    "\n",
    "    if ordered_chars == string:\n",
    "        return True\n",
    "    else:\n",
    "        return False\n",
    "\n",
    "################ TEST\n",
    "input_string = \"hello\"\n",
    "is_ordered = check_character_order(input_string)\n",
    "if is_ordered:\n",
    "    print(\"The characters in the string are in order.\")\n",
    "else:\n",
    "    print(\"The characters in the string are not in order.\")\n"
   ]
  },
  {
   "cell_type": "markdown",
   "id": "8cf0c62a-05e6-49e8-8ab1-f6a3c9d0f2f9",
   "metadata": {},
   "source": [
    "### Question 07: Write a Python program to sort Python Dictionaries by Key or Value?"
   ]
  },
  {
   "cell_type": "code",
   "execution_count": 7,
   "id": "cd885cbb-a25d-4d99-8d52-3cfd25461ff3",
   "metadata": {},
   "outputs": [
    {
     "name": "stdout",
     "output_type": "stream",
     "text": [
      "Sorted by key: {'a': 1, 'b': 2, 'c': 3}\n",
      "Sorted by value: {'a': 1, 'b': 2, 'c': 3}\n"
     ]
    }
   ],
   "source": [
    "def sort_dict_by_key(dictionary):\n",
    "    sorted_dict = dict(sorted(dictionary.items(), key=lambda x: x[0]))\n",
    "    return sorted_dict\n",
    "\n",
    "def sort_dict_by_value(dictionary):\n",
    "    sorted_dict = dict(sorted(dictionary.items(), key=lambda x: x[1]))\n",
    "    return sorted_dict\n",
    "\n",
    "#################### TEST\n",
    "my_dict = {'c': 3, 'a': 1, 'b': 2}\n",
    "\n",
    "# Sort by key\n",
    "sorted_by_key = sort_dict_by_key(my_dict)\n",
    "print(\"Sorted by key:\", sorted_by_key)\n",
    "\n",
    "# Sort by value\n",
    "sorted_by_value = sort_dict_by_value(my_dict)\n",
    "print(\"Sorted by value:\", sorted_by_value)\n"
   ]
  },
  {
   "cell_type": "code",
   "execution_count": null,
   "id": "28840cb9-2d78-4a4d-9802-91537288f4eb",
   "metadata": {},
   "outputs": [],
   "source": []
  }
 ],
 "metadata": {
  "kernelspec": {
   "display_name": "Python 3 (ipykernel)",
   "language": "python",
   "name": "python3"
  },
  "language_info": {
   "codemirror_mode": {
    "name": "ipython",
    "version": 3
   },
   "file_extension": ".py",
   "mimetype": "text/x-python",
   "name": "python",
   "nbconvert_exporter": "python",
   "pygments_lexer": "ipython3",
   "version": "3.10.8"
  }
 },
 "nbformat": 4,
 "nbformat_minor": 5
}
