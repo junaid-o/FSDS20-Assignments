{
 "cells": [
  {
   "cell_type": "markdown",
   "id": "453efc10-e3c1-4345-aa20-4add8d1a36b1",
   "metadata": {},
   "source": [
    "# <center>PythonBasics: Assignment_25</center>"
   ]
  },
  {
   "cell_type": "markdown",
   "id": "97ae0fbc-abf7-4420-9736-3413605e07b9",
   "metadata": {},
   "source": [
    "### 1) What is the difference between enclosing a list comprehension in square brackets and parentheses?\n",
    "\n",
    "Enclosing a list comprehension in square brackets `[ ]` creates a list, while enclosing it in parentheses `( )` creates a generator object. The list comprehension in square brackets produces a list with all the generated elements immediately stored in memory. On the other hand, the one enclosed in parentheses creates an iterable generator object that generates elements on-the-fly as they are needed, saving memory.\n",
    "\n",
    "### 2) What is the relationship between generators and iterators?\n",
    "\n",
    "Generators are a type of iterators. They are functions or expressions that can be iterated over. Generators produce a sequence of values using the `yield` statement, allowing lazy evaluation and efficient memory usage. By contrast, iterators are more general and can be objects that follow the iterator protocol, which includes the methods `__iter__()` and `__next__()`.\n",
    "\n",
    "### 3) What are the signs that a function is a generator function?\n",
    "\n",
    "A function is considered a generator function if it contains the `yield` statement. The presence of `yield` is the primary indicator that a function is intended to be a generator. Generator functions generate values on-the-fly and maintain their state between invocations, allowing them to produce a sequence of values over multiple iterations.\n",
    "\n",
    "### 4) What is the purpose of a yield statement?\n",
    "\n",
    "The `yield` statement is used in generator functions to yield a value back to the caller while maintaining the function's state. When a generator function is called, it returns a generator object, which can be iterated over. Each time the generator's `yield` statement is encountered during iteration, the value is produced and returned to the caller. The function's state is saved, allowing it to resume execution from the same point when the next value is requested.\n",
    "\n",
    "### 5) What is the relationship between map calls and list comprehensions? Make a comparison and contrast between the two.\n",
    "\n",
    "Both map calls and list comprehensions are used to transform elements from an iterable and produce a new sequence. However, there are differences between them:\n",
    "\n",
    "- Map: The `map()` function applies a given function to each element of an iterable and returns an iterator that yields the transformed values. It takes two arguments: the function to apply and the iterable to process. Map is suitable when you want to apply a single function to each element and obtain a transformed sequence.\n",
    "\n",
    "- List Comprehension: A list comprehension is a concise way to create a new list by transforming elements from an existing iterable. It provides a compact syntax to combine a loop and an expression into a single line of code. List comprehensions offer more flexibility as they allow filtering and complex transformations within the comprehension. They produce a list as the final output.\n",
    "\n"
   ]
  }
 ],
 "metadata": {
  "kernelspec": {
   "display_name": "Python 3 (ipykernel)",
   "language": "python",
   "name": "python3"
  },
  "language_info": {
   "codemirror_mode": {
    "name": "ipython",
    "version": 3
   },
   "file_extension": ".py",
   "mimetype": "text/x-python",
   "name": "python",
   "nbconvert_exporter": "python",
   "pygments_lexer": "ipython3",
   "version": "3.10.8"
  }
 },
 "nbformat": 4,
 "nbformat_minor": 5
}
