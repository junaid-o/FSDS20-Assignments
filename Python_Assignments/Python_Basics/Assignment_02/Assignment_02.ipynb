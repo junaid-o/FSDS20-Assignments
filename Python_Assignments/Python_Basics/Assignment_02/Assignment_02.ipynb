{
 "cells": [
  {
   "cell_type": "markdown",
   "id": "47e6d7cd-d7e4-4a58-b3ef-4021fbb432cd",
   "metadata": {},
   "source": [
    "# <center>PythonBasics: Assignment_2</center>"
   ]
  },
  {
   "cell_type": "markdown",
   "id": "511af560-2db4-4837-a62f-4feed1f89be2",
   "metadata": {},
   "source": [
    "### Question 01:\n",
    "\n",
    "What are the two values of the Boolean data type? How do you write them?"
   ]
  },
  {
   "cell_type": "markdown",
   "id": "ae7e6c4f-0bf3-492d-b657-e0263478a251",
   "metadata": {},
   "source": [
    "**<span style=\"color:blue\">Answer</span>**\n",
    "\n",
    "The two values of the Boolean data type are True and False. In Python, they are written exactly as shown, with the first letter capitalized. It is important to note that these are keywords in Python and not strings, so they should not be enclosed in quotation marks. The Boolean values True and False are used to represent the truth values of logic and conditions in programming."
   ]
  },
  {
   "cell_type": "markdown",
   "id": "94e8be79-2927-4c1a-ba49-97ae2953886d",
   "metadata": {},
   "source": [
    "### Question 02:\n",
    "\n",
    "What are the three different types of Boolean operators?"
   ]
  },
  {
   "cell_type": "markdown",
   "id": "86652c62-bd88-4869-8bf2-eaf2442fbcde",
   "metadata": {},
   "source": [
    "**<span style=\"color:blue\">Answer</span>**\n",
    "\n",
    "The three different types of Boolean operators are:\n",
    "\n",
    "1. Logical AND (`and`): The logical AND operator returns `True` if both operands are `True`, and `False` otherwise.\n",
    "\n",
    "2. Logical OR (`or`): The logical OR operator returns `True` if at least one of the operands is `True`, and `False` if both operands are `False`.\n",
    "\n",
    "3. Logical NOT (`not`): The logical NOT operator returns the opposite of the operand's Boolean value. If the operand is `True`, `not` will return `False`, and if the operand is `False`, `not` will return `True`.\n",
    "\n",
    "Boolean operators are used to combine or negate Boolean values in logical expressions to evaluate conditions or control the flow of a program."
   ]
  },
  {
   "cell_type": "markdown",
   "id": "78d42d5a-3042-4b81-a3d7-fd92aeb057d4",
   "metadata": {},
   "source": [
    "### Question 03:\n",
    "\n",
    "Make a list of each Boolean operator&#39;s truth tables (i.e. every possible combination of Boolean\n",
    "values for the operator and what it evaluate )."
   ]
  },
  {
   "cell_type": "markdown",
   "id": "c26bc84d-ef74-407e-bf68-f02c36b73583",
   "metadata": {},
   "source": [
    "**<span style=\"color:blue\">Answer</span>**\n",
    "\n",
    "Logical AND (`and`):\n",
    "\n",
    "| Input 1 | Input 2 | Output |\n",
    "| ------- | ------- | ------ |\n",
    "| True    | True    | True   |\n",
    "| True    | False   | False  |\n",
    "| False   | True    | False  |\n",
    "| False   | False   | False  |\n",
    "\n",
    "Logical OR (`or`):\n",
    "\n",
    "| Input 1 | Input 2 | Output |\n",
    "| ------- | ------- | ------ |\n",
    "| True    | True    | True   |\n",
    "| True    | False   | True   |\n",
    "| False   | True    | True   |\n",
    "| False   | False   | False  |\n",
    "\n",
    "Logical NOT (`not`):\n",
    "\n",
    "| Input | Output |\n",
    "| ----- | ------ |\n",
    "| True  | False  |\n",
    "| False | True   |\n",
    "\n"
   ]
  },
  {
   "cell_type": "markdown",
   "id": "a3995738-8e55-4ec9-93b2-ec56d7070df2",
   "metadata": {},
   "source": [
    "### Question 04\n",
    "\n",
    "What are the values of the following expressions?\n",
    "\n",
    "(5 &gt; 4) and (3 == 5)\n",
    "not (5 &gt; 4)\n",
    "(5 &gt; 4) or (3 == 5)\n",
    "not ((5 &gt; 4) or (3 == 5))\n",
    "(True and True) and (True == False)\n",
    "(not False) or (not True)"
   ]
  },
  {
   "cell_type": "code",
   "execution_count": 4,
   "id": "bed259ec-27a6-4fe1-9f55-e009dc425041",
   "metadata": {},
   "outputs": [
    {
     "data": {
      "text/plain": [
       "False"
      ]
     },
     "execution_count": 4,
     "metadata": {},
     "output_type": "execute_result"
    }
   ],
   "source": [
    "(5 > 4) and (3 == 5)"
   ]
  },
  {
   "cell_type": "code",
   "execution_count": 6,
   "id": "61b917d2-6ad7-4e87-bce7-9ef14a83c25d",
   "metadata": {},
   "outputs": [
    {
     "data": {
      "text/plain": [
       "False"
      ]
     },
     "execution_count": 6,
     "metadata": {},
     "output_type": "execute_result"
    }
   ],
   "source": [
    "not (5 > 4)"
   ]
  },
  {
   "cell_type": "code",
   "execution_count": 7,
   "id": "f0dfc9af-e157-4907-91ce-98059069292f",
   "metadata": {},
   "outputs": [
    {
     "data": {
      "text/plain": [
       "True"
      ]
     },
     "execution_count": 7,
     "metadata": {},
     "output_type": "execute_result"
    }
   ],
   "source": [
    "(5 > 4) or (3 == 5)"
   ]
  },
  {
   "cell_type": "code",
   "execution_count": 8,
   "id": "237a2446-ffb3-47f7-af93-271d1c1ee72b",
   "metadata": {},
   "outputs": [
    {
     "data": {
      "text/plain": [
       "False"
      ]
     },
     "execution_count": 8,
     "metadata": {},
     "output_type": "execute_result"
    }
   ],
   "source": [
    "not ((5 > 4) or (3 == 5))"
   ]
  },
  {
   "cell_type": "code",
   "execution_count": 9,
   "id": "81ed9fa8-8c0d-4324-a8bc-e7dd20e0a29a",
   "metadata": {},
   "outputs": [
    {
     "data": {
      "text/plain": [
       "False"
      ]
     },
     "execution_count": 9,
     "metadata": {},
     "output_type": "execute_result"
    }
   ],
   "source": [
    "(True and True) and (True == False)"
   ]
  },
  {
   "cell_type": "code",
   "execution_count": 10,
   "id": "4ac02c61-3e38-4db7-9364-e6751e2c4240",
   "metadata": {},
   "outputs": [
    {
     "data": {
      "text/plain": [
       "True"
      ]
     },
     "execution_count": 10,
     "metadata": {},
     "output_type": "execute_result"
    }
   ],
   "source": [
    "(not False) or (not True)"
   ]
  },
  {
   "cell_type": "markdown",
   "id": "94809343-486c-4991-a9e3-dc4d4cdb607e",
   "metadata": {},
   "source": [
    "### Question 05\n",
    "\n",
    "What are the six comparison operators?"
   ]
  },
  {
   "cell_type": "markdown",
   "id": "707d74cc-3a0a-4e5b-822b-e5a48083083e",
   "metadata": {},
   "source": [
    "**<span style=\"color:blue\">Answer</span>**\n",
    "\n",
    "* Equal to (==): Checks if two values are equal.\n",
    "* Not equal to (!=): Checks if two values are not equal.\n",
    "* Greater than (>): Checks if the left operand is greater than the right operand.\n",
    "* Less than (<): Checks if the left operand is less than the right operand.\n",
    "* Greater than or equal to (>=): Checks if the left operand is greater than or equal to the right operand.\n",
    "* Less than or equal to (<=): Checks if the left operand is less than or equal to the right operand."
   ]
  },
  {
   "cell_type": "markdown",
   "id": "7f7a0b4d-5069-463d-b3bd-66899199de2a",
   "metadata": {},
   "source": [
    "## Question 06\n",
    "\n",
    "How do you tell the difference between the equal to and assignment operators?Describe a\n",
    "condition and when you would use one."
   ]
  },
  {
   "cell_type": "markdown",
   "id": "61bab39a-f4c3-477d-8d4f-c4fbc566ff5c",
   "metadata": {},
   "source": [
    "**<span style=\"color:blue\">Answer</span>**\n",
    "\n",
    "In Python, the equal to operator (==) is used for comparison, whereas the assignment operator (=) is used for assignment."
   ]
  },
  {
   "cell_type": "markdown",
   "id": "6de957b8-f902-4764-8983-3e79573cbd27",
   "metadata": {},
   "source": [
    "### Question 07\n",
    "\n",
    "Identify the three blocks in this code:\r\n",
    "spam = 0\r\n",
    "if spam == 10:\r\n",
    "print(&#39;eggs&#39;)\r\n",
    "if spam &gt; 5:\r\n",
    "print(&#39;bacon&#39;)\r\n",
    "else:\r\n",
    "print(&#39;ham&#39;)\r\n",
    "print(&#39;spam&#39;)\r\n",
    "print(&#39;spam&#39;)"
   ]
  },
  {
   "cell_type": "markdown",
   "id": "208575f6-dc2f-4927-9e92-3c651e0c2be5",
   "metadata": {},
   "source": [
    "**<span style=\"color:blue\">Answer</span>**\n",
    "\n",
    "\n",
    "**Block 1**\n",
    "\n",
    "```\n",
    "if spam == 10:\n",
    "    print('eggs')\n",
    "\n",
    "```\n",
    "\n",
    "**Block 2**\n",
    "\n",
    "```\n",
    "if spam > 5:\r\n",
    "    print('bacon')\n",
    "\n",
    "\n",
    "`\n",
    "\n",
    "**Block 3**\n",
    "\n",
    "```\n",
    "else:\r\n",
    "    print('ham')\r\n",
    "print('spam')\r\n",
    "print('spa')\r\n",
    "\n",
    "\n",
    "`````"
   ]
  },
  {
   "cell_type": "markdown",
   "id": "68722bda-15e8-4144-b70c-e485fcd20df5",
   "metadata": {},
   "source": [
    "### Question 08:\n",
    "\n",
    "Write code that prints Hello if 1 is stored in spam, prints Howdy if 2 is stored in spam, and prints\n",
    "Greetings! if anything else is stored in spam."
   ]
  },
  {
   "cell_type": "markdown",
   "id": "86dae47a-8b4d-4a0b-882f-4b6108406387",
   "metadata": {},
   "source": [
    "**<span style=\"color:blue\">Answer</span>**\n",
    "\n",
    "\n",
    "```\n",
    "if spam == 1:\n",
    "    print(\"Hello\")\n",
    "elif spam == 2:\n",
    "    print(\"Howdy\")\n",
    "else:\n",
    "    print(\"Greetings!\")\n",
    "```"
   ]
  },
  {
   "cell_type": "markdown",
   "id": "0eaee5f8-f235-44f4-8330-41d0bcedaeff",
   "metadata": {},
   "source": [
    "### Question 09:\n",
    "\n",
    "If your programme is stuck in an endless loop, what keys you’ll press?"
   ]
  },
  {
   "cell_type": "markdown",
   "id": "0cb9b06a-5801-4dcb-8990-f1aacff5a9c3",
   "metadata": {},
   "source": [
    "**<span style=\"color:blue\">Answer</span>**\n",
    "\n",
    "If a program is stuck in an endless loop and you want to interrupt it, we can typically press the Ctrl + C keys on keyboard. This key combination sends an interrupt signal to the running program, causing it to terminate and exit the loop. "
   ]
  },
  {
   "cell_type": "markdown",
   "id": "1b642024-4c9e-47fe-821e-a745deff4a3a",
   "metadata": {},
   "source": [
    "### Question 10:\n",
    "\n",
    "How can you tell the difference between break and continue?"
   ]
  },
  {
   "cell_type": "markdown",
   "id": "c13c7cf7-0d73-47ee-abec-a4505cf9d730",
   "metadata": {},
   "source": [
    "**<span style=\"color:blue\">Answer</span>**\n",
    "\n",
    "\n",
    "In programming, break and continue are flow control statements that affect the execution of loops (such as for or while loops). Here's how they differ:\n",
    "\n",
    "1. **break**: When break is encountered within a loop, the loop is immediately terminated, and the program execution continues with the next statement after the loop. It allows you to exit the loop prematurely based on a certain condition. It is commonly used when you want to stop the loop entirely and move on to the next part of the program.\n",
    "\n",
    "2. **continue**: When continue is encountered within a loop, the current iteration of the loop is immediately terminated, and the program execution jumps to the next iteration. In other words, it skips the remaining code inside the loop for the current iteration and moves on to the next iteration. It is commonly used when you want to skip certain iterations based on a certain condition but continue looping."
   ]
  },
  {
   "cell_type": "markdown",
   "id": "724a359b-2dfa-4315-9c3b-24eda939ac9e",
   "metadata": {},
   "source": [
    "### Question 11\n",
    "\n",
    "In a for loop, what is the difference between range(10), range(0, 10), and range(0, 10, 1)?"
   ]
  },
  {
   "cell_type": "markdown",
   "id": "3adee291-1928-4367-b6ad-62d7f3cca1f7",
   "metadata": {},
   "source": [
    "**<span style=\"color:blue\">Answer</span>**\n",
    "\n",
    "1. `range(10)`: This expression generates a sequence of numbers starting from 0 (default) up to, but not including, the specified value of 10. It increments by 1 (default) in each iteration.\n",
    "\n",
    "2.  `range(0, 10)`: This expression is equivalent to the previous one. It explicitly specifies the starting value of 0 and the ending value of 10 (not inclusive). The step size is 1 (default), which means the loop variable will increment by 1 in each iteration.\n",
    "\n",
    "3.  `range(0, 10, 1)`: This expression is also equivalent to the previous ones. It explicitly specifies the starting value of 0, the ending value of 10 (not inclusive), and the step size of 1. Again, the loop variable will increment by 1 in each iteration."
   ]
  },
  {
   "cell_type": "markdown",
   "id": "66a52e26-9df1-4128-b513-15d070090600",
   "metadata": {},
   "source": [
    "### Question 12:\n",
    "\n",
    "Write a short program that prints the numbers 1 to 10 using a for loop. Then write an equivalent\n",
    "program that prints the numbers 1 to 10 using a while loop."
   ]
  },
  {
   "cell_type": "code",
   "execution_count": 15,
   "id": "f6889677-eec5-4113-b950-43bcd1d6ba5d",
   "metadata": {},
   "outputs": [
    {
     "name": "stdout",
     "output_type": "stream",
     "text": [
      "1\n",
      "2\n",
      "3\n",
      "4\n",
      "5\n",
      "6\n",
      "7\n",
      "8\n",
      "9\n",
      "10\n"
     ]
    }
   ],
   "source": [
    "for num in range(1, 11):\n",
    "    print(num)\n"
   ]
  },
  {
   "cell_type": "code",
   "execution_count": 16,
   "id": "6150f1d0-e353-4169-9667-cc2b9b50a5f0",
   "metadata": {},
   "outputs": [
    {
     "name": "stdout",
     "output_type": "stream",
     "text": [
      "1\n",
      "2\n",
      "3\n",
      "4\n",
      "5\n",
      "6\n",
      "7\n",
      "8\n",
      "9\n",
      "10\n"
     ]
    }
   ],
   "source": [
    "num = 1\n",
    "while num <= 10:\n",
    "    print(num)\n",
    "    num += 1\n"
   ]
  },
  {
   "cell_type": "markdown",
   "id": "3da1846e-d444-4196-a513-5795e18b95be",
   "metadata": {},
   "source": [
    "### Question 13:\n",
    "\n",
    "If you had a function named bacon() inside a module named spam, how would you call it after\n",
    "importing spam?"
   ]
  },
  {
   "cell_type": "markdown",
   "id": "f9075670-e3da-48d4-bad0-a4567c958596",
   "metadata": {},
   "source": [
    "**<span style=\"color:blue\">Answer</span>**\n",
    "\n",
    "\n",
    "If you have a function named bacon() inside a module named spam, you can call it after importing the spam module using the dot notation.\n",
    "\n",
    "```\n",
    "import spam\r\n",
    "\r\n",
    "spam.bacon()\r\n",
    "\n",
    "```"
   ]
  },
  {
   "cell_type": "code",
   "execution_count": null,
   "id": "4f934b93-a6fd-4727-ba11-c473ee31b5e6",
   "metadata": {},
   "outputs": [],
   "source": []
  }
 ],
 "metadata": {
  "kernelspec": {
   "display_name": "Python 3 (ipykernel)",
   "language": "python",
   "name": "python3"
  },
  "language_info": {
   "codemirror_mode": {
    "name": "ipython",
    "version": 3
   },
   "file_extension": ".py",
   "mimetype": "text/x-python",
   "name": "python",
   "nbconvert_exporter": "python",
   "pygments_lexer": "ipython3",
   "version": "3.10.8"
  }
 },
 "nbformat": 4,
 "nbformat_minor": 5
}
