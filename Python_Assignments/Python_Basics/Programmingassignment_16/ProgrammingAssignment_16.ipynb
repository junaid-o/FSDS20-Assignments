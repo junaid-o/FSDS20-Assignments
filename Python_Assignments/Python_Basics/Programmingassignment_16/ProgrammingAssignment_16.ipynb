{
 "cells": [
  {
   "cell_type": "markdown",
   "id": "cec799c0-0044-4e89-b9f8-917cbade33fe",
   "metadata": {},
   "source": [
    "# <center>PythonBasics: ProgrammingAssignment_16</center>"
   ]
  },
  {
   "cell_type": "markdown",
   "id": "73f43b72-ab50-4436-99b2-49a1fc82df04",
   "metadata": {},
   "source": [
    "### Question 01:\n",
    "\n",
    "\n",
    "Write a function that stutters a word as if someone is struggling to read it. The\n",
    "first two letters are repeated twice with an ellipsis ... and space after each, and then the\n",
    "word is pronounced with a question mark ?.\n",
    "\n",
    "\n",
    "Examples\n",
    "```\n",
    "\n",
    "stutter(&quot;incredible&quot;) ➞ &quot;in... in... incredible?&quot;\n",
    "\n",
    "stutter(&quot;enthusiastic&quot;) ➞ &quot;en... en... enthusiastic?&quot;\n",
    "\n",
    "stutter(&quot;outstanding&quot;) ➞ &quot;ou... ou... outstanding?&quot;\n",
    "```\n",
    "Hint :- Assume all input is in lower case and at least two characters long."
   ]
  },
  {
   "cell_type": "code",
   "execution_count": 2,
   "id": "b8f0876f-a60b-4371-8022-463dc1c81d1f",
   "metadata": {},
   "outputs": [
    {
     "name": "stdout",
     "output_type": "stream",
     "text": [
      "in... in... incredible?\n",
      "en... en... enthusiastic?\n",
      "ou... ou... outstanding?\n"
     ]
    }
   ],
   "source": [
    "def stutter(word):\n",
    "    first_two_letters = word[:2]  # Extract the first two letters of the word\n",
    "    stuttered_word = f\"{first_two_letters}... {first_two_letters}... {word}?\"  # Build the stuttered word\n",
    "    return stuttered_word\n",
    "\n",
    "############## TEST ###################\n",
    "############## TEST ###################\n",
    "\n",
    "print(stutter(\"incredible\"))  # Output: \"in... in... incredible?\"\n",
    "print(stutter(\"enthusiastic\"))  # Output: \"en... en... enthusiastic?\"\n",
    "print(stutter(\"outstanding\"))  # Output: \"ou... ou... outstanding?\"\n"
   ]
  },
  {
   "cell_type": "markdown",
   "id": "051be4b6-9c47-43a5-b5fa-ddf7420dc088",
   "metadata": {},
   "source": [
    "### Question 02:\n",
    "\n",
    "Create a function that takes an angle in radians and returns the corresponding\n",
    "angle in degrees rounded to one decimal place.\n",
    "\n",
    "\n",
    "Examples\n",
    "\n",
    "```\n",
    "radians_to_degrees(1) ➞ 57.3\n",
    "\n",
    "radians_to_degrees(20) ➞ 1145.9\n",
    "\n",
    "radians_to_degrees(50) ➞ 2864.8\n",
    "```"
   ]
  },
  {
   "cell_type": "code",
   "execution_count": 3,
   "id": "a693093b-8837-445f-bba6-e1e7a48b5b49",
   "metadata": {},
   "outputs": [
    {
     "name": "stdout",
     "output_type": "stream",
     "text": [
      "57.3\n",
      "1145.9\n",
      "2864.8\n"
     ]
    }
   ],
   "source": [
    "import math\n",
    "\n",
    "def radians_to_degrees(radians):\n",
    "    degrees = radians * (180 / math.pi)\n",
    "    rounded_degrees = round(degrees, 1)\n",
    "    return rounded_degrees\n",
    "\n",
    "################### TEST #######################\n",
    "################### TEST #######################\n",
    "\n",
    "print(radians_to_degrees(1))  # Output: 57.3\n",
    "print(radians_to_degrees(20))  # Output: 1145.9\n",
    "print(radians_to_degrees(50))  # Output: 2864.8\n"
   ]
  },
  {
   "cell_type": "markdown",
   "id": "fe19cd24-56f7-42da-8a90-51fb0a5a2032",
   "metadata": {},
   "source": [
    "### Question 03:\n",
    "\n",
    "\n",
    "In this challenge, establish if a given integer num is a Curzon number. If 1 plus\n",
    "2 elevated to num is exactly divisible by 1 plus 2 multiplied by num, then num is a Curzon\n",
    "number.\n",
    "Given a non-negative integer num, implement a function that returns True if num is a Curzon\n",
    "number, or False otherwise.\n",
    "\n",
    "\n",
    "\n",
    "```\n",
    "To determine if a given integer num is a Curzon number, we need to check if the expression (2 ** num + 1) % (2 * num + 1) evaluates to zero. If the expression is divisible without a remainder, then num is a Curzon number; otherwise, it is not.\n",
    "```"
   ]
  },
  {
   "cell_type": "code",
   "execution_count": 5,
   "id": "b3c56da8-49ac-45a7-bf09-0edb9fa80549",
   "metadata": {},
   "outputs": [
    {
     "name": "stdout",
     "output_type": "stream",
     "text": [
      "True\n",
      "False\n",
      "True\n"
     ]
    }
   ],
   "source": [
    "def is_curzon_number(num):\n",
    "    expression = (2 ** num + 1) % (2 * num + 1)\n",
    "    return expression == 0\n",
    "\n",
    "############## TEST ###############\n",
    "############## TEST ###############\n",
    "\n",
    "print(is_curzon_number(5))  \n",
    "print(is_curzon_number(10))  \n",
    "print(is_curzon_number(14))  \n"
   ]
  },
  {
   "cell_type": "markdown",
   "id": "c53bde51-e9c1-480e-8a02-246ab5de1e74",
   "metadata": {},
   "source": [
    "### Question 04: Question 4.Given the side length x find the area of a hexagon."
   ]
  },
  {
   "cell_type": "code",
   "execution_count": 6,
   "id": "789911dd-4935-411b-b635-385ed087e4b3",
   "metadata": {},
   "outputs": [
    {
     "name": "stdout",
     "output_type": "stream",
     "text": [
      "The area of the hexagon is: 64.9519052838329\n"
     ]
    }
   ],
   "source": [
    "import math\n",
    "\n",
    "def calculate_hexagon_area(x):\n",
    "    area = (3 * math.sqrt(3) * x ** 2) / 2\n",
    "    return area\n",
    "\n",
    "######## TEST ########\n",
    "######## TEST ########\n",
    "\n",
    "side_length = 5\n",
    "area = calculate_hexagon_area(side_length)\n",
    "print(\"The area of the hexagon is:\", area)\n"
   ]
  },
  {
   "cell_type": "markdown",
   "id": "978ff317-7327-444a-880d-c7663dc976fc",
   "metadata": {},
   "source": [
    "### Question 05:\n",
    "\n",
    "Question 5. Create a function that returns a base-2 (binary) representation of a base-10\n",
    "(decimal) string number. To convert is simple: ((2) means base-2 and (10) means base-10)\n",
    "010101001(2) = 1 + 8 + 32 + 128.\n",
    "Going from right to left, the value of the most right bit is 1, now from that every bit to the left\n",
    "will be x2 the value, value of an 8 bit binary numbers are (256, 128, 64, 32, 16, 8, 4, 2, 1)."
   ]
  },
  {
   "cell_type": "code",
   "execution_count": 10,
   "id": "41e02d67-e3da-4113-940f-db372d09ad4e",
   "metadata": {},
   "outputs": [
    {
     "name": "stdout",
     "output_type": "stream",
     "text": [
      "Binary representation: 1010111000\n"
     ]
    }
   ],
   "source": [
    "def decimal_to_binary(decimal):\n",
    "    binary = \"\"\n",
    "    if decimal == 0:\n",
    "        binary = \"0\"  # Special case for decimal 0\n",
    "    else:\n",
    "        while decimal > 0:\n",
    "            binary = str(decimal % 2) + binary\n",
    "            decimal //= 2\n",
    "    return binary\n",
    "\n",
    "##################### TEST\n",
    "decimal_number = 696\n",
    "binary_representation = decimal_to_binary(decimal_number)\n",
    "print(\"Binary representation:\", binary_representation)\n"
   ]
  },
  {
   "cell_type": "code",
   "execution_count": null,
   "id": "d743dac3-9851-4101-883d-8d9dbf397aca",
   "metadata": {},
   "outputs": [],
   "source": []
  }
 ],
 "metadata": {
  "kernelspec": {
   "display_name": "Python 3 (ipykernel)",
   "language": "python",
   "name": "python3"
  },
  "language_info": {
   "codemirror_mode": {
    "name": "ipython",
    "version": 3
   },
   "file_extension": ".py",
   "mimetype": "text/x-python",
   "name": "python",
   "nbconvert_exporter": "python",
   "pygments_lexer": "ipython3",
   "version": "3.10.8"
  }
 },
 "nbformat": 4,
 "nbformat_minor": 5
}
