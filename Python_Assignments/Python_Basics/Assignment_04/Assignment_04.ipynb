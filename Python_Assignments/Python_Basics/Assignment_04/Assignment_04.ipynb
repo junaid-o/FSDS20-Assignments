{
 "cells": [
  {
   "cell_type": "markdown",
   "id": "dc5ea9ed-b9c7-4b2c-a415-817efe4d6bdf",
   "metadata": {},
   "source": [
    "# <center>PythonBasics: Assignment_04</center>"
   ]
  },
  {
   "cell_type": "markdown",
   "id": "349e217d-0935-4a87-8cea-04dfd2f99941",
   "metadata": {},
   "source": [
    "### "
   ]
  },
  {
   "cell_type": "markdown",
   "id": "4da0b99e-c553-47ad-a9b0-eeb96046787b",
   "metadata": {},
   "source": [
    "### Question 01:\n",
    "\n",
    "What exactly is []?"
   ]
  },
  {
   "cell_type": "markdown",
   "id": "fbd097b5-76a9-4342-a515-a54ee8a01761",
   "metadata": {},
   "source": [
    "In Python, [] represents an empty list."
   ]
  },
  {
   "cell_type": "markdown",
   "id": "a8c23b09-9ce3-44ee-9440-a9b53522add6",
   "metadata": {},
   "source": [
    "### Question 02:\n",
    "\n",
    "\n",
    "In a list of values stored in a variable called spam, how would you assign the value &#39;hello&#39; as the\n",
    "third value? (Assume `[2, 4, 6, 8, 10]` are in spam.)\n",
    "Let&#39;s pretend the spam includes the list [&#39;a&#39;, &#39;b&#39;, &#39;c&#39;, &#39;d&#39;] for the next three queries."
   ]
  },
  {
   "cell_type": "markdown",
   "id": "8c10537e-2455-4a2a-8f12-5b50ca96f1b3",
   "metadata": {},
   "source": [
    "To assign the value 'hello' as the third value in the list stored in the variable spam, we can use the index 2 to access the third element and assign the new value using the assignment operator ="
   ]
  },
  {
   "cell_type": "code",
   "execution_count": 45,
   "id": "be1eeaf2-6de9-4c8e-be14-047c3cad089f",
   "metadata": {},
   "outputs": [
    {
     "name": "stdout",
     "output_type": "stream",
     "text": [
      "[2, 4, 'hello', 8, 10]\n"
     ]
    }
   ],
   "source": [
    "spam = [2, 4, 6, 8, 10]\n",
    "spam[2] = 'hello'\n",
    "print(spam)  # Output: [2, 4, 'hello', 8, 10]]\r\n"
   ]
  },
  {
   "cell_type": "markdown",
   "id": "0a7dddb1-58ed-4c2f-8a7b-dd9293050919",
   "metadata": {},
   "source": [
    "### Question 03:\n",
    "\n",
    "What is the value of spam[int(int(&#39;3&#39; * 2) / 11)]?"
   ]
  },
  {
   "cell_type": "markdown",
   "id": "348534e5-9a48-418d-881c-67af581e5d55",
   "metadata": {},
   "source": [
    "Assuming the spam list contains ['a', 'b', 'c', 'd'] as mentioned in the previous question.\n",
    "\n",
    "\n",
    "value of\n",
    "```\n",
    "spam[int(int('3' * 2) / 11)]\n",
    "```\n",
    "is\n",
    "\n",
    "```\n",
    "d\n",
    "```"
   ]
  },
  {
   "cell_type": "markdown",
   "id": "05d50af0-68b4-4fcd-844d-17372f71ede6",
   "metadata": {},
   "source": [
    "### Question 04:\n",
    "\n",
    "What is the value of spam[-1]?"
   ]
  },
  {
   "cell_type": "code",
   "execution_count": 46,
   "id": "b2e281fb-9164-460c-990d-f710cf1f89d3",
   "metadata": {},
   "outputs": [
    {
     "data": {
      "text/plain": [
       "'d'"
      ]
     },
     "execution_count": 46,
     "metadata": {},
     "output_type": "execute_result"
    }
   ],
   "source": [
    " spam = ['a', 'b', 'c', 'd']\n",
    " spam[-1]"
   ]
  },
  {
   "cell_type": "markdown",
   "id": "01c9d030-65b3-47e9-a4dc-772f8350cfb4",
   "metadata": {},
   "source": [
    "### Question 05:\n",
    "What is the value of spam[:2]?\n",
    "Let&#39;s pretend bacon has the list [3.14, &#39;cat,&#39; 11, &#39;cat,&#39; True] for the next three questions."
   ]
  },
  {
   "cell_type": "code",
   "execution_count": 47,
   "id": "a8b665c5-c6d5-45b9-862c-79bca61ab8a0",
   "metadata": {},
   "outputs": [
    {
     "data": {
      "text/plain": [
       "[2, 4]"
      ]
     },
     "execution_count": 47,
     "metadata": {},
     "output_type": "execute_result"
    }
   ],
   "source": [
    " spam = [2, 4, 6, 8, 10]\n",
    "\n",
    " spam[:2]"
   ]
  },
  {
   "cell_type": "markdown",
   "id": "d834e6b1-c44a-45e7-b7d0-695faea95833",
   "metadata": {},
   "source": [
    "### Question 06:\n",
    "What is the value of bacon.index(&#39;cat&#39;)?"
   ]
  },
  {
   "cell_type": "code",
   "execution_count": 48,
   "id": "05914346-2949-4148-a816-e58264daf458",
   "metadata": {},
   "outputs": [
    {
     "data": {
      "text/plain": [
       "1"
      ]
     },
     "execution_count": 48,
     "metadata": {},
     "output_type": "execute_result"
    }
   ],
   "source": [
    "bacon = [3.14, 'cat', 11, 'cat', True]\n",
    "bacon.index('cat')"
   ]
  },
  {
   "cell_type": "markdown",
   "id": "d170f5c2-0798-4f93-880e-b64e8d141046",
   "metadata": {},
   "source": [
    "### Question 07:\n",
    "How does bacon.append(99) change the look of the list value in bacon?"
   ]
  },
  {
   "cell_type": "code",
   "execution_count": 49,
   "id": "b353f848-fc64-4678-ac01-74b2b686942d",
   "metadata": {},
   "outputs": [
    {
     "data": {
      "text/plain": [
       "[3.14, 'cat', 11, 'cat', True, 99]"
      ]
     },
     "execution_count": 49,
     "metadata": {},
     "output_type": "execute_result"
    }
   ],
   "source": [
    "bacon.append(99)\n",
    "\n",
    "bacon"
   ]
  },
  {
   "cell_type": "markdown",
   "id": "24f8b4cb-39df-4cf9-8da0-f18cd1b459be",
   "metadata": {},
   "source": [
    "### Question 08:\n",
    "How does bacon.remove(&#39;cat&#39;) change the look of the list in bacon?"
   ]
  },
  {
   "cell_type": "code",
   "execution_count": 50,
   "id": "40c69625-f36c-4100-a817-da9f33077418",
   "metadata": {},
   "outputs": [
    {
     "data": {
      "text/plain": [
       "[3.14, 11, 'cat', True, 99]"
      ]
     },
     "execution_count": 50,
     "metadata": {},
     "output_type": "execute_result"
    }
   ],
   "source": [
    "bacon.remove('cat')\n",
    "bacon"
   ]
  },
  {
   "cell_type": "markdown",
   "id": "c8b0f561-ba7a-4aa6-aea6-4f4853a66be2",
   "metadata": {},
   "source": [
    "### Question 09:\n",
    "\n",
    "What are the list concatenation and list replication operators?"
   ]
  },
  {
   "cell_type": "markdown",
   "id": "f2a663fe-a2e3-41e9-afbc-66c4f61696e4",
   "metadata": {},
   "source": [
    "The list concatenation operator in Python is the plus sign (+). It is used to combine two or more lists into a single list."
   ]
  },
  {
   "cell_type": "code",
   "execution_count": 51,
   "id": "89f0480e-e862-46ff-b007-1adb6249bf22",
   "metadata": {},
   "outputs": [
    {
     "name": "stdout",
     "output_type": "stream",
     "text": [
      "[1, 2, 3, 4, 5, 6]\n"
     ]
    }
   ],
   "source": [
    "list1 = [1, 2, 3]\n",
    "list2 = [4, 5, 6]\n",
    "concatenated_list = list1 + list2\n",
    "print(concatenated_list)\n"
   ]
  },
  {
   "cell_type": "markdown",
   "id": "0d7bf485-36f9-4022-b3e7-ae5ad2c74e32",
   "metadata": {},
   "source": [
    "The list replication operator in Python is the asterisk (*) symbol. It is used to create a new list by repeating the elements of an existing list a specified number of times."
   ]
  },
  {
   "cell_type": "code",
   "execution_count": 52,
   "id": "77250f67-2b35-4375-9d25-8c8501735e6e",
   "metadata": {},
   "outputs": [
    {
     "name": "stdout",
     "output_type": "stream",
     "text": [
      "[1, 2, 3, 1, 2, 3, 1, 2, 3]\n"
     ]
    }
   ],
   "source": [
    "list1 = [1, 2, 3]\n",
    "replicated_list = list1 * 3\n",
    "print(replicated_list)\n"
   ]
  },
  {
   "cell_type": "code",
   "execution_count": null,
   "id": "1493b341-a0fd-41b1-81d4-5843faccb43b",
   "metadata": {},
   "outputs": [],
   "source": []
  },
  {
   "cell_type": "markdown",
   "id": "76862862-62f1-46d5-a38e-6b4e04b14296",
   "metadata": {},
   "source": [
    "### Question 10:\n",
    "What is difference between the list methods append() and insert()?"
   ]
  },
  {
   "cell_type": "markdown",
   "id": "fdb76e3a-eb4a-4f21-b0e6-a961d66170f1",
   "metadata": {},
   "source": [
    "1. **append()**: The append() method is used to add an element to the end of a list. It modifies the original list by adding the element as the last item.\n",
    "\n",
    "2. **insert()**: The insert() method is used to add an element at a specific position in the list. It allows we to specify the index where the element should be inserted."
   ]
  },
  {
   "cell_type": "markdown",
   "id": "06fab56d-ca8f-4364-8b81-e2dc8cb69e35",
   "metadata": {},
   "source": [
    "### Question 11:\n",
    "What are the two methods for removing items from a list?"
   ]
  },
  {
   "cell_type": "markdown",
   "id": "a7c23cb4-a313-4e9b-95b6-d264197a76c3",
   "metadata": {},
   "source": [
    "1. **remove()**: The remove() method is used to remove the first occurrence of a specified element from the list. It searches for the element in the list and removes it if found. If the element is not present, it raises a ValueError.\n",
    "\n",
    "2. **pop()**: The pop() method is used to remove an element at a specific index from the list. It returns the removed element. If no index is provided, it removes and returns the last element of the list."
   ]
  },
  {
   "cell_type": "markdown",
   "id": "4923e2db-1867-4b1a-9927-6312780184fd",
   "metadata": {},
   "source": [
    "### Question 12:\n",
    "Describe how list values and string values are identical."
   ]
  },
  {
   "cell_type": "markdown",
   "id": "09e8bc3d-43e9-49ff-b361-1010ef0904d0",
   "metadata": {},
   "source": [
    "List values and string values in Python share some similarities:\n",
    "\n",
    "1. Both lists and strings are sequences: Lists and strings are both sequences of elements. In a list, the elements can be of any data type, whereas in a string, the elements are individual characters.\n",
    "\n",
    "2. Both support indexing and slicing: Both lists and strings allow accessing individual elements using indexing and slicing. Indexing starts from 0, where the first element has an index of 0, the second has an index of 1, and so on. Slicing allows extracting a portion of the sequence by specifying a range of indices.\n",
    "\n",
    "3. Both are iterable: Lists and strings can be iterated over using loops such as `for` loops. This allows we to iterate through each element of the sequence one by one.\n",
    "\n",
    "4. Both support concatenation: Lists and strings can be concatenated using the `+` operator. When concatenating, the elements or characters from both lists or strings are combined to form a new list or string.\n",
    "\n",
    "However, there are also some important differences between lists and strings:\n",
    "\n",
    "1. Mutability: Lists are mutable, meaning we can modify individual elements, add new elements, or remove existing elements. In contrast, strings are immutable, meaning we cannot change individual characters of a string. Instead, we need to create a new string if we want to make any modifications.\n",
    "\n",
    "2. Data types: Lists can contain elements of any data type, including other lists. On the other hand, strings are specifically meant to hold sequences of characters.\n",
    "\n",
    "3. Operations and methods: Lists and strings have different built-in operations and methods tailored to their specific characteristics. For example, lists have methods like `append()`, `insert()`, and `remove()` for modifying the list, while strings have methods like `split()`, `upper()`, and `replace()` for string manipulation.\n"
   ]
  },
  {
   "cell_type": "markdown",
   "id": "b64ead61-40a2-4518-b5fb-f7311ad63c2e",
   "metadata": {},
   "source": [
    "### Question 13:\n",
    "What&#39;s the difference between tuples and lists?"
   ]
  },
  {
   "cell_type": "markdown",
   "id": "3d6c821f-8a41-499f-91ea-70951086544e",
   "metadata": {},
   "source": [
    "Tuples and lists are both built-in data structures in Python, but they have some key differences:\n",
    "\n",
    "1. Mutability: The main difference between tuples and lists is their mutability. Tuples are immutable, meaning their elements cannot be changed after they are defined. In contrast, lists are mutable, allowing elements to be modified, added, or removed.\n",
    "\n",
    "2. Syntax: Tuples are defined using parentheses `( )`, while lists are defined using square brackets `[ ]`. For example, `(1, 2, 3)` is a tuple, whereas `[1, 2, 3]` is a list.\n",
    "\n",
    "3. Element types: Tuples can contain elements of different data types, such as integers, floats, strings, or even other tuples. Lists, on the other hand, can also hold elements of different data types, but they are typically used to store homogeneous elements (i.e., elements of the same type).\n",
    "\n",
    "4. Performance: Tuples are generally more memory-efficient and have a smaller memory footprint compared to lists. This can be beneficial when working with large datasets or when immutability is desired.\n",
    "\n",
    "5. Usage: Tuples are commonly used to represent collections of related values that should not be changed, such as coordinates, database records, or function return values. Lists are more flexible and widely used for storing and manipulating sequences of elements, performing operations like appending, sorting, or removing items.\n",
    "\n",
    "6. Iteration: Both tuples and lists can be iterated over using loops or other iterable methods. However, due to the immutability of tuples, they can be more suitable for situations where data should not be modified during iteration.\n"
   ]
  },
  {
   "cell_type": "markdown",
   "id": "d0d80ca3-3559-42dc-94de-409f6b6d0cf6",
   "metadata": {},
   "source": [
    "### Question 14:\n",
    "\n",
    "How do you type a tuple value that only contains the integer 42?"
   ]
  },
  {
   "cell_type": "markdown",
   "id": "570481c7-3832-405a-8213-45690313fa0a",
   "metadata": {},
   "source": [
    "To create a tuple value that only contains the integer 42, we can use the following syntax:\n",
    "\n",
    "```python\n",
    "my_tuple = (42,)\n",
    "```\n",
    "\n",
    "The comma after the integer 42 is necessary to indicate that it is a tuple with a single element. Without the comma, it would be interpreted as just an integer value. By including the comma, we create a tuple with one element, which is the integer 42."
   ]
  },
  {
   "cell_type": "markdown",
   "id": "855379ae-19d9-4b10-b7c8-08b3b5e902bb",
   "metadata": {},
   "source": [
    "### Question 15:\n",
    "How do you get a list value&#39;s tuple form? How do you get a tuple value&#39;s list form?"
   ]
  },
  {
   "cell_type": "markdown",
   "id": "1ff455dd-81f0-4d7c-8d92-73cca43374b2",
   "metadata": {},
   "source": [
    "**List to Tuple**"
   ]
  },
  {
   "cell_type": "code",
   "execution_count": 53,
   "id": "b9731f28-8f0f-493a-8da1-a45f47179487",
   "metadata": {},
   "outputs": [
    {
     "name": "stdout",
     "output_type": "stream",
     "text": [
      "(1, 2, 3, 4, 5)\n"
     ]
    }
   ],
   "source": [
    "my_list = [1, 2, 3, 4, 5]\n",
    "my_tuple = tuple(my_list)\n",
    "print(my_tuple)"
   ]
  },
  {
   "cell_type": "markdown",
   "id": "d34fb023-1586-4812-9a71-9a3950ffe102",
   "metadata": {},
   "source": [
    "**Tuple to List**"
   ]
  },
  {
   "cell_type": "code",
   "execution_count": 54,
   "id": "473d72b5-c888-4c62-9daf-3551b9440186",
   "metadata": {},
   "outputs": [
    {
     "name": "stdout",
     "output_type": "stream",
     "text": [
      "[1, 2, 3, 4, 5]\n"
     ]
    }
   ],
   "source": [
    "my_tuple = (1, 2, 3, 4, 5)\n",
    "my_list = list(my_tuple)\n",
    "print(my_list)"
   ]
  },
  {
   "cell_type": "markdown",
   "id": "2674015a-b4a5-4929-a912-8040f1ddbbd1",
   "metadata": {},
   "source": [
    "### Question 16:\n",
    "Variables that &quot;contain&quot; list values are not necessarily lists themselves. Instead, what do they\n",
    "contain?"
   ]
  },
  {
   "cell_type": "markdown",
   "id": "21cfd291-9c8e-4e02-8d41-c981aa87bd4a",
   "metadata": {},
   "source": [
    "Variables that \"contain\" list values in Python actually contain references to the list objects rather than the lists themselves. In other words, the variable holds the memory address of the list object in the computer's memory. This means that multiple variables can refer to the same list object, and modifications made through one variable will be reflected in other variables that refer to the same list."
   ]
  },
  {
   "cell_type": "markdown",
   "id": "df22bcb0-e71e-4834-8161-b00c5f667281",
   "metadata": {},
   "source": [
    "### Question 17:\n",
    "\n",
    "How do you distinguish between copy.copy() and copy.deepcopy()?"
   ]
  },
  {
   "cell_type": "markdown",
   "id": "9d7f96b5-6d3a-4b98-a9df-e3d818aa820c",
   "metadata": {},
   "source": [
    "The `copy.copy()` and `copy.deepcopy()` functions in the `copy` module of Python are used to create copies of objects. The main difference between them is how they handle nested objects or references within the copied object.\n",
    "\n",
    "1. `copy.copy()` performs a shallow copy of an object. It creates a new object and copies the references of the original object's elements to the new object. If the elements of the original object are mutable (such as lists or other objects), the changes made to those mutable elements will be reflected in both the original and copied object.\n",
    "\n",
    "2. `copy.deepcopy()` performs a deep copy of an object. It creates a new object and recursively copies all the elements and nested objects within the original object. This means that any changes made to the elements or nested objects in the copied object will not affect the original object or any other copies.\n",
    "\n",
    "In summary, `copy.copy()` creates a new object with references to the original object's elements, while `copy.deepcopy()` creates a new object with recursively copied elements and nested objects, resulting in a fully independent copy."
   ]
  },
  {
   "cell_type": "code",
   "execution_count": null,
   "id": "0e363136-f074-4586-811e-a8397b3e98bd",
   "metadata": {},
   "outputs": [],
   "source": []
  },
  {
   "cell_type": "code",
   "execution_count": null,
   "id": "c4b5fc1d-e6d6-420a-a552-ea036f74e448",
   "metadata": {},
   "outputs": [],
   "source": []
  }
 ],
 "metadata": {
  "kernelspec": {
   "display_name": "Python 3 (ipykernel)",
   "language": "python",
   "name": "python3"
  },
  "language_info": {
   "codemirror_mode": {
    "name": "ipython",
    "version": 3
   },
   "file_extension": ".py",
   "mimetype": "text/x-python",
   "name": "python",
   "nbconvert_exporter": "python",
   "pygments_lexer": "ipython3",
   "version": "3.10.8"
  }
 },
 "nbformat": 4,
 "nbformat_minor": 5
}
