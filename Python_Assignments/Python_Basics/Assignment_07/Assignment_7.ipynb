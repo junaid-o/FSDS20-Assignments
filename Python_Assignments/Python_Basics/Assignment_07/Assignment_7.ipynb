{
 "cells": [
  {
   "cell_type": "markdown",
   "id": "049eb4bd-e93f-4cf2-8b4e-a0939df9681b",
   "metadata": {},
   "source": [
    "# <center>PythonBasics: Assignment_07</center>"
   ]
  },
  {
   "cell_type": "markdown",
   "id": "47df69a9-cbb5-448c-bb7c-3a97272e9e45",
   "metadata": {},
   "source": [
    "### Question 01:\n",
    "What is the name of the feature responsible for generating Regex objects?"
   ]
  },
  {
   "cell_type": "markdown",
   "id": "4f6f265d-9c04-44db-905b-b0dd369b27b3",
   "metadata": {},
   "source": [
    "**<span style='color:blue'>Answer</span>**\n",
    "\n",
    "The feature responsible for generating Regex objects in Python is the re module. The re module provides functions and methods for working with regular expressions."
   ]
  },
  {
   "cell_type": "code",
   "execution_count": null,
   "id": "bf6f4490-1cf2-4b11-bcca-baff9f1f9882",
   "metadata": {},
   "outputs": [],
   "source": []
  },
  {
   "cell_type": "markdown",
   "id": "b1daa976-5ded-4700-a2a1-555d10f84280",
   "metadata": {},
   "source": [
    "### Question 02:\n",
    "Why do raw strings often appear in Regex objects?"
   ]
  },
  {
   "cell_type": "markdown",
   "id": "20ab132a-ce4e-43c5-8bf5-74ad73478142",
   "metadata": {},
   "source": [
    "**<span style='color:blue'>Answer</span>**\n",
    "\n",
    "\n",
    "Raw strings are often used in Regex objects to avoid unwanted escape sequences. In Python, backslashes (\\) are used to escape special characters in string literals. However, in regular expressions, backslashes are also used as escape characters for various special characters and sequences.\n",
    "\n",
    "By using a raw string (prefixing the string literal with r), backslashes in the string are treated as literal backslashes and are not used to escape any characters. This is particularly useful in regular expressions, where backslashes are commonly used to escape special characters or represent special sequences."
   ]
  },
  {
   "cell_type": "markdown",
   "id": "8353f1b7-2755-4e4c-8e8f-5bcb2babf9ae",
   "metadata": {},
   "source": [
    "### Question 03:\n",
    "What is the return value of the search() method?"
   ]
  },
  {
   "cell_type": "markdown",
   "id": "918a2382-5629-4710-868d-9c409a378902",
   "metadata": {},
   "source": [
    "**<span style='color:blue'>Answer</span>**\n",
    "\n",
    "\n",
    "The search() method of a regular expression object returns a match object if a match is found, or None if no match is found.\n",
    "\n",
    "A match object contains information about the match, such as the matched string, the starting and ending positions of the match, and any captured groups. It provides various methods and attributes to access and manipulate the matched data.\n",
    "\n",
    "If the search() method finds a match in the target string, it returns the corresponding match object. This allows you to perform further operations on the match, such as extracting the matched string or accessing captured groups.\n",
    "\n",
    "If the search() method does not find a match, it returns None, indicating that no match was found in the target string."
   ]
  },
  {
   "cell_type": "markdown",
   "id": "b68ee0ce-ac50-49fc-98c0-ab7fea01029b",
   "metadata": {},
   "source": [
    "### Question 04:\n",
    "From a Match item, how do you get the actual strings that match the pattern?"
   ]
  },
  {
   "cell_type": "markdown",
   "id": "219a4fab-ebd0-417c-99bf-73faef5cfc8a",
   "metadata": {},
   "source": [
    "**<span style='color:blue'>Answer</span>**\n",
    "\n",
    "\n",
    "To get the actual strings that match a pattern from a Match object in Python, you can use the group() method. The group() method returns the substring that was matched by the pattern.\n",
    "\n",
    "By default, group(0) returns the entire matched substring. You can also use group(1), group(2), and so on to access captured groups if your pattern contains capturing groups defined with parentheses."
   ]
  },
  {
   "cell_type": "code",
   "execution_count": 17,
   "id": "d468c6f5-de7f-4a2f-818c-3b97d1f97152",
   "metadata": {},
   "outputs": [
    {
     "name": "stdout",
     "output_type": "stream",
     "text": [
      "Full match: 2023-06-08\n",
      "Year: 2023\n",
      "Month: 06\n",
      "Day: 08\n"
     ]
    }
   ],
   "source": [
    "import re\n",
    "\n",
    "pattern = r'(\\d+)-(\\d+)-(\\d+)'  # Pattern to match a date in the format \"YYYY-MM-DD\"\n",
    "text = 'Date: 2023-06-08'\n",
    "\n",
    "match = re.search(pattern, text)\n",
    "if match:\n",
    "    full_match = match.group(0)\n",
    "    year = match.group(1)\n",
    "    month = match.group(2)\n",
    "    day = match.group(3)\n",
    "\n",
    "    print(\"Full match:\", full_match)\n",
    "    print(\"Year:\", year)\n",
    "    print(\"Month:\", month)\n",
    "    print(\"Day:\", day)\n",
    "else:\n",
    "    print(\"No match found.\")\n"
   ]
  },
  {
   "cell_type": "markdown",
   "id": "30f33de5-45b8-4b56-a575-6ebe68c705b5",
   "metadata": {},
   "source": [
    "### Question 05:\n",
    "In the regex which created from the r&#39;(\\d\\d\\d)-(\\d\\d\\d-\\d\\d\\d\\d)&#39;, what does group zero cover?\n",
    "Group 2? Group 1?"
   ]
  },
  {
   "cell_type": "markdown",
   "id": "9d281db9-090e-48be-939b-41577714801d",
   "metadata": {},
   "source": [
    "**<span style='color:blue'>Answer</span>**\n",
    "\n",
    "Group 0: The entire matched substring.\n",
    "\n",
    "Group 1: The first group, (\\d\\d\\d), which matches three digits.\n",
    "\n",
    "Group 2: The second group, (\\d\\d\\d-\\d\\d\\d\\d), which matches a sequence of three digits followed by a hyphen and then four more digits."
   ]
  },
  {
   "cell_type": "markdown",
   "id": "9061fa3c-122b-4831-8dc2-f2e2b0653db7",
   "metadata": {},
   "source": [
    "### Question 06:\n",
    "In standard expression syntax, parentheses and intervals have distinct meanings. How can you tell\n",
    "a regex that you want it to fit real parentheses and periods?"
   ]
  },
  {
   "cell_type": "markdown",
   "id": "4139ec41-9289-4b6d-9faf-c0c4ce5cfad4",
   "metadata": {},
   "source": [
    "**<span style='color:blue'>Answer</span>**\n",
    "\n",
    "In regular expression syntax, parentheses and periods have special meanings, so if you want to match them as literal characters, you can use backslashes to escape them. By adding a backslash before parentheses or periods, you tell the regex engine to interpret them as literal characters rather than special regex symbols."
   ]
  },
  {
   "cell_type": "code",
   "execution_count": 18,
   "id": "2bdcaa14-f2ab-45b1-a936-081d40d68c9b",
   "metadata": {},
   "outputs": [
    {
     "name": "stdout",
     "output_type": "stream",
     "text": [
      "Match found.\n"
     ]
    }
   ],
   "source": [
    "import re\n",
    "\n",
    "text = \"(hello).\"\n",
    "pattern = r\"\\(hello\\)\\.\"\n",
    "\n",
    "match = re.search(pattern, text)\n",
    "if match:\n",
    "    print(\"Match found.\")\n",
    "else:\n",
    "    print(\"No match found.\")\n"
   ]
  },
  {
   "cell_type": "markdown",
   "id": "56e2659b-0988-4362-81dc-afcb1a03db47",
   "metadata": {},
   "source": [
    "### Question 07:\n",
    "The findall() method returns a string list or a list of string tuples. What causes it to return one of\n",
    "the two options?"
   ]
  },
  {
   "cell_type": "markdown",
   "id": "8b8b3fcf-58e0-4c8a-8f5e-33f9f78462ed",
   "metadata": {},
   "source": [
    "**<span style='color:blue'>Answer</span>**\n",
    "\n",
    "\n",
    "The findall() method in regular expressions returns a list of all non-overlapping matches of the pattern in the input string. The return value depends on the presence of capturing groups (parentheses) in the pattern.\n",
    "\n",
    "If the pattern contains capturing groups, findall() returns a list of string tuples. Each tuple corresponds to a match, and each element of the tuple represents a captured group. The first element (index 0) of each tuple represents the entire match.\n",
    "\n",
    "If the pattern does not contain any capturing groups, findall() returns a list of strings. Each string in the list represents a complete match."
   ]
  },
  {
   "cell_type": "code",
   "execution_count": null,
   "id": "e456bed0-74fa-42c3-b71e-8947e14bde9c",
   "metadata": {},
   "outputs": [],
   "source": []
  },
  {
   "cell_type": "markdown",
   "id": "cc51d61c-2a45-4768-ad1f-7c3e874dc13f",
   "metadata": {},
   "source": [
    "### Question 08:\n",
    "In standard expressions, what does the | character mean?"
   ]
  },
  {
   "cell_type": "markdown",
   "id": "e3078322-4de1-4870-a72d-a11b48dfb6b2",
   "metadata": {},
   "source": [
    "**<span style='color:blue'>Answer</span>**\n",
    "\n",
    "\n",
    "In regular expressions, the ` | `character is used as the logical OR operator. It allows you to specify multiple alternative patterns, and it matches any one of the patterns.\n",
    "\n",
    "The `|`character separates the alternative patterns, and the regular expression engine tries to match each pattern in the order they are specified. Once a pattern matches, the rest of the alternatives are not tested."
   ]
  },
  {
   "cell_type": "markdown",
   "id": "7bc2979a-438a-47a6-aed8-426c1c360c8d",
   "metadata": {},
   "source": [
    "### Question 09:\n",
    "In regular expressions, what does `.` the character stand for?"
   ]
  },
  {
   "cell_type": "markdown",
   "id": "328bc169-28d5-464e-bce9-00d51ba24042",
   "metadata": {},
   "source": [
    "**<span style='color:blue'>Answer</span>**\n",
    "\n",
    "\n",
    "\n",
    "In regular expressions, the `.` (dot) character is a special metacharacter that matches any single character except a newline character. It can be used to represent any character in a pattern.\n",
    "\n",
    "For example:\n",
    "\n",
    "The pattern `b.t` will match strings like \"bat\", \"bit\", \"but\", \"b#t\", etc., where the . matches any single character.\n",
    "\n",
    "The pattern `a.b` will match strings like \"axb\", \"aab\", \"azb\", etc., where the . matches any single character.\n",
    "\n",
    "The pattern `...` will match any three-character string, regardless of the specific characters."
   ]
  },
  {
   "cell_type": "markdown",
   "id": "0905da21-5cd9-4beb-b9c2-779c98834bca",
   "metadata": {},
   "source": [
    "### Question 10:\n",
    "In regular expressions, what is the difference between the + and * characters?"
   ]
  },
  {
   "cell_type": "markdown",
   "id": "cfe7bade-38f0-4f9f-953c-915cecac8a86",
   "metadata": {},
   "source": [
    "**<span style='color:blue'>Answer</span>**\n",
    "\n",
    "\n",
    "In regular expressions, the `+` and `*` characters are quantifiers used to specify the repetition of a preceding element or group in a pattern. The main difference between them is as follows:\n",
    "\n",
    "1. `+` (Plus): It matches one or more occurrences of the preceding element. The preceding element must appear at least once for a match to occur. For example, the pattern `a+` matches one or more consecutive occurrences of the letter \"a\" (e.g., \"a\", \"aa\", \"aaa\", etc.).\n",
    "\n",
    "2. `*` (Asterisk): It matches zero or more occurrences of the preceding element. The preceding element can appear zero times or multiple times. It allows for matches even if the preceding element is absent. For example, the pattern `a*` matches zero or more consecutive occurrences of the letter \"a\" (e.g., \"\", \"a\", \"aa\", \"aaa\", etc.).\n",
    "\n"
   ]
  },
  {
   "cell_type": "markdown",
   "id": "e08a6a74-7e24-4072-8dc5-28867e0d9390",
   "metadata": {},
   "source": [
    "### Question 11:\n",
    "What is the difference between {4} and {4,5} in regular expression?"
   ]
  },
  {
   "cell_type": "markdown",
   "id": "c09cf396-30cd-4def-8b61-6965fb6959e5",
   "metadata": {},
   "source": [
    "**<span style='color:blue'>Answer</span>**\n",
    "\n",
    "\n",
    "In regular expressions, the curly braces `{}` are used to specify the exact number of occurrences of the preceding element or group. The difference between `{4}` and `{4,5}` is as follows:\n",
    "\n",
    "1. `{4}`: It specifies that the preceding element must occur exactly four times. For example, the pattern `a{4}` matches only when the letter \"a\" appears exactly four times consecutively (e.g., \"aaaa\").\n",
    "\n",
    "2. `{4,5}`: It specifies that the preceding element must occur between four and five times, inclusive. It allows for a range of possible occurrences. For example, the pattern `a{4,5}` matches when the letter \"a\" appears either four or five times consecutively (e.g., \"aaaa\", \"aaaaa\").\n",
    "\n",
    "Thus, `{4}` sets an exact count of occurrences, while `{4,5}` specifies a range of possible occurrences."
   ]
  },
  {
   "cell_type": "markdown",
   "id": "5df9a08f-a6ec-4a91-a2de-56b5f17b3ad0",
   "metadata": {},
   "source": [
    "### Question 12:\n",
    "What do you mean by the \\d, \\w, and \\s shorthand character classes signify in regular\n",
    "expressions?"
   ]
  },
  {
   "cell_type": "markdown",
   "id": "a3724b00-5e53-43db-8e56-645810f812de",
   "metadata": {},
   "source": [
    "**<span style='color:blue'>Answer</span>**\n",
    "\n",
    "In regular expressions, the shorthand character classes `\\d`, `\\w`, and `\\s` have specific meanings:\n",
    "\n",
    "1. `\\d`: It represents any digit character. It is equivalent to the character class `[0-9]`. For example, the pattern `\\d` matches any single digit from 0 to 9.\n",
    "\n",
    "2. `\\w`: It represents any word character. It matches alphanumeric characters (letters and digits) and underscores. It is equivalent to the character class `[a-zA-Z0-9_]`. For example, the pattern `\\w` matches any single alphanumeric character or underscore.\n",
    "\n",
    "3. `\\s`: It represents any whitespace character. It matches spaces, tabs, newlines, and other whitespace characters. For example, the pattern `\\s` matches a single whitespace character."
   ]
  },
  {
   "cell_type": "code",
   "execution_count": null,
   "id": "f1d6b362-af75-4e12-b759-2c77065107eb",
   "metadata": {},
   "outputs": [],
   "source": []
  },
  {
   "cell_type": "markdown",
   "id": "162df038-3547-4bf6-aec4-0244f0e856f9",
   "metadata": {},
   "source": [
    "### Question 13:\n",
    "What do means by \\D, \\W, and \\S shorthand character classes signify in regular expressions?"
   ]
  },
  {
   "cell_type": "markdown",
   "id": "82b56535-9fe5-492c-a623-2c7d41f08b1f",
   "metadata": {},
   "source": [
    "**<span style='color:blue'>Answer</span>**\n",
    "\n",
    "\n",
    "In regular expressions, the shorthand character classes `\\D`, `\\W`, and `\\S` have specific meanings:\n",
    "\n",
    "1. `\\D`: It represents any non-digit character. It is the inverse of the `\\d` shorthand character class. It matches any character that is not a digit. For example, the pattern `\\D` matches any single character that is not a digit.\n",
    "\n",
    "2. `\\W`: It represents any non-word character. It is the inverse of the `\\w` shorthand character class. It matches any character that is not an alphanumeric character or underscore. For example, the pattern `\\W` matches any single character that is not a word character.\n",
    "\n",
    "3. `\\S`: It represents any non-whitespace character. It is the inverse of the `\\s` shorthand character class. It matches any character that is not a whitespace character. For example, the pattern `\\S` matches any single character that is not a whitespace character."
   ]
  },
  {
   "cell_type": "markdown",
   "id": "f33c57ad-5ff0-4f00-90a7-ad55dcdb9956",
   "metadata": {},
   "source": [
    "### Question 14:\n",
    "What is the difference between .*? and .*?"
   ]
  },
  {
   "cell_type": "markdown",
   "id": "50c5745a-c35f-4d72-841c-2ee66db54c88",
   "metadata": {},
   "source": [
    "**<span style='color:blue'>Answer</span>**\n",
    "\n",
    "\n",
    "In regular expressions, the `.` (dot) character is a special metacharacter that matches any character except a newline character. \r\n",
    "\r\n",
    "The `.?` sequence in a regular expression means matching zero or one occurrence of any character except a newline. The `?` is a quantifier that modifies the preceding character or group to indicate that it is optional. So, `.?` matches an optional single character.\r\n",
    "\r\n",
    "On the other hand, `.*` is another common sequence in regular expressions. The `.*` means matching zero or more occurrences of any character except a newline. The `*` is a quantifier that allows the preceding character or group to repeat zero or more times.\r\n",
    "\r\n",
    "In summary:\r\n",
    "- `.?` matches an optional single character.\r\n",
    "- `.*` matches zero or more occurrences of any character.\r\n",
    "\r\n",
    "Both `.?` and `.*` are used for making parts of a regular expression optional, but `.*` allows for multiple occurrences of the preceding character or group, while `.?` allows for at most one o\n",
    "ccurrence."
   ]
  },
  {
   "cell_type": "markdown",
   "id": "de4f6496-501d-427e-8789-16668996b9a1",
   "metadata": {},
   "source": [
    "### Question 15:\n",
    "What is the syntax for matching both numbers and lowercase letters with a character class?"
   ]
  },
  {
   "cell_type": "markdown",
   "id": "c21e3275-7107-41bc-b0a8-739a621d3fad",
   "metadata": {},
   "source": [
    "**<span style='color:blue'>Answer</span>**\n",
    "\n",
    "To match both numbers and lowercase letters using a character class in a regular expression, you can use the following syntax:\n",
    "\n",
    "`[0-9a-z]`\n",
    "\n",
    "In this syntax, `[0-9]` matches any digit from 0 to 9, and a-z matches any lowercase letter from a to z. By combining them within square brackets `[ ]`, you create a character class that matches either a digit or a lowercase letter."
   ]
  },
  {
   "cell_type": "markdown",
   "id": "bf7cd68c-d458-4cce-9b8b-056131ba64b4",
   "metadata": {},
   "source": [
    "### Question 16:\n",
    "What is the procedure for making a normal expression in regax case insensitive?"
   ]
  },
  {
   "cell_type": "markdown",
   "id": "240c2899-1262-4629-9fef-9779a6eb004c",
   "metadata": {},
   "source": [
    "To make a regular expression case-insensitive in Python, you can use the re.IGNORECASE flag or the re.I flag"
   ]
  },
  {
   "cell_type": "code",
   "execution_count": 19,
   "id": "d5c2b1e3-3201-4727-96e0-b2a16ca4696c",
   "metadata": {},
   "outputs": [],
   "source": [
    "import re\n",
    "pattern = r\"pattern\"\n"
   ]
  },
  {
   "cell_type": "markdown",
   "id": "e9cdcdd9-dea6-4c8e-b93d-2136ca7f7a5f",
   "metadata": {},
   "source": [
    "Compile the regular expression: Use the re.compile() function to compile the regular expression pattern. Pass the re.IGNORECASE flag or re.I flag as the second argument to make it case-insensitive."
   ]
  },
  {
   "cell_type": "code",
   "execution_count": 20,
   "id": "5563c50f-edf3-40e6-b792-a5d18dae13fd",
   "metadata": {},
   "outputs": [],
   "source": [
    "regex = re.compile(pattern, re.IGNORECASE)  # or re.compile(pattern, re.I)\n"
   ]
  },
  {
   "cell_type": "code",
   "execution_count": 21,
   "id": "58c7c59d-b37e-44a3-85e5-d25a73ee1fe9",
   "metadata": {},
   "outputs": [],
   "source": [
    "text = \"text\"\n",
    "result = regex.search(text)\n"
   ]
  },
  {
   "cell_type": "code",
   "execution_count": 22,
   "id": "d30808d0-a8e1-4701-9ebc-bcc8e2e3c887",
   "metadata": {},
   "outputs": [],
   "source": [
    "### Method 2\n",
    "### Method 2\n",
    "\n",
    "re.search(pattern, text, re.IGNORECASE)"
   ]
  },
  {
   "cell_type": "code",
   "execution_count": 23,
   "id": "272688ba-13a1-4e49-9b7b-bfb431a964f6",
   "metadata": {},
   "outputs": [
    {
     "data": {
      "text/plain": [
       "[]"
      ]
     },
     "execution_count": 23,
     "metadata": {},
     "output_type": "execute_result"
    }
   ],
   "source": [
    "re.findall(pattern, text, re.I)"
   ]
  },
  {
   "cell_type": "markdown",
   "id": "584fc9d9-6274-49b6-9829-e57a4115f3b0",
   "metadata": {},
   "source": [
    "### Question 17:\n",
    "What does the . character normally match? What does it match if re.DOTALL is passed as 2nd\n",
    "argument in re.compile()?"
   ]
  },
  {
   "cell_type": "markdown",
   "id": "fadbb59e-91c9-464b-86ea-549887e6e7ba",
   "metadata": {},
   "source": [
    "**<span style='color:blue'>Answer</span>**\n",
    "\n",
    "In regular expressions, the `.` (dot) character normally matches any character except a newline character (`\\n`). It matches any single character in the text.\n",
    "\n",
    "However, if the `re.DOTALL` flag (or `re.S` flag) is passed as the second argument to the `re.compile()` function, it changes the behavior of the `.` (dot) character. With the `re.DOTALL` flag enabled, the `.` (dot) character matches any character, including newline characters (`\\n`)."
   ]
  },
  {
   "cell_type": "markdown",
   "id": "d300ee43-277c-4198-81b8-1e03ebdacf6e",
   "metadata": {},
   "source": [
    "### Question 18:\n",
    "If numReg = re.compile(r&#39;\\d+&#39;), what will numRegex.sub(&#39;X&#39;, &#39;11 drummers, 10 pipers, five rings, 4\n",
    "hen&#39;) return?"
   ]
  },
  {
   "cell_type": "code",
   "execution_count": 24,
   "id": "f1897b07-102c-4676-b667-498ca23a537e",
   "metadata": {},
   "outputs": [
    {
     "data": {
      "text/plain": [
       "'X drummers, X pipers, five rings, X hen'"
      ]
     },
     "execution_count": 24,
     "metadata": {},
     "output_type": "execute_result"
    }
   ],
   "source": [
    "numReg = re.compile(r'\\d+')\n",
    "numReg.sub('X', '11 drummers, 10 pipers, five rings, 4 hen')"
   ]
  },
  {
   "cell_type": "markdown",
   "id": "4efb9ce0-146a-4fef-8ef0-266dba4f3292",
   "metadata": {},
   "source": [
    "### Question 19:\n",
    "What does passing re.VERBOSE as the 2nd argument to re.compile() allow to do?"
   ]
  },
  {
   "cell_type": "markdown",
   "id": "1efcac10-62c7-40ae-a50b-06669b166077",
   "metadata": {},
   "source": [
    "**<span style='color:blue'>Answer</span>**\n",
    "\n",
    "\n",
    "Passing `re.VERBOSE` as the second argument to `re.compile()` allows you to write more readable and organized regular expressions by ignoring whitespace and adding comments.\n",
    "\n",
    "When `re.VERBOSE` is used, whitespace characters within the regular expression pattern are ignored, except when they are within a character class or escaped with a backslash. This allows you to add extra spaces, line breaks, and indentation to the regular expression to improve readability without affecting its functionality.\n",
    "\n",
    "Additionally, you can include comments in the pattern by using the `#` symbol. Any text after `#` until the end of the line is treated as a comment and ignored by the regular expression engine. This helps in documenting and explaining complex patterns."
   ]
  },
  {
   "cell_type": "markdown",
   "id": "4642485a-2adb-4d41-8350-0154d9de7dd2",
   "metadata": {},
   "source": [
    "### Question 20:\n",
    "How would you write a regex that match a number with comma for every three digits? It must\n",
    "match the given following:\n",
    "&#39;42&#39;\n",
    "&#39;1,234&#39;\n",
    "&#39;6,368,745&#39;\n",
    "\n",
    "but not the following:\n",
    "&#39;12,34,567&#39; (which has only two digits between the commas)\n",
    "&#39;1234&#39; (which lacks commas)"
   ]
  },
  {
   "cell_type": "code",
   "execution_count": 25,
   "id": "45947dc8-1114-403e-a9ab-044dbbb2c734",
   "metadata": {},
   "outputs": [
    {
     "name": "stdout",
     "output_type": "stream",
     "text": [
      "Matched: 42\n",
      "Matched: 1,234\n",
      "Matched: 6,368,745\n",
      "Not matched: 12,34,567\n",
      "Not matched: 1234\n"
     ]
    }
   ],
   "source": [
    "import re\n",
    "\n",
    "pattern = re.compile(r'^\\d{1,3}(,\\d{3})*$')\n",
    "\n",
    "####################################################\n",
    "\n",
    "strings = ['42', '1,234', '6,368,745', '12,34,567', '1234']\n",
    "\n",
    "for string in strings:\n",
    "    if pattern.match(string):\n",
    "        print(f'Matched: {string}')\n",
    "    else:\n",
    "        print(f'Not matched: {string}')\n"
   ]
  },
  {
   "cell_type": "markdown",
   "id": "adac7bcd-646d-409c-b1c4-ac1a4a531efd",
   "metadata": {},
   "source": [
    "`^` asserts the start of the string.\n",
    "\n",
    "`\\d{1,3}` matches one to three digits.\n",
    "\n",
    "`(,\\d{3})*` matches zero or more occurrences of a comma followed by exactly three digits.\n",
    "\n",
    "`$` asserts the end of the string."
   ]
  },
  {
   "cell_type": "markdown",
   "id": "d9f4c7b5-98b3-4166-babf-41ebc893bfc6",
   "metadata": {},
   "source": [
    "### Question 21:\n",
    "How would you write a regex that matches the full name of someone whose last name is\n",
    "Watanabe? You can assume that the first name that comes before it will always be one word that\n",
    "begins with a capital letter. The regex must match the following:\n",
    "&#39;Haruto Watanabe&#39;\n",
    "&#39;Alice Watanabe&#39;\n",
    "&#39;RoboCop Watanabe&#39;\n",
    "but not the following:\n",
    "&#39;haruto Watanabe&#39; (where the first name is not capitalized)\n",
    "&#39;Mr. Watanabe&#39; (where the preceding word has a nonletter character)\n",
    "&#39;Watanabe&#39; (which has no first name)\n",
    "&#39;Haruto watanabe&#39; (where Watanabe is not capitalized)"
   ]
  },
  {
   "cell_type": "code",
   "execution_count": 26,
   "id": "81f86919-eb6a-4900-9c7f-4d001c792cce",
   "metadata": {},
   "outputs": [
    {
     "name": "stdout",
     "output_type": "stream",
     "text": [
      "Matched: Haruto Watanabe\n",
      "Matched: Alice Watanabe\n",
      "Matched: RoboCop Watanabe\n",
      "Not matched: haruto Watanabe\n",
      "Not matched: Mr. Watanabe\n",
      "Not matched: Watanabe\n",
      "Not matched: Haruto watanabe\n"
     ]
    }
   ],
   "source": [
    "import re\n",
    "\n",
    "pattern = re.compile(r'^[A-Z][a-zA-Z]*\\sWatanabe$')\n",
    "\n",
    "#########################\n",
    "\n",
    "names = ['Haruto Watanabe', 'Alice Watanabe', 'RoboCop Watanabe', 'haruto Watanabe', 'Mr. Watanabe', 'Watanabe', 'Haruto watanabe']\n",
    "\n",
    "for name in names:\n",
    "    if pattern.match(name):\n",
    "        print(f'Matched: {name}')\n",
    "    else:\n",
    "        print(f'Not matched: {name}')\n"
   ]
  },
  {
   "cell_type": "markdown",
   "id": "3b378852-6cc2-4932-b3eb-d27de070d570",
   "metadata": {},
   "source": [
    "`^` asserts the start of the string.\n",
    "\n",
    "`[A-Z]` matches an uppercase letter (the first letter of the first name).\n",
    "\n",
    "`[a-zA-Z]*` matches zero or more lowercase or uppercase letters (the remaining letters of the first name).\n",
    "`\n",
    "\\s` matches a whitespace character (space).\n",
    "\n",
    "`Watanabe` matches the last name exactly.\n",
    "\n",
    "`$` asserts the end of the string."
   ]
  },
  {
   "cell_type": "markdown",
   "id": "0371de3f-4208-4567-a003-c8b9a413dcba",
   "metadata": {},
   "source": [
    "### Question 22:\n",
    "How would you write a regex that matches a sentence where the first word is either Alice, Bob,\n",
    "or Carol; the second word is either eats, pets, or throws; the third word is apples, cats, or baseballs;\n",
    "and the sentence ends with a period? This regex should be case-insensitive. It must match the\n",
    "following:\n",
    "&#39;Alice eats apples.&#39;\n",
    "&#39;Bob pets cats.&#39;\n",
    "&#39;Carol throws baseballs.&#39;\n",
    "&#39;Alice throws Apples.&#39;\n",
    "&#39;BOB EATS CATS.&#39;\n",
    "but not the following:\n",
    "&#39;RoboCop eats apples.&#39;\n",
    "&#39;ALICE THROWS FOOTBALLS.&#39;\n",
    "&#39;Carol eats 7 cats.&#39;"
   ]
  },
  {
   "cell_type": "code",
   "execution_count": 27,
   "id": "443a7b50-42f5-4289-803f-1cb80a6bd7a1",
   "metadata": {},
   "outputs": [
    {
     "name": "stdout",
     "output_type": "stream",
     "text": [
      "Matched: Alice eats apples.\n",
      "Matched: Bob pets cats.\n",
      "Matched: Carol throws baseballs.\n",
      "Matched: Alice throws Apples.\n",
      "Matched: BOB EATS CATS.\n",
      "Not matched: RoboCop eats apples.\n",
      "Not matched: ALICE THROWS FOOTBALLS.\n",
      "Not matched: Carol eats 7 cats.\n"
     ]
    }
   ],
   "source": [
    "import re\n",
    "\n",
    "pattern = re.compile(r'^(Alice|Bob|Carol)\\s(eats|pets|throws)\\s(apples|cats|baseballs)\\.$', re.IGNORECASE)\n",
    "\n",
    "############################################\n",
    "\n",
    "sentences = [\n",
    "    'Alice eats apples.',\n",
    "    'Bob pets cats.',\n",
    "    'Carol throws baseballs.',\n",
    "    'Alice throws Apples.',\n",
    "    'BOB EATS CATS.',\n",
    "    'RoboCop eats apples.',\n",
    "    'ALICE THROWS FOOTBALLS.',\n",
    "    'Carol eats 7 cats.'\n",
    "]\n",
    "\n",
    "for sentence in sentences:\n",
    "    if pattern.match(sentence):\n",
    "        print(f'Matched: {sentence}')\n",
    "    else:\n",
    "        print(f'Not matched: {sentence}')\n",
    "\n"
   ]
  },
  {
   "cell_type": "markdown",
   "id": "6466e896-e65f-44cc-b6aa-513919a55cb1",
   "metadata": {},
   "source": [
    "`^` asserts the start of the string.\n",
    "\n",
    "`(Alice|Bob|Carol)` matches either \"Alice\", \"Bob\", or \"Carol\" as the first word.\n",
    "\n",
    "`\\s` matches a whitespace character (space) between words.\n",
    "\n",
    "`(eats|pets|throws)` matches either \"eats\", \"pets\", or \"throws\" as the second word.\n",
    "\n",
    "`(apples|cats|baseballs)` matches either \"apples\", \"cats\", or \"baseballs\" as the third word.\n",
    "\n",
    "`\\.` matches a period at the end of the sentence.\n",
    "\n",
    "`$` asserts the end of the string.\n",
    "\n",
    "`re.IGNORECASE` enables case-insensitive matching."
   ]
  },
  {
   "cell_type": "code",
   "execution_count": null,
   "id": "d7630762-eb95-4f2e-aeea-d9903d5fa864",
   "metadata": {},
   "outputs": [],
   "source": []
  }
 ],
 "metadata": {
  "kernelspec": {
   "display_name": "Python 3 (ipykernel)",
   "language": "python",
   "name": "python3"
  },
  "language_info": {
   "codemirror_mode": {
    "name": "ipython",
    "version": 3
   },
   "file_extension": ".py",
   "mimetype": "text/x-python",
   "name": "python",
   "nbconvert_exporter": "python",
   "pygments_lexer": "ipython3",
   "version": "3.10.8"
  }
 },
 "nbformat": 4,
 "nbformat_minor": 5
}
