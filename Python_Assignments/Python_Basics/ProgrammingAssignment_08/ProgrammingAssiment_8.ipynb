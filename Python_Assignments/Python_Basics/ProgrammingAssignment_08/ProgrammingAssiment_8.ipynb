{
 "cells": [
  {
   "cell_type": "markdown",
   "id": "98da920a-89c6-4189-a06a-6799d515bdfa",
   "metadata": {},
   "source": [
    "# <center>PythonBasics: ProgrammingAssignment_08</center>\n",
    "\n",
    "\n",
    "1. Write a Python Program to Add Two Matrices?\n",
    "2. Write a Python Program to Multiply Two Matrices?\n",
    "3. Write a Python Program to Transpose a Matrix?\n",
    "4. Write a Python Program to Sort Words in Alphabetic Order?\n",
    "5. Write a Python Program to Remove Punctuation From a String?"
   ]
  },
  {
   "cell_type": "markdown",
   "id": "71c7911a-3133-4417-9034-f48d16dddfee",
   "metadata": {},
   "source": [
    "### Question 1: Write a Python Program to Add Two Matrices?"
   ]
  },
  {
   "cell_type": "code",
   "execution_count": 1,
   "id": "fe2656dc-9a17-4d70-a7ae-07f0670000ef",
   "metadata": {},
   "outputs": [
    {
     "name": "stdout",
     "output_type": "stream",
     "text": [
      "The sum of the matrices is:\n",
      "[10, 10, 10]\n",
      "[10, 10, 10]\n",
      "[10, 10, 10]\n"
     ]
    }
   ],
   "source": [
    "def add_matrices(matrix1, matrix2):\n",
    "    rows = len(matrix1)\n",
    "    cols = len(matrix1[0])\n",
    "\n",
    "    if rows != len(matrix2) or cols != len(matrix2[0]):\n",
    "        return None\n",
    "\n",
    "    result = []\n",
    "    for i in range(rows):\n",
    "        row = []\n",
    "        for j in range(cols):\n",
    "            row.append(matrix1[i][j] + matrix2[i][j])\n",
    "        result.append(row)\n",
    "\n",
    "    return result\n",
    "\n",
    "######### TEST\n",
    "######## TEST\n",
    "######## TEST\n",
    "\n",
    "matrix1 = [[1, 2, 3], [4, 5, 6], [7, 8, 9]]\n",
    "matrix2 = [[9, 8, 7], [6, 5, 4], [3, 2, 1]]\n",
    "\n",
    "result_matrix = add_matrices(matrix1, matrix2)\n",
    "\n",
    "if result_matrix:\n",
    "    print(\"The sum of the matrices is:\")\n",
    "    for row in result_matrix:\n",
    "        print(row)\n",
    "else:\n",
    "    print(\"The matrices cannot be added.\")\n"
   ]
  },
  {
   "cell_type": "code",
   "execution_count": 6,
   "id": "ec25505f-696f-4be5-804d-0afb9508ea96",
   "metadata": {},
   "outputs": [
    {
     "name": "stdout",
     "output_type": "stream",
     "text": [
      "The sum of the matrices is:\n",
      "[[10 10 10]\n",
      " [10 10 10]\n",
      " [10 10 10]]\n"
     ]
    }
   ],
   "source": [
    "################ METHOD 2 ##############\n",
    "################ METHOD 2 ##############\n",
    "################ METHOD 2 ##############\n",
    "\n",
    "\n",
    "import numpy as np\n",
    "\n",
    "def add_matrices(matrix1, matrix2):\n",
    "    return np.add(matrix1, matrix2)\n",
    "\n",
    "############## TEST\n",
    "############### TEST\n",
    "################ TEST\n",
    "\n",
    "matrix1 = np.array([[1, 2, 3], [4, 5, 6], [7, 8, 9]])\n",
    "matrix2 = np.array([[9, 8, 7], [6, 5, 4], [3, 2, 1]])\n",
    "\n",
    "result_matrix = add_matrices(matrix1, matrix2)\n",
    "\n",
    "print(\"The sum of the matrices is:\")\n",
    "print(result_matrix)\n",
    "\n"
   ]
  },
  {
   "cell_type": "markdown",
   "id": "b8314130-d592-4a58-a2c9-b095498d7b1d",
   "metadata": {},
   "source": [
    "### Question 2: Write a Python Program to Multiply Two Matrices?"
   ]
  },
  {
   "cell_type": "code",
   "execution_count": 7,
   "id": "a481b6eb-9cdb-4d92-9e41-71ea22ad75ad",
   "metadata": {},
   "outputs": [
    {
     "name": "stdout",
     "output_type": "stream",
     "text": [
      "The product of the matrices is:\n",
      "[[ 30  24  18]\n",
      " [ 84  69  54]\n",
      " [138 114  90]]\n"
     ]
    }
   ],
   "source": [
    "import numpy as np\n",
    "\n",
    "def multiply_matrices(matrix1, matrix2):\n",
    "    return np.dot(matrix1, matrix2)\n",
    "\n",
    "################### TEST\n",
    "matrix1 = np.array([[1, 2, 3], [4, 5, 6], [7, 8, 9]])\n",
    "matrix2 = np.array([[9, 8, 7], [6, 5, 4], [3, 2, 1]])\n",
    "\n",
    "result_matrix = multiply_matrices(matrix1, matrix2)\n",
    "\n",
    "print(\"The product of the matrices is:\")\n",
    "print(result_matrix)\n"
   ]
  },
  {
   "cell_type": "code",
   "execution_count": 8,
   "id": "e802af69-f0b0-4752-be11-675e6551e563",
   "metadata": {},
   "outputs": [
    {
     "name": "stdout",
     "output_type": "stream",
     "text": [
      "The product of the matrices is:\n",
      "[30, 24, 18]\n",
      "[84, 69, 54]\n",
      "[138, 114, 90]\n"
     ]
    }
   ],
   "source": [
    "################ METHOD 2 #################\n",
    "################ METHOD 2 #################\n",
    "################ METHOD 2 #################\n",
    "\n",
    "\n",
    "def multiply_matrices(matrix1, matrix2):\n",
    "    rows1 = len(matrix1)\n",
    "    cols1 = len(matrix1[0])\n",
    "    rows2 = len(matrix2)\n",
    "    cols2 = len(matrix2[0])\n",
    "\n",
    "    if cols1 != rows2:\n",
    "        return None\n",
    "\n",
    "    result = [[0] * cols2 for _ in range(rows1)]\n",
    "\n",
    "    for i in range(rows1):\n",
    "        for j in range(cols2):\n",
    "            for k in range(cols1):\n",
    "                result[i][j] += matrix1[i][k] * matrix2[k][j]\n",
    "\n",
    "    return result\n",
    "\n",
    "# TEST\n",
    "matrix1 = [[1, 2, 3], [4, 5, 6], [7, 8, 9]]\n",
    "matrix2 = [[9, 8, 7], [6, 5, 4], [3, 2, 1]]\n",
    "\n",
    "result_matrix = multiply_matrices(matrix1, matrix2)\n",
    "\n",
    "if result_matrix:\n",
    "    print(\"The product of the matrices is:\")\n",
    "    for row in result_matrix:\n",
    "        print(row)\n",
    "else:\n",
    "    print(\"The matrices cannot be multiplied.\")\n"
   ]
  },
  {
   "cell_type": "markdown",
   "id": "7a7e1b03-d877-4982-819c-fd9f68a00640",
   "metadata": {},
   "source": [
    "### Question 3 Write a Python Program to Transpose a Matrix?"
   ]
  },
  {
   "cell_type": "code",
   "execution_count": 9,
   "id": "aa781344-be14-461f-bcf6-5d0e7b3d0eb4",
   "metadata": {},
   "outputs": [
    {
     "name": "stdout",
     "output_type": "stream",
     "text": [
      "The transposed matrix is:\n",
      "[1, 4, 7]\n",
      "[2, 5, 8]\n",
      "[3, 6, 9]\n"
     ]
    }
   ],
   "source": [
    "def transpose_matrix(matrix):\n",
    "    rows = len(matrix)\n",
    "    cols = len(matrix[0])\n",
    "\n",
    "    transposed = [[0] * rows for _ in range(cols)]\n",
    "\n",
    "    for i in range(rows):\n",
    "        for j in range(cols):\n",
    "            transposed[j][i] = matrix[i][j]\n",
    "\n",
    "    return transposed\n",
    "\n",
    "##### TEST#######\n",
    "##### TEST#######\n",
    "##### TEST#######\n",
    "\n",
    "matrix = [[1, 2, 3], [4, 5, 6], [7, 8, 9]]\n",
    "\n",
    "transposed_matrix = transpose_matrix(matrix)\n",
    "\n",
    "print(\"The transposed matrix is:\")\n",
    "for row in transposed_matrix:\n",
    "    print(row)\n"
   ]
  },
  {
   "cell_type": "code",
   "execution_count": 10,
   "id": "18a94245-b81f-482b-b50a-503c6a66f4ff",
   "metadata": {},
   "outputs": [
    {
     "name": "stdout",
     "output_type": "stream",
     "text": [
      "The transposed matrix is:\n",
      "[[1 4 7]\n",
      " [2 5 8]\n",
      " [3 6 9]]\n"
     ]
    }
   ],
   "source": [
    "############ METHOD 2 ##############\n",
    "############ METHOD 2 ##############\n",
    "############ METHOD 2 ##############\n",
    "\n",
    "\n",
    "import numpy as np\n",
    "\n",
    "def transpose_matrix(matrix):\n",
    "    return np.transpose(matrix)\n",
    "\n",
    "################### TEST\n",
    "matrix = np.array([[1, 2, 3], [4, 5, 6], [7, 8, 9]])\n",
    "\n",
    "transposed_matrix = transpose_matrix(matrix)\n",
    "\n",
    "print(\"The transposed matrix is:\")\n",
    "print(transposed_matrix)\n"
   ]
  },
  {
   "cell_type": "markdown",
   "id": "e23286a2-9c9c-4941-a8d5-6c7c858e4d14",
   "metadata": {},
   "source": [
    "### Question 4: Write a Python Program to Sort Words in Alphabetic Order?"
   ]
  },
  {
   "cell_type": "code",
   "execution_count": 16,
   "id": "2beb3e63-0a58-45a5-b333-3f4ba1c1033d",
   "metadata": {},
   "outputs": [
    {
     "name": "stdin",
     "output_type": "stream",
     "text": [
      "Enter words separated by spaces:  M Junaid\n"
     ]
    },
    {
     "name": "stdout",
     "output_type": "stream",
     "text": [
      "Words in alphabetical order:\n",
      "Junaid\n",
      "M\n"
     ]
    }
   ],
   "source": [
    "def sort_words(words, reverse_order=False):\n",
    "    sorted_words = sorted(words,reverse=reverse_order)\n",
    "    return sorted_words\n",
    "\n",
    "########### TEST\n",
    "########### TEST\n",
    "\n",
    "words = input(\"Enter words separated by spaces: \").split()\n",
    "\n",
    "sorted_words = sort_words(words, reverse_order=False)\n",
    "\n",
    "print(\"Words in alphabetical order:\")\n",
    "for word in sorted_words:\n",
    "    print(word)\n"
   ]
  },
  {
   "cell_type": "code",
   "execution_count": 36,
   "id": "3813ea59-81c0-4ea9-b5a9-f410c3b2fc94",
   "metadata": {},
   "outputs": [
    {
     "name": "stdout",
     "output_type": "stream",
     "text": [
      "True\n"
     ]
    }
   ],
   "source": [
    "# logical operation on string will compare lexicographic order. 'a' comes before z so the condition a < z is True\n",
    "\n",
    "if 'a' < 'z':\n",
    "    print(True)\n",
    "else:\n",
    "    print(False)"
   ]
  },
  {
   "cell_type": "markdown",
   "id": "ee3d656e-ee4e-4dae-9e16-e49aa5a853da",
   "metadata": {},
   "source": [
    "### Question 5: Write a Python Program to Remove Punctuation From a String?"
   ]
  },
  {
   "cell_type": "code",
   "execution_count": 46,
   "id": "b99ed0eb-5e8a-4d6b-ad1e-d45a8eb562ec",
   "metadata": {},
   "outputs": [
    {
     "name": "stdout",
     "output_type": "stream",
     "text": [
      "Text without punctuation: Hello World\n"
     ]
    }
   ],
   "source": [
    "########## METHOD1\n",
    "########## METHOD1\n",
    "########## METHOD1\n",
    "\n",
    "\n",
    "\n",
    "import string\n",
    "\n",
    "def remove_punctuation(text):\n",
    "    # Create a translation table to remove punctuation\n",
    "    translator = str.maketrans(\"\", \"\", string.punctuation)\n",
    "    \n",
    "    # Remove punctuation using the translation table\n",
    "    text_without_punctuation = text.translate(translator)\n",
    "    \n",
    "    return text_without_punctuation\n",
    "\n",
    "############## TEST\n",
    "text = \"Hello, World!\"\n",
    "text_without_punctuation = remove_punctuation(text)\n",
    "\n",
    "print(\"Text without punctuation:\", text_without_punctuation)\n"
   ]
  },
  {
   "cell_type": "code",
   "execution_count": 43,
   "id": "718ec2e4-b0d7-4fc4-9db0-cde17406709d",
   "metadata": {},
   "outputs": [
    {
     "name": "stdout",
     "output_type": "stream",
     "text": [
      "Text without punctuation: Hello World\n"
     ]
    }
   ],
   "source": [
    "############ METHOD 2 ###################\n",
    "############ METHOD 2 ###################\n",
    "############ METHOD 2 ###################\n",
    "\n",
    "\n",
    "import nltk\n",
    "from nltk.tokenize import word_tokenize\n",
    "import string\n",
    "\n",
    "def remove_punctuation(text):\n",
    "    # Tokenize the text into words\n",
    "    words = word_tokenize(text)\n",
    "    \n",
    "    # Remove punctuation from each word\n",
    "    words_without_punctuation = [word for word in words if word not in string.punctuation]\n",
    "    \n",
    "    # Join the words back into a string\n",
    "    text_without_punctuation = ' '.join(words_without_punctuation)\n",
    "    \n",
    "    return text_without_punctuation\n",
    "\n",
    "################ TEST\n",
    "#################### TEST\n",
    "################## TEST\n",
    "\n",
    "text = \"Hello, World!\"\n",
    "text_without_punctuation = remove_punctuation(text)\n",
    "\n",
    "print(\"Text without punctuation:\", text_without_punctuation)\n"
   ]
  },
  {
   "cell_type": "code",
   "execution_count": null,
   "id": "c8e198b0-3e2f-4312-84eb-ab6dc0615ba3",
   "metadata": {},
   "outputs": [],
   "source": []
  }
 ],
 "metadata": {
  "kernelspec": {
   "display_name": "Python 3 (ipykernel)",
   "language": "python",
   "name": "python3"
  },
  "language_info": {
   "codemirror_mode": {
    "name": "ipython",
    "version": 3
   },
   "file_extension": ".py",
   "mimetype": "text/x-python",
   "name": "python",
   "nbconvert_exporter": "python",
   "pygments_lexer": "ipython3",
   "version": "3.10.8"
  }
 },
 "nbformat": 4,
 "nbformat_minor": 5
}
