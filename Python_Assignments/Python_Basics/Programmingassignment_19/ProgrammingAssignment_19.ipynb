{
 "cells": [
  {
   "cell_type": "markdown",
   "id": "1ecf0fa9-c61e-4a2c-909e-6d4b463c030f",
   "metadata": {},
   "source": [
    "# <center>PythonBasics: ProgrammingAssignment_19</center>"
   ]
  },
  {
   "cell_type": "markdown",
   "id": "0154c514-7165-4fbc-a40b-ba7adad92503",
   "metadata": {},
   "source": [
    "### Question: 01:\n",
    "\n",
    "Make a class called Thing with no contents and print it. Then, create an object called example\n",
    "from this class and also print it. Are the printed values the same or different?"
   ]
  },
  {
   "cell_type": "markdown",
   "id": "c0a7e7c1-6199-4bff-a712-0f3befb799b5",
   "metadata": {},
   "source": [
    "- When you create a class called Thing with no contents and print it, the output will be a representation of the class itself. It will display something like ```<__main__.Thing object at 0x...>```, indicating the class name and memory location.\n",
    "\n",
    "- When you create an object called example from this class and print it, the output will also be a representation of the object. It will have the same format as before, ```<__main__.Thing object at 0x...>```, but the memory location will be different from the class representation."
   ]
  },
  {
   "cell_type": "code",
   "execution_count": 1,
   "id": "e3a917d4-6751-44d9-8330-8365178082e0",
   "metadata": {},
   "outputs": [
    {
     "name": "stdout",
     "output_type": "stream",
     "text": [
      "<__main__.Thing object at 0x00000272474AA3B0>\n",
      "<__main__.Thing object at 0x00000272474A9B70>\n"
     ]
    }
   ],
   "source": [
    "class Thing:\n",
    "    pass\n",
    "\n",
    "print(Thing())  # Output: <__main__.Thing object at 0x...>\n",
    "\n",
    "example = Thing()\n",
    "print(example)  # Output: <__main__.Thing object at 0x...>\n"
   ]
  },
  {
   "cell_type": "markdown",
   "id": "a80bf4d6-d105-4f7a-899f-edda93b5e56f",
   "metadata": {},
   "source": [
    "### Queston 2:\n",
    "\n",
    "Create a new class called Thing2 and add the value &#39;abc&#39; to the letters class attribute. Letters\n",
    "should be printed."
   ]
  },
  {
   "cell_type": "code",
   "execution_count": 3,
   "id": "a82e6ec5-d4cc-4a2b-b9db-693a0a7b692c",
   "metadata": {},
   "outputs": [
    {
     "name": "stdout",
     "output_type": "stream",
     "text": [
      "abc\n"
     ]
    }
   ],
   "source": [
    "class Thing2:\n",
    "    letters = 'abc'\n",
    "\n",
    "print(Thing2.letters)\n"
   ]
  },
  {
   "cell_type": "code",
   "execution_count": null,
   "id": "f62d9039-b7a7-42a6-bba0-8f7be7806693",
   "metadata": {},
   "outputs": [],
   "source": []
  }
 ],
 "metadata": {
  "kernelspec": {
   "display_name": "Python 3 (ipykernel)",
   "language": "python",
   "name": "python3"
  },
  "language_info": {
   "codemirror_mode": {
    "name": "ipython",
    "version": 3
   },
   "file_extension": ".py",
   "mimetype": "text/x-python",
   "name": "python",
   "nbconvert_exporter": "python",
   "pygments_lexer": "ipython3",
   "version": "3.10.8"
  }
 },
 "nbformat": 4,
 "nbformat_minor": 5
}
