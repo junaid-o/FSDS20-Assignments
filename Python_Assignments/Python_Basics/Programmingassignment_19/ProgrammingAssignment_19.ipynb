{
 "cells": [
  {
   "cell_type": "markdown",
   "id": "1ecf0fa9-c61e-4a2c-909e-6d4b463c030f",
   "metadata": {},
   "source": [
    "# <center>PythonBasics: ProgrammingAssignment_19</center>"
   ]
  },
  {
   "cell_type": "markdown",
   "id": "0154c514-7165-4fbc-a40b-ba7adad92503",
   "metadata": {},
   "source": [
    "### Question: 01:\n",
    "\n",
    "Make a class called Thing with no contents and print it. Then, create an object called example\n",
    "from this class and also print it. Are the printed values the same or different?"
   ]
  },
  {
   "cell_type": "markdown",
   "id": "c0a7e7c1-6199-4bff-a712-0f3befb799b5",
   "metadata": {},
   "source": [
    "- When you create a class called Thing with no contents and print it, the output will be a representation of the class itself. It will display something like ```<__main__.Thing object at 0x...>```, indicating the class name and memory location.\n",
    "\n",
    "- When you create an object called example from this class and print it, the output will also be a representation of the object. It will have the same format as before, ```<__main__.Thing object at 0x...>```, but the memory location will be different from the class representation."
   ]
  },
  {
   "cell_type": "code",
   "execution_count": 1,
   "id": "e3a917d4-6751-44d9-8330-8365178082e0",
   "metadata": {},
   "outputs": [
    {
     "name": "stdout",
     "output_type": "stream",
     "text": [
      "<__main__.Thing object at 0x00000272474AA3B0>\n",
      "<__main__.Thing object at 0x00000272474A9B70>\n"
     ]
    }
   ],
   "source": [
    "class Thing:\n",
    "    pass\n",
    "\n",
    "print(Thing())  # Output: <__main__.Thing object at 0x...>\n",
    "\n",
    "example = Thing()\n",
    "print(example)  # Output: <__main__.Thing object at 0x...>\n"
   ]
  },
  {
   "cell_type": "markdown",
   "id": "a80bf4d6-d105-4f7a-899f-edda93b5e56f",
   "metadata": {},
   "source": [
    "### Queston 2:\n",
    "\n",
    "Create a new class called Thing2 and add the value &#39;abc&#39; to the letters class attribute. Letters\n",
    "should be printed."
   ]
  },
  {
   "cell_type": "code",
   "execution_count": 3,
   "id": "a82e6ec5-d4cc-4a2b-b9db-693a0a7b692c",
   "metadata": {},
   "outputs": [
    {
     "name": "stdout",
     "output_type": "stream",
     "text": [
      "abc\n"
     ]
    }
   ],
   "source": [
    "class Thing2:\n",
    "    letters = 'abc'\n",
    "\n",
    "print(Thing2.letters)\n"
   ]
  },
  {
   "cell_type": "markdown",
   "id": "c99f194c-7824-4eeb-bc4a-5035ef413eaf",
   "metadata": {},
   "source": [
    "### Question 03:\n",
    "\n",
    "Make yet another class called, of course, Thing3. This time, assign the value &#39;xyz&#39; to an instance \n",
    "(object) attribut  called letters. Print letters. Do you need to make an object from the class to d \r\n",
    "this?"
   ]
  },
  {
   "cell_type": "markdown",
   "id": "906ddba9-d9c6-4451-9053-d07a260dfb55",
   "metadata": {},
   "source": [
    " **you indeed need to create an object (instance) of the class**"
   ]
  },
  {
   "cell_type": "code",
   "execution_count": 4,
   "id": "73ee352f-a8f1-4bb8-9d92-8e0cfcc0bc4b",
   "metadata": {},
   "outputs": [
    {
     "name": "stdout",
     "output_type": "stream",
     "text": [
      "xyz\n"
     ]
    }
   ],
   "source": [
    "class Thing3:\n",
    "    def __init__(self):\n",
    "        self.letters = 'xyz'\n",
    "\n",
    "example = Thing3()\n",
    "print(example.letters)  # Output: xyz\n"
   ]
  },
  {
   "cell_type": "markdown",
   "id": "416e134e-d173-46db-974b-cf718ccb35fa",
   "metadata": {},
   "source": [
    "### Question 04:\n",
    "\n",
    "Create an Element class with the instance attributes name, symbol, and number. Create a class\n",
    "object with the values &#39;Hydrogen,&#39; &#39;H,&#39; and 1."
   ]
  },
  {
   "cell_type": "code",
   "execution_count": 5,
   "id": "f082ce60-93af-43f1-90d1-fda4056f2d10",
   "metadata": {},
   "outputs": [],
   "source": [
    "class Element:\n",
    "    def __init__(self, name, symbol, number):\n",
    "        self.name = name\n",
    "        self.symbol = symbol\n",
    "        self.number = number\n",
    "\n",
    "element = Element('Hydrogen', 'H', 1)\n"
   ]
  },
  {
   "cell_type": "markdown",
   "id": "b06a9e1a-fac0-4494-86ca-c536435e2603",
   "metadata": {},
   "source": [
    "### Question 5:\n",
    "\n",
    "Make a dictionary with these keys and values: &#39;name&#39;: &#39;Hydrogen&#39;, &#39;symbol&#39;: &#39;H&#39;, &#39;number&#39;: 1. Then,\n",
    "create an object called hydrogen from class Element using this dictionary."
   ]
  },
  {
   "cell_type": "code",
   "execution_count": 6,
   "id": "1fa24f28-da8c-43d2-be3f-1575ca7fdf1e",
   "metadata": {},
   "outputs": [],
   "source": [
    "class Element:\n",
    "    def __init__(self, name, symbol, number):\n",
    "        self.name = name\n",
    "        self.symbol = symbol\n",
    "        self.number = number\n",
    "\n",
    "element_data = {'name': 'Hydrogen', 'symbol': 'H', 'number': 1}\n",
    "hydrogen = Element(**element_data)\n"
   ]
  },
  {
   "cell_type": "markdown",
   "id": "6c5e448b-d7af-4f18-bc09-7e676bd00d53",
   "metadata": {},
   "source": [
    "### Question 6:\n",
    "\n",
    "\n",
    "For the Element class, define a method called dump() that prints the values of the object’s\n",
    "attributes (name, symbol, and number). Create the hydrogen object from this new definition and\n",
    "use dump() to print its attributes."
   ]
  },
  {
   "cell_type": "code",
   "execution_count": 7,
   "id": "9308c700-7808-4ef9-be3a-9ac9d6edaf72",
   "metadata": {},
   "outputs": [],
   "source": [
    "class Element:\n",
    "    def __init__(self, name, symbol, number):\n",
    "        self.name = name\n",
    "        self.symbol = symbol\n",
    "        self.number = number\n",
    "\n",
    "    def dump(self):\n",
    "        print(f\"Name: {self.name}\")\n",
    "        print(f\"Symbol: {self.symbol}\")\n",
    "        print(f\"Number: {self.number}\")\n"
   ]
  },
  {
   "cell_type": "markdown",
   "id": "0a8b47fe-5e35-4a25-9015-619c688f1426",
   "metadata": {},
   "source": [
    "### Question 07\n",
    "\n",
    "\n",
    "Call print(hydrogen). In the definition of Element, change the name of method dump to __str__,\r\n",
    "create a new hydrogen object, and call print(hydrogen) again."
   ]
  },
  {
   "cell_type": "code",
   "execution_count": 8,
   "id": "4ad3989f-4a27-4351-967c-9747243cf7ed",
   "metadata": {},
   "outputs": [
    {
     "name": "stdout",
     "output_type": "stream",
     "text": [
      "Name: Hydrogen, Symbol: H, Number: 1\n"
     ]
    }
   ],
   "source": [
    "class Element:\n",
    "    def __init__(self, name, symbol, number):\n",
    "        self.name = name\n",
    "        self.symbol = symbol\n",
    "        self.number = number\n",
    "\n",
    "    def __str__(self):\n",
    "        return f\"Name: {self.name}, Symbol: {self.symbol}, Number: {self.number}\"\n",
    "\n",
    "element_data = {'name': 'Hydrogen', 'symbol': 'H', 'number': 1}\n",
    "hydrogen = Element(**element_data)\n",
    "\n",
    "print(hydrogen)  # Calls the __str__() method to print the object's string representation\n"
   ]
  },
  {
   "cell_type": "markdown",
   "id": "dbdaff87-2041-46ab-927f-bf7be86cacbb",
   "metadata": {},
   "source": [
    "### Question 08:\n",
    "\n",
    "Modify Element to make the attributes name, symbol, and number private. Define a getter \n",
    "property for each to return its value."
   ]
  },
  {
   "cell_type": "code",
   "execution_count": 9,
   "id": "94b1e4a5-786c-4714-bc7e-78c49e7dc5e3",
   "metadata": {},
   "outputs": [
    {
     "name": "stdout",
     "output_type": "stream",
     "text": [
      "Hydrogen\n",
      "H\n",
      "1\n"
     ]
    }
   ],
   "source": [
    "class Element:\n",
    "    def __init__(self, name, symbol, number):\n",
    "        self.__name = name\n",
    "        self.__symbol = symbol\n",
    "        self.__number = number\n",
    "\n",
    "    @property\n",
    "    def name(self):\n",
    "        return self.__name\n",
    "\n",
    "    @property\n",
    "    def symbol(self):\n",
    "        return self.__symbol\n",
    "\n",
    "    @property\n",
    "    def number(self):\n",
    "        return self.__number\n",
    "\n",
    "# Create an object and access the attributes using the getter properties\n",
    "element_data = {'name': 'Hydrogen', 'symbol': 'H', 'number': 1}\n",
    "hydrogen = Element(**element_data)\n",
    "\n",
    "print(hydrogen.name)   # Access the name attribute using the getter property\n",
    "print(hydrogen.symbol) # Access the symbol attribute using the getter property\n",
    "print(hydrogen.number) # Access the number attribute using the getter property\n",
    "\n"
   ]
  },
  {
   "cell_type": "markdown",
   "id": "895b5db8-c99f-4a18-9a51-5ea90a305673",
   "metadata": {},
   "source": [
    "### Question 09:\n",
    "\n",
    "Define three classes: Bear, Rabbit, and Octothorpe. For each, define only one method: eats(). This\n",
    "should return &#39;berries&#39; (Bear), &#39;clover&#39; (Rabbit), or &#39;campers&#39; (Octothorpe). Create one object from\n",
    "each and print what it eats."
   ]
  },
  {
   "cell_type": "code",
   "execution_count": 11,
   "id": "20ca2583-b069-4a15-8e8e-c09f330817a2",
   "metadata": {},
   "outputs": [
    {
     "name": "stdout",
     "output_type": "stream",
     "text": [
      "berries\n",
      "clover\n",
      "campers\n"
     ]
    }
   ],
   "source": [
    "class Bear:\n",
    "    def eats(self):\n",
    "        return 'berries'\n",
    "\n",
    "\n",
    "class Rabbit:\n",
    "    def eats(self):\n",
    "        return 'clover'\n",
    "\n",
    "\n",
    "class Octothorpe:\n",
    "    def eats(self):\n",
    "        return 'campers'\n",
    "\n",
    "\n",
    "# Create objects from each class\n",
    "bear = Bear()\n",
    "rabbit = Rabbit()\n",
    "octothorpe = Octothorpe()\n",
    "\n",
    "# Print what each object eats\n",
    "print(bear.eats())        # Output: berries\n",
    "print(rabbit.eats())      # Output: clover\n",
    "print(octothorpe.eats())  # Output: campers\n"
   ]
  },
  {
   "cell_type": "markdown",
   "id": "579faa05-971c-40db-8b13-1a77be725a95",
   "metadata": {},
   "source": [
    "### Question 10:\n",
    "\n",
    "Define these classes: Laser, Claw, and SmartPhone. Each has only one method: does(). This\n",
    "returns &#39;disintegrate&#39; (Laser), &#39;crush&#39; (Claw), or &#39;ring&#39; (SmartPhone). Then, define the class Robot that\n",
    "has one instance (object) of each of these. Define a does() method for the Robot that prints what its\n",
    "component objects do."
   ]
  },
  {
   "cell_type": "code",
   "execution_count": 12,
   "id": "fb709254-d598-4d82-a50f-f5b06342b329",
   "metadata": {},
   "outputs": [
    {
     "name": "stdout",
     "output_type": "stream",
     "text": [
      "Laser: disintegrate\n",
      "Claw: crush\n",
      "SmartPhone: ring\n"
     ]
    }
   ],
   "source": [
    "class Laser:\n",
    "    def does(self):\n",
    "        return 'disintegrate'\n",
    "\n",
    "\n",
    "class Claw:\n",
    "    def does(self):\n",
    "        return 'crush'\n",
    "\n",
    "\n",
    "class SmartPhone:\n",
    "    def does(self):\n",
    "        return 'ring'\n",
    "\n",
    "\n",
    "class Robot:\n",
    "    def __init__(self):\n",
    "        self.laser = Laser()\n",
    "        self.claw = Claw()\n",
    "        self.smartphone = SmartPhone()\n",
    "\n",
    "    def does(self):\n",
    "        print(\"Laser:\", self.laser.does())\n",
    "        print(\"Claw:\", self.claw.does())\n",
    "        print(\"SmartPhone:\", self.smartphone.does())\n",
    "\n",
    "\n",
    "# Create an object of the Robot class\n",
    "robot = Robot()\n",
    "\n",
    "# Call the does() method of the Robot object\n",
    "robot.does()\n"
   ]
  },
  {
   "cell_type": "code",
   "execution_count": null,
   "id": "4e43da55-655c-4323-9903-d7e186d7245f",
   "metadata": {},
   "outputs": [],
   "source": []
  }
 ],
 "metadata": {
  "kernelspec": {
   "display_name": "Python 3 (ipykernel)",
   "language": "python",
   "name": "python3"
  },
  "language_info": {
   "codemirror_mode": {
    "name": "ipython",
    "version": 3
   },
   "file_extension": ".py",
   "mimetype": "text/x-python",
   "name": "python",
   "nbconvert_exporter": "python",
   "pygments_lexer": "ipython3",
   "version": "3.10.8"
  }
 },
 "nbformat": 4,
 "nbformat_minor": 5
}
