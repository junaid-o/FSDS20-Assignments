{
 "cells": [
  {
   "cell_type": "markdown",
   "id": "00e9109c-b0c1-4ab0-8f78-dc92d827ec82",
   "metadata": {},
   "source": [
    "# <center>PythonBasics: Assignment_01</center>"
   ]
  },
  {
   "cell_type": "markdown",
   "id": "436f01a1-ee78-41b3-9dcb-106c7a509a40",
   "metadata": {},
   "source": [
    "### Question 01:"
   ]
  },
  {
   "cell_type": "raw",
   "id": "d3107def-1ef2-4892-9694-7865d1566adf",
   "metadata": {},
   "source": [
    "1. In the below elements which of them are values or an expression? eg:- values can be\n",
    "integer or string and expressions will be mathematical operators.\n",
    "*\n",
    "&#39;hello&#39;\n",
    "-87.8\n",
    "-\n",
    "/\n",
    "+\n",
    "6"
   ]
  },
  {
   "cell_type": "markdown",
   "id": "e7172cc2-d180-4c2d-b5c4-469148521def",
   "metadata": {},
   "source": [
    "In the given elements, the following are values:\n",
    "\n",
    "- 'hello' (string)\n",
    "- -87.8 (float)\n",
    "- 6 (integer)\n",
    "\n",
    "The following are expressions (mathematical operators):\n",
    "```\n",
    "- *\n",
    "- -\n",
    "- /\n",
    "- +\n",
    "\n",
    "```"
   ]
  },
  {
   "cell_type": "markdown",
   "id": "4ce5eb92-02b0-4c57-be56-40b236514943",
   "metadata": {},
   "source": [
    "### Question 02\n",
    "\n",
    "What is the difference between string and variable?"
   ]
  },
  {
   "cell_type": "markdown",
   "id": "3dc43d0d-f3c9-4565-bade-d5bfa2b247e3",
   "metadata": {},
   "source": [
    "The difference between a string and a variable lies in their nature and purpose in programming.\n",
    "\n",
    "String:\n",
    "- A string is a data type in programming that represents a sequence of characters.\n",
    "- It is used to store and manipulate textual data.\n",
    "- Strings are enclosed in quotes (single or double) to indicate their boundaries.\n",
    "- Examples of strings: \"Hello, World!\", \"Python\", \"42\"\n",
    "\n",
    "Variable:\n",
    "- A variable is a named storage location in a program that holds a value.\n",
    "- It is used to store and refer to different types of data, including strings.\n",
    "- Variables can hold various types of data such as numbers, strings, booleans, etc.\n",
    "- Variables are assigned values using the assignment operator \"=\".\n",
    "- Examples of variables: name = \"John\", age = 25, pi = 3.14\n",
    "\n"
   ]
  },
  {
   "cell_type": "markdown",
   "id": "f2db6715-c2e7-4b40-8584-e28a751bdd7b",
   "metadata": {},
   "source": [
    "### Question 03:\n",
    "\n",
    "Describe three different data types."
   ]
  },
  {
   "cell_type": "markdown",
   "id": "66696957-67ef-4185-8c7a-cc1da209fc69",
   "metadata": {},
   "source": [
    "1. Integer (int):\n",
    "- The integer data type represents whole numbers, both positive and negative, without any fractional or decimal part.\n",
    "- Examples: -10, 0, 42\n",
    "\n",
    "2. String (str):\n",
    "- The string data type represents a sequence of characters enclosed in quotes (single or double).\n",
    "- Strings are used to store and manipulate textual data.\n",
    "- Examples: \"Hello\", 'Python', \"42\"\n",
    "\n",
    "3. Boolean (bool):\n",
    "- The boolean data type represents a binary value that can be either true or false.\n",
    "- Booleans are often used in logical expressions and conditional statements.\n",
    "- Examples: True, False\n",
    "\n"
   ]
  },
  {
   "cell_type": "markdown",
   "id": "7ef34310-9f9d-42ef-815d-2862d21c6aad",
   "metadata": {},
   "source": [
    "### Question 04\n",
    "\n",
    "What is an expression made up of? What do all expressions do?"
   ]
  },
  {
   "cell_type": "markdown",
   "id": "8e1922b8-cf57-447f-9335-f7314be782ec",
   "metadata": {},
   "source": [
    "An expression is made up of operators, operands, and sometimes functions or method calls. It can be a combination of values, variables, and operators that are evaluated to produce a result. Expressions can involve mathematical operations, logical comparisons, function calls, and more.\n",
    "\n",
    "\n",
    "All expressions in programming evaluate to a value. The value of an expression depends on the types of operands and the operators used. Expressions can be used to perform calculations, compare values, assign values to variables, or control the flow of a program through conditional statements."
   ]
  },
  {
   "cell_type": "markdown",
   "id": "fa85540d-ab75-4a34-826e-e71ce6cb6c63",
   "metadata": {},
   "source": [
    "### Question 05\n",
    "\n",
    "This assignment statements, like spam = 10. What is the difference between an\n",
    "expression and a statement?"
   ]
  },
  {
   "cell_type": "markdown",
   "id": "4479c5b9-05e4-4583-83a6-786d89fef152",
   "metadata": {},
   "source": [
    "An expression is a combination of operands and operators that can be evaluated to produce a value.\n",
    "On the other hand, a statement is a complete unit of code that performs an action or a sequence of actions. Statements are used to control the flow of a program, make decisions, and perform operations. Unlike expressions, statements do not necessarily produce a value. Instead, they execute a specific task or operation."
   ]
  },
  {
   "cell_type": "markdown",
   "id": "ad804483-6167-42ae-9991-3a0ce316127a",
   "metadata": {},
   "source": [
    "### Question 06\n",
    "\n",
    "After running the following code, what does the variable bacon contain?\n",
    "\n",
    "\n",
    "bacon = 22\n",
    "\n",
    "bacon + 1"
   ]
  },
  {
   "cell_type": "markdown",
   "id": "14072ca7-545f-425a-8305-fbe332447b67",
   "metadata": {},
   "source": [
    "The variable bacon will still contain the value 22. Although the expression bacon + 1 evaluates to 23, the result of this expression is not assigned back to the bacon variable"
   ]
  },
  {
   "cell_type": "markdown",
   "id": "5fd46305-9bf9-49b7-a093-a2dce8e362d7",
   "metadata": {},
   "source": [
    "### Question 07:\n",
    "\n",
    "What should the values of the following two terms be?\r\n",
    "&#39;spam&#39; + &#39;spamspam&#39;\r\n",
    "&#39;spam&#39; * 3"
   ]
  },
  {
   "cell_type": "markdown",
   "id": "96134c40-30fc-42d9-b7fa-c0302872f866",
   "metadata": {},
   "source": [
    "* 'spam' + 'spamspam': The result would be 'spamspamspam'. The + operator concatenates two strings together, so it combines the string 'spam' with the string 'spamspam' to form the longer string 'spamspamspam'.\n",
    "\n",
    "* 'spam' * 3: The result would be 'spamspamspam'. The * operator, when used with a string and an integer, repeats the string multiple times. In this case, 'spam' is repeated three times, resulting in the string 'spamspamspam'."
   ]
  },
  {
   "cell_type": "markdown",
   "id": "9618bc1c-3d7e-48c7-85bb-af726147baaa",
   "metadata": {},
   "source": [
    "### Question 08\n",
    "\n",
    "Why is eggs a valid variable name while 100 is invalid?"
   ]
  },
  {
   "cell_type": "markdown",
   "id": "a3c9d944-4274-46e2-a9a9-5258508ebe40",
   "metadata": {},
   "source": [
    "Based on these rules, eggs is a valid variable name because it starts with a letter, followed by more letters. On the other hand, 100 is invalid because it starts with a digit, which is not allowed as the first character of a variable name."
   ]
  },
  {
   "cell_type": "markdown",
   "id": "aabe51d2-26b4-4ada-b763-9166bb3fe4de",
   "metadata": {},
   "source": [
    "### Question 09:\n",
    "\n",
    "\n",
    "What three functions can be used to get the integer, floating-point number, or string\r\n",
    "version of a value\n"
   ]
  },
  {
   "cell_type": "markdown",
   "id": "175cbf86-ed4a-4904-90d5-52f281db0a96",
   "metadata": {},
   "source": [
    "```\n",
    "int()\n",
    "\n",
    "float()\n",
    "\n",
    "str()\n",
    "```"
   ]
  },
  {
   "cell_type": "markdown",
   "id": "68857d14-c4ac-4caa-82d7-36a2738d9061",
   "metadata": {},
   "source": [
    "### Question 10:\n",
    "\n",
    "Why does this expression cause an error? How can you fix it?\n",
    "&#39;I have eaten &#39; + 99 + &#39; burritos.&#39;"
   ]
  },
  {
   "cell_type": "markdown",
   "id": "8996714b-5e22-4ef1-8192-07ebbacdad06",
   "metadata": {},
   "source": [
    "* 99 is in integer\n",
    "* We can add integer and string\n",
    "* In order to add 99 and given string we need to convert 99 to string data dtype by using `\"99\"` or ``str (99)``"
   ]
  },
  {
   "cell_type": "code",
   "execution_count": null,
   "id": "83cb92f8-bd55-4658-bff4-66c62222ad3f",
   "metadata": {},
   "outputs": [],
   "source": []
  }
 ],
 "metadata": {
  "kernelspec": {
   "display_name": "Python 3 (ipykernel)",
   "language": "python",
   "name": "python3"
  },
  "language_info": {
   "codemirror_mode": {
    "name": "ipython",
    "version": 3
   },
   "file_extension": ".py",
   "mimetype": "text/x-python",
   "name": "python",
   "nbconvert_exporter": "python",
   "pygments_lexer": "ipython3",
   "version": "3.10.8"
  }
 },
 "nbformat": 4,
 "nbformat_minor": 5
}
