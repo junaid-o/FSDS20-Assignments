{
 "cells": [
  {
   "cell_type": "markdown",
   "id": "a2c5e95b-3cdc-4887-b64e-c979f39d92a8",
   "metadata": {},
   "source": [
    "# <center>PythonBasics: Assignment_5</center>"
   ]
  },
  {
   "cell_type": "markdown",
   "id": "a7c9854e-3df0-47cb-a61a-9b4d3adca3a9",
   "metadata": {},
   "source": [
    "### Question 01:\n",
    "\n",
    "What does an empty dictionary&#39;s code look like?"
   ]
  },
  {
   "cell_type": "markdown",
   "id": "5d2966ce-b239-42ca-8079-df32e82173b6",
   "metadata": {},
   "source": [
    "**<span style='color:blue'>Answer</span>**\n",
    "\n",
    "An empty dictionary in Python is represented by a pair of curly braces `{}`.\n"
   ]
  },
  {
   "cell_type": "code",
   "execution_count": 2,
   "id": "768ae09f-d9f8-4f6c-84ae-46959ff0811f",
   "metadata": {},
   "outputs": [],
   "source": [
    "my_dict = {}\n"
   ]
  },
  {
   "cell_type": "markdown",
   "id": "e6205762-6aac-43b8-a904-d2be01ec235c",
   "metadata": {},
   "source": [
    "### Question 02:\n",
    "\n",
    "What is the value of a dictionary value with the key &#39;foo&#39; and the value 42?"
   ]
  },
  {
   "cell_type": "markdown",
   "id": "a877d489-5757-4f79-98e7-6d5d73447bc3",
   "metadata": {},
   "source": [
    "**<span style='color:blue'>Answer</span>**\n",
    "\n",
    "The value of a dictionary with the key 'foo' and the value `42` would be `42`"
   ]
  },
  {
   "cell_type": "code",
   "execution_count": 3,
   "id": "2d6bad53-150b-44db-b371-dcbaeeb43ec9",
   "metadata": {},
   "outputs": [
    {
     "name": "stdout",
     "output_type": "stream",
     "text": [
      "42\n"
     ]
    }
   ],
   "source": [
    "my_dict = {'foo': 42}\n",
    "value = my_dict['foo']\n",
    "print(value)"
   ]
  },
  {
   "cell_type": "markdown",
   "id": "5ba206d2-b3d7-4a81-b268-4e8958d8ee02",
   "metadata": {},
   "source": [
    "### Question 03:\n",
    "\n",
    "What is the most significant distinction between a dictionary and a list?"
   ]
  },
  {
   "cell_type": "markdown",
   "id": "2702cb5a-fbaa-402d-8954-7546f072e019",
   "metadata": {},
   "source": [
    "**<span style='color:blue'>Answer</span>**\n",
    "\n",
    "The most significant distinction between a dictionary and a list is the way they store and access data.\n",
    "\n",
    "* In a list, data is stored in a specific order and accessed using integer indices. Each item in a list is assigned a numeric index starting from 0, allowing for positional access and modification of elements. Lists are ordered and mutable, meaning you can change, add, or remove elements at specific positions within the list.\n",
    "\n",
    "* On the other hand, a dictionary stores data as key-value pairs. Each value in a dictionary is associated with a unique key, which can be of any immutable type (such as strings, numbers, or tuples). Dictionary elements are not ordered by default, and their retrieval is based on key lookup rather than positional index. Dictionaries are unordered and mutable, allowing for efficient access, modification, and insertion of values based on their corresponding keys.\n"
   ]
  },
  {
   "cell_type": "markdown",
   "id": "9a6c8409-29ab-4e6d-8e06-690e99ad0373",
   "metadata": {},
   "source": [
    "### Question 04:\n",
    "\n",
    "What happens if you try to access spam[&#39;foo&#39;] if spam is {&#39;bar&#39;: 100}?"
   ]
  },
  {
   "cell_type": "markdown",
   "id": "d22f4cbc-4232-4308-9206-5fb9b8638b05",
   "metadata": {},
   "source": [
    "**<span style='color:blue'>Answer</span>**\n",
    "\n",
    "If you try to access `spam['foo']` and spam is `{'bar': 100}`, you will encounter a `KeyError` because the key `foo` does not exist in the dictionary spam."
   ]
  },
  {
   "cell_type": "markdown",
   "id": "8bfbfa45-d939-4d84-8777-f727cbbf1725",
   "metadata": {},
   "source": [
    "### Question 05:\n",
    "\n",
    "If a dictionary is stored in spam, what is the difference between the expressions &#39;cat&#39; in spam and\n",
    "&#39;cat&#39; in spam.keys()?"
   ]
  },
  {
   "cell_type": "markdown",
   "id": "7ad87f10-0253-4f70-9b64-0d302a525691",
   "metadata": {},
   "source": [
    "**<span style='color:blue'>Answer</span>**\n",
    "\n",
    "\n",
    "The expressions `'cat' in spam` and `'cat' in spam.keys()` check for the presence of the key `'cat'` in the dictionary `spam`, but they differ in their implementation and the values they operate on:\n",
    "\n",
    "1. `'cat' in spam`: This expression checks if the key `'cat'` exists directly in the dictionary `spam`. It returns `True` if the key is found and `False` otherwise.\n",
    "\n",
    "2. `'cat' in spam.keys()`: This expression retrieves the list of keys from the dictionary `spam` using the `keys()` method and then checks if the key `'cat'` exists within that list. It also returns `True` if the key is found and `False` otherwise.\n",
    "\n",
    "In terms of functionality, both expressions provide the same result. However, the second expression involves retrieving all the keys from the dictionary and creating a list of keys before performing the check, which may be less efficient compared to the first expression that directly checks the key's presence in the dictionary. Therefore, the first expression (`'cat' in spam`) is generally preferred for efficiency."
   ]
  },
  {
   "cell_type": "markdown",
   "id": "2f11fd23-439b-4056-ae55-02c23e9f1d4c",
   "metadata": {},
   "source": [
    "### Question 06:\n",
    "\n",
    "If a dictionary is stored in spam, what is the difference between the expressions &#39;cat&#39; in spam and\n",
    "&#39;cat&#39; in spam.values()?"
   ]
  },
  {
   "cell_type": "markdown",
   "id": "5d730845-a2db-419c-aabf-7f1cff5510b9",
   "metadata": {},
   "source": [
    "**<span style='color:blue'>Answer</span>**\n",
    "\n",
    "\n",
    "The expressions `'cat' in spam` and `'cat' in spam.values()` differ in what they check within the dictionary `spam`:\n",
    "\n",
    "1. `'cat' in spam`: This expression checks if the string `'cat'` exists as a key in the dictionary `spam`. It returns `True` if the key is found and `False` otherwise.\n",
    "\n",
    "2. `'cat' in spam.values()`: This expression checks if the string `'cat'` exists as a value in the dictionary `spam`. It retrieves all the values from the dictionary using the `values()` method and checks if `'cat'` is present within that collection of values. It returns `True` if the value is found and `False` otherwise."
   ]
  },
  {
   "cell_type": "markdown",
   "id": "610ce71d-4052-4848-b280-a5be11789b91",
   "metadata": {},
   "source": [
    "### Question 07:\n",
    "\n",
    "What is a shortcut for the following code?\n",
    "if &#39;color&#39; not in spam:\n",
    "spam[&#39;color&#39;] = &#39;black&#39;"
   ]
  },
  {
   "cell_type": "markdown",
   "id": "e2713018-89d6-4cc9-9a94-c9ef86ab5072",
   "metadata": {},
   "source": [
    "**<span style='color:blue'>Answer</span>**\n",
    "\n",
    "```\n",
    "spam.setdefault('color', 'black')\n",
    "```"
   ]
  },
  {
   "cell_type": "markdown",
   "id": "18061be3-fb6e-4e8e-bef9-4852194ae54c",
   "metadata": {},
   "source": [
    "### Question 08:\n",
    "How do you &quot;pretty print&quot; dictionary values using which module and function?"
   ]
  },
  {
   "cell_type": "markdown",
   "id": "77965e20-e513-41cf-8d72-4574ea1a1e02",
   "metadata": {},
   "source": [
    "**<span style='color:blue'>Answer</span>**\n",
    "\n",
    "To \"pretty print\" dictionary values in Python, you can use the `pprint module` and its `pprint()` function. The `pprint()` function provides a convenient way to display data structures, including dictionaries, in a more readable and formatted manner."
   ]
  },
  {
   "cell_type": "code",
   "execution_count": null,
   "id": "8e2b6384-d6f8-4491-99fa-09a503664c4d",
   "metadata": {},
   "outputs": [],
   "source": [
    "    "
   ]
  },
  {
   "cell_type": "code",
   "execution_count": null,
   "id": "de2dd346-595f-499c-9a85-a46daca9cdfc",
   "metadata": {},
   "outputs": [],
   "source": []
  }
 ],
 "metadata": {
  "kernelspec": {
   "display_name": "Python 3 (ipykernel)",
   "language": "python",
   "name": "python3"
  },
  "language_info": {
   "codemirror_mode": {
    "name": "ipython",
    "version": 3
   },
   "file_extension": ".py",
   "mimetype": "text/x-python",
   "name": "python",
   "nbconvert_exporter": "python",
   "pygments_lexer": "ipython3",
   "version": "3.10.8"
  }
 },
 "nbformat": 4,
 "nbformat_minor": 5
}
