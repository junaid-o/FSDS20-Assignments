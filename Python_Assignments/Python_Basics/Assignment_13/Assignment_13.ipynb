{
 "cells": [
  {
   "cell_type": "markdown",
   "id": "ef9fd6bb-de08-407c-83f7-315260c111b0",
   "metadata": {},
   "source": [
    "# <center>PythonBasics: Assignment_13</center>"
   ]
  },
  {
   "cell_type": "markdown",
   "id": "b9b3dde8-0b70-4d2d-b92e-88b7cff28b51",
   "metadata": {},
   "source": [
    "### Question 01:\n",
    "What advantages do Excel spreadsheets have over CSV spreadsheets?\n",
    "\n",
    "**<span style='color:blue'>Answer</span>**"
   ]
  },
  {
   "cell_type": "markdown",
   "id": "4519ff81-9a79-4210-8518-1e8fbd5d265b",
   "metadata": {},
   "source": [
    "Excel spreadsheets have several advantages over CSV (Comma-Separated Values) spreadsheets:\n",
    "\n",
    "1. **Structure and formatting**: Excel spreadsheets support multiple sheets within a single file, allowing for the organization of data into different tabs or worksheets. Additionally, Excel provides various formatting options such as cell merging, conditional formatting, data validation, and the ability to insert charts, images, and other objects. CSV files, on the other hand, are plain text files with no inherent structure or formatting capabilities.\n",
    "\n",
    "2. **Complex data types**: Excel supports a wide range of data types, including numbers, dates, times, formulas, and various text formatting options. This allows for more advanced calculations and data manipulation within Excel. CSV files, in contrast, contain simple text values and do not support complex data types or formulas.\n",
    "\n",
    "3. **Data analysis and visualization**: Excel provides built-in features for data analysis, sorting, filtering, and creating pivot tables. It also offers powerful charting capabilities for visualizing data. These features make it easier to analyze and present data within Excel. CSV files, being plain text, require external tools or programming languages to perform similar data analysis and visualization tasks.\n",
    "\n",
    "4. **Macros and automation**: Excel supports the use of macros and VBA (Visual Basic for Applications) programming, which allows for automating tasks, creating custom functions, and building interactive user interfaces. This enables advanced automation and customization options that are not available in CSV files.\n",
    "\n",
    "5. **Collaboration and sharing**: Excel files can be easily shared and collaborated on by multiple users. It supports features like track changes, comments, password protection, and user-level permissions. CSV files, being simple text files, do not have built-in collaboration features and may require additional manual coordination when shared among multiple users.\n",
    "\n",
    "While CSV files have their own advantages, such as simplicity and compatibility with a wide range of applications, Excel spreadsheets offer more advanced features and capabilities for working with structured data, performing complex calculations, and creating visually appealing reports and presentations."
   ]
  },
  {
   "cell_type": "markdown",
   "id": "f972e89c-e0d6-459a-b5b0-26db61658d46",
   "metadata": {},
   "source": [
    "### Question 02:\n",
    "What do you pass to csv.reader() and csv.writer() to create reader and writer objects?\n",
    "\n",
    "**<span style='color:blue'>Answer</span>**"
   ]
  },
  {
   "cell_type": "markdown",
   "id": "d339639b-b061-404c-8bf8-ea62b06129e5",
   "metadata": {},
   "source": [
    "To create reader and writer objects using the csv.reader() and csv.writer() functions, we pass a file object as the argument. \n",
    "\n",
    "```python\n",
    "\n",
    "import csv\n",
    "\n",
    "with open('file.csv', 'r') as file:\n",
    "    # Create a reader object\n",
    "    reader = csv.reader(file)\n",
    "\n",
    "\n",
    "######### WRITING CSV FILE\n",
    "\n",
    "\n",
    "\n",
    "# Open the CSV file in write mode\n",
    "with open('file.csv', 'w', newline='') as file:\n",
    "    # Create a writer object\n",
    "    writer = csv.writer(file)\n",
    "\n",
    "\n",
    "```"
   ]
  },
  {
   "cell_type": "markdown",
   "id": "ca9a1511-0b72-403c-9dda-5a03d82a287a",
   "metadata": {},
   "source": [
    "             \n",
    "### Question 03:\n",
    "What modes do File objects for reader and writer objects need to be opened in?\n",
    "\n",
    "**<span style='color:blue'>Answer</span>**"
   ]
  },
  {
   "cell_type": "markdown",
   "id": "21bc4490-7b15-45a4-8950-a0510a5d5ff6",
   "metadata": {},
   "source": [
    "1. `csv.reader()`: For reader file object should be opened in read mode `\"r\"`\n",
    "2. `csv.write()`: for writer file object should be opened in write mode `\"w\"`"
   ]
  },
  {
   "cell_type": "markdown",
   "id": "859414a3-dec3-4781-b890-3fb6ab9719cb",
   "metadata": {},
   "source": [
    "### Question 04:    \n",
    "What method takes a list argument and writes it to a CSV file?\n",
    "\n",
    "**<span style='color:blue'>Answer</span>**"
   ]
  },
  {
   "cell_type": "markdown",
   "id": "6e3acde7-8046-480f-8e54-79f68faa9771",
   "metadata": {},
   "source": [
    "The `writerow()` method is used to write a list of values as a row in a CSV file using a writer object.\n",
    "\n",
    "\n",
    "\n",
    "```python\n",
    "import csv\n",
    "\n",
    "data = ['John', 'Doe', 'john.doe@example.com']\n",
    "\n",
    "with open('file.csv', 'w', newline='') as file:\n",
    "    writer = csv.writer(file)\n",
    "    writer.writerow(data)\n",
    "```"
   ]
  },
  {
   "cell_type": "markdown",
   "id": "092b7070-e9c4-44ea-892c-d0e4c77d8b7a",
   "metadata": {},
   "source": [
    "### Question 05:\n",
    "What do the keyword arguments delimiter and line terminator do?\n",
    "\n",
    "**<span style='color:blue'>Answer</span>**"
   ]
  },
  {
   "cell_type": "markdown",
   "id": "75b13308-b723-44e2-8726-7da1eae91a47",
   "metadata": {},
   "source": [
    "1. The keyword argument `delimiter` in the `csv.writer()` function specifies the character used to separate fields (columns) in the CSV file. By default, the delimiter is a comma (`,`), but you can specify a different delimiter if desired. For example, setting `delimiter=';'` would use a semicolon as the delimiter.\n",
    "  \n",
    "2. The keyword argument `lineterminator` in the `csv.writer()` function specifies the character sequence used to terminate lines (rows) in the CSV file. By default, the line terminator is the newline character (`'\\n'`), but you can specify a different sequence if needed. For example, setting `lineterminator='\\r\\n'` would use a carriage return and newline sequence as the line terminator."
   ]
  },
  {
   "cell_type": "markdown",
   "id": "03e38e22-8318-4fdf-beda-f7b542138b8d",
   "metadata": {},
   "source": [
    "### Question 06:\n",
    "What function takes a string of JSON data and returns a Python data structure?\n",
    "\n",
    "**<span style='color:blue'>Answer</span>**"
   ]
  },
  {
   "cell_type": "markdown",
   "id": "52c53042-2aba-4f2a-bb70-1bfee3834970",
   "metadata": {},
   "source": [
    "The function `json.loads()` is used to parse a string of JSON data and convert it into a Python data structure. "
   ]
  },
  {
   "cell_type": "markdown",
   "id": "15da79b2-ccc9-4ac2-9113-0c0c3727ddcd",
   "metadata": {},
   "source": [
    "### Question 07:\n",
    "What function takes a Python data structure and returns a string of JSON data?\n",
    "\n",
    "**<span style='color:blue'>Answer</span>**"
   ]
  },
  {
   "cell_type": "markdown",
   "id": "b69997a9-2244-414c-bf11-cb7aaab45d77",
   "metadata": {},
   "source": [
    "The function `json.dumps()` is used to convert a Python data structure into a string of JSON data"
   ]
  },
  {
   "cell_type": "code",
   "execution_count": null,
   "id": "aeff94c5-a0ff-4940-8688-b42b987d64bf",
   "metadata": {},
   "outputs": [],
   "source": []
  }
 ],
 "metadata": {
  "kernelspec": {
   "display_name": "Python 3 (ipykernel)",
   "language": "python",
   "name": "python3"
  },
  "language_info": {
   "codemirror_mode": {
    "name": "ipython",
    "version": 3
   },
   "file_extension": ".py",
   "mimetype": "text/x-python",
   "name": "python",
   "nbconvert_exporter": "python",
   "pygments_lexer": "ipython3",
   "version": "3.10.8"
  }
 },
 "nbformat": 4,
 "nbformat_minor": 5
}
