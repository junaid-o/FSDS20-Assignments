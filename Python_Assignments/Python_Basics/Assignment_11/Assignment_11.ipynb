{
 "cells": [
  {
   "cell_type": "markdown",
   "id": "936a22a4-631b-40b2-a557-8933ed1e901c",
   "metadata": {},
   "source": [
    "# <center>PythonBasics: Assignment_11</center>"
   ]
  },
  {
   "cell_type": "markdown",
   "id": "f88c3b88-4e22-40a7-beea-fa2472b943d3",
   "metadata": {},
   "source": [
    "### Question 01:\n",
    "Create an assert statement that throws an AssertionError if the variable spam is a negative\n",
    "integer.\n",
    "\n",
    "**<span style='color:blue'>Answer</span>**"
   ]
  },
  {
   "cell_type": "code",
   "execution_count": 1,
   "id": "91d12dc2-0b88-4ef1-bb49-a81f63bb39f7",
   "metadata": {},
   "outputs": [
    {
     "ename": "AssertionError",
     "evalue": "spam should not be a negative integer.",
     "output_type": "error",
     "traceback": [
      "\u001b[1;31m---------------------------------------------------------------------------\u001b[0m",
      "\u001b[1;31mAssertionError\u001b[0m                            Traceback (most recent call last)",
      "Cell \u001b[1;32mIn [1], line 3\u001b[0m\n\u001b[0;32m      1\u001b[0m spam \u001b[38;5;241m=\u001b[39m \u001b[38;5;241m-\u001b[39m\u001b[38;5;241m5\u001b[39m \n\u001b[1;32m----> 3\u001b[0m \u001b[38;5;28;01massert\u001b[39;00m spam \u001b[38;5;241m>\u001b[39m\u001b[38;5;241m=\u001b[39m \u001b[38;5;241m0\u001b[39m, \u001b[38;5;124m\"\u001b[39m\u001b[38;5;124mspam should not be a negative integer.\u001b[39m\u001b[38;5;124m\"\u001b[39m\n",
      "\u001b[1;31mAssertionError\u001b[0m: spam should not be a negative integer."
     ]
    }
   ],
   "source": [
    "spam = -5 \n",
    "\n",
    "assert spam >= 0, \"spam should not be a negative integer.\"\n"
   ]
  },
  {
   "cell_type": "markdown",
   "id": "07916a8a-dd88-45bb-94b8-d263fcecabc0",
   "metadata": {},
   "source": [
    "### Question 02:\n",
    "Write an assert statement that triggers an AssertionError if the variables eggs and bacon contain\n",
    "strings that are the same as each other, even if their cases are different (that is, &#39;hello&#39; and &#39;hello&#39; are\n",
    "considered the same, and &#39;goodbye&#39; and &#39;GOODbye&#39; are also considered the same).\n",
    "\n",
    "**<span style='color:blue'>Answer</span>**"
   ]
  },
  {
   "cell_type": "code",
   "execution_count": 2,
   "id": "09cd5cc2-6dfe-45e8-ae8f-96490f6991e2",
   "metadata": {},
   "outputs": [
    {
     "ename": "AssertionError",
     "evalue": "eggs and bacon should not be the same (case-insensitive).",
     "output_type": "error",
     "traceback": [
      "\u001b[1;31m---------------------------------------------------------------------------\u001b[0m",
      "\u001b[1;31mAssertionError\u001b[0m                            Traceback (most recent call last)",
      "Cell \u001b[1;32mIn [2], line 4\u001b[0m\n\u001b[0;32m      1\u001b[0m eggs \u001b[38;5;241m=\u001b[39m \u001b[38;5;124m\"\u001b[39m\u001b[38;5;124mHello\u001b[39m\u001b[38;5;124m\"\u001b[39m  \n\u001b[0;32m      2\u001b[0m bacon \u001b[38;5;241m=\u001b[39m \u001b[38;5;124m\"\u001b[39m\u001b[38;5;124mhello\u001b[39m\u001b[38;5;124m\"\u001b[39m\n\u001b[1;32m----> 4\u001b[0m \u001b[38;5;28;01massert\u001b[39;00m eggs\u001b[38;5;241m.\u001b[39mlower() \u001b[38;5;241m!=\u001b[39m bacon\u001b[38;5;241m.\u001b[39mlower(), \u001b[38;5;124m\"\u001b[39m\u001b[38;5;124meggs and bacon should not be the same (case-insensitive).\u001b[39m\u001b[38;5;124m\"\u001b[39m\n",
      "\u001b[1;31mAssertionError\u001b[0m: eggs and bacon should not be the same (case-insensitive)."
     ]
    }
   ],
   "source": [
    "eggs = \"Hello\"  \n",
    "bacon = \"hello\"\n",
    "\n",
    "assert eggs.lower() != bacon.lower(), \"eggs and bacon should not be the same (case-insensitive).\"\n"
   ]
  },
  {
   "cell_type": "markdown",
   "id": "124469b9-dbdf-40a5-a95d-ee8f1de8add9",
   "metadata": {},
   "source": [
    "### Question 03:\n",
    "Create an assert statement that throws an AssertionError every time.\n",
    "\n",
    "**<span style='color:blue'>Answer</span>**"
   ]
  },
  {
   "cell_type": "code",
   "execution_count": 3,
   "id": "ab76ff94-657b-4baf-ab3a-4804bf5dd279",
   "metadata": {},
   "outputs": [
    {
     "ename": "AssertionError",
     "evalue": "This assert statement always triggers an AssertionError.",
     "output_type": "error",
     "traceback": [
      "\u001b[1;31m---------------------------------------------------------------------------\u001b[0m",
      "\u001b[1;31mAssertionError\u001b[0m                            Traceback (most recent call last)",
      "Cell \u001b[1;32mIn [3], line 1\u001b[0m\n\u001b[1;32m----> 1\u001b[0m \u001b[38;5;28;01massert\u001b[39;00m \u001b[38;5;28;01mFalse\u001b[39;00m, \u001b[38;5;124m\"\u001b[39m\u001b[38;5;124mThis assert statement always triggers an AssertionError.\u001b[39m\u001b[38;5;124m\"\u001b[39m\n",
      "\u001b[1;31mAssertionError\u001b[0m: This assert statement always triggers an AssertionError."
     ]
    }
   ],
   "source": [
    "assert False, \"This assert statement always triggers an AssertionError.\"\n"
   ]
  },
  {
   "cell_type": "markdown",
   "id": "958555ac-d0e1-42f6-9e86-9a420a8426a6",
   "metadata": {},
   "source": [
    "### Question 04:\n",
    "What are the two lines that must be present in your software in order to call logging.debug()?\n",
    "\n",
    "**<span style='color:blue'>Answer</span>**"
   ]
  },
  {
   "cell_type": "code",
   "execution_count": 4,
   "id": "ac1cd71c-eff8-427f-b032-dbac92726e78",
   "metadata": {},
   "outputs": [],
   "source": [
    "import logging\n",
    "logging.basicConfig(level=logging.DEBUG, format='%(asctime)s - %(levelname)s - %(message)s')\n"
   ]
  },
  {
   "cell_type": "markdown",
   "id": "9effaf7a-9726-44d8-9261-407dfa7b7f4c",
   "metadata": {},
   "source": [
    "### Question 05:\n",
    "What are the two lines that your program must have in order to have logging.debug() send a\n",
    "logging message to a file named programLog.txt?\n",
    "\n",
    "**<span style='color:blue'>Answer</span>**"
   ]
  },
  {
   "cell_type": "code",
   "execution_count": 5,
   "id": "b4812696-6a6d-4a51-9ae3-f29bc568b6a9",
   "metadata": {},
   "outputs": [],
   "source": [
    "import logging\n",
    "\n",
    "logging.basicConfig(filename='programLog.txt', level=logging.DEBUG, format='%(asctime)s - %(levelname)s - %(message)s')\n"
   ]
  },
  {
   "cell_type": "markdown",
   "id": "d17f631d-c115-475d-9df6-eef556b841b6",
   "metadata": {},
   "source": [
    "### Question 06:\n",
    "What are the five levels of logging?\n",
    "\n",
    "**<span style='color:blue'>Answer</span>**"
   ]
  },
  {
   "cell_type": "markdown",
   "id": "e9a5cb4f-8863-4ea6-b6c9-26fdf79e4e18",
   "metadata": {},
   "source": [
    "The five levels of logging, in increasing order of severity, are:\n",
    "\n",
    "1. `DEBUG`: Detailed information, typically useful for debugging purposes.\n",
    "2. `INFO`: General information about the program's execution.\n",
    "3. `WARNING`: Indicates a potential issue or something that might cause problems in the future, but the program can still continue.\n",
    "4. `ERROR`: Indicates a more severe issue that caused an error in the program's operation but did not make it terminate.\n",
    "5. `CRITICAL`: Indicates a critical error or a severe issue that caused the program to abort."
   ]
  },
  {
   "cell_type": "markdown",
   "id": "c1507274-b833-4452-832c-7ce4eb09a9a5",
   "metadata": {},
   "source": [
    "### Question 07:\n",
    "What line of code would you add to your software to disable all logging messages?\n",
    "\n",
    "**<span style='color:blue'>Answer</span>**"
   ]
  },
  {
   "cell_type": "markdown",
   "id": "6a316ef9-c4cd-4ae0-80f1-e0e5f4bcb791",
   "metadata": {},
   "source": [
    "This line sets the logging level to CRITICAL, which effectively disables all log messages with a severity level lower than or equal to CRITICAL. Therefore, no log messages will be displayed or recorded."
   ]
  },
  {
   "cell_type": "code",
   "execution_count": 6,
   "id": "d84e2cd5-8694-4a22-8aa8-271f0aaa77bb",
   "metadata": {},
   "outputs": [],
   "source": [
    "logging.disable(logging.CRITICAL)\n"
   ]
  },
  {
   "cell_type": "markdown",
   "id": "4ca676c6-1331-40f1-a25b-7d7a92e84a36",
   "metadata": {},
   "source": [
    "### Question 08:\n",
    "Why is using logging messages better than using print() to display the same message?\n",
    "\n",
    "**<span style='color:blue'>Answer</span>**"
   ]
  },
  {
   "cell_type": "markdown",
   "id": "e1dc9fb7-b29b-4edd-b157-c92ac145b708",
   "metadata": {},
   "source": [
    "Using logging messages is generally considered better than using print() for several reasons:\n",
    "\n",
    "1. **Granular control**: Logging provides different levels of severity (e.g., DEBUG, INFO, WARNING, ERROR, CRITICAL), allowing you to control which messages are displayed or recorded based on their importance. With print(), you have limited control over the level of detail in the output.\n",
    "\n",
    "2. **Configurability**: Logging allows you to configure various aspects, such as output format, log destination (e.g., console, file), and log rotation. You can easily switch between different configurations without modifying your code. Print() statements, on the other hand, require manual modification to control the output behavior.\n",
    "\n",
    "3. **Runtime enable/disable**: You can enable or disable logging messages dynamically during runtime without modifying the code. This is especially useful for troubleshooting or adjusting the verbosity of your program. With print(), you would need to manually comment out or remove the print() statements to disable them.\n",
    "\n",
    "4. **Integration with libraries**: Many libraries and frameworks use the logging module, allowing you to integrate your own logging with their logging systems. This ensures consistency in logging practices across different components of your software.\n",
    "\n",
    "5. **Logging hierarchy**: The logging module supports hierarchical logging, where you can define loggers for different parts of your application. This allows you to organize and categorize log messages based on their origin, making it easier to trace and debug issues.\n",
    "\n",
    "6. **Performance impact**: Logging can be more efficient than print() in terms of performance, especially when you have extensive logging throughout your codebase. Logging allows you to control the level of detail and selectively enable or disable logging messages, reducing unnecessary output and improving performance.\n",
    "\n",
    "Overall, using the logging module provides more flexibility, configurability, and control over your program's logging behavior compared to using print() statements. It enhances the maintainability, readability, and extensibility of your code, particularly in larger and more complex software projects."
   ]
  },
  {
   "cell_type": "markdown",
   "id": "9ec741d7-db1f-4839-9616-6e71e08bceb8",
   "metadata": {},
   "source": [
    "### Question 09:\n",
    "What are the differences between the Step Over, Step In, and Step Out buttons in the debugger?\n",
    "\n",
    "**<span style='color:blue'>Answer</span>**"
   ]
  },
  {
   "cell_type": "markdown",
   "id": "557a3142-75a5-4f9f-8bfd-b9229e687da8",
   "metadata": {},
   "source": [
    "\n",
    "1. Step Over: Executes the current line and moves to the next line without diving into function calls.\n",
    "2. Step In: Allows you to dive into a function call and debug its implementation.\n",
    "3. Step Out: Lets you quickly exit the current function and resume execution in the caller's context."
   ]
  },
  {
   "cell_type": "markdown",
   "id": "2de955c4-799b-4aaa-b982-9d0f8a5dac50",
   "metadata": {},
   "source": [
    "### Question 10:\n",
    "After you click Continue, when will the debugger stop ?\n",
    "\n",
    "**<span style='color:blue'>Answer</span>**"
   ]
  },
  {
   "cell_type": "markdown",
   "id": "16239f5c-b2ca-44c3-8c68-88aa0387864e",
   "metadata": {},
   "source": [
    "After clicking Continue, the debugger will stop when it reaches a breakpoint or encounters an exception."
   ]
  },
  {
   "cell_type": "markdown",
   "id": "5c0f38f5-f11f-4f20-8b3b-34cbe211be69",
   "metadata": {},
   "source": [
    "### Question 11:\n",
    "What is the concept of a breakpoint?\n",
    "\n",
    "**<span style='color:blue'>Answer</span>**"
   ]
  },
  {
   "cell_type": "markdown",
   "id": "aceda034-bc73-4792-b811-1de544af4e3b",
   "metadata": {},
   "source": [
    "A breakpoint is a designated point in the code where the debugger pauses program execution to allow for inspection and analysis. It allows you to examine the state of variables, step through the code, and identify issues or bugs in your program. By setting breakpoints at specific lines or conditions, you can control the flow of execution and gain deeper insights into your code's behavior."
   ]
  },
  {
   "cell_type": "code",
   "execution_count": null,
   "id": "bbd25c5b-28d3-4305-b693-cf4b9680f41f",
   "metadata": {},
   "outputs": [],
   "source": []
  }
 ],
 "metadata": {
  "kernelspec": {
   "display_name": "Python 3 (ipykernel)",
   "language": "python",
   "name": "python3"
  },
  "language_info": {
   "codemirror_mode": {
    "name": "ipython",
    "version": 3
   },
   "file_extension": ".py",
   "mimetype": "text/x-python",
   "name": "python",
   "nbconvert_exporter": "python",
   "pygments_lexer": "ipython3",
   "version": "3.10.8"
  }
 },
 "nbformat": 4,
 "nbformat_minor": 5
}
