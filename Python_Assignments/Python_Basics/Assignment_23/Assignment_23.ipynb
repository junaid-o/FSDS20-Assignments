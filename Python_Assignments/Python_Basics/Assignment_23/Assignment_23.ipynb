{
 "cells": [
  {
   "cell_type": "markdown",
   "id": "745f8f30-507b-4d7d-9ce2-f23265f171f7",
   "metadata": {},
   "source": [
    "# <center>PythonBasics: Assignment_23</center>"
   ]
  },
  {
   "cell_type": "markdown",
   "id": "64c63b42-cc6e-498f-ae56-aaf29e15c33d",
   "metadata": {},
   "source": [
    "### Question 01:"
   ]
  },
  {
   "cell_type": "markdown",
   "id": "b3d1bc44-eb4c-4916-819f-5f17e4da936c",
   "metadata": {},
   "source": [
    "The result of the code will be:\n",
    "\n",
    "```\n",
    "1 2 8\n",
    "```\n",
    "\n",
    "Explanation:\n",
    "\n",
    "In the `func` function definition, there are three parameters: `a`, `b`, and `c`. The parameter `b` has a default value of `6`, and the parameter `c` has a default value of `8`.\n",
    "\n",
    "When the function is called as `func(1, 2)`, the argument `1` is passed for parameter `a`, and the argument `2` is passed for parameter `b`. Since no argument is provided for parameter `c`, it takes its default value of `8`.\n",
    "\n",
    "Therefore, when the `print` statement inside the `func` function is executed, it prints the values of `a`, `b`, and `c` as `1`, `2`, and `8` respectively."
   ]
  },
  {
   "cell_type": "markdown",
   "id": "47adb0c5-152f-49a1-a071-fe09698c71f8",
   "metadata": {},
   "source": [
    "### Question 02"
   ]
  },
  {
   "cell_type": "markdown",
   "id": "2c2fb54c-7d56-4e18-8cbc-f639307be93b",
   "metadata": {},
   "source": [
    "The result of the code will be:\n",
    "\n",
    "```\n",
    "1 2 3\n",
    "```\n",
    "\n",
    "Explanation:\n",
    "\n",
    "In the `func` function definition, there are three parameters: `a`, `b`, and `c`. The parameter `c` has a default value of `5`.\n",
    "\n",
    "When the function is called as `func(1, c=3, b=2)`, the argument `1` is passed for parameter `a`, the argument `3` is explicitly passed for parameter `c`, and the argument `2` is explicitly passed for parameter `b`.\n",
    "\n",
    "Since the arguments are explicitly passed with the parameter names, their order can be different from the parameter order in the function definition.\n",
    "\n",
    "Therefore, when the `print` statement inside the `func` function is executed, it prints the values of `a`, `b`, and `c` as `1`, `2`, and `3` respectively."
   ]
  },
  {
   "cell_type": "markdown",
   "id": "0a16df86-5832-4f99-a854-cb3fe82d5153",
   "metadata": {},
   "source": [
    "### Question 03"
   ]
  },
  {
   "cell_type": "markdown",
   "id": "83005af6-8988-4ccb-8551-703a5278a274",
   "metadata": {},
   "source": [
    "The result of the code will be:\n",
    "\n",
    "```\n",
    "1 (2, 3)\n",
    "```\n",
    "\n",
    "Explanation:\n",
    "\n",
    "In the `func` function definition, the parameter `a` is a regular parameter, and `*pargs` is a tuple parameter preceded by an asterisk `*`. This means that `pargs` will collect any additional positional arguments passed to the function after `a`.\n",
    "\n",
    "When the function is called as `func(1, 2, 3)`, the value `1` is assigned to the parameter `a`, and the values `2` and `3` are collected as a tuple in `pargs`.\n",
    "\n",
    "Therefore, when the `print` statement inside the `func` function is executed, it prints the value of `a` as `1` and the tuple `pargs` as `(2, 3)`."
   ]
  },
  {
   "cell_type": "markdown",
   "id": "9b88da77-a2fd-4d70-b35b-2113ebae9690",
   "metadata": {},
   "source": [
    "### Question 04"
   ]
  },
  {
   "cell_type": "markdown",
   "id": "51d4b859-4ce5-4e83-bad7-b6d1a348db76",
   "metadata": {},
   "source": [
    "The code will print:\n",
    "\n",
    "```\n",
    "1 {'c': 3, 'b': 2}\n",
    "```\n",
    "\n",
    "Explanation:\n",
    "\n",
    "In the `func` function definition, the parameter `a` is a regular parameter, and `**kargs` is a keyword parameter preceded by two asterisks `**`. This means that `kargs` will collect any additional keyword arguments passed to the function.\n",
    "\n",
    "When the function is called as `func(a=1, c=3, b=2)`, the value `1` is assigned to the parameter `a`, and the keyword arguments `c=3` and `b=2` are collected in the dictionary `kargs`.\n",
    "\n",
    "Therefore, when the `print` statement inside the `func` function is executed, it prints the value of `a` as `1` and the dictionary `kargs` as `{'c': 3, 'b': 2}`."
   ]
  },
  {
   "cell_type": "markdown",
   "id": "64bd0cdc-fefa-4c59-a4d0-06d0f77f2eb3",
   "metadata": {},
   "source": [
    "### Question 05"
   ]
  },
  {
   "cell_type": "markdown",
   "id": "497c44ac-424c-4ef6-85a1-890c4f41d29f",
   "metadata": {},
   "source": [
    "The code will print:\n",
    "\n",
    "```\n",
    "1 5 6 5\n",
    "```\n",
    "\n",
    "Explanation:\n",
    "\n",
    "In the function call `func(1, *(5, 6))`, the values `1`, `5`, and `6` are passed as arguments. The `*` operator before `(5, 6)` unpacks the tuple `(5, 6)` into separate arguments. So effectively, the function call is equivalent to `func(1, 5, 6)`.\n",
    "\n",
    "In the function definition, `a` and `b` are regular parameters, `c` has a default value of `8`, and `d` has a default value of `5`.\n",
    "\n",
    "When the `print` statement inside the `func` function is executed, it prints the values of `a`, `b`, `c`, and `d`. The values of `a`, `b`, and `d` are straightforward as they correspond to the passed arguments and default value. The value of `c` is `6` because it is overridden by the second argument in the function call, which is `6`."
   ]
  },
  {
   "cell_type": "markdown",
   "id": "2e906e5c-a0e6-4852-b049-5589a27f202e",
   "metadata": {},
   "source": [
    "### Question 06m, nm, n"
   ]
  },
  {
   "cell_type": "markdown",
   "id": "b571cd47-fbe2-47ae-9447-008389f53f7c",
   "metadata": {},
   "source": [
    "The code will print:\n",
    "\n",
    "```\n",
    "1 ['x'] {'a': 'y'}\n",
    "```\n",
    "\n",
    "Explanation:\n",
    "\n",
    "In the function `func`, the parameter `a` is a regular variable, while `b` and `c` are mutable objects (a list and a dictionary, respectively). Inside the function, the values of `a`, `b`, and `c` are modified.\n",
    "\n",
    "In the function call `func(l, m, n)`, the variable `l` is passed as the argument `a`, the list `[1]` is passed as the argument `b`, and the dictionary `{'a': 0}` is passed as the argument `c`.\n",
    "\n",
    "Inside the function, the value of `a` is assigned `2`, but this does not affect the value of `l` outside the function because `a` is a local variable within the function.\n",
    "\n",
    "The value of the first element of `b` is changed to `'x'` using `b[0] = 'x'`. Since `m` and `b` are references to the same list object, this change affects the value of `m` outside the function as well.\n",
    "\n",
    "The value of the dictionary `c` is modified by setting `c['a'] = 'y'`. Since `n` and `c` refer to the same dictionary object, this change affects the value of `n` outside the function.\n",
    "\n",
    "Therefore, after the function call, the variables `l`, `m`, and `n` have the values `1`, `['x']`, and `{'a': 'y'}`, respectively, which are printed as the output.\n",
    "\n"
   ]
  },
  {
   "cell_type": "code",
   "execution_count": null,
   "id": "4049a3c8-396f-4dec-ab5d-b5eb214158c8",
   "metadata": {},
   "outputs": [],
   "source": []
  }
 ],
 "metadata": {
  "kernelspec": {
   "display_name": "Python 3 (ipykernel)",
   "language": "python",
   "name": "python3"
  },
  "language_info": {
   "codemirror_mode": {
    "name": "ipython",
    "version": 3
   },
   "file_extension": ".py",
   "mimetype": "text/x-python",
   "name": "python",
   "nbconvert_exporter": "python",
   "pygments_lexer": "ipython3",
   "version": "3.10.8"
  }
 },
 "nbformat": 4,
 "nbformat_minor": 5
}
