{
 "cells": [
  {
   "cell_type": "markdown",
   "id": "fd081e01-4579-49d2-bc46-b6e71e9785ea",
   "metadata": {},
   "source": [
    "# <center>PythonBasics: ProgrammingAssignment_22</center>"
   ]
  },
  {
   "cell_type": "markdown",
   "id": "e99edd23-2df1-4948-93bf-f0114950dcce",
   "metadata": {},
   "source": [
    "### Question 01:\n",
    "\n",
    "Create a function that takes three parameters where:\n",
    "\n",
    ".  x is the start of the range (inclusive).\n",
    "\n",
    ".  y is the end of the range (inclusive).\n",
    "\n",
    ".  n is the divisor to be checked against.\n",
    "\n",
    "Return an ordered list with numbers in the range that are divisible by the third parameter n.\n",
    "Return an empty list if there are no numbers that are divisible by n.\n",
    "Examples\n",
    "list_operation(1, 10, 3) ➞ [3, 6, 9]"
   ]
  },
  {
   "cell_type": "code",
   "execution_count": 1,
   "id": "1e8c2a70-45a4-4821-ad63-4564f29f422c",
   "metadata": {},
   "outputs": [
    {
     "name": "stdout",
     "output_type": "stream",
     "text": [
      "[5, 10, 15, 20]\n"
     ]
    }
   ],
   "source": [
    "def divisible_range(x, y, n):\n",
    "    result = []\n",
    "    for num in range(x, y+1):\n",
    "        if num % n == 0:\n",
    "            result.append(num)\n",
    "    return result\n",
    "\n",
    "################ TEST ####################\n",
    "\n",
    "result = divisible_range(1, 20, 5)\n",
    "print(result)\n"
   ]
  },
  {
   "cell_type": "markdown",
   "id": "2d10359a-99e9-4fe8-8856-c723ec74a493",
   "metadata": {},
   "source": [
    "### Question 02:\n",
    "\n",
    "\n",
    "Create a function that takes in two lists and returns True if the second list follows the first list\n",
    "by one element, and False otherwise. In other words, determine if the second list is the first\n",
    "list shifted to the right by 1."
   ]
  },
  {
   "cell_type": "code",
   "execution_count": 3,
   "id": "54e5a9b5-0593-4754-b0dd-aad674bdb60b",
   "metadata": {},
   "outputs": [
    {
     "name": "stdout",
     "output_type": "stream",
     "text": [
      "True\n"
     ]
    }
   ],
   "source": [
    "def simon_says(lst1, lst2):\n",
    "    if len(lst1) != len(lst2):\n",
    "        return False\n",
    "    return lst1[:-1] == lst2[1:]\n",
    "\n",
    "\n",
    "##################### TEST ##################\n",
    "\n",
    "print(simon_says([1, 2], [5, 1]))"
   ]
  },
  {
   "cell_type": "markdown",
   "id": "d2aa54d0-dad3-4a1a-b0bc-54fbaa20d116",
   "metadata": {},
   "source": [
    "### Question 3:\n",
    "\n",
    "A group of friends have decided to start a secret society. The name will be the first letter of\n",
    "each of their names, sorted in alphabetical order.\n",
    "Create a function that takes in a list of names and returns the name of the secret society.\n",
    "\n",
    "Examples\n",
    "society_name([&quot;Adam&quot;, &quot;Sarah&quot;, &quot;Malcolm&quot;]) ➞ &quot;AMS&quot;"
   ]
  },
  {
   "cell_type": "code",
   "execution_count": 4,
   "id": "7975ef9c-ef0f-4d66-8bab-c5fa16343c97",
   "metadata": {},
   "outputs": [
    {
     "name": "stdout",
     "output_type": "stream",
     "text": [
      "AMS\n"
     ]
    }
   ],
   "source": [
    "def society_name(names):\n",
    "    initials = [name[0] for name in names]\n",
    "    return ''.join(sorted(initials))\n",
    "\n",
    "\n",
    "############ TEST #############\n",
    "print(society_name([\"Adam\", \"Sarah\", \"Malcolm\"]))  # \"AMS\"\n"
   ]
  },
  {
   "cell_type": "markdown",
   "id": "a4d8c17a-47f3-4332-8e47-f7ce2264907e",
   "metadata": {},
   "source": [
    "### Question 4:\n",
    "\n",
    "An isogram is a word that has no duplicate letters. Create a function that takes a string and\n",
    "returns either True or False depending on whether or not it&#39;s an &quot;isogram&quot;.\n",
    "Examples\n",
    "is_isogram(&quot;Algorism&quot;) ➞ True"
   ]
  },
  {
   "cell_type": "code",
   "execution_count": 5,
   "id": "3dcb1adc-4f7d-4399-a3f3-d67a6ba8080d",
   "metadata": {},
   "outputs": [
    {
     "name": "stdout",
     "output_type": "stream",
     "text": [
      "True\n"
     ]
    }
   ],
   "source": [
    "def is_isogram(string):\n",
    "    # Convert the string to lowercase to ignore case sensitivity\n",
    "    string = string.lower()\n",
    "    \n",
    "    # Check if the length of the string is equal to the length of its set of characters\n",
    "    return len(string) == len(set(string))\n",
    "\n",
    "################ TESt #########################\n",
    "print(is_isogram(\"Algorism\"))  # True\n"
   ]
  },
  {
   "cell_type": "markdown",
   "id": "36b87635-cc60-47c6-8195-b40ada36a22e",
   "metadata": {},
   "source": [
    "### Question 05:\n",
    "\n",
    "Create a function that takes a string and returns True or False, depending on whether the\n",
    "characters are in order or not.\n",
    "Examples\n",
    "is_in_order(&quot;abc&quot;) ➞ True"
   ]
  },
  {
   "cell_type": "code",
   "execution_count": 6,
   "id": "ae6cd9d0-7bbd-4e73-b9e8-82631faaff21",
   "metadata": {},
   "outputs": [
    {
     "name": "stdout",
     "output_type": "stream",
     "text": [
      "True\n"
     ]
    }
   ],
   "source": [
    "def is_in_order(string):\n",
    "    # Sort the characters of the string in ascending order\n",
    "    sorted_string = ''.join(sorted(string))\n",
    "    \n",
    "    # Check if the sorted string is equal to the original string\n",
    "    return sorted_string == string\n",
    "\n",
    "################## TESt ############\n",
    "\n",
    "print(is_in_order(\"abc\"))  # True\n"
   ]
  },
  {
   "cell_type": "code",
   "execution_count": null,
   "id": "bc6e6cc2-95f9-4965-8b37-30eae5da87ee",
   "metadata": {},
   "outputs": [],
   "source": []
  }
 ],
 "metadata": {
  "kernelspec": {
   "display_name": "Python 3 (ipykernel)",
   "language": "python",
   "name": "python3"
  },
  "language_info": {
   "codemirror_mode": {
    "name": "ipython",
    "version": 3
   },
   "file_extension": ".py",
   "mimetype": "text/x-python",
   "name": "python",
   "nbconvert_exporter": "python",
   "pygments_lexer": "ipython3",
   "version": "3.10.8"
  }
 },
 "nbformat": 4,
 "nbformat_minor": 5
}
