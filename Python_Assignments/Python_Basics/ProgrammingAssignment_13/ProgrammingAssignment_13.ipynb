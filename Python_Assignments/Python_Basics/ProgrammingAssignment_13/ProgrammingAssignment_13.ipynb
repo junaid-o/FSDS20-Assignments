{
 "cells": [
  {
   "cell_type": "markdown",
   "id": "a474c1cd-3f76-4b2f-b53a-495fe2f3c5f5",
   "metadata": {},
   "source": [
    "# <center>PythonBaics: ProgrammingAssignment_13</center>"
   ]
  },
  {
   "cell_type": "markdown",
   "id": "ba69a1dc-92b6-4d62-9742-0000e4595e18",
   "metadata": {},
   "source": [
    "### Question 1: \n",
    "\n",
    "Write a program that calculates and prints the value according to the given formula:\n",
    "```\n",
    "Q = Square root of [(2 * C * D)/H]\n",
    "\n",
    "```\n",
    "Following are the fixed values of C and H:\n",
    "C is 50. H is 30.\n",
    "\n",
    "D is the variable whose values should be input to your program in a comma-separated\n",
    "sequence.\n",
    "\n",
    "Example\n",
    "Let us assume the following comma separated input sequence is given to the program:\n",
    "100,150,180\n",
    "The output of the program should be:\n",
    "18,22,24"
   ]
  },
  {
   "cell_type": "code",
   "execution_count": 1,
   "id": "f6b63ba2-bf43-4755-b70a-5ee3af1f239c",
   "metadata": {},
   "outputs": [
    {
     "name": "stdin",
     "output_type": "stream",
     "text": [
      "Enter comma-separated values for D:  2,6,12\n"
     ]
    },
    {
     "name": "stdout",
     "output_type": "stream",
     "text": [
      "Output: 2,4,6\n"
     ]
    }
   ],
   "source": [
    "import math\n",
    "\n",
    "C = 50\n",
    "H = 30\n",
    "\n",
    "def calculate_value(sequence):\n",
    "    values = []\n",
    "    for num in sequence:\n",
    "        D = int(num)\n",
    "        Q = int(math.sqrt((2 * C * D) / H))\n",
    "        values.append(Q)\n",
    "    return values\n",
    "\n",
    "################# TEST ###################\n",
    "################# TEST ###################\n",
    "\n",
    "input_sequence = input(\"Enter comma-separated values for D: \").split(\",\")\n",
    "result = calculate_value(input_sequence)\n",
    "print(\"Output:\", \",\".join(str(num) for num in result))\n"
   ]
  },
  {
   "cell_type": "markdown",
   "id": "53c5f7df-f4c6-4421-917e-d520a845fe0e",
   "metadata": {},
   "source": [
    "### Question 2:\n",
    "\n",
    "\r\n",
    "Write a program which takes 2 digits, X,Y as input and generates a 2-dimensional array. The\r\n",
    "element value in the i-th r`ow and j-th column of the array should be i*j.\r\n",
    "Note: i=0,1.., X-1; j=0,1,¡Y-1.\r\n",
    "Example\r\n",
    "Suppose the following inputs are given to the program:\r\n",
    "3,5\r\n",
    "Then, the output of the program sho\n",
    "\n",
    "\n",
    "```\n",
    "uld be:\r\n",
    "[[0, 0, 0, 0, 0], [0, 1, 2, 3, 4], [0, 2, 4\n",
    "\n",
    "```, 6, 8]], 6, 8]]"
   ]
  },
  {
   "cell_type": "code",
   "execution_count": 5,
   "id": "8474868c-3c49-45a3-a32a-0a6ee78de809",
   "metadata": {},
   "outputs": [
    {
     "name": "stdin",
     "output_type": "stream",
     "text": [
      "Enter two digits (X, Y):  3,5\n"
     ]
    },
    {
     "name": "stdout",
     "output_type": "stream",
     "text": [
      "Output: [[0, 0, 0, 0, 0], [0, 1, 2, 3, 4], [0, 2, 4, 6, 8]]\n"
     ]
    }
   ],
   "source": [
    "def generate_array(X, Y):\n",
    "    array = []\n",
    "    for i in range(X):\n",
    "        row = []\n",
    "        for j in range(Y):\n",
    "            row.append(i * j)\n",
    "        array.append(row)\n",
    "    return array\n",
    "\n",
    "# Example usage\n",
    "X, Y = map(int, input(\"Enter two digits (X, Y): \").split(\",\"))\n",
    "result = generate_array(X, Y)\n",
    "print(\"Output:\", result)\n"
   ]
  },
  {
   "cell_type": "markdown",
   "id": "e9cbbe3b-0c1d-4f3c-bd08-7cc042f25d29",
   "metadata": {},
   "source": [
    "### Question 3:\n",
    "\n",
    "\n",
    "Write a program that accepts a comma separated sequence of words as input and prints the\n",
    "words in a comma-separated sequence after sorting them alphabetically.\n",
    "Suppose the following input is supplied to the program:\n",
    "\n",
    "\n",
    "without,hello,bag,world\n",
    "\n",
    "Then, the output should be:\n",
    "\n",
    "bag,hello,without,world"
   ]
  },
  {
   "cell_type": "code",
   "execution_count": 9,
   "id": "dde5354e-c087-4731-a964-67639e64a005",
   "metadata": {},
   "outputs": [
    {
     "name": "stdin",
     "output_type": "stream",
     "text": [
      "Enter comma-separated sequence of words:  Zebra, Zarish, Apple, Banana, Mangroves, Ink\n"
     ]
    },
    {
     "name": "stdout",
     "output_type": "stream",
     "text": [
      "Output:  Apple, Banana, Ink, Mangroves, Zarish,Zebra\n"
     ]
    }
   ],
   "source": [
    "def sort_words(sequence):\n",
    "    words = sequence.split(\",\")\n",
    "    sorted_words = sorted(words)\n",
    "    return \",\".join(sorted_words)\n",
    "\n",
    "################# TESt######################\n",
    "################# TESt######################\n",
    "\n",
    "input_sequence = input(\"Enter comma-separated sequence of words: \")\n",
    "result = sort_words(input_sequence)\n",
    "print(\"Output:\", result)\n"
   ]
  },
  {
   "cell_type": "markdown",
   "id": "b71f4c08-a75c-4b95-a92f-ae52890bc0b5",
   "metadata": {},
   "source": [
    "### Question 4:\n",
    "\n",
    "\n",
    "Write a program that accepts a sequence of whitespace separated words as input and prints\n",
    "the words after removing all duplicate words and sorting them alphanumerically.\n",
    "Suppose the following input is supplied to the program:\n",
    "hello world and practice makes perfect and hello world again\n",
    "Then, the output should be:\n",
    "again and hello makes perfect practice world"
   ]
  },
  {
   "cell_type": "code",
   "execution_count": 11,
   "id": "ad0e35ea-2f72-45ed-94b4-0bd4959c679c",
   "metadata": {},
   "outputs": [
    {
     "name": "stdin",
     "output_type": "stream",
     "text": [
      "Enter whitespace-separated words:  hello world and practice makes perfect and hello world again\n"
     ]
    },
    {
     "name": "stdout",
     "output_type": "stream",
     "text": [
      "Output: again and hello makes perfect practice world\n"
     ]
    }
   ],
   "source": [
    "def remove_duplicates_sort_words(sequence):\n",
    "    words = sequence.split()\n",
    "    unique_words = list(set(words))\n",
    "    sorted_words = sorted(unique_words)\n",
    "    return \" \".join(sorted_words)\n",
    "\n",
    "################## TEST ##############\n",
    "################## TEST ##############\n",
    "\n",
    "input_sequence = input(\"Enter whitespace-separated words: \")\n",
    "result = remove_duplicates_sort_words(input_sequence)\n",
    "print(\"Output:\", result)\n"
   ]
  },
  {
   "cell_type": "markdown",
   "id": "211cfc16-e0ce-4480-ac28-abce06c2ef9a",
   "metadata": {},
   "source": [
    "### Question 5\n",
    "\n",
    "\r\n",
    "Write a program that accepts a sentence and calculate the number of letters and digits.\r\n",
    "Suppose the following input is supplied to the program\n",
    "\n",
    ":\r\n",
    "hello world! 1\n",
    "\n",
    "23\r\n",
    "T en, the output should\n",
    " be:\r\n",
    "LETTERS 10\r\n",
    "\r\n",
    "DIGITS 3"
   ]
  },
  {
   "cell_type": "code",
   "execution_count": 12,
   "id": "b3f384a7-15a3-4ac5-bfed-d1f608d2ad00",
   "metadata": {},
   "outputs": [
    {
     "name": "stdin",
     "output_type": "stream",
     "text": [
      "Enter a sentence:  hello world! 123\n"
     ]
    },
    {
     "name": "stdout",
     "output_type": "stream",
     "text": [
      "LETTERS 10\n",
      "DIGITS 3\n"
     ]
    }
   ],
   "source": [
    "def count_letters_digits(sentence):\n",
    "    letters = 0\n",
    "    digits = 0\n",
    "    for char in sentence:\n",
    "        if char.isalpha():\n",
    "            letters += 1\n",
    "        elif char.isdigit():\n",
    "            digits += 1\n",
    "    return letters, digits\n",
    "\n",
    "################# TEST #####################\n",
    "################# TEST #####################\n",
    "\n",
    "input_sentence = input(\"Enter a sentence: \")\n",
    "letter_count, digit_count = count_letters_digits(input_sentence)\n",
    "print(\"LETTERS\", letter_count)\n",
    "print(\"DIGITS\", digit_count)\n"
   ]
  },
  {
   "cell_type": "markdown",
   "id": "96e46a53-4156-460d-bb38-5cd269593796",
   "metadata": {},
   "source": [
    "### Question 6:\n",
    "\n",
    "\n",
    "A website requires the users to input username and password to register. Write a program to\n",
    "check the validity of password input by users.\n",
    "\n",
    "\n",
    "Following are the criteria for checking the password:\n",
    "\n",
    "\n",
    "1. At least 1 letter between [a-z]\n",
    "2. At least 1 number between [0-9]\n",
    "1. At least 1 letter between [A-Z]\n",
    "3. At least 1 character from [$#@]\n",
    "4. Minimum length of transaction password: 6\n",
    "5. Maximum length of transaction password: 12\n",
    "\n",
    "\n",
    "Your program should accept a sequence of comma separated passwords and will check them\n",
    "according to the above criteria. Passwords that match the criteria are to be printed, each\n",
    "separated by a comma.\n",
    "\n",
    "    \n",
    "Example\n",
    "If the following passwords are given as input to the program:\n",
    "```\n",
    "ABd1234@1,a F1#,2w3E*,2We3345\n",
    "\n",
    "```\n",
    "Then, the output of the program should be:\n",
    "\n",
    "```\n",
    "ABd1234@1\n",
    "```"
   ]
  },
  {
   "cell_type": "code",
   "execution_count": 14,
   "id": "f07745d7-1d65-45a5-b448-fc1916b6f995",
   "metadata": {},
   "outputs": [
    {
     "name": "stdin",
     "output_type": "stream",
     "text": [
      "Enter comma-separated passwords:  ABd1234@1,a F1#,2w3E*,2We3345\n"
     ]
    },
    {
     "name": "stdout",
     "output_type": "stream",
     "text": [
      "ABd1234@1\n"
     ]
    }
   ],
   "source": [
    "import re\n",
    "\n",
    "def check_password_validity(password):\n",
    "    if len(password) < 6 or len(password) > 12:\n",
    "        return False\n",
    "    if not re.search(\"[a-z]\", password):\n",
    "        return False\n",
    "    if not re.search(\"[A-Z]\", password):\n",
    "        return False\n",
    "    if not re.search(\"[0-9]\", password):\n",
    "        return False\n",
    "    if not re.search(\"[$#@]\", password):\n",
    "        return False\n",
    "    return True\n",
    "\n",
    "############## TEST #########################\n",
    "############## TEST #########################\n",
    "\n",
    "\n",
    "passwords = input(\"Enter comma-separated passwords: \").split(\",\")\n",
    "\n",
    "valid_passwords = []\n",
    "for password in passwords:\n",
    "    if check_password_validity(password):\n",
    "        valid_passwords.append(password)\n",
    "\n",
    "print(\",\".join(valid_passwords))\n"
   ]
  },
  {
   "cell_type": "code",
   "execution_count": null,
   "id": "75e91c47-8ffe-4d73-ac30-56905ac254cc",
   "metadata": {},
   "outputs": [],
   "source": []
  }
 ],
 "metadata": {
  "kernelspec": {
   "display_name": "Python 3 (ipykernel)",
   "language": "python",
   "name": "python3"
  },
  "language_info": {
   "codemirror_mode": {
    "name": "ipython",
    "version": 3
   },
   "file_extension": ".py",
   "mimetype": "text/x-python",
   "name": "python",
   "nbconvert_exporter": "python",
   "pygments_lexer": "ipython3",
   "version": "3.10.8"
  }
 },
 "nbformat": 4,
 "nbformat_minor": 5
}
