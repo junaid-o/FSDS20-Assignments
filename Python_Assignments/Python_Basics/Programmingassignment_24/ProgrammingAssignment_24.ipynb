{
 "cells": [
  {
   "cell_type": "markdown",
   "id": "8b9104cf-7298-42d6-9a5f-63f8cd2f063d",
   "metadata": {},
   "source": [
    "# <center>PythonBasics: ProgrammingAssignment_24</center>"
   ]
  },
  {
   "cell_type": "markdown",
   "id": "1a86e0db-da98-40f1-a413-1609353947d3",
   "metadata": {},
   "source": [
    "### Question 01:\n",
    "\n",
    "Create a function that takes an integer and returns a list from 1 to the given number, where:\n",
    "1. If the number can be divided evenly by 4, amplify it by 10 (i.e. return 10 times the\n",
    "number).\n",
    "2. If the number cannot be divided evenly by 4, simply return the number.\n"
   ]
  },
  {
   "cell_type": "code",
   "execution_count": 1,
   "id": "a26f2e31-a1c4-4f5a-814c-e05e40c33f11",
   "metadata": {},
   "outputs": [
    {
     "name": "stdout",
     "output_type": "stream",
     "text": [
      "[1, 2, 3, 40]\n"
     ]
    }
   ],
   "source": [
    "def amplify(num):\n",
    "    return [i * 10 if i % 4 == 0 else i for i in range(1, num + 1)]\n",
    "\n",
    "\n",
    "############ TESt #####################\n",
    "\n",
    "print(amplify(4))  # [1, 2, 3, 40]\n"
   ]
  },
  {
   "cell_type": "markdown",
   "id": "fc4478a7-5a6f-4da6-a251-e43124c1e18c",
   "metadata": {},
   "source": [
    "### Question 02:\n",
    "\n",
    "Create a function that takes a list of numbers and return the number that&#39;s unique.\n"
   ]
  },
  {
   "cell_type": "code",
   "execution_count": 2,
   "id": "b5664c5f-83ec-45ba-9ae8-57195824aebb",
   "metadata": {},
   "outputs": [
    {
     "name": "stdout",
     "output_type": "stream",
     "text": [
      "7\n"
     ]
    }
   ],
   "source": [
    "def unique(numbers):\n",
    "    for num in numbers:\n",
    "        if numbers.count(num) == 1:\n",
    "            return num\n",
    "\n",
    "\n",
    "################# TEST ##########################\n",
    "\n",
    "print(unique([3, 3, 3, 7, 3, 3]))  # 7\n"
   ]
  },
  {
   "cell_type": "markdown",
   "id": "952295c2-f495-4440-b653-b0da7bc590bd",
   "metadata": {},
   "source": [
    "### Question 03:\n",
    "\n",
    "Your task is to create a Circle constructor that creates a circle with a radius provided by an\n",
    "argument. The circles constructed must have two getters getArea() (PIr^2) and\n",
    "getPerimeter() (2PI*r) which give both respective areas and perimeter (circumference)."
   ]
  },
  {
   "cell_type": "code",
   "execution_count": 3,
   "id": "0ac4f56d-bbde-45af-85d2-0ebe0e1d6685",
   "metadata": {},
   "outputs": [
    {
     "name": "stdout",
     "output_type": "stream",
     "text": [
      "380.132711084365\n",
      "27.897342763877365\n"
     ]
    }
   ],
   "source": [
    "import math\n",
    "\n",
    "class Circle:\n",
    "    def __init__(self, radius):\n",
    "        self.radius = radius\n",
    "\n",
    "    def getArea(self):\n",
    "        return math.pi * self.radius**2\n",
    "\n",
    "    def getPerimeter(self):\n",
    "        return 2 * math.pi * self.radius\n",
    "\n",
    "\n",
    "################## TEST ##############\n",
    "################## TEST ##############\n",
    "\n",
    "\n",
    "circy = Circle(11)\n",
    "print(circy.getArea())  # Output: 380.132711084365\n",
    "\n",
    "circy = Circle(4.44)\n",
    "print(circy.getPerimeter())  # Output: 27.897342763877365\n",
    "\n"
   ]
  },
  {
   "cell_type": "markdown",
   "id": "5314e78a-bcb3-4b59-bd3d-4f2dc01b8a75",
   "metadata": {},
   "source": [
    "### Question 04:\n",
    "\n",
    "Create a function that takes a list of strings and return a list, sorted from shortest to longest.\n",
    "Examples\n",
    "sort_by_length([&quot;Google&quot;, &quot;Apple&quot;, &quot;Microsoft&quot;])\n",
    "➞ [&quot;Apple&quot;, &quot;Google&quot;, &quot;Microsoft&quot;]"
   ]
  },
  {
   "cell_type": "code",
   "execution_count": 4,
   "id": "f3f84a0d-582a-4a6d-8df3-96c4e1d7467d",
   "metadata": {},
   "outputs": [
    {
     "name": "stdout",
     "output_type": "stream",
     "text": [
      "['Apple', 'Google', 'Microsoft']\n"
     ]
    }
   ],
   "source": [
    "def sort_by_length(lst):\n",
    "    return sorted(lst, key=len)\n",
    "\n",
    "################### TESt ####################\n",
    "################### TESt ####################\n",
    "\n",
    "strings = [\"Google\", \"Apple\", \"Microsoft\"]\n",
    "sorted_strings = sort_by_length(strings)\n",
    "print(sorted_strings)\n"
   ]
  },
  {
   "cell_type": "markdown",
   "id": "c77cd534-de51-42eb-b731-35594be201eb",
   "metadata": {},
   "source": [
    "### Question 05:\n",
    "\n",
    "\n",
    "Create a function that validates whether three given integers form a Pythagorean triplet. The\n",
    "sum of the squares of the two smallest integers must equal the square of the largest number to\n",
    "be validated.\n"
   ]
  },
  {
   "cell_type": "code",
   "execution_count": 6,
   "id": "66e1301f-aa86-4387-9505-7ce015a34361",
   "metadata": {},
   "outputs": [
    {
     "name": "stdout",
     "output_type": "stream",
     "text": [
      "True\n"
     ]
    }
   ],
   "source": [
    "def is_pythagorean_triplet(a, b, c):\n",
    "    # Find the two smallest numbers among a, b, and c\n",
    "    smallest = min(a, b, c)\n",
    "    largest = max(a, b, c)\n",
    "    middle = a + b + c - smallest - largest\n",
    "\n",
    "    # Check the Pythagorean triplet condition\n",
    "    if smallest**2 + middle**2 == largest**2:\n",
    "        return True\n",
    "    else:\n",
    "        return False\n",
    "\n",
    "\n",
    "\n",
    "########################### TEST ################################\n",
    "########################### TEST ################################\n",
    "\n",
    "print(is_pythagorean_triplet(3, 4, 5))"
   ]
  },
  {
   "cell_type": "code",
   "execution_count": null,
   "id": "28171f83-ec60-4399-aee8-cc5b30f382dd",
   "metadata": {},
   "outputs": [],
   "source": []
  }
 ],
 "metadata": {
  "kernelspec": {
   "display_name": "Python 3 (ipykernel)",
   "language": "python",
   "name": "python3"
  },
  "language_info": {
   "codemirror_mode": {
    "name": "ipython",
    "version": 3
   },
   "file_extension": ".py",
   "mimetype": "text/x-python",
   "name": "python",
   "nbconvert_exporter": "python",
   "pygments_lexer": "ipython3",
   "version": "3.10.8"
  }
 },
 "nbformat": 4,
 "nbformat_minor": 5
}
