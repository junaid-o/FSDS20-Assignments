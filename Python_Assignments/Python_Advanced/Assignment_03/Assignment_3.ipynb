{
 "cells": [
  {
   "cell_type": "markdown",
   "id": "a164984f-6000-4ee0-81aa-8ce5c9839ed1",
   "metadata": {},
   "source": [
    "# <center>PythonAdvanced: Assignment_03</center>"
   ]
  },
  {
   "cell_type": "markdown",
   "id": "3a504ee7-0c3c-4ff3-b1d9-f4e60e4d58ed",
   "metadata": {},
   "source": [
    "### Question 01:\n",
    "**What is the concept of an abstract superclass?**\n",
    "\n",
    "**<span style='color:blue'>Answer</span>**"
   ]
  },
  {
   "cell_type": "markdown",
   "id": "45f45be7-0309-4947-8248-ffcc3f79a05d",
   "metadata": {},
   "source": [
    "The concept of an abstract superclass, also known as an abstract base class (ABC), is a feature in Python that allows you to define a common interface or structure for a group of related classes. An abstract superclass cannot be instantiated directly; instead, it serves as a blueprint for its subclasses.\n",
    "\n",
    "In Python, abstract superclasses are created using the `abc` module, which stands for \"Abstract Base Classes.\" This module provides the `ABC` class and the `abstractmethod` decorator, which are used to define abstract methods and abstract superclasses.\n",
    "\n",
    "An abstract superclass typically defines one or more abstract methods that must be implemented by its subclasses. These abstract methods provide a common interface that ensures consistency and adherence to a specific contract among the subclasses.\n",
    "\n",
    "By creating an abstract superclass, you can define common behavior and requirements for a group of related classes while allowing flexibility for individual implementations. Subclasses of the abstract superclass are required to implement the abstract methods defined in the superclass, ensuring that they conform to the expected behavior.\n",
    "\n",
    "The concept of an abstract superclass promotes code reusability, modularity, and enforceability of contracts in object-oriented programming. It allows you to create a hierarchy of related classes with a well-defined structure, promoting consistency and maintainability in your codebase."
   ]
  },
  {
   "cell_type": "markdown",
   "id": "b45239ba-1e9a-481b-b10e-2a2a12e2b7ed",
   "metadata": {},
   "source": [
    "### Question 02:\n",
    "**What happens when a class statement&#39;s top level contains a basic assignment statement?**\n",
    "\n",
    "**<span style='color:blue'>Answer</span>**"
   ]
  },
  {
   "cell_type": "markdown",
   "id": "7e3e10e0-1362-4590-94ac-c057c15f303d",
   "metadata": {},
   "source": [
    "When a class statement's top level contains a basic assignment statement, it defines a class-level attribute. This means that the assigned value becomes an attribute of the class itself, rather than an attribute of instances of the class."
   ]
  },
  {
   "cell_type": "markdown",
   "id": "0bbfa59e-f4c5-4e4d-9ec1-ff914bcb4ebc",
   "metadata": {},
   "source": [
    "### Question 03:\n",
    "**Why does a class need to manually call a superclass&#39;s __init__ method?**\n",
    "\n",
    "**<span style='color:blue'>Answer</span>**"
   ]
  },
  {
   "cell_type": "markdown",
   "id": "2184d3e5-4f9a-4a08-bba9-3f81258e3b80",
   "metadata": {},
   "source": [
    "A class needs to manually call a superclass's `__init__` method when it overrides the `__init__` method in the subclass and wants to include the initialization logic from the superclass as well. This allows the subclass to inherit and utilize the initialization code defined in the superclass.\n",
    "\n",
    "In Python, when a class inherits from a superclass (also known as a parent class or base class), it does not automatically invoke the superclass's `__init__` method unless explicitly called. This behavior allows the subclass to have its own custom initialization logic while still benefiting from the initialization logic defined in the superclass.\n",
    "\n",
    "By explicitly calling the superclass's `__init__` method within the subclass's `__init__` method, the subclass can ensure that the superclass's initialization code is executed before its own custom initialization code. This way, the subclass can initialize any attributes or perform any setup steps defined in the superclass, in addition to its own specific initialization tasks.\n",
    "\n",
    "Here's an example to demonstrate the manual call to a superclass's `__init__` method:\n",
    "\n",
    "```python\n",
    "class Superclass:\n",
    "    def __init__(self, value):\n",
    "        self.value = value\n",
    "        print(\"Superclass initialized with value:\", self.value)\n",
    "\n",
    "\n",
    "class Subclass(Superclass):\n",
    "    def __init__(self, value, extra):\n",
    "        super().__init__(value)  # Call superclass's __init__ method\n",
    "        self.extra = extra\n",
    "        print(\"Subclass initialized with extra value:\", self.extra)\n",
    "\n",
    "\n",
    "# Creating an instance of the subclass\n",
    "obj = Subclass(10, 20)\n",
    "```\n",
    "\n",
    "Here, the `Superclass` defines an `__init__` method that initializes the `value` attribute. The `Subclass` inherits from `Superclass` and overrides its `__init__` method. However, before performing its own initialization, the `Subclass` calls the superclass's `__init__` method using `super().__init__(value)`. This ensures that the superclass's initialization logic is executed first, setting the `value` attribute. Then, the subclass continues with its own initialization, setting the `extra` attribute.\n",
    "\n",
    "By manually calling the superclass's `__init__` method, the subclass can reuse and build upon the initialization behavior defined in the superclass, enhancing code reuse and maintaining the expected behavior of the superclass's initialization process."
   ]
  },
  {
   "cell_type": "markdown",
   "id": "bbb7377b-d18a-4a77-8f8d-8f5c954a3280",
   "metadata": {},
   "source": [
    "### Question 04:\n",
    "**How can you augment, instead of completely replacing, an inherited method?**\n",
    "\n",
    "**<span style='color:blue'>Answer</span>**"
   ]
  },
  {
   "cell_type": "markdown",
   "id": "b0885bb2-74b3-4f25-b8e7-35027b5b780d",
   "metadata": {},
   "source": [
    "To augment, or extend, an inherited method without completely replacing it, you can follow these steps:\n",
    "\n",
    "1. Define a subclass that inherits from the superclass.\n",
    "2. Override the method you want to augment in the subclass.\n",
    "3. Within the subclass's method, call the superclass's method using the `super()` function.\n",
    "4. Perform any additional actions or modifications specific to the subclass.\n",
    "\n",
    "By calling the superclass's method within the subclass's method, you ensure that the original behavior defined in the superclass is still executed. You can then add or modify the behavior as needed in the subclass.\n",
    "\n",
    "Here's an example to illustrate this approach:\n",
    "\n",
    "```python\n",
    "class Superclass:\n",
    "    def some_method(self):\n",
    "        print(\"Superclass method\")\n",
    "\n",
    "\n",
    "class Subclass(Superclass):\n",
    "    def some_method(self):\n",
    "        super().some_method()  # Call superclass's method\n",
    "        print(\"Additional actions in subclass\")\n",
    "\n",
    "\n",
    "# Creating an instance of the subclass\n",
    "obj = Subclass()\n",
    "obj.some_method()\n",
    "```\n",
    "\n",
    "Here, the `Superclass` defines a method called `some_method()`. The `Subclass` inherits from `Superclass` and overrides `some_method()`. However, within the `Subclass`'s implementation of `some_method()`, the `super().some_method()` line is used to call the superclass's `some_method()`. This ensures that the original behavior of the superclass is executed.\n",
    "\n",
    "After calling the superclass's method, the subclass can perform additional actions or modifications specific to its own implementation."
   ]
  },
  {
   "cell_type": "markdown",
   "id": "e680350b-1698-4443-90e5-994858063020",
   "metadata": {},
   "source": [
    "### Question 05:\n",
    "**How is the local scope of a class different from that of a function?**\n",
    "\n",
    "**<span style='color:blue'>Answer</span>**"
   ]
  },
  {
   "cell_type": "markdown",
   "id": "332dd857-5858-432a-a35f-8b0732750d59",
   "metadata": {},
   "source": [
    "The local scope of a class and a function in Python have some differences:\n",
    "\n",
    "1. Class Local Scope: The local scope within a class is specific to that class and is accessed using the `self` parameter. It includes instance variables and methods defined within the class. These variables and methods can be accessed by other methods within the class using the `self` keyword.\n",
    "\n",
    "2. Function Local Scope: The local scope within a function is specific to that function and is accessed using the function parameters. It includes variables and objects defined within the function itself. These variables and objects are only accessible within the function's scope and are not accessible outside of the function."
   ]
  },
  {
   "cell_type": "code",
   "execution_count": null,
   "id": "0a0ae498-31e0-4164-8744-6925ab96eea8",
   "metadata": {},
   "outputs": [],
   "source": []
  }
 ],
 "metadata": {
  "kernelspec": {
   "display_name": "Python 3 (ipykernel)",
   "language": "python",
   "name": "python3"
  },
  "language_info": {
   "codemirror_mode": {
    "name": "ipython",
    "version": 3
   },
   "file_extension": ".py",
   "mimetype": "text/x-python",
   "name": "python",
   "nbconvert_exporter": "python",
   "pygments_lexer": "ipython3",
   "version": "3.10.8"
  }
 },
 "nbformat": 4,
 "nbformat_minor": 5
}
