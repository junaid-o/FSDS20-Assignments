{
 "cells": [
  {
   "cell_type": "markdown",
   "id": "a23f7ccd-9cce-4707-8c48-167534e8f6c2",
   "metadata": {},
   "source": [
    "# <center>PythonAdvanced: Assignment_04</center>"
   ]
  },
  {
   "cell_type": "markdown",
   "id": "2190dbe1-89fc-4aa4-9acc-89a63e60124e",
   "metadata": {},
   "source": [
    "### Question 01:\n",
    "\n",
    "**Which two operator overloading methods can you use in your classes to support iteration?**"
   ]
  },
  {
   "cell_type": "code",
   "execution_count": null,
   "id": "64454baa-543f-4c41-8a70-cce2d394b0a5",
   "metadata": {},
   "outputs": [],
   "source": []
  }
 ],
 "metadata": {
  "kernelspec": {
   "display_name": "Python 3 (ipykernel)",
   "language": "python",
   "name": "python3"
  },
  "language_info": {
   "codemirror_mode": {
    "name": "ipython",
    "version": 3
   },
   "file_extension": ".py",
   "mimetype": "text/x-python",
   "name": "python",
   "nbconvert_exporter": "python",
   "pygments_lexer": "ipython3",
   "version": "3.10.8"
  }
 },
 "nbformat": 4,
 "nbformat_minor": 5
}
