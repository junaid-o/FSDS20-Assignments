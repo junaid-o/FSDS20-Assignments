{
 "cells": [
  {
   "cell_type": "markdown",
   "id": "2b8f25f8-e27a-4357-927d-196e9d7f0c0d",
   "metadata": {},
   "source": [
    "# <center>PythonAdvanced: Assignment_01</center>"
   ]
  },
  {
   "cell_type": "markdown",
   "id": "b6970b6c-3f0b-426d-8f4a-5698332eda73",
   "metadata": {},
   "source": [
    "Q1. What is the purpose of Python&#39;s OOP?\n",
    "\n",
    "Q2. Where does an inheritance search look for an attribute?\n",
    "\n",
    "Q3. How do you distinguish between a class object and an instance object?\n",
    "\n",
    "Q4. What makes the first argument in a class’s method function special?\n",
    "\n",
    "Q5. What is the purpose of the __init__ method?\n",
    "\n",
    "Q6. What is the process for creating a class instance?\n",
    "\n",
    "Q7. What is the process for creating a class?\n",
    "\n",
    "Q8. How would you define the superclasses of a class?"
   ]
  },
  {
   "cell_type": "markdown",
   "id": "8358d2cb-69cf-4e63-946a-fddb40eef1e1",
   "metadata": {},
   "source": [
    "### Question 01:\n",
    "\n",
    "**What is the purpose of Python's OOP?**"
   ]
  },
  {
   "cell_type": "markdown",
   "id": "1127af04-bfdf-4f2f-82b3-6a6363761e17",
   "metadata": {},
   "source": [
    "The purpose of Python's Object-Oriented Programming (OOP) is to provide a programming paradigm that allows for the organization and management of code in a modular and reusable manner. OOP promotes the concept of objects, which are instances of classes, and enables the implementation of concepts such as encapsulation, inheritance, and polymorphism. \n",
    "\n",
    "Purposes of Python's OOP:\n",
    "\n",
    "1. **Modularity**: OOP allows code to be divided into self-contained objects or classes, which encapsulate data and behavior. This promotes code organization and modularity, making it easier to understand, maintain, and extend.\n",
    "\n",
    "2. **Reusability**: By defining classes and creating objects, you can reuse code across different parts of your program or even across multiple projects. This reduces code duplication and promotes code reuse, leading to more efficient and manageable development.\n",
    "\n",
    "3. **Encapsulation**: OOP allows you to encapsulate data and methods within objects, providing data hiding and abstraction. This protects the internal state of objects and exposes only necessary interfaces, enhancing code security and maintainability.\n",
    "\n",
    "4. **Inheritance**: Inheritance enables the creation of new classes that inherit attributes and behaviors from existing classes. This promotes code reuse and the creation of specialized classes based on a common base, fostering code organization and reducing redundancy.\n",
    "\n",
    "5. **Polymorphism**: Polymorphism allows objects of different classes to be used interchangeably, based on a common interface or inheritance hierarchy. This enables more flexible and generic code that can work with different types of objects, promoting code extensibility and adaptability.\n",
    "\n",
    "Overall, Python's OOP paradigm provides a powerful and flexible way to structure, organize, and manage code, leading to improved code quality, reusability, and maintainability."
   ]
  },
  {
   "cell_type": "markdown",
   "id": "405e1621-2713-4c54-8703-938eb37b0921",
   "metadata": {},
   "source": [
    "### Question 02:\n",
    "\n",
    "**Where does an inheritance search look for an attribute?**"
   ]
  },
  {
   "cell_type": "markdown",
   "id": "69f1d8d2-4d99-438c-affd-0bb39fc96f51",
   "metadata": {},
   "source": [
    "In Python, when an attribute is accessed on an object, the inheritance search looks for the attribute in the following order:\n",
    "\n",
    "1. **Instance attributes**: The search starts by checking if the attribute exists in the instance itself. If the attribute is found, it is directly returned.\n",
    "\n",
    "2. **Class attributes**: If the attribute is not found in the instance, the search continues in the class of the object. It checks if the attribute exists as a class attribute, which is defined directly within the class. If found, it is returned.\n",
    "\n",
    "3. **Inherited attributes**: If the attribute is not found in the instance or the class, the search proceeds to the parent classes in the inheritance hierarchy. It checks each parent class in the order of inheritance, searching for the attribute. If the attribute is found in any parent class, it is returned.\n",
    "\n",
    "4. **Object attributes**: If the attribute is not found in the instance, class, or any parent classes, the search continues to a special object named `object`. This is the ultimate base class for all classes in Python. If the attribute is found in the `object` class, it is returned.\n",
    "\n",
    "5. **AttributeError**: If the attribute is not found in any of the above steps, a `AttributeError` is raised, indicating that the attribute does not exist.\n",
    "\n",
    "The inheritance search follows this order, known as the **Method Resolution Order (MRO)**, which is determined by the class hierarchy and can be accessed using the `__mro__` attribute on a class."
   ]
  },
  {
   "cell_type": "markdown",
   "id": "395f285b-6a48-4067-9bd6-50b926d6d955",
   "metadata": {},
   "source": [
    "### Question 03:\n",
    "**How do you distinguish between a class object and an instance object?**"
   ]
  },
  {
   "cell_type": "markdown",
   "id": "10d897a9-1792-4c88-bdca-f11a86209c0c",
   "metadata": {},
   "source": [
    "In Python, you can distinguish between a class object and an instance object by understanding their definitions and their roles in the object-oriented paradigm.\n",
    "\n",
    "1. **Class Object**: A class object is created when a class is defined. It represents the blueprint or template for creating instances of that class. The class object holds the class-level attributes, methods, and other class-specific behavior. It defines the structure and behavior that will be shared by all instances created from it.\n",
    "\n",
    "2. **Instance Object**: An instance object, also referred to as an instance, is created when the class is instantiated using the class object as a constructor. It is an individual, unique object created from the class. Each instance has its own set of instance attributes, which can be different from other instances of the same class. Instances can also have their own specific behavior by defining instance methods.\n",
    "\n",
    "Here are some distinguishing characteristics:\n",
    "\n",
    "- **Definition**: A class object is defined using the `class` keyword, followed by the class name and a block of code defining the class attributes and methods. An instance object is created by calling the class object as if it were a function, which invokes the class constructor and returns a new instance.\n",
    "\n",
    "- **Purpose**: A class object provides the blueprint for creating instances. It defines the structure, attributes, and methods that instances will have. An instance object is a specific object created from the class, and it represents a unique occurrence or instantiation of the class.\n",
    "\n",
    "- **Access**: Class objects are accessed directly through the class name itself. Instance objects are accessed via the dot notation, where the instance name is followed by the attribute or method name.\n",
    "\n",
    "- **Scope**: Class attributes and methods belong to the class object and are shared by all instances. They are accessed using the class name. Instance attributes and methods belong to each individual instance and can vary across instances. They are accessed using the instance name.\n",
    "\n",
    "- **Relationship**: Multiple instances can be created from a single class object. Each instance is independent of others and can have its own state and behavior. Class objects define the common structure and behavior for all instances.\n",
    "\n",
    "In summary, a class object represents the class itself and defines the structure and behavior, while an instance object represents a specific occurrence or instantiation of that class and holds the unique state and behavior associated with it."
   ]
  },
  {
   "cell_type": "markdown",
   "id": "e8191f16-1925-4558-b395-af190099f47a",
   "metadata": {},
   "source": [
    "### Question 04:\n",
    "\n",
    "**What makes the first argument in a class’s method function special?**"
   ]
  },
  {
   "cell_type": "markdown",
   "id": "897641fa-32c0-4717-ade1-db0dca88298c",
   "metadata": {},
   "source": [
    "In Python, the first argument in a class's method function is conventionally named `self`, although any valid variable name can be used. This first argument represents the instance of the class on which the method is called. It is automatically passed by the interpreter when a method is invoked on an instance.\n",
    "\n",
    "The `self` parameter serves as a reference to the instance itself, allowing the method to access and manipulate the instance's attributes and perform actions specific to that instance. It is a way for the instance to refer to itself within the method.\n",
    "\n",
    "Here are some key points about the first argument (`self`) in a class's method:\n",
    "\n",
    "1. **Instance Reference**: The `self` argument provides a reference to the instance of the class, allowing the method to access and modify the instance's attributes. It enables the method to interact with the specific instance on which it is called.\n",
    "\n",
    "2. **Automatic Passing**: When a method is invoked on an instance, the `self` argument is automatically passed by the interpreter. You don't need to explicitly provide an argument for `self` when calling the method.\n",
    "\n",
    "3. **Method Invocation**: When a method is called using the dot notation on an instance (e.g., `instance.method()`), the instance itself is implicitly passed as the first argument (`self`). This allows the method to access and manipulate the instance's attributes.\n",
    "\n",
    "4. **Instance-Specific Operations**: By using the `self` parameter, methods can perform operations that are specific to the instance on which they are called. They can access instance attributes, invoke other instance methods, or modify the state of the instance.\n",
    "\n",
    "5. **Convention**: Although the name `self` is not a keyword in Python, it is a widely adopted convention to name the first parameter in a class's method as `self`. This helps in readability and understanding of the code. However, any valid variable name can be used as the first parameter.\n",
    "\n",
    "By convention, the first argument in a class's method is named `self`, and it serves as a reference to the instance itself, allowing the method to work with the instance's attributes and behavior."
   ]
  },
  {
   "cell_type": "markdown",
   "id": "0591f645-febb-4aa7-a936-8a1d1136480e",
   "metadata": {},
   "source": [
    "### Question 05\n",
    "\n",
    "**What is the purpose of the init method?**"
   ]
  },
  {
   "cell_type": "markdown",
   "id": "85cc35f6-6ece-4e2d-a0d8-146f20565fb9",
   "metadata": {},
   "source": [
    "The `__init__` method, also known as the initializer or constructor, is a special method in Python classes. It is automatically called when an object is created from a class and allows the class to initialize its attributes and perform any necessary setup.\r\n",
    "\r\n",
    "The main purpose of the `__init__` method is to initialize the instance variables (attributes) of an object. It is where you define and assign initial values to the object's attributes, allowing you to set the object's state at the time of creation.\r\n",
    "\r\n",
    "Here are the key points about the `__init__` method:\r\n",
    "\r\n",
    "1. **Object Initialization**: The `__init__` method is called automatically when a new object is created from a class. It is executed as part of the object creation process, before the object becomes available for use.\r\n",
    "\r\n",
    "2. **Attribute Initialization**: Inside the `__init__` method, you can define and initialize the instance variables (attributes) of the object. These attributes store the state and data specific to each object created from the class.\r\n",
    "\r\n",
    "3. **Customization**: The `__init__` method allows you to customize the initialization process for each object. You can define parameters for the method to accept values during object creation, and use those values to initialize the attributes accordingly.\r\n",
    "\r\n",
    "4. **Self-Reference**: The `self` parameter, which represents the instance itself, is automatically passed to the `__init__` method. It allows you to access and modify the object's attributes within the method.\r\n",
    "\r\n",
    "5. **Optional**: The `__init__` method is optional in a class. If not defined, the object creation process will still occur, but the object will not have any specific initialization steps.\r\n",
    "\r\n",
    "By defining the `__init__` method in a class, you can ensure that every object created from that class starts with a consistent initial state. It provides a way to set up the object's attributes and perform any necessary initialization tasks."
   ]
  },
  {
   "cell_type": "markdown",
   "id": "68b6dc4f-bc02-412d-b7f1-45b11e75b6c3",
   "metadata": {},
   "source": [
    "### Question 06\n",
    "\n",
    "**What is the process for creating a class instance?**"
   ]
  },
  {
   "cell_type": "markdown",
   "id": "4620bed3-8867-4c7b-96bb-9a0caacd870e",
   "metadata": {},
   "source": [
    "The process for creating a class instance, also known as an object, involves the following steps:\n",
    "\n",
    "1. **Class Definition**: Begin by defining a class using the `class` keyword. The class serves as a blueprint or template for creating objects of that type. It encapsulates the attributes and behaviors that the objects will possess.\n",
    "\n",
    "2. **Instantiation**: To create an instance of a class, use the class name followed by parentheses. This process is called instantiation. It invokes the class's `__init__` method to initialize the object.\n",
    "\n",
    "3. **Memory Allocation**: Memory is allocated to store the object's attributes and methods. The object becomes a distinct entity in memory, separate from other instances of the same class.\n",
    "\n",
    "4. **Initialization**: During instantiation, the `__init__` method is automatically called, passing the newly created object as the first argument (`self`). The `__init__` method initializes the object's attributes, sets its initial state, and performs any necessary setup.\n",
    "\n",
    "5. **Attribute Assignment**: Inside the `__init__` method or other class methods, you can assign values to the object's attributes using dot notation (`self.attribute_name = value`). These attributes represent the object's data and state.\n",
    "\n",
    "6. **Object Reference**: The instance of the class is assigned to a variable, allowing you to reference and work with the object in your code.\n",
    "\n",
    "The process of creating a class instance can be summarized as follows:\n",
    "\n",
    "```python\n",
    "# Class Definition\n",
    "class ClassName:\n",
    "    # Class methods and attributes\n",
    "    \n",
    "# Instantiation\n",
    "instance = ClassName()\n",
    "\n",
    "# Memory Allocation and Initialization\n",
    "# The __init__ method is automatically called\n",
    "# Object attributes are assigned values\n",
    "\n",
    "# Object Reference\n",
    "# The instance can be referenced and used in the code\n",
    "```\n",
    "\n"
   ]
  },
  {
   "cell_type": "markdown",
   "id": "82070a03-d7b7-47b4-8fe2-17ffc964e5d6",
   "metadata": {},
   "source": [
    "### Question 07:\n",
    "\n",
    "**How would you define the superclasses of a class?**"
   ]
  },
  {
   "cell_type": "markdown",
   "id": "69f43a55-67c0-4c29-8fe2-84eb980dff63",
   "metadata": {},
   "source": [
    "The superclasses of a class, also known as parent classes or base classes, are the classes from which a derived class inherits. In Python, inheritance is used to create a hierarchy of classes where a derived class can inherit attributes and behaviors from one or more superclasses.\n",
    "\n",
    "To define the superclasses of a class, you specify them inside the parentheses following the class name in the class definition. This is done using the syntax:\n",
    "\n",
    "```python\n",
    "class DerivedClassName(Superclass1, Superclass2, ...):\n",
    "    # Class methods and attributes\n",
    "```\n",
    "\n",
    "The superclasses are listed in the order in which they should be searched for attributes and methods. When an attribute or method is accessed on an instance of the derived class, Python first looks for it in the derived class itself. If it's not found, it continues searching in the superclasses in the order they were defined.\n",
    "\n",
    "By defining the superclasses of a class, you establish an inheritance relationship, allowing the derived class to inherit and reuse code from the superclasses. This promotes code reuse, modularity, and supports the concept of polymorphism, where objects of different classes can be treated interchangeably based on their common superclass."
   ]
  },
  {
   "cell_type": "code",
   "execution_count": null,
   "id": "13fc48f4-3465-4817-91bb-3c64e1371063",
   "metadata": {},
   "outputs": [],
   "source": []
  }
 ],
 "metadata": {
  "kernelspec": {
   "display_name": "Python 3 (ipykernel)",
   "language": "python",
   "name": "python3"
  },
  "language_info": {
   "codemirror_mode": {
    "name": "ipython",
    "version": 3
   },
   "file_extension": ".py",
   "mimetype": "text/x-python",
   "name": "python",
   "nbconvert_exporter": "python",
   "pygments_lexer": "ipython3",
   "version": "3.10.8"
  }
 },
 "nbformat": 4,
 "nbformat_minor": 5
}
