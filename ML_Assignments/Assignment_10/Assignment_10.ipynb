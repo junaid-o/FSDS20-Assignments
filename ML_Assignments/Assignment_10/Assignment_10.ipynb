{
 "cells": [
  {
   "cell_type": "markdown",
   "id": "7b6276e7-cc98-4efe-89d6-357fea7cbe59",
   "metadata": {},
   "source": [
    "# <center>MachineLearning: Assignment_10</center>"
   ]
  },
  {
   "cell_type": "markdown",
   "id": "c83dc160-0c10-41ae-8bb1-f33d909c7a25",
   "metadata": {},
   "source": [
    "### Question 01\n",
    "\n",
    "Define the Bayesian interpretation of probability.\n",
    "\n",
    "\n",
    "**<span style='color:blue'>Answer</span>**"
   ]
  },
  {
   "cell_type": "markdown",
   "id": "fe7a1275-b56f-4bd4-b449-d43211a8928b",
   "metadata": {},
   "source": [
    "The Bayesian interpretation of probability is a perspective in probability theory that treats probability as a measure of subjective belief or degree of uncertainty. According to the Bayesian view, probabilities are assigned to events based on available evidence and prior knowledge, which are updated as new evidence is acquired. It involves using Bayes' theorem, which mathematically describes how prior beliefs can be updated in light of new evidence.\n",
    "\n",
    "In the Bayesian interpretation, probability is seen as a representation of an individual's or a model's subjective degree of belief rather than a frequency or objective measure. It incorporates prior knowledge or assumptions about the probability of events before observing any data. As new evidence is obtained, the prior beliefs are revised or updated using Bayes' theorem to obtain a posterior probability distribution.\n",
    "\n",
    "The Bayesian interpretation is widely used in various fields, including statistics, machine learning, and decision analysis. It provides a framework for incorporating prior knowledge, updating beliefs based on new evidence, and making probabilistic inferences in a coherent and consistent manner. It allows for the quantification of uncertainty and the integration of subjective judgments into the decision-making process."
   ]
  },
  {
   "cell_type": "markdown",
   "id": "8dbcc1be-8ee1-495f-a788-4261f779b1a8",
   "metadata": {},
   "source": [
    "### Question 02\n",
    "\n",
    "Define probability of a union of two events with equation.\n",
    "\n",
    "**<span style='color:blue'>Answer</span>**"
   ]
  },
  {
   "cell_type": "markdown",
   "id": "7c2b6d9b-f17d-4a4c-95fc-6bb227b520c0",
   "metadata": {},
   "source": [
    "The probability of the union of two events A and B is denoted as P(A ∪ B) and is calculated using the following equation:\n",
    "\n",
    "P(A ∪ B) = P(A) + P(B) - P(A ∩ B)\n",
    "\n",
    "where P(A) represents the probability of event A, P(B) represents the probability of event B, and P(A ∩ B) represents the probability of the intersection of events A and B."
   ]
  },
  {
   "cell_type": "markdown",
   "id": "c69d6dac-97c6-4afb-9f94-6d857b0fae68",
   "metadata": {},
   "source": [
    "### Question 03\n",
    "\n",
    "What is joint probability? What is its formula?\n",
    "\n",
    "\n",
    "**<span style='color:blue'>Answer</span>**"
   ]
  },
  {
   "cell_type": "markdown",
   "id": "79b8d4fc-8f17-4588-9c9a-fa1ef64d85c1",
   "metadata": {},
   "source": [
    "Joint probability refers to the probability of two or more events occurring simultaneously. It represents the likelihood of the intersection of these events. The formula for joint probability is as follows:\r\n",
    "\r\n",
    "P(A ∩ B) = P(A) * P(B|A)\r\n",
    "\r\n",
    "where P(A ∩ B) denotes the joint probability of events A and B, P(A) represents the probability of event A, and P(B|A) denotes the conditional probability of event B given that event A has already occurred."
   ]
  },
  {
   "cell_type": "markdown",
   "id": "c1f2d957-cbea-45a4-b1ef-558d32923c6c",
   "metadata": {},
   "source": [
    "### Question 04\n",
    "\n",
    "\n",
    "What is chain rule of probability?\n",
    "\n",
    "\n",
    "**<span style='color:blue'>Answer</span>**"
   ]
  },
  {
   "cell_type": "markdown",
   "id": "30b9298d-d80e-471d-91af-bbeefbfb17c6",
   "metadata": {},
   "source": [
    "The chain rule of probability is a fundamental concept in probability theory that allows us to calculate the joint probability of multiple events using conditional probabilities. It states that the joint probability of several events can be expressed as the product of their conditional probabilities given the previous events in the sequence.\n",
    "\n",
    "Mathematically, the chain rule of probability can be represented as:\n",
    "\n",
    "P(A₁, A₂, A₃, ..., Aₙ) = P(A₁) * P(A₂|A₁) * P(A₃|A₁, A₂) * ... * P(Aₙ|A₁, A₂, ..., Aₙ₋₁)\n",
    "\n",
    "where A₁, A₂, A₃, ..., Aₙ are the individual events, and P(Aᵢ|A₁, A₂, ..., Aᵢ₋₁) represents the conditional probability of event Aᵢ given that events A₁, A₂, ..., Aᵢ₋₁ have already occurred."
   ]
  },
  {
   "cell_type": "markdown",
   "id": "f9ad7937-de52-4615-89e8-f1711768b0f2",
   "metadata": {},
   "source": [
    "### Question 05\n",
    "\n",
    "What is conditional probability means? What is the formula of it?\n",
    "\n",
    "**<span style='color:blue'>Answer</span>**"
   ]
  },
  {
   "cell_type": "markdown",
   "id": "6d43900e-fc2c-4a5e-98a5-71f34809ee7b",
   "metadata": {},
   "source": [
    "Conditional probability is a measure of the probability of an event occurring given that another event has already occurred. It quantifies how the likelihood of an event changes based on the knowledge or occurrence of another event.\n",
    "\n",
    "The formula for conditional probability is:\n",
    "\n",
    "P(A|B) = P(A and B) / P(B)\n",
    "\n",
    "where P(A|B) represents the conditional probability of event A given event B, P(A and B) is the probability of both events A and B occurring, and P(B) is the probability of event B occurring.\n",
    "\n",
    "In words, the formula can be interpreted as the probability of event A occurring given that event B has occurred is equal to the probability of both events A and B occurring divided by the probability of event B occurring alone."
   ]
  },
  {
   "cell_type": "markdown",
   "id": "82eea94c-b86b-483e-aef0-72914ce011a0",
   "metadata": {},
   "source": [
    "### question 06\n",
    "What are continuous random variables?\n",
    "\n",
    "\n",
    "**<span style='color:blue'>Answer</span>**"
   ]
  },
  {
   "cell_type": "markdown",
   "id": "70479f30-97a6-402c-87de-efb9a7f7e43e",
   "metadata": {},
   "source": [
    "Continuous random variables are variables that can take on any value within a specific range or interval. Unlike discrete random variables that have a countable number of possible values, continuous random variables have an infinite number of possible values within their defined range.\n",
    "\n",
    "For example, the height of a person can be considered a continuous random variable. It can take on any value within a certain range, such as between 150 cm and 200 cm. The height can be measured with great precision, allowing for decimal values.\n",
    "\n",
    "In mathematical terms, continuous random variables are characterized by their probability density function (PDF) instead of a probability mass function (PMF) used for discrete random variables. The PDF describes the probability distribution of the continuous variable, indicating the likelihood of observing a particular value or range of values.\n",
    "\n",
    "Common examples of continuous random variables include time, temperature, distance, and weight."
   ]
  },
  {
   "cell_type": "markdown",
   "id": "83dc8718-2930-41b0-b917-e7c3461a38da",
   "metadata": {},
   "source": [
    "### Question 07\n",
    "What are Bernoulli distributions? What is the formula of it?\n",
    "\n",
    "\n",
    "**<span style='color:blue'>Answer</span>**"
   ]
  },
  {
   "cell_type": "markdown",
   "id": "e162a5be-6cd9-4784-a337-f7defb3d79a5",
   "metadata": {},
   "source": [
    "The Bernoulli distribution is a discrete probability distribution that models the outcomes of a binary or yes/no experiment. It represents a random variable that can take on two possible outcomes, typically labeled as success (1) and failure (0), with a fixed probability of success.\n",
    "\n",
    "The formula for the Bernoulli distribution is as follows:\n",
    "\n",
    "P(X = x) = p^x * (1 - p)^(1 - x)\n",
    "\n",
    "Where:\n",
    "- P(X = x) is the probability of the random variable X taking on the value x.\n",
    "- p is the probability of success (i.e., the probability of X = 1).\n",
    "- x is the outcome of the experiment, either 0 or 1.\n",
    "\n",
    "In simpler terms, the Bernoulli distribution calculates the probability of getting a success (1) or a failure (0) in a single trial. The probability of success, denoted by p, remains constant for all trials.\n",
    "\n",
    "The distribution is characterized by its mean (p) and variance (p * (1 - p)). It is often used as a building block for other distributions and serves as the basis for more complex models such as the binomial distribution."
   ]
  },
  {
   "cell_type": "markdown",
   "id": "08467ca3-682e-4534-b302-26c4ff978501",
   "metadata": {},
   "source": [
    "### Question 08\n",
    "\n",
    "What is binomial distribution? What is the formula?\n",
    "\n",
    "\n",
    "**<span style='color:blue'>Answer</span>**"
   ]
  },
  {
   "cell_type": "markdown",
   "id": "e80686f9-2ccc-4798-b3de-ad6d903f56f6",
   "metadata": {},
   "source": [
    "The binomial distribution is a discrete probability distribution that models the number of successes in a fixed number of independent Bernoulli trials. It represents the probability of obtaining a certain number of successes (k) in a specified number of trials (n), given a constant probability of success (p) in each trial.\n",
    "\n",
    "The formula for the binomial distribution is as follows:\n",
    "\n",
    "P(X = k) = C(n, k) * p^k * (1 - p)^(n - k)\n",
    "\n",
    "Where:\n",
    "- P(X = k) is the probability of getting exactly k successes.\n",
    "- C(n, k) is the binomial coefficient, which represents the number of ways to choose k successes from n trials, and is calculated as C(n, k) = n! / (k! * (n - k)!).\n",
    "- p is the probability of success in a single trial.\n",
    "- k is the number of successes.\n",
    "- n is the total number of trials.\n",
    "\n",
    "In simpler terms, the binomial distribution calculates the probability of obtaining a specific number of successes (k) in a fixed number of independent trials (n), with a constant probability of success (p) in each trial.\n",
    "\n",
    "The distribution is characterized by its mean (mu = n * p) and variance (sigma^2 = n * p * (1 - p)). It is commonly used in scenarios where there are two possible outcomes (success or failure) and a fixed number of trials, such as flipping a coin multiple times or counting the number of defective items in a production line."
   ]
  },
  {
   "cell_type": "markdown",
   "id": "570c884a-26fe-40ad-8b0c-b8011582a012",
   "metadata": {},
   "source": [
    "### Question 09\n",
    "\n",
    "What is Poisson distribution? What is the formula?\n",
    "\n",
    "\n",
    "**<span style='color:blue'>Answer</span>**"
   ]
  },
  {
   "cell_type": "markdown",
   "id": "e4d4294d-92a8-42a6-a43a-8b075f7c1155",
   "metadata": {},
   "source": [
    "The Poisson distribution is a discrete probability distribution that models the number of events that occur within a fixed interval of time or space. It is commonly used to describe the occurrences of rare events that happen independently and with a constant average rate.\n",
    "\n",
    "The formula for the Poisson distribution is as follows:\n",
    "\n",
    "P(X = k) = (e^(-lambda) * lambda^k) / k!\n",
    "\n",
    "Where:\n",
    "- P(X = k) is the probability of exactly k events occurring.\n",
    "- e is Euler's number, approximately equal to 2.71828.\n",
    "- lambda (λ) is the average rate or expected number of events in the given interval.\n",
    "- k is the number of events.\n",
    "\n",
    "In simpler terms, the Poisson distribution calculates the probability of observing a specific number of events (k) occurring within a fixed interval, given the average rate (lambda) at which events occur.\n",
    "\n",
    "The distribution is characterized by its mean (mu = lambda) and variance (sigma^2 = lambda). It is often used in various fields such as queueing theory, telecommunications, insurance, and reliability analysis to model rare events such as phone calls arriving at a call center, the number of accidents per day, or the occurrence of defects in a manufacturing process."
   ]
  },
  {
   "cell_type": "markdown",
   "id": "0eb02c4d-50d4-4288-bf82-008d9ad3bf72",
   "metadata": {},
   "source": [
    "### Question 10\n",
    "\n",
    "Define covariance.\n",
    "\n",
    "\n",
    "**<span style='color:blue'>Answer</span>**"
   ]
  },
  {
   "cell_type": "markdown",
   "id": "24188711-0134-4959-8f7d-8103460c98bf",
   "metadata": {},
   "source": [
    "Covariance is a statistical measure that quantifies the relationship between two random variables. It measures how changes in one variable are associated with changes in another variable. In other words, covariance indicates the direction and strength of the linear relationship between two variables.\n",
    "\n",
    "The formula for covariance between two variables X and Y, with n data points, is as follows:\n",
    "\n",
    "Cov(X, Y) = Σ[(Xᵢ - μₓ)(Yᵢ - μᵧ)] / n\n",
    "\n",
    "Where:\n",
    "- Cov(X, Y) represents the covariance between X and Y.\n",
    "- Xᵢ and Yᵢ are individual data points of X and Y, respectively.\n",
    "- μₓ is the mean of X.\n",
    "- μᵧ is the mean of Y.\n",
    "- Σ denotes the sum of the given expression over all data points.\n",
    "- n is the number of data points.\n",
    "\n",
    "The covariance value can be positive, indicating a positive linear relationship between the variables, where they tend to increase or decrease together. It can be negative, indicating a negative linear relationship, where one variable tends to increase while the other decreases. A covariance of zero suggests no linear relationship between the variables.\n",
    "\n",
    "It is important to note that covariance is sensitive to the scale of the variables, and its magnitude is influenced by the units of measurement. Therefore, interpreting covariance alone may not provide a complete understanding of the relationship between variables. To overcome this limitation, the concept of correlation is often used, which is a standardized version of covariance that ranges between -1 and 1, providing a more interpretable measure of linear relationship strength."
   ]
  },
  {
   "cell_type": "markdown",
   "id": "94fd23f1-0582-493a-9639-14d6ec17cff4",
   "metadata": {},
   "source": [
    "### Question 11\n",
    "\n",
    "Define correlation\n",
    "\n",
    "\n",
    "**<span style='color:blue'>Answer</span>**"
   ]
  },
  {
   "cell_type": "markdown",
   "id": "bbbbc8d1-5b10-4418-a5fc-11c8724b4c1d",
   "metadata": {},
   "source": [
    "Correlation is a statistical measure that quantifies the strength and direction of the linear relationship between two variables. It indicates how closely the data points of one variable are associated with the data points of another variable. Correlation is commonly used to assess the relationship between variables and determine the degree to which they vary together.\n",
    "\n",
    "The most widely used measure of correlation is the Pearson correlation coefficient, denoted as r. The formula for calculating the Pearson correlation coefficient between two variables X and Y, with n data points, is as follows:\n",
    "\n",
    "r = (Σ[(Xᵢ - μₓ)(Yᵢ - μᵧ)]) / √(Σ(Xᵢ - μₓ)² Σ(Yᵢ - μᵧ)²)\n",
    "\n",
    "Where:\n",
    "- r represents the Pearson correlation coefficient.\n",
    "- Xᵢ and Yᵢ are individual data points of X and Y, respectively.\n",
    "- μₓ is the mean of X.\n",
    "- μᵧ is the mean of Y.\n",
    "- Σ denotes the sum of the given expression over all data points.\n",
    "- √ denotes the square root.\n",
    "\n",
    "The Pearson correlation coefficient ranges from -1 to 1. A correlation of 1 indicates a perfect positive linear relationship, where the variables increase or decrease together. A correlation of -1 indicates a perfect negative linear relationship, where one variable increases while the other decreases. A correlation of 0 suggests no linear relationship between the variables.\n",
    "\n",
    "Correlation provides insights into the strength and direction of the relationship between variables. It is widely used in various fields, including statistics, finance, social sciences, and data analysis, to understand patterns and make predictions based on the relationship between variables."
   ]
  },
  {
   "cell_type": "markdown",
   "id": "246e1ab0-1cf5-43b0-bd68-aa3d3f110e49",
   "metadata": {},
   "source": [
    "### Question 12\n",
    "\n",
    "Define sampling with replacement. Give example.\n",
    "\n",
    "\n",
    "\n",
    "**<span style='color:blue'>Answer</span>**"
   ]
  },
  {
   "cell_type": "markdown",
   "id": "5a892cf9-f1c3-4355-8e4d-fc29e147e9c7",
   "metadata": {},
   "source": [
    "Sampling with replacement, also known as sampling with repetition, is a method of selecting elements from a population, where each selected element is returned to the population before the next selection. This means that the same element can be selected multiple times during the sampling process. \n",
    "\n",
    "For example, let's consider a bag containing 5 colored balls: red, blue, green, yellow, and orange. We want to sample three balls from the bag using sampling with replacement. The process would be as follows:\n",
    "\n",
    "1. We randomly select a ball from the bag, let's say it is red. We record the color of the ball and put it back into the bag.\n",
    "2. We repeat the process and randomly select another ball, which happens to be blue. We record the color and put it back into the bag.\n",
    "3. We repeat the process one more time and randomly select a ball, this time it is red again. We record the color and put it back into the bag.\n",
    "\n",
    "In this example, we sampled three balls with replacement. It is possible to select the same color multiple times since each ball is returned to the bag after each selection.\n",
    "\n",
    "Sampling with replacement is commonly used in statistics and data analysis when we want to simulate or estimate population characteristics based on a sample. It allows for the possibility of selecting the same element multiple times, which can affect the variability of the sample and the resulting estimates."
   ]
  },
  {
   "cell_type": "markdown",
   "id": "194100d5-6de8-442f-8671-51ccbe2a2848",
   "metadata": {},
   "source": [
    "### Question 13\n",
    "\n",
    "What is sampling without replacement? Give example.\n",
    "\n",
    "\n",
    "**<span style='color:blue'>Answer</span>**"
   ]
  },
  {
   "cell_type": "markdown",
   "id": "571667b2-618e-4b44-9609-1b2c72f0fd1d",
   "metadata": {},
   "source": [
    "Sampling without replacement, also known as sampling without repetition, is a method of selecting elements from a population where each selected element is not returned to the population before the next selection. This means that once an element is selected, it is excluded from future selections.\n",
    "\n",
    "For example, let's consider a deck of playing cards containing 52 cards: 13 hearts, 13 diamonds, 13 clubs, and 13 spades. We want to sample three cards from the deck using sampling without replacement. The process would be as follows:\n",
    "\n",
    "1. We randomly select a card from the deck, let's say it is the Ace of Hearts. We record the card and remove it from the deck.\n",
    "2. We repeat the process and randomly select another card, which happens to be the 7 of Diamonds. We record the card and remove it from the deck.\n",
    "3. We repeat the process one more time and randomly select a card, this time it is the Jack of Clubs. We record the card and remove it from the deck.\n",
    "\n",
    "In this example, we sampled three cards without replacement. Once a card is selected, it is removed from the deck, and therefore, cannot be selected again in subsequent draws.\n",
    "\n",
    "Sampling without replacement is commonly used in various sampling techniques, such as simple random sampling, stratified sampling, and cluster sampling. It ensures that each element in the population has an equal chance of being selected in the sample and avoids duplication of selected elements."
   ]
  },
  {
   "cell_type": "markdown",
   "id": "0fd7b1ab-e3ba-4dc3-a49d-44105fb1e2cc",
   "metadata": {},
   "source": [
    "### Question 14\n",
    "\n",
    "What is hypothesis? Give example.\n",
    "\n",
    "\n",
    "**<span style='color:blue'>Answer</span>**"
   ]
  },
  {
   "cell_type": "markdown",
   "id": "8d626bdd-3b26-4697-a4b7-2c1a11c0a64a",
   "metadata": {},
   "source": [
    "A hypothesis is a proposed explanation or statement that can be tested and evaluated to determine its validity. In the context of scientific research or statistical analysis, a hypothesis is formulated to explain a specific phenomenon or make predictions about the relationship between variables.\n",
    "\n",
    "For example, let's consider a hypothesis in the field of medicine:\n",
    "\n",
    "Hypothesis: Regular physical exercise reduces the risk of heart disease.\n",
    "\n",
    "In this example, the hypothesis suggests that engaging in regular physical exercise has a protective effect on the development of heart disease. The hypothesis can be further clarified by specifying the variables involved, such as the frequency and intensity of exercise, as well as the specific indicators of heart disease risk, such as blood pressure or cholesterol levels.\n",
    "\n",
    "To test this hypothesis, researchers would design a study, collect relevant data from a sample of individuals, and analyze the data using appropriate statistical methods. The results of the analysis would then provide evidence to support or reject the hypothesis.\n",
    "\n",
    "Hypotheses serve as the foundation for scientific investigation and allow researchers to systematically explore and understand various phenomena. They help guide the research process and provide a basis for making predictions and drawing conclusions based on empirical evidence."
   ]
  },
  {
   "cell_type": "code",
   "execution_count": null,
   "id": "93d99c70-3f7d-4243-937a-0dfdf3376ae5",
   "metadata": {},
   "outputs": [],
   "source": []
  }
 ],
 "metadata": {
  "kernelspec": {
   "display_name": "Python 3 (ipykernel)",
   "language": "python",
   "name": "python3"
  },
  "language_info": {
   "codemirror_mode": {
    "name": "ipython",
    "version": 3
   },
   "file_extension": ".py",
   "mimetype": "text/x-python",
   "name": "python",
   "nbconvert_exporter": "python",
   "pygments_lexer": "ipython3",
   "version": "3.10.8"
  }
 },
 "nbformat": 4,
 "nbformat_minor": 5
}
